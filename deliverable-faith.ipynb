{
 "cells": [
  {
   "cell_type": "code",
   "execution_count": 1,
   "metadata": {},
   "outputs": [],
   "source": [
    "# ignore warnings\n",
    "import warnings\n",
    "warnings.filterwarnings(\"ignore\")\n",
    "\n",
    "# wrangling\n",
    "import pandas as pd\n",
    "import numpy as np\n",
    "\n",
    "# preparing\n",
    "from sklearn.model_selection import train_test_split\n",
    "\n",
    "# visualizing\n",
    "%matplotlib inline\n",
    "import matplotlib.pyplot as plt\n",
    "import seaborn as sns\n",
    "\n",
    "# exploring\n",
    "import scipy.stats as stats\n",
    "import pandas_profiling\n",
    "\n",
    "# modeling\n",
    "from sklearn.cluster import KMeans\n",
    "from sklearn.preprocessing import LabelEncoder, OneHotEncoder\n",
    "from sklearn.linear_model import LinearRegression\n",
    "from statsmodels.formula.api import ols\n",
    "from sklearn.metrics import mean_squared_error, r2_score, explained_variance_score\n",
    "from sklearn.feature_selection import f_regression\n",
    "from math import sqrt\n",
    "from sklearn.neighbors import KNeighborsRegressor\n",
    "\n",
    "# 3D projection\n",
    "from mpl_toolkits.mplot3d import Axes3D\n",
    "\n",
    "pd.options.display.float_format = '{:20,.2f}'.format\n",
    "\n",
    "# my modules\n",
    "import acquire\n",
    "import summarize\n",
    "import prepare\n",
    "\n",
    "# default pandas decimal number display format\n",
    "pd.options.display.float_format = '{:20,.2f}'.format"
   ]
  },
  {
   "cell_type": "markdown",
   "metadata": {},
   "source": [
    "### Acquire & Summarize\n"
   ]
  },
  {
   "cell_type": "markdown",
   "metadata": {},
   "source": [
    "Acquired zillow data using acquire.py (sequel query in this file)"
   ]
  },
  {
   "cell_type": "code",
   "execution_count": 2,
   "metadata": {},
   "outputs": [],
   "source": [
    "# df = acquire.get_zillow_data()\n",
    "# df.head()"
   ]
  },
  {
   "cell_type": "code",
   "execution_count": 3,
   "metadata": {},
   "outputs": [],
   "source": [
    "df = pd.read_csv(\"zillow_dataframe.csv\")"
   ]
  },
  {
   "cell_type": "code",
   "execution_count": 4,
   "metadata": {},
   "outputs": [],
   "source": [
    "df = df.drop(columns=[\"Unnamed: 0\", \"garagetotalsqft\", \"poolsizesum\", \"taxdelinquencyflag\", \"taxdelinquencyyear\", \"transactions\"])"
   ]
  },
  {
   "cell_type": "code",
   "execution_count": 5,
   "metadata": {},
   "outputs": [
    {
     "data": {
      "text/plain": [
       "(52169, 15)"
      ]
     },
     "execution_count": 5,
     "metadata": {},
     "output_type": "execute_result"
    }
   ],
   "source": [
    "df.shape"
   ]
  },
  {
   "cell_type": "code",
   "execution_count": 6,
   "metadata": {},
   "outputs": [],
   "source": [
    "# df = prepare.handle_missing_values(df)"
   ]
  },
  {
   "cell_type": "code",
   "execution_count": 7,
   "metadata": {},
   "outputs": [
    {
     "data": {
      "text/plain": [
       "tax_rate                            5\n",
       "bathroomcnt                         0\n",
       "bedroomcnt                          0\n",
       "calculatedfinishedsquarefeet        8\n",
       "fips                                0\n",
       "garagecarcnt                    34203\n",
       "latitude                            0\n",
       "longitude                           0\n",
       "lotsizesquarefeet                 354\n",
       "poolcnt                         41105\n",
       "taxvaluedollarcnt                   1\n",
       "yearbuilt                          40\n",
       "landtaxvaluedollarcnt               1\n",
       "logerror                            0\n",
       "county_name                         0\n",
       "dtype: int64"
      ]
     },
     "execution_count": 7,
     "metadata": {},
     "output_type": "execute_result"
    }
   ],
   "source": [
    "df.isnull().sum()"
   ]
  },
  {
   "cell_type": "code",
   "execution_count": 8,
   "metadata": {},
   "outputs": [],
   "source": [
    "df.latitude = df.latitude / 1_000_000 \n",
    "df.longitude = df.longitude / 1_000_000 "
   ]
  },
  {
   "cell_type": "markdown",
   "metadata": {},
   "source": [
    "### Clustering fips - aka binning the 3 different counties"
   ]
  },
  {
   "cell_type": "code",
   "execution_count": 9,
   "metadata": {},
   "outputs": [],
   "source": [
    "from sklearn.cluster import KMeans\n",
    "\n",
    "X = df[['fips']]\n",
    "\n",
    "kmeans = KMeans(n_clusters=3)\n",
    "kmeans.fit(X)\n",
    "\n",
    "X['cluster'] = pd.Series(kmeans.predict(X)).astype(str)"
   ]
  },
  {
   "cell_type": "code",
   "execution_count": 10,
   "metadata": {},
   "outputs": [
    {
     "data": {
      "text/plain": [
       "(52169, 2)"
      ]
     },
     "execution_count": 10,
     "metadata": {},
     "output_type": "execute_result"
    }
   ],
   "source": [
    "X.shape"
   ]
  },
  {
   "cell_type": "code",
   "execution_count": 11,
   "metadata": {},
   "outputs": [],
   "source": [
    "X = X.drop(columns='fips')"
   ]
  },
  {
   "cell_type": "code",
   "execution_count": 12,
   "metadata": {},
   "outputs": [],
   "source": [
    "df['cluster'] = X.cluster"
   ]
  },
  {
   "cell_type": "code",
   "execution_count": 13,
   "metadata": {},
   "outputs": [],
   "source": [
    "def encode(df, col_name):\n",
    "    \n",
    "    encoded_values = sorted(list(df[col_name].unique()))\n",
    "\n",
    "    # Integer Encoding\n",
    "    int_encoder = LabelEncoder()\n",
    "    df.encoded = int_encoder.fit_transform(df[col_name])\n",
    "\n",
    "    # create 2D np arrays of the encoded variable (in train and test)\n",
    "    df_array = np.array(df.encoded).reshape(len(df.encoded),1)\n",
    "\n",
    "    # One Hot Encoding\n",
    "    ohe = OneHotEncoder(sparse=False, categories='auto')\n",
    "    df_ohe = ohe.fit_transform(df_array)\n",
    "\n",
    "    # Turn the array of new values into a data frame with columns names being the values\n",
    "    # and index matching that of train/test\n",
    "    # then merge the new dataframe with the existing train/test dataframe\n",
    "    df_encoded = pd.DataFrame(data=df_ohe, columns=encoded_values, index=df.index)\n",
    "    df = df.join(df_encoded)\n",
    "\n",
    "    return df, ohe"
   ]
  },
  {
   "cell_type": "code",
   "execution_count": 14,
   "metadata": {},
   "outputs": [],
   "source": [
    "df, ohe = encode(df, 'cluster')"
   ]
  },
  {
   "cell_type": "code",
   "execution_count": 15,
   "metadata": {},
   "outputs": [
    {
     "data": {
      "text/plain": [
       "array([[2],\n",
       "       [1],\n",
       "       [2],\n",
       "       ...,\n",
       "       [0],\n",
       "       [0],\n",
       "       [0]])"
      ]
     },
     "execution_count": 15,
     "metadata": {},
     "output_type": "execute_result"
    }
   ],
   "source": [
    "ohe.inverse_transform(df[['0', '1', '2']])"
   ]
  },
  {
   "cell_type": "code",
   "execution_count": 16,
   "metadata": {},
   "outputs": [],
   "source": [
    "df = df.drop(columns='cluster')\n",
    "\n",
    "df['los_angeles'] = df['0']\n",
    "df['ventura'] = df['1']\n",
    "df['orange'] = df['2']\n",
    "\n",
    "df = df.drop(columns=['0', '1', '2'])"
   ]
  },
  {
   "cell_type": "markdown",
   "metadata": {},
   "source": [
    "### Split the data into train and test, 70/30"
   ]
  },
  {
   "cell_type": "code",
   "execution_count": 17,
   "metadata": {},
   "outputs": [],
   "source": [
    "train, test = train_test_split(df, test_size=.30, random_state=123)"
   ]
  },
  {
   "cell_type": "code",
   "execution_count": 18,
   "metadata": {},
   "outputs": [
    {
     "data": {
      "text/plain": [
       "(36518, 18)"
      ]
     },
     "execution_count": 18,
     "metadata": {},
     "output_type": "execute_result"
    }
   ],
   "source": [
    "train.shape"
   ]
  },
  {
   "cell_type": "code",
   "execution_count": 19,
   "metadata": {},
   "outputs": [
    {
     "data": {
      "text/plain": [
       "(15651, 18)"
      ]
     },
     "execution_count": 19,
     "metadata": {},
     "output_type": "execute_result"
    }
   ],
   "source": [
    "test.shape"
   ]
  },
  {
   "cell_type": "markdown",
   "metadata": {},
   "source": [
    "### Impute \"poolcnt\", \"garagecarcnt\" with 0s using a function.\n",
    "\n",
    " - Run this on train and test subsets separately"
   ]
  },
  {
   "cell_type": "code",
   "execution_count": 20,
   "metadata": {},
   "outputs": [],
   "source": [
    "cols = [\"poolcnt\", \"garagecarcnt\"]"
   ]
  },
  {
   "cell_type": "code",
   "execution_count": 21,
   "metadata": {},
   "outputs": [],
   "source": [
    "# Impute zeros into poolcnt and garagecarcnt on train set\n",
    "\n",
    "train = prepare.fill_zero(train, cols=cols)"
   ]
  },
  {
   "cell_type": "code",
   "execution_count": 22,
   "metadata": {},
   "outputs": [],
   "source": [
    "# Impute zeros into poolcnt and garagecarcnt on test set\n",
    "\n",
    "test = prepare.fill_zero(test, cols=cols)"
   ]
  },
  {
   "cell_type": "markdown",
   "metadata": {},
   "source": [
    "### Drop columns then rows using function\n",
    "\n",
    " - Run this on train and test subsets separately"
   ]
  },
  {
   "cell_type": "code",
   "execution_count": 23,
   "metadata": {},
   "outputs": [],
   "source": [
    "# drop columns that have more than 50% of values missing and rows with more than 75% of values missing\n",
    "\n",
    "train = prepare.handle_missing_values(train)"
   ]
  },
  {
   "cell_type": "code",
   "execution_count": 24,
   "metadata": {},
   "outputs": [],
   "source": [
    "# drop columns that have more than 50% of values missing and rows with more than 75% of values missing\n",
    "\n",
    "test = prepare.handle_missing_values(test)"
   ]
  },
  {
   "cell_type": "markdown",
   "metadata": {},
   "source": [
    "### Drop the remaining Nulls in df to get clean train and test data sets"
   ]
  },
  {
   "cell_type": "code",
   "execution_count": 25,
   "metadata": {},
   "outputs": [],
   "source": [
    "train.dropna(inplace=True)"
   ]
  },
  {
   "cell_type": "code",
   "execution_count": 26,
   "metadata": {},
   "outputs": [],
   "source": [
    "test.dropna(inplace=True)"
   ]
  },
  {
   "cell_type": "markdown",
   "metadata": {},
   "source": [
    "### THE train and test subsets with no missing values and poolcnt and garagecarcnt imputed with zeros. Outliers still in these subsets!\n",
    "\n",
    "- I left county_name in these df for ease of exploration and viz. \n",
    "\n",
    "- Drop county_name and use fips for modeling and clustering purposes.\n",
    "\n",
    "- If you want train and test with outliers handled, see below..."
   ]
  },
  {
   "cell_type": "code",
   "execution_count": 27,
   "metadata": {},
   "outputs": [
    {
     "data": {
      "text/plain": [
       "tax_rate                        0\n",
       "bathroomcnt                     0\n",
       "bedroomcnt                      0\n",
       "calculatedfinishedsquarefeet    0\n",
       "fips                            0\n",
       "garagecarcnt                    0\n",
       "latitude                        0\n",
       "longitude                       0\n",
       "lotsizesquarefeet               0\n",
       "poolcnt                         0\n",
       "taxvaluedollarcnt               0\n",
       "yearbuilt                       0\n",
       "landtaxvaluedollarcnt           0\n",
       "logerror                        0\n",
       "county_name                     0\n",
       "los_angeles                     0\n",
       "ventura                         0\n",
       "orange                          0\n",
       "dtype: int64"
      ]
     },
     "execution_count": 27,
     "metadata": {},
     "output_type": "execute_result"
    }
   ],
   "source": [
    "train.isnull().sum()"
   ]
  },
  {
   "cell_type": "code",
   "execution_count": 28,
   "metadata": {},
   "outputs": [
    {
     "data": {
      "text/plain": [
       "tax_rate                        0\n",
       "bathroomcnt                     0\n",
       "bedroomcnt                      0\n",
       "calculatedfinishedsquarefeet    0\n",
       "fips                            0\n",
       "garagecarcnt                    0\n",
       "latitude                        0\n",
       "longitude                       0\n",
       "lotsizesquarefeet               0\n",
       "poolcnt                         0\n",
       "taxvaluedollarcnt               0\n",
       "yearbuilt                       0\n",
       "landtaxvaluedollarcnt           0\n",
       "logerror                        0\n",
       "county_name                     0\n",
       "los_angeles                     0\n",
       "ventura                         0\n",
       "orange                          0\n",
       "dtype: int64"
      ]
     },
     "execution_count": 28,
     "metadata": {},
     "output_type": "execute_result"
    }
   ],
   "source": [
    "test.isnull().sum()"
   ]
  },
  {
   "cell_type": "code",
   "execution_count": 29,
   "metadata": {},
   "outputs": [
    {
     "data": {
      "text/plain": [
       " 3.00    16310\n",
       " 4.00    10614\n",
       " 2.00     5838\n",
       " 5.00     2760\n",
       " 6.00      451\n",
       " 1.00      440\n",
       " 7.00       75\n",
       " 8.00       20\n",
       " 9.00        6\n",
       "10.00        2\n",
       "14.00        1\n",
       "12.00        1\n",
       "Name: bedroomcnt, dtype: int64"
      ]
     },
     "execution_count": 29,
     "metadata": {},
     "output_type": "execute_result"
    }
   ],
   "source": [
    "train.bedroomcnt.value_counts()"
   ]
  },
  {
   "cell_type": "code",
   "execution_count": 30,
   "metadata": {},
   "outputs": [
    {
     "data": {
      "text/plain": [
       " 2.00    15260\n",
       " 3.00     7474\n",
       " 1.00     6627\n",
       " 2.50     2804\n",
       " 4.00     1571\n",
       " 3.50      630\n",
       " 1.50      578\n",
       " 5.00      542\n",
       " 4.50      482\n",
       " 6.00      224\n",
       " 5.50      160\n",
       " 7.00       57\n",
       " 8.00       40\n",
       " 6.50       35\n",
       " 7.50       14\n",
       " 9.00       11\n",
       "10.00        3\n",
       " 8.50        2\n",
       "11.00        2\n",
       "18.00        1\n",
       "13.00        1\n",
       "Name: bathroomcnt, dtype: int64"
      ]
     },
     "execution_count": 30,
     "metadata": {},
     "output_type": "execute_result"
    }
   ],
   "source": [
    "train.bathroomcnt.value_counts()"
   ]
  },
  {
   "cell_type": "markdown",
   "metadata": {},
   "source": [
    "Zillow's log error was low on the los angeles high priced outlier.  LA county houses seems to have the highest log error outliers"
   ]
  },
  {
   "cell_type": "code",
   "execution_count": 31,
   "metadata": {},
   "outputs": [
    {
     "data": {
      "text/plain": [
       "<matplotlib.axes._subplots.AxesSubplot at 0x10a6985f8>"
      ]
     },
     "execution_count": 31,
     "metadata": {},
     "output_type": "execute_result"
    },
    {
     "data": {
      "image/png": "[encoded data removed]",
      "text/plain": [
       "<Figure size 432x288 with 1 Axes>"
      ]
     },
     "metadata": {
      "needs_background": "light"
     },
     "output_type": "display_data"
    }
   ],
   "source": [
    "sns.scatterplot(data=train, x=\"logerror\", y=\"taxvaluedollarcnt\", hue=\"county_name\", hue_order=[\"Los Angeles\", \"Orange\", \"Ventura\"] , alpha=.6)"
   ]
  },
  {
   "cell_type": "markdown",
   "metadata": {},
   "source": [
    "Before outliers"
   ]
  },
  {
   "cell_type": "code",
   "execution_count": 32,
   "metadata": {},
   "outputs": [
    {
     "data": {
      "text/plain": [
       "<matplotlib.axes._subplots.AxesSubplot at 0x1a2100ceb8>"
      ]
     },
     "execution_count": 32,
     "metadata": {},
     "output_type": "execute_result"
    },
    {
     "data": {
      "image/png": "[encoded data removed]",
      "text/plain": [
       "<Figure size 432x288 with 1 Axes>"
      ]
     },
     "metadata": {
      "needs_background": "light"
     },
     "output_type": "display_data"
    }
   ],
   "source": [
    "sns.boxplot(train.bedroomcnt, train.calculatedfinishedsquarefeet)"
   ]
  },
  {
   "cell_type": "code",
   "execution_count": 33,
   "metadata": {},
   "outputs": [
    {
     "data": {
      "text/plain": [
       "<matplotlib.axes._subplots.AxesSubplot at 0x1a204f4cc0>"
      ]
     },
     "execution_count": 33,
     "metadata": {},
     "output_type": "execute_result"
    },
    {
     "data": {
      "image/png": "[encoded data removed]",
      "text/plain": [
       "<Figure size 432x288 with 1 Axes>"
      ]
     },
     "metadata": {
      "needs_background": "light"
     },
     "output_type": "display_data"
    }
   ],
   "source": [
    "sns.boxplot(train.bathroomcnt, train.calculatedfinishedsquarefeet)"
   ]
  },
  {
   "cell_type": "markdown",
   "metadata": {},
   "source": [
    "### Handle outliers by removing values < Q1 - IQR * 1.5 and values > Q3 + IQR * 1.5"
   ]
  },
  {
   "cell_type": "code",
   "execution_count": 34,
   "metadata": {},
   "outputs": [
    {
     "data": {
      "text/plain": [
       "(30982, 18)"
      ]
     },
     "execution_count": 34,
     "metadata": {},
     "output_type": "execute_result"
    }
   ],
   "source": [
    "train = prepare.remove_outliers_iqr(train, columns=[\"bedroomcnt\", \"bathroomcnt\", \"lotsizesquarefeet\"], k=1.5)\n",
    "train.shape"
   ]
  },
  {
   "cell_type": "code",
   "execution_count": 35,
   "metadata": {},
   "outputs": [
    {
     "data": {
      "text/plain": [
       "(13273, 18)"
      ]
     },
     "execution_count": 35,
     "metadata": {},
     "output_type": "execute_result"
    }
   ],
   "source": [
    "test = prepare.remove_outliers_iqr(test, columns=[\"bedroomcnt\", \"bathroomcnt\", \"lotsizesquarefeet\"], k=1.5)\n",
    "test.shape"
   ]
  },
  {
   "cell_type": "markdown",
   "metadata": {},
   "source": [
    "### Convert dtypes to category for the cols below\n",
    "\n",
    "- train_cat and test_cat are subsets with dtypes converted to category for the following columns:\n",
    "\n",
    "    - \"bathroomcnt\", \"bedroomcnt\", \"poolcnt\", \"yearbuilt\", \"garagecarcnt\", \"county_name\"\n",
    "    \n",
    "- train_cat and test_cat also have outliers handled and no missing values."
   ]
  },
  {
   "cell_type": "code",
   "execution_count": 36,
   "metadata": {},
   "outputs": [
    {
     "name": "stdout",
     "output_type": "stream",
     "text": [
      "<class 'pandas.core.frame.DataFrame'>\n",
      "Int64Index: 30982 entries, 22620 to 15725\n",
      "Data columns (total 18 columns):\n",
      "tax_rate                        30982 non-null float64\n",
      "bathroomcnt                     30982 non-null float64\n",
      "bedroomcnt                      30982 non-null float64\n",
      "calculatedfinishedsquarefeet    30982 non-null float64\n",
      "fips                            30982 non-null float64\n",
      "garagecarcnt                    30982 non-null float64\n",
      "latitude                        30982 non-null float64\n",
      "longitude                       30982 non-null float64\n",
      "lotsizesquarefeet               30982 non-null float64\n",
      "poolcnt                         30982 non-null float64\n",
      "taxvaluedollarcnt               30982 non-null float64\n",
      "yearbuilt                       30982 non-null float64\n",
      "landtaxvaluedollarcnt           30982 non-null float64\n",
      "logerror                        30982 non-null float64\n",
      "county_name                     30982 non-null object\n",
      "los_angeles                     30982 non-null float64\n",
      "ventura                         30982 non-null float64\n",
      "orange                          30982 non-null float64\n",
      "dtypes: float64(17), object(1)\n",
      "memory usage: 4.5+ MB\n"
     ]
    }
   ],
   "source": [
    "train.info()"
   ]
  },
  {
   "cell_type": "code",
   "execution_count": 37,
   "metadata": {},
   "outputs": [],
   "source": [
    "cols = [\"bathroomcnt\", \"bedroomcnt\", \"poolcnt\", \"yearbuilt\", \"garagecarcnt\", \"county_name\"]"
   ]
  },
  {
   "cell_type": "code",
   "execution_count": 38,
   "metadata": {},
   "outputs": [],
   "source": [
    "train_cat = prepare.numeric_to_category(train, cols)"
   ]
  },
  {
   "cell_type": "code",
   "execution_count": 39,
   "metadata": {},
   "outputs": [],
   "source": [
    "test_cat = prepare.numeric_to_category(test, cols)"
   ]
  },
  {
   "cell_type": "code",
   "execution_count": 40,
   "metadata": {},
   "outputs": [
    {
     "name": "stdout",
     "output_type": "stream",
     "text": [
      "<class 'pandas.core.frame.DataFrame'>\n",
      "Int64Index: 30982 entries, 22620 to 15725\n",
      "Data columns (total 18 columns):\n",
      "tax_rate                        30982 non-null float64\n",
      "bathroomcnt                     30982 non-null category\n",
      "bedroomcnt                      30982 non-null category\n",
      "calculatedfinishedsquarefeet    30982 non-null float64\n",
      "fips                            30982 non-null float64\n",
      "garagecarcnt                    30982 non-null category\n",
      "latitude                        30982 non-null float64\n",
      "longitude                       30982 non-null float64\n",
      "lotsizesquarefeet               30982 non-null float64\n",
      "poolcnt                         30982 non-null category\n",
      "taxvaluedollarcnt               30982 non-null float64\n",
      "yearbuilt                       30982 non-null category\n",
      "landtaxvaluedollarcnt           30982 non-null float64\n",
      "logerror                        30982 non-null float64\n",
      "county_name                     30982 non-null category\n",
      "los_angeles                     30982 non-null float64\n",
      "ventura                         30982 non-null float64\n",
      "orange                          30982 non-null float64\n",
      "dtypes: category(6), float64(12)\n",
      "memory usage: 3.3 MB\n"
     ]
    }
   ],
   "source": [
    "train_cat.info()"
   ]
  },
  {
   "cell_type": "code",
   "execution_count": 41,
   "metadata": {},
   "outputs": [
    {
     "data": {
      "text/plain": [
       "3.00    14880\n",
       "4.00     8904\n",
       "2.00     5424\n",
       "5.00     1774\n",
       "Name: bedroomcnt, dtype: int64"
      ]
     },
     "execution_count": 41,
     "metadata": {},
     "output_type": "execute_result"
    }
   ],
   "source": [
    "train.bedroomcnt.value_counts()"
   ]
  },
  {
   "cell_type": "code",
   "execution_count": 42,
   "metadata": {},
   "outputs": [
    {
     "data": {
      "text/plain": [
       "2.00    14117\n",
       "1.00     6032\n",
       "3.00     6012\n",
       "2.50     2595\n",
       "4.00      934\n",
       "3.50      492\n",
       "1.50      470\n",
       "4.50      330\n",
       "Name: bathroomcnt, dtype: int64"
      ]
     },
     "execution_count": 42,
     "metadata": {},
     "output_type": "execute_result"
    }
   ],
   "source": [
    "train.bathroomcnt.value_counts()"
   ]
  },
  {
   "cell_type": "markdown",
   "metadata": {},
   "source": [
    "## Bin yearbuilt by Decade\n",
    "\n",
    "- 1878 - 2015\n",
    "\n",
    "- Drop 11 rows with yearbuilt == 0.00"
   ]
  },
  {
   "cell_type": "code",
   "execution_count": 43,
   "metadata": {},
   "outputs": [],
   "source": [
    "train[\"yearbuilt\"] = train[\"yearbuilt\"].astype(int)"
   ]
  },
  {
   "cell_type": "code",
   "execution_count": 44,
   "metadata": {},
   "outputs": [],
   "source": [
    "test[\"yearbuilt\"] = test[\"yearbuilt\"].astype(int)"
   ]
  },
  {
   "cell_type": "code",
   "execution_count": 45,
   "metadata": {
    "scrolled": true
   },
   "outputs": [
    {
     "data": {
      "text/plain": [
       "0        11\n",
       "1878      1\n",
       "1882      1\n",
       "1885      3\n",
       "1887      2\n",
       "1888      2\n",
       "1889      1\n",
       "1890      5\n",
       "1893      3\n",
       "1895      9\n",
       "1896      3\n",
       "1898      2\n",
       "1900      6\n",
       "1901     11\n",
       "1902      6\n",
       "1903     12\n",
       "1904     13\n",
       "1905     38\n",
       "1906     33\n",
       "1907     29\n",
       "1908     30\n",
       "1909     48\n",
       "1910     72\n",
       "1911     62\n",
       "1912     75\n",
       "1913     55\n",
       "1914     43\n",
       "1915     48\n",
       "1916     23\n",
       "1917     27\n",
       "       ... \n",
       "1986    338\n",
       "1987    393\n",
       "1988    272\n",
       "1989    475\n",
       "1990    346\n",
       "1991    115\n",
       "1992    186\n",
       "1993    165\n",
       "1994    219\n",
       "1995    191\n",
       "1996    190\n",
       "1997    216\n",
       "1998    196\n",
       "1999    242\n",
       "2000    272\n",
       "2001    279\n",
       "2002    213\n",
       "2003    250\n",
       "2004    219\n",
       "2005    247\n",
       "2006    212\n",
       "2007    158\n",
       "2008     58\n",
       "2009     45\n",
       "2010     53\n",
       "2011     34\n",
       "2012     56\n",
       "2013     69\n",
       "2014     70\n",
       "2015     23\n",
       "Name: yearbuilt, Length: 128, dtype: int64"
      ]
     },
     "execution_count": 45,
     "metadata": {},
     "output_type": "execute_result"
    }
   ],
   "source": [
    "# There are 11 rows with 0 value for yearbuilt. Drop these below.\n",
    "\n",
    "train.yearbuilt.value_counts().sort_index(ascending=True)"
   ]
  },
  {
   "cell_type": "code",
   "execution_count": 46,
   "metadata": {},
   "outputs": [],
   "source": [
    "train = train[train[\"yearbuilt\"] != 0.00]"
   ]
  },
  {
   "cell_type": "code",
   "execution_count": 47,
   "metadata": {},
   "outputs": [],
   "source": [
    "test = test[test[\"yearbuilt\"] != 0.00]"
   ]
  },
  {
   "cell_type": "code",
   "execution_count": 48,
   "metadata": {},
   "outputs": [],
   "source": [
    "# bin train df yearbuilt by decade, 1800 dates are all in one bin.\n",
    "\n",
    "bins = [1878, 1900, 1910, 1920, 1930, 1940, 1950, 1960, 1970, 1980, 1990, 2000, 2010]\n",
    "\n",
    "train[\"decade\"] = pd.cut(x=train['yearbuilt'], bins=bins)"
   ]
  },
  {
   "cell_type": "code",
   "execution_count": 49,
   "metadata": {},
   "outputs": [],
   "source": [
    "# convert decade column to category dtype\n",
    "\n",
    "train[\"decade\"] = train.decade.astype('category')"
   ]
  },
  {
   "cell_type": "code",
   "execution_count": 50,
   "metadata": {},
   "outputs": [],
   "source": [
    "# bin test df yearbuilt by decade, 1800 dates are all in one bin.\n",
    "\n",
    "\n",
    "test[\"decade\"] = pd.cut(x=test['yearbuilt'], bins=bins)"
   ]
  },
  {
   "cell_type": "code",
   "execution_count": 51,
   "metadata": {},
   "outputs": [],
   "source": [
    "# convert decade column to category dtype\n",
    "\n",
    "test[\"decade\"] = test.decade.astype('category')"
   ]
  },
  {
   "cell_type": "markdown",
   "metadata": {},
   "source": [
    "### Feature Engineer poolcnt and garagecarcnt into one column"
   ]
  },
  {
   "cell_type": "code",
   "execution_count": 52,
   "metadata": {},
   "outputs": [],
   "source": [
    "train[\"poolcnt\"] = train[\"poolcnt\"].astype(int)"
   ]
  },
  {
   "cell_type": "code",
   "execution_count": 53,
   "metadata": {},
   "outputs": [],
   "source": [
    "test[\"poolcnt\"] = test[\"poolcnt\"].astype(int)"
   ]
  },
  {
   "cell_type": "code",
   "execution_count": 54,
   "metadata": {},
   "outputs": [
    {
     "data": {
      "text/plain": [
       "0    25680\n",
       "1     5291\n",
       "Name: poolcnt, dtype: int64"
      ]
     },
     "execution_count": 54,
     "metadata": {},
     "output_type": "execute_result"
    }
   ],
   "source": [
    "train[\"poolcnt\"].value_counts().sort_index(ascending=True)"
   ]
  },
  {
   "cell_type": "code",
   "execution_count": 55,
   "metadata": {},
   "outputs": [
    {
     "data": {
      "text/plain": [
       "0    11009\n",
       "1     2257\n",
       "Name: poolcnt, dtype: int64"
      ]
     },
     "execution_count": 55,
     "metadata": {},
     "output_type": "execute_result"
    }
   ],
   "source": [
    "test[\"poolcnt\"].value_counts().sort_index(ascending=True)"
   ]
  },
  {
   "cell_type": "code",
   "execution_count": 56,
   "metadata": {},
   "outputs": [],
   "source": [
    "train[\"garagecarcnt\"] = train[\"garagecarcnt\"].astype(int)"
   ]
  },
  {
   "cell_type": "code",
   "execution_count": 57,
   "metadata": {},
   "outputs": [],
   "source": [
    "test[\"garagecarcnt\"] = test[\"garagecarcnt\"].astype(int)"
   ]
  },
  {
   "cell_type": "code",
   "execution_count": 58,
   "metadata": {},
   "outputs": [
    {
     "data": {
      "text/plain": [
       "0     19937\n",
       "1      1383\n",
       "2      9408\n",
       "3       199\n",
       "4        39\n",
       "5         2\n",
       "6         2\n",
       "10        1\n",
       "Name: garagecarcnt, dtype: int64"
      ]
     },
     "execution_count": 58,
     "metadata": {},
     "output_type": "execute_result"
    }
   ],
   "source": [
    "train[\"garagecarcnt\"].value_counts().sort_index(ascending=True)"
   ]
  },
  {
   "cell_type": "code",
   "execution_count": 59,
   "metadata": {},
   "outputs": [],
   "source": [
    "# defines conditions to compute the correct value for extras in train\n",
    "\n",
    "conditions = [\n",
    "    (train[\"poolcnt\"] == 0) & (train[\"garagecarcnt\"] == 0),\n",
    "    (train[\"poolcnt\"] > 0) & (train[\"garagecarcnt\"] == 0),\n",
    "    (train[\"poolcnt\"] == 0) & (train[\"garagecarcnt\"] > 0),\n",
    "    (train[\"poolcnt\"] > 0) & (train[\"garagecarcnt\"] > 0)\n",
    "]"
   ]
  },
  {
   "cell_type": "code",
   "execution_count": 60,
   "metadata": {},
   "outputs": [],
   "source": [
    "# defines value to put in extras column based on conditions above\n",
    "\n",
    "outputs = [0, 1, 1, 2]"
   ]
  },
  {
   "cell_type": "code",
   "execution_count": 61,
   "metadata": {},
   "outputs": [],
   "source": [
    "# Create new columns that has a 0 if a home has neither pool nor garage\n",
    "#                               1 if a home has either pool or garage\n",
    "#                               2 if a home has both pool and garage\n",
    "\n",
    "train[\"extras\"] = np.select(conditions, outputs, 'Other')"
   ]
  },
  {
   "cell_type": "code",
   "execution_count": 62,
   "metadata": {},
   "outputs": [
    {
     "data": {
      "text/html": [
       "<div>\n",
       "<style scoped>\n",
       "    .dataframe tbody tr th:only-of-type {\n",
       "        vertical-align: middle;\n",
       "    }\n",
       "\n",
       "    .dataframe tbody tr th {\n",
       "        vertical-align: top;\n",
       "    }\n",
       "\n",
       "    .dataframe thead th {\n",
       "        text-align: right;\n",
       "    }\n",
       "</style>\n",
       "<table border=\"1\" class=\"dataframe\">\n",
       "  <thead>\n",
       "    <tr style=\"text-align: right;\">\n",
       "      <th></th>\n",
       "      <th>tax_rate</th>\n",
       "      <th>bathroomcnt</th>\n",
       "      <th>bedroomcnt</th>\n",
       "      <th>calculatedfinishedsquarefeet</th>\n",
       "      <th>fips</th>\n",
       "      <th>garagecarcnt</th>\n",
       "      <th>latitude</th>\n",
       "      <th>longitude</th>\n",
       "      <th>lotsizesquarefeet</th>\n",
       "      <th>poolcnt</th>\n",
       "      <th>taxvaluedollarcnt</th>\n",
       "      <th>yearbuilt</th>\n",
       "      <th>landtaxvaluedollarcnt</th>\n",
       "      <th>logerror</th>\n",
       "      <th>county_name</th>\n",
       "      <th>los_angeles</th>\n",
       "      <th>ventura</th>\n",
       "      <th>orange</th>\n",
       "      <th>decade</th>\n",
       "      <th>extras</th>\n",
       "    </tr>\n",
       "  </thead>\n",
       "  <tbody>\n",
       "    <tr>\n",
       "      <th>22620</th>\n",
       "      <td>0.01</td>\n",
       "      <td>2.00</td>\n",
       "      <td>2.00</td>\n",
       "      <td>1,212.00</td>\n",
       "      <td>6,059.00</td>\n",
       "      <td>2</td>\n",
       "      <td>33.85</td>\n",
       "      <td>-118.02</td>\n",
       "      <td>6,000.00</td>\n",
       "      <td>0</td>\n",
       "      <td>143,427.00</td>\n",
       "      <td>1955</td>\n",
       "      <td>88,553.00</td>\n",
       "      <td>-0.08</td>\n",
       "      <td>Orange</td>\n",
       "      <td>0.00</td>\n",
       "      <td>0.00</td>\n",
       "      <td>1.00</td>\n",
       "      <td>(1950, 1960]</td>\n",
       "      <td>1</td>\n",
       "    </tr>\n",
       "  </tbody>\n",
       "</table>\n",
       "</div>"
      ],
      "text/plain": [
       "                  tax_rate          bathroomcnt           bedroomcnt  \\\n",
       "22620                 0.01                 2.00                 2.00   \n",
       "\n",
       "       calculatedfinishedsquarefeet                 fips  garagecarcnt  \\\n",
       "22620                      1,212.00             6,059.00             2   \n",
       "\n",
       "                  latitude            longitude    lotsizesquarefeet  poolcnt  \\\n",
       "22620                33.85              -118.02             6,000.00        0   \n",
       "\n",
       "         taxvaluedollarcnt  yearbuilt  landtaxvaluedollarcnt  \\\n",
       "22620           143,427.00       1955              88,553.00   \n",
       "\n",
       "                  logerror county_name          los_angeles  \\\n",
       "22620                -0.08      Orange                 0.00   \n",
       "\n",
       "                   ventura               orange        decade extras  \n",
       "22620                 0.00                 1.00  (1950, 1960]      1  "
      ]
     },
     "execution_count": 62,
     "metadata": {},
     "output_type": "execute_result"
    }
   ],
   "source": [
    "train.head(1)"
   ]
  },
  {
   "cell_type": "code",
   "execution_count": 63,
   "metadata": {},
   "outputs": [
    {
     "data": {
      "text/html": [
       "<div>\n",
       "<style scoped>\n",
       "    .dataframe tbody tr th:only-of-type {\n",
       "        vertical-align: middle;\n",
       "    }\n",
       "\n",
       "    .dataframe tbody tr th {\n",
       "        vertical-align: top;\n",
       "    }\n",
       "\n",
       "    .dataframe thead th {\n",
       "        text-align: right;\n",
       "    }\n",
       "</style>\n",
       "<table border=\"1\" class=\"dataframe\">\n",
       "  <thead>\n",
       "    <tr style=\"text-align: right;\">\n",
       "      <th></th>\n",
       "      <th>tax_rate</th>\n",
       "      <th>bathroomcnt</th>\n",
       "      <th>bedroomcnt</th>\n",
       "      <th>calculatedfinishedsquarefeet</th>\n",
       "      <th>fips</th>\n",
       "      <th>garagecarcnt</th>\n",
       "      <th>latitude</th>\n",
       "      <th>longitude</th>\n",
       "      <th>lotsizesquarefeet</th>\n",
       "      <th>poolcnt</th>\n",
       "      <th>taxvaluedollarcnt</th>\n",
       "      <th>yearbuilt</th>\n",
       "      <th>landtaxvaluedollarcnt</th>\n",
       "      <th>logerror</th>\n",
       "      <th>county_name</th>\n",
       "      <th>los_angeles</th>\n",
       "      <th>ventura</th>\n",
       "      <th>orange</th>\n",
       "      <th>decade</th>\n",
       "    </tr>\n",
       "  </thead>\n",
       "  <tbody>\n",
       "    <tr>\n",
       "      <th>10408</th>\n",
       "      <td>0.03</td>\n",
       "      <td>2.00</td>\n",
       "      <td>3.00</td>\n",
       "      <td>1,064.00</td>\n",
       "      <td>6,037.00</td>\n",
       "      <td>0</td>\n",
       "      <td>34.58</td>\n",
       "      <td>-118.06</td>\n",
       "      <td>7,046.00</td>\n",
       "      <td>0</td>\n",
       "      <td>65,261.00</td>\n",
       "      <td>1956</td>\n",
       "      <td>27,191.00</td>\n",
       "      <td>-0.02</td>\n",
       "      <td>Los Angeles</td>\n",
       "      <td>1.00</td>\n",
       "      <td>0.00</td>\n",
       "      <td>0.00</td>\n",
       "      <td>(1950, 1960]</td>\n",
       "    </tr>\n",
       "  </tbody>\n",
       "</table>\n",
       "</div>"
      ],
      "text/plain": [
       "                  tax_rate          bathroomcnt           bedroomcnt  \\\n",
       "10408                 0.03                 2.00                 3.00   \n",
       "\n",
       "       calculatedfinishedsquarefeet                 fips  garagecarcnt  \\\n",
       "10408                      1,064.00             6,037.00             0   \n",
       "\n",
       "                  latitude            longitude    lotsizesquarefeet  poolcnt  \\\n",
       "10408                34.58              -118.06             7,046.00        0   \n",
       "\n",
       "         taxvaluedollarcnt  yearbuilt  landtaxvaluedollarcnt  \\\n",
       "10408            65,261.00       1956              27,191.00   \n",
       "\n",
       "                  logerror  county_name          los_angeles  \\\n",
       "10408                -0.02  Los Angeles                 1.00   \n",
       "\n",
       "                   ventura               orange        decade  \n",
       "10408                 0.00                 0.00  (1950, 1960]  "
      ]
     },
     "execution_count": 63,
     "metadata": {},
     "output_type": "execute_result"
    }
   ],
   "source": [
    "test.head(1)"
   ]
  },
  {
   "cell_type": "code",
   "execution_count": 66,
   "metadata": {},
   "outputs": [],
   "source": [
    "# defines conditions to compute the correct value for extras in train\n",
    "\n",
    "conditions = [\n",
    "    (test[\"poolcnt\"] == 0) & (test[\"garagecarcnt\"] == 0),\n",
    "    (test[\"poolcnt\"] > 0) & (test[\"garagecarcnt\"] == 0),\n",
    "    (test[\"poolcnt\"] == 0) & (test[\"garagecarcnt\"] > 0),\n",
    "    (test[\"poolcnt\"] > 0) & (test[\"garagecarcnt\"] > 0)\n",
    "]"
   ]
  },
  {
   "cell_type": "code",
   "execution_count": 69,
   "metadata": {},
   "outputs": [],
   "source": [
    "test[\"extras\"] = np.select(conditions, outputs, 'Other')"
   ]
  },
  {
   "cell_type": "code",
   "execution_count": 70,
   "metadata": {},
   "outputs": [
    {
     "data": {
      "text/html": [
       "<div>\n",
       "<style scoped>\n",
       "    .dataframe tbody tr th:only-of-type {\n",
       "        vertical-align: middle;\n",
       "    }\n",
       "\n",
       "    .dataframe tbody tr th {\n",
       "        vertical-align: top;\n",
       "    }\n",
       "\n",
       "    .dataframe thead th {\n",
       "        text-align: right;\n",
       "    }\n",
       "</style>\n",
       "<table border=\"1\" class=\"dataframe\">\n",
       "  <thead>\n",
       "    <tr style=\"text-align: right;\">\n",
       "      <th></th>\n",
       "      <th>tax_rate</th>\n",
       "      <th>bathroomcnt</th>\n",
       "      <th>bedroomcnt</th>\n",
       "      <th>calculatedfinishedsquarefeet</th>\n",
       "      <th>fips</th>\n",
       "      <th>garagecarcnt</th>\n",
       "      <th>latitude</th>\n",
       "      <th>longitude</th>\n",
       "      <th>lotsizesquarefeet</th>\n",
       "      <th>poolcnt</th>\n",
       "      <th>taxvaluedollarcnt</th>\n",
       "      <th>yearbuilt</th>\n",
       "      <th>landtaxvaluedollarcnt</th>\n",
       "      <th>logerror</th>\n",
       "      <th>county_name</th>\n",
       "      <th>los_angeles</th>\n",
       "      <th>ventura</th>\n",
       "      <th>orange</th>\n",
       "      <th>decade</th>\n",
       "      <th>extras</th>\n",
       "    </tr>\n",
       "  </thead>\n",
       "  <tbody>\n",
       "    <tr>\n",
       "      <th>10408</th>\n",
       "      <td>0.03</td>\n",
       "      <td>2.00</td>\n",
       "      <td>3.00</td>\n",
       "      <td>1,064.00</td>\n",
       "      <td>6,037.00</td>\n",
       "      <td>0</td>\n",
       "      <td>34.58</td>\n",
       "      <td>-118.06</td>\n",
       "      <td>7,046.00</td>\n",
       "      <td>0</td>\n",
       "      <td>65,261.00</td>\n",
       "      <td>1956</td>\n",
       "      <td>27,191.00</td>\n",
       "      <td>-0.02</td>\n",
       "      <td>Los Angeles</td>\n",
       "      <td>1.00</td>\n",
       "      <td>0.00</td>\n",
       "      <td>0.00</td>\n",
       "      <td>(1950, 1960]</td>\n",
       "      <td>0</td>\n",
       "    </tr>\n",
       "  </tbody>\n",
       "</table>\n",
       "</div>"
      ],
      "text/plain": [
       "                  tax_rate          bathroomcnt           bedroomcnt  \\\n",
       "10408                 0.03                 2.00                 3.00   \n",
       "\n",
       "       calculatedfinishedsquarefeet                 fips  garagecarcnt  \\\n",
       "10408                      1,064.00             6,037.00             0   \n",
       "\n",
       "                  latitude            longitude    lotsizesquarefeet  poolcnt  \\\n",
       "10408                34.58              -118.06             7,046.00        0   \n",
       "\n",
       "         taxvaluedollarcnt  yearbuilt  landtaxvaluedollarcnt  \\\n",
       "10408            65,261.00       1956              27,191.00   \n",
       "\n",
       "                  logerror  county_name          los_angeles  \\\n",
       "10408                -0.02  Los Angeles                 1.00   \n",
       "\n",
       "                   ventura               orange        decade extras  \n",
       "10408                 0.00                 0.00  (1950, 1960]      0  "
      ]
     },
     "execution_count": 70,
     "metadata": {},
     "output_type": "execute_result"
    }
   ],
   "source": [
    "test.head(1)"
   ]
  },
  {
   "cell_type": "markdown",
   "metadata": {},
   "source": [
    "## Visualize"
   ]
  },
  {
   "cell_type": "code",
   "execution_count": null,
   "metadata": {},
   "outputs": [],
   "source": [
    "sns.scatterplot(data=train, x=\"logerror\", y=\"taxvaluedollarcnt\", hue=\"county_name\", hue_order=[\"Los Angeles\", \"Orange\", \"Ventura\"], alpha=.6)"
   ]
  },
  {
   "cell_type": "code",
   "execution_count": null,
   "metadata": {},
   "outputs": [],
   "source": [
    "sns.boxplot(train.bedroomcnt, train.calculatedfinishedsquarefeet)"
   ]
  },
  {
   "cell_type": "code",
   "execution_count": null,
   "metadata": {},
   "outputs": [],
   "source": [
    "sns.boxplot(train.bathroomcnt, train.calculatedfinishedsquarefeet)"
   ]
  },
  {
   "cell_type": "markdown",
   "metadata": {},
   "source": [
    "## Stats Testing to Decide on Feature Engineering"
   ]
  },
  {
   "cell_type": "markdown",
   "metadata": {},
   "source": [
    "- Here I use a chi2 test to look at categorical features."
   ]
  },
  {
   "cell_type": "markdown",
   "metadata": {},
   "source": [
    "- $H_0$: Bathroomcnt is independent of how many bedrooms a home has.\n",
    "\n",
    "- $H_a$: Bathroomcnt is not independent of how many bedrooms a home has."
   ]
  },
  {
   "cell_type": "code",
   "execution_count": null,
   "metadata": {},
   "outputs": [],
   "source": [
    "# contingency_table from the df_cat dataframe (w/o categories)\n",
    "\n",
    "contingency_table = pd.crosstab(train_cat.bedroomcnt, train_cat.bathroomcnt, margins=True).style.background_gradient(cmap='YlOrRd')\n",
    "contingency_table"
   ]
  },
  {
   "cell_type": "code",
   "execution_count": null,
   "metadata": {},
   "outputs": [],
   "source": [
    "contingency_table = pd.crosstab(train_cat.bedroomcnt, train_cat.bathroomcnt)"
   ]
  },
  {
   "cell_type": "code",
   "execution_count": null,
   "metadata": {},
   "outputs": [],
   "source": [
    "_, p, _, expected = stats.chi2_contingency(contingency_table)"
   ]
  },
  {
   "cell_type": "code",
   "execution_count": null,
   "metadata": {},
   "outputs": [],
   "source": [
    "print(f\"The p-value of the contingency test is {p}.\")"
   ]
  },
  {
   "cell_type": "markdown",
   "metadata": {},
   "source": [
    "### Takeaways from chi2 test on bedroomcnt and bathroomcnt\n",
    "\n",
    "- Based on the p_value of 0 from the chi2 test above, I reject the Null Hypothesis that bathroomcnt is independent of how many bedrooms a home has.\n",
    "\n",
    "\n",
    "- Based on rejecting the Null Hypothesis, I will combine the two features into a single feature that is a ratio of bedrooms to bathrooms."
   ]
  },
  {
   "cell_type": "markdown",
   "metadata": {},
   "source": [
    "- $H_0$: garagecarcnt is independent of how many pools a home has.\n",
    "\n",
    "- $H_a$: garagecarcnt is not independent of how many pools a home has."
   ]
  },
  {
   "cell_type": "code",
   "execution_count": 71,
   "metadata": {},
   "outputs": [
    {
     "data": {
      "text/html": [
       "<style  type=\"text/css\" >\n",
       "    #T_75664172_0246_11ea_ab0d_88e9fe64f5f6row0_col0 {\n",
       "            background-color:  #f64227;\n",
       "            color:  #f1f1f1;\n",
       "        }    #T_75664172_0246_11ea_ab0d_88e9fe64f5f6row0_col1 {\n",
       "            background-color:  #fc612f;\n",
       "            color:  #000000;\n",
       "        }    #T_75664172_0246_11ea_ab0d_88e9fe64f5f6row0_col2 {\n",
       "            background-color:  #f84628;\n",
       "            color:  #000000;\n",
       "        }    #T_75664172_0246_11ea_ab0d_88e9fe64f5f6row1_col0 {\n",
       "            background-color:  #fff8bb;\n",
       "            color:  #000000;\n",
       "        }    #T_75664172_0246_11ea_ab0d_88e9fe64f5f6row1_col1 {\n",
       "            background-color:  #fffcc4;\n",
       "            color:  #000000;\n",
       "        }    #T_75664172_0246_11ea_ab0d_88e9fe64f5f6row1_col2 {\n",
       "            background-color:  #fff9bd;\n",
       "            color:  #000000;\n",
       "        }    #T_75664172_0246_11ea_ab0d_88e9fe64f5f6row2_col0 {\n",
       "            background-color:  #fecc68;\n",
       "            color:  #000000;\n",
       "        }    #T_75664172_0246_11ea_ab0d_88e9fe64f5f6row2_col1 {\n",
       "            background-color:  #feb44e;\n",
       "            color:  #000000;\n",
       "        }    #T_75664172_0246_11ea_ab0d_88e9fe64f5f6row2_col2 {\n",
       "            background-color:  #fec965;\n",
       "            color:  #000000;\n",
       "        }    #T_75664172_0246_11ea_ab0d_88e9fe64f5f6row3_col0 {\n",
       "            background-color:  #fffecb;\n",
       "            color:  #000000;\n",
       "        }    #T_75664172_0246_11ea_ab0d_88e9fe64f5f6row3_col1 {\n",
       "            background-color:  #fffdc8;\n",
       "            color:  #000000;\n",
       "        }    #T_75664172_0246_11ea_ab0d_88e9fe64f5f6row3_col2 {\n",
       "            background-color:  #fffecb;\n",
       "            color:  #000000;\n",
       "        }    #T_75664172_0246_11ea_ab0d_88e9fe64f5f6row4_col0 {\n",
       "            background-color:  #ffffcc;\n",
       "            color:  #000000;\n",
       "        }    #T_75664172_0246_11ea_ab0d_88e9fe64f5f6row4_col1 {\n",
       "            background-color:  #ffffcc;\n",
       "            color:  #000000;\n",
       "        }    #T_75664172_0246_11ea_ab0d_88e9fe64f5f6row4_col2 {\n",
       "            background-color:  #ffffcc;\n",
       "            color:  #000000;\n",
       "        }    #T_75664172_0246_11ea_ab0d_88e9fe64f5f6row5_col0 {\n",
       "            background-color:  #ffffcc;\n",
       "            color:  #000000;\n",
       "        }    #T_75664172_0246_11ea_ab0d_88e9fe64f5f6row5_col1 {\n",
       "            background-color:  #ffffcc;\n",
       "            color:  #000000;\n",
       "        }    #T_75664172_0246_11ea_ab0d_88e9fe64f5f6row5_col2 {\n",
       "            background-color:  #ffffcc;\n",
       "            color:  #000000;\n",
       "        }    #T_75664172_0246_11ea_ab0d_88e9fe64f5f6row6_col0 {\n",
       "            background-color:  #ffffcc;\n",
       "            color:  #000000;\n",
       "        }    #T_75664172_0246_11ea_ab0d_88e9fe64f5f6row6_col1 {\n",
       "            background-color:  #ffffcc;\n",
       "            color:  #000000;\n",
       "        }    #T_75664172_0246_11ea_ab0d_88e9fe64f5f6row6_col2 {\n",
       "            background-color:  #ffffcc;\n",
       "            color:  #000000;\n",
       "        }    #T_75664172_0246_11ea_ab0d_88e9fe64f5f6row7_col0 {\n",
       "            background-color:  #ffffcc;\n",
       "            color:  #000000;\n",
       "        }    #T_75664172_0246_11ea_ab0d_88e9fe64f5f6row7_col1 {\n",
       "            background-color:  #ffffcc;\n",
       "            color:  #000000;\n",
       "        }    #T_75664172_0246_11ea_ab0d_88e9fe64f5f6row7_col2 {\n",
       "            background-color:  #ffffcc;\n",
       "            color:  #000000;\n",
       "        }    #T_75664172_0246_11ea_ab0d_88e9fe64f5f6row8_col0 {\n",
       "            background-color:  #800026;\n",
       "            color:  #f1f1f1;\n",
       "        }    #T_75664172_0246_11ea_ab0d_88e9fe64f5f6row8_col1 {\n",
       "            background-color:  #800026;\n",
       "            color:  #f1f1f1;\n",
       "        }    #T_75664172_0246_11ea_ab0d_88e9fe64f5f6row8_col2 {\n",
       "            background-color:  #800026;\n",
       "            color:  #f1f1f1;\n",
       "        }</style><table id=\"T_75664172_0246_11ea_ab0d_88e9fe64f5f6\" ><thead>    <tr>        <th class=\"index_name level0\" >poolcnt</th>        <th class=\"col_heading level0 col0\" >0.0</th>        <th class=\"col_heading level0 col1\" >1.0</th>        <th class=\"col_heading level0 col2\" >All</th>    </tr>    <tr>        <th class=\"index_name level0\" >garagecarcnt</th>        <th class=\"blank\" ></th>        <th class=\"blank\" ></th>        <th class=\"blank\" ></th>    </tr></thead><tbody>\n",
       "                <tr>\n",
       "                        <th id=\"T_75664172_0246_11ea_ab0d_88e9fe64f5f6level0_row0\" class=\"row_heading level0 row0\" >0.0</th>\n",
       "                        <td id=\"T_75664172_0246_11ea_ab0d_88e9fe64f5f6row0_col0\" class=\"data row0 col0\" >16834</td>\n",
       "                        <td id=\"T_75664172_0246_11ea_ab0d_88e9fe64f5f6row0_col1\" class=\"data row0 col1\" >3109</td>\n",
       "                        <td id=\"T_75664172_0246_11ea_ab0d_88e9fe64f5f6row0_col2\" class=\"data row0 col2\" >19943</td>\n",
       "            </tr>\n",
       "            <tr>\n",
       "                        <th id=\"T_75664172_0246_11ea_ab0d_88e9fe64f5f6level0_row1\" class=\"row_heading level0 row1\" >1.0</th>\n",
       "                        <td id=\"T_75664172_0246_11ea_ab0d_88e9fe64f5f6row1_col0\" class=\"data row1 col0\" >1244</td>\n",
       "                        <td id=\"T_75664172_0246_11ea_ab0d_88e9fe64f5f6row1_col1\" class=\"data row1 col1\" >140</td>\n",
       "                        <td id=\"T_75664172_0246_11ea_ab0d_88e9fe64f5f6row1_col2\" class=\"data row1 col2\" >1384</td>\n",
       "            </tr>\n",
       "            <tr>\n",
       "                        <th id=\"T_75664172_0246_11ea_ab0d_88e9fe64f5f6level0_row2\" class=\"row_heading level0 row2\" >2.0</th>\n",
       "                        <td id=\"T_75664172_0246_11ea_ab0d_88e9fe64f5f6row2_col0\" class=\"data row2 col0\" >7465</td>\n",
       "                        <td id=\"T_75664172_0246_11ea_ab0d_88e9fe64f5f6row2_col1\" class=\"data row2 col1\" >1947</td>\n",
       "                        <td id=\"T_75664172_0246_11ea_ab0d_88e9fe64f5f6row2_col2\" class=\"data row2 col2\" >9412</td>\n",
       "            </tr>\n",
       "            <tr>\n",
       "                        <th id=\"T_75664172_0246_11ea_ab0d_88e9fe64f5f6level0_row3\" class=\"row_heading level0 row3\" >3.0</th>\n",
       "                        <td id=\"T_75664172_0246_11ea_ab0d_88e9fe64f5f6row3_col0\" class=\"data row3 col0\" >121</td>\n",
       "                        <td id=\"T_75664172_0246_11ea_ab0d_88e9fe64f5f6row3_col1\" class=\"data row3 col1\" >78</td>\n",
       "                        <td id=\"T_75664172_0246_11ea_ab0d_88e9fe64f5f6row3_col2\" class=\"data row3 col2\" >199</td>\n",
       "            </tr>\n",
       "            <tr>\n",
       "                        <th id=\"T_75664172_0246_11ea_ab0d_88e9fe64f5f6level0_row4\" class=\"row_heading level0 row4\" >4.0</th>\n",
       "                        <td id=\"T_75664172_0246_11ea_ab0d_88e9fe64f5f6row4_col0\" class=\"data row4 col0\" >22</td>\n",
       "                        <td id=\"T_75664172_0246_11ea_ab0d_88e9fe64f5f6row4_col1\" class=\"data row4 col1\" >17</td>\n",
       "                        <td id=\"T_75664172_0246_11ea_ab0d_88e9fe64f5f6row4_col2\" class=\"data row4 col2\" >39</td>\n",
       "            </tr>\n",
       "            <tr>\n",
       "                        <th id=\"T_75664172_0246_11ea_ab0d_88e9fe64f5f6level0_row5\" class=\"row_heading level0 row5\" >5.0</th>\n",
       "                        <td id=\"T_75664172_0246_11ea_ab0d_88e9fe64f5f6row5_col0\" class=\"data row5 col0\" >2</td>\n",
       "                        <td id=\"T_75664172_0246_11ea_ab0d_88e9fe64f5f6row5_col1\" class=\"data row5 col1\" >0</td>\n",
       "                        <td id=\"T_75664172_0246_11ea_ab0d_88e9fe64f5f6row5_col2\" class=\"data row5 col2\" >2</td>\n",
       "            </tr>\n",
       "            <tr>\n",
       "                        <th id=\"T_75664172_0246_11ea_ab0d_88e9fe64f5f6level0_row6\" class=\"row_heading level0 row6\" >6.0</th>\n",
       "                        <td id=\"T_75664172_0246_11ea_ab0d_88e9fe64f5f6row6_col0\" class=\"data row6 col0\" >2</td>\n",
       "                        <td id=\"T_75664172_0246_11ea_ab0d_88e9fe64f5f6row6_col1\" class=\"data row6 col1\" >0</td>\n",
       "                        <td id=\"T_75664172_0246_11ea_ab0d_88e9fe64f5f6row6_col2\" class=\"data row6 col2\" >2</td>\n",
       "            </tr>\n",
       "            <tr>\n",
       "                        <th id=\"T_75664172_0246_11ea_ab0d_88e9fe64f5f6level0_row7\" class=\"row_heading level0 row7\" >10.0</th>\n",
       "                        <td id=\"T_75664172_0246_11ea_ab0d_88e9fe64f5f6row7_col0\" class=\"data row7 col0\" >1</td>\n",
       "                        <td id=\"T_75664172_0246_11ea_ab0d_88e9fe64f5f6row7_col1\" class=\"data row7 col1\" >0</td>\n",
       "                        <td id=\"T_75664172_0246_11ea_ab0d_88e9fe64f5f6row7_col2\" class=\"data row7 col2\" >1</td>\n",
       "            </tr>\n",
       "            <tr>\n",
       "                        <th id=\"T_75664172_0246_11ea_ab0d_88e9fe64f5f6level0_row8\" class=\"row_heading level0 row8\" >All</th>\n",
       "                        <td id=\"T_75664172_0246_11ea_ab0d_88e9fe64f5f6row8_col0\" class=\"data row8 col0\" >25691</td>\n",
       "                        <td id=\"T_75664172_0246_11ea_ab0d_88e9fe64f5f6row8_col1\" class=\"data row8 col1\" >5291</td>\n",
       "                        <td id=\"T_75664172_0246_11ea_ab0d_88e9fe64f5f6row8_col2\" class=\"data row8 col2\" >30982</td>\n",
       "            </tr>\n",
       "    </tbody></table>"
      ],
      "text/plain": [
       "<pandas.io.formats.style.Styler at 0x1a204c72b0>"
      ]
     },
     "execution_count": 71,
     "metadata": {},
     "output_type": "execute_result"
    }
   ],
   "source": [
    "contingency_table = pd.crosstab(train_cat.garagecarcnt, train_cat.poolcnt, margins=True).style.background_gradient(cmap='YlOrRd')\n",
    "contingency_table"
   ]
  },
  {
   "cell_type": "code",
   "execution_count": null,
   "metadata": {},
   "outputs": [],
   "source": [
    "contingency_table = pd.crosstab(train_cat.garagecarcnt, train_cat.poolcnt)"
   ]
  },
  {
   "cell_type": "code",
   "execution_count": null,
   "metadata": {},
   "outputs": [],
   "source": [
    "_, p, _, expected = stats.chi2_contingency(contingency_table)"
   ]
  },
  {
   "cell_type": "code",
   "execution_count": null,
   "metadata": {},
   "outputs": [],
   "source": [
    "print(f\"The p-value of the contingency test is {p}.\")"
   ]
  },
  {
   "cell_type": "code",
   "execution_count": null,
   "metadata": {},
   "outputs": [],
   "source": [
    "r, p = stats.pearsonr(train_cat.lotsizesquarefeet, train_cat.taxvaluedollarcnt)"
   ]
  },
  {
   "cell_type": "code",
   "execution_count": null,
   "metadata": {},
   "outputs": [],
   "source": [
    "print(f\"r is {r}\")"
   ]
  },
  {
   "cell_type": "code",
   "execution_count": null,
   "metadata": {},
   "outputs": [],
   "source": [
    "print(f\"p is {p}\")"
   ]
  },
  {
   "cell_type": "code",
   "execution_count": null,
   "metadata": {},
   "outputs": [],
   "source": [
    "# creating df handling values above 10_000 sqfeet to get a better look at the relationship between the variables\n",
    "\n",
    "lot_no_outliers = train_cat[train_cat.lotsizesquarefeet > 10000]"
   ]
  },
  {
   "cell_type": "markdown",
   "metadata": {},
   "source": [
    "### DB Scan this thingy"
   ]
  },
  {
   "cell_type": "code",
   "execution_count": null,
   "metadata": {},
   "outputs": [],
   "source": [
    "sns.jointplot(data=lot_no_outliers, y=\"taxvaluedollarcnt\", x=\"lotsizesquarefeet\")"
   ]
  },
  {
   "cell_type": "markdown",
   "metadata": {},
   "source": [
    "## Split train and test into X_train, X_test, y_train, y_test"
   ]
  },
  {
   "cell_type": "code",
   "execution_count": null,
   "metadata": {},
   "outputs": [],
   "source": [
    "train = train.drop(columns='county_name')\n",
    "test = test.drop(columns='county_name')"
   ]
  },
  {
   "cell_type": "code",
   "execution_count": null,
   "metadata": {},
   "outputs": [],
   "source": [
    "X_train = train.drop(columns=\"logerror\")\n",
    "\n",
    "y_train = train[[\"logerror\"]]\n",
    "\n",
    "X_test = test.drop(columns=\"logerror\")\n",
    "\n",
    "y_test = test[[\"logerror\"]]"
   ]
  },
  {
   "cell_type": "markdown",
   "metadata": {},
   "source": [
    "### Model df - Random Forest"
   ]
  },
  {
   "cell_type": "code",
   "execution_count": null,
   "metadata": {},
   "outputs": [],
   "source": [
    "from sklearn.model_selection import train_test_split\n",
    "from sklearn.ensemble import RandomForestRegressor\n",
    "from sklearn.metrics import classification_report\n",
    "from sklearn.metrics import confusion_matrix\n",
    "\n",
    "\n",
    "import matplotlib.pyplot as plt\n",
    "%matplotlib inline\n",
    "import seaborn as sns"
   ]
  },
  {
   "cell_type": "code",
   "execution_count": null,
   "metadata": {},
   "outputs": [],
   "source": [
    "rf = RandomForestRegressor(n_estimators=100)"
   ]
  },
  {
   "cell_type": "code",
   "execution_count": null,
   "metadata": {},
   "outputs": [],
   "source": [
    "rf.fit(X_train, y_train)"
   ]
  },
  {
   "cell_type": "code",
   "execution_count": null,
   "metadata": {},
   "outputs": [],
   "source": [
    "from sklearn.metrics import mean_squared_error\n",
    "\n",
    "y_pred = rf.predict(X_train)\n",
    "print(f'root mean squared error = {mean_squared_error(y_train, y_pred)**1/2}')"
   ]
  },
  {
   "cell_type": "code",
   "execution_count": null,
   "metadata": {},
   "outputs": [],
   "source": [
    "y_pred = rf.predict(X_test)\n",
    "print(f'root mean squared error = {mean_squared_error(y_test, y_pred)**1/2}')"
   ]
  },
  {
   "cell_type": "markdown",
   "metadata": {},
   "source": [
    "### PUT TAKEAWAYS FROM RANDOM FOREST MODEL HERE"
   ]
  },
  {
   "cell_type": "markdown",
   "metadata": {},
   "source": [
    "## Model - Linear Regression Model"
   ]
  },
  {
   "cell_type": "code",
   "execution_count": null,
   "metadata": {},
   "outputs": [],
   "source": [
    "X_train.dtypes"
   ]
  },
  {
   "cell_type": "code",
   "execution_count": null,
   "metadata": {},
   "outputs": [],
   "source": [
    "X_train.head()"
   ]
  },
  {
   "cell_type": "code",
   "execution_count": null,
   "metadata": {},
   "outputs": [],
   "source": [
    "X_train.garagecarcnt = X_train.garagecarcnt.astype(float)\n",
    "X_train.bathroomcnt = X_train.bathroomcnt.astype(float)\n",
    "X_train.bedroomcnt = X_train.bedroomcnt.astype(float)\n",
    "X_train.poolcnt = X_train.poolcnt.astype(float)"
   ]
  },
  {
   "cell_type": "code",
   "execution_count": null,
   "metadata": {},
   "outputs": [],
   "source": [
    "X_train = X_train.drop(columns='yearbuilt')\n",
    "X_test = X_test.drop(columns='yearbuilt')"
   ]
  },
  {
   "cell_type": "code",
   "execution_count": null,
   "metadata": {},
   "outputs": [],
   "source": [
    "# create the LR object\n",
    "\n",
    "lm1 = LinearRegression()\n",
    "print(lm1)"
   ]
  },
  {
   "cell_type": "code",
   "execution_count": null,
   "metadata": {},
   "outputs": [],
   "source": [
    "# fit/train the model\n",
    "\n",
    "model = lm1.fit(X_train, y_train)"
   ]
  },
  {
   "cell_type": "code",
   "execution_count": null,
   "metadata": {},
   "outputs": [],
   "source": [
    "# create yhat variable, numpy array, in-sample prediction values\n",
    "\n",
    "yhat = model.predict(X_train)\n",
    "type(yhat)\n",
    "yhat"
   ]
  },
  {
   "cell_type": "code",
   "execution_count": null,
   "metadata": {},
   "outputs": [],
   "source": [
    "actual = y_train\n",
    "actual.head()"
   ]
  },
  {
   "cell_type": "code",
   "execution_count": null,
   "metadata": {},
   "outputs": [],
   "source": [
    "actual['yhat'] = yhat"
   ]
  },
  {
   "cell_type": "markdown",
   "metadata": {},
   "source": [
    "### Evaluate LR Model"
   ]
  },
  {
   "cell_type": "code",
   "execution_count": null,
   "metadata": {},
   "outputs": [],
   "source": [
    "actual[\"residual\"] = actual[\"yhat\"] - actual[\"logerror\"]"
   ]
  },
  {
   "cell_type": "code",
   "execution_count": null,
   "metadata": {},
   "outputs": [],
   "source": [
    "sns.distplot(actual[\"residual\"])"
   ]
  },
  {
   "cell_type": "code",
   "execution_count": null,
   "metadata": {},
   "outputs": [],
   "source": [
    "sns.scatterplot(actual[\"logerror\"], actual[\"yhat\"])"
   ]
  },
  {
   "cell_type": "code",
   "execution_count": null,
   "metadata": {},
   "outputs": [],
   "source": [
    "actual[\"residual^2\"] = actual[\"residual\"] ** 2"
   ]
  },
  {
   "cell_type": "code",
   "execution_count": null,
   "metadata": {},
   "outputs": [],
   "source": [
    "sse = sum(actual[\"residual^2\"])\n",
    "print(f\"sse = {sse}\")\n",
    "mse = sse / len(actual)\n",
    "print(f\"mse = {mse}\")\n",
    "rmse = sqrt(mse)\n",
    "print(f\"rmse = {rmse}\")"
   ]
  },
  {
   "cell_type": "code",
   "execution_count": null,
   "metadata": {},
   "outputs": [],
   "source": [
    "df_eval = pd.DataFrame(np.array([\"SSE\", \"MSE\", \"RMSE\"]), columns=[\"metric\"])\n",
    "df_eval[\"model_error\"] = np.array([sse, mse, rmse])\n",
    "df_eval"
   ]
  },
  {
   "cell_type": "markdown",
   "metadata": {},
   "source": [
    "- Create a numpy array from the y_df_nums_train df, so I can run eval metrics using yhat(prediction array) and y_array (array of actual y values)"
   ]
  },
  {
   "cell_type": "code",
   "execution_count": null,
   "metadata": {},
   "outputs": [],
   "source": [
    "y_array = np.array(y_train)\n",
    "type(y_array)"
   ]
  },
  {
   "cell_type": "code",
   "execution_count": null,
   "metadata": {},
   "outputs": [],
   "source": [
    "r2_score(actual.logerror, actual.yhat)"
   ]
  },
  {
   "cell_type": "code",
   "execution_count": null,
   "metadata": {},
   "outputs": [],
   "source": [
    "mse_lm1 = mean_squared_error(actual.logerror, actual.yhat)\n",
    "print(\"linear model\\n  mean squared error: {:.3}\".format(mse_lm1)) \n",
    "\n",
    "r2_lm1 = r2_score(actual.logerror, actual.yhat)\n",
    "print('  {:.2%} of the variance in the logerror can be explained by variables.'.format(r2_lm1))"
   ]
  },
  {
   "cell_type": "markdown",
   "metadata": {},
   "source": [
    "### Takeaways from the Linear Regression Model:\n",
    "\n",
    "- Based on the results above I fail to reject the Null Hypothesis that the numeric values alone can predict the logerror.\n",
    "\n",
    "- Using a Linear Regression model to predict the logerror may not be the best choice.\n",
    "\n",
    "- Finding a way to include categorical variables in a model may help predict logerror."
   ]
  },
  {
   "cell_type": "markdown",
   "metadata": {},
   "source": [
    "### Model - K Neighbors Regressor"
   ]
  },
  {
   "cell_type": "code",
   "execution_count": null,
   "metadata": {},
   "outputs": [],
   "source": [
    "# create the object\n",
    "neigh = KNeighborsRegressor(n_neighbors=2)"
   ]
  },
  {
   "cell_type": "code",
   "execution_count": null,
   "metadata": {},
   "outputs": [],
   "source": [
    "# fit/train the model using train \n",
    "neigh.fit(X_train, y_train)"
   ]
  },
  {
   "cell_type": "code",
   "execution_count": null,
   "metadata": {},
   "outputs": [],
   "source": [
    "yhat = neigh.predict(X_train)\n",
    "type(yhat)"
   ]
  },
  {
   "cell_type": "code",
   "execution_count": null,
   "metadata": {},
   "outputs": [],
   "source": [
    "r2 = neigh.score(X_train, y_train)"
   ]
  },
  {
   "cell_type": "code",
   "execution_count": null,
   "metadata": {},
   "outputs": [],
   "source": [
    "print('  {:.2%} of the variance in the logerror can be explained by variables.'.format(r2))"
   ]
  },
  {
   "cell_type": "markdown",
   "metadata": {},
   "source": [
    "### Takeaways from KNRegressor Model\n",
    "\n",
    "- This model explained more than 50% more of the variance in logerror than my LR model using exactly the same data.\n",
    "\n",
    "- The subset of data I used was comprised of the numeric values only from the original dataframe.\n",
    "\n",
    "- I think this model could do even better with outliers handled and some feature engineering."
   ]
  },
  {
   "cell_type": "code",
   "execution_count": null,
   "metadata": {},
   "outputs": [],
   "source": []
  }
 ],
 "metadata": {
  "kernelspec": {
   "display_name": "Python 3",
   "language": "python",
   "name": "python3"
  },
  "language_info": {
   "codemirror_mode": {
    "name": "ipython",
    "version": 3
   },
   "file_extension": ".py",
   "mimetype": "text/x-python",
   "name": "python",
   "nbconvert_exporter": "python",
   "pygments_lexer": "ipython3",
   "version": "3.7.3"
  }
 },
 "nbformat": 4,
 "nbformat_minor": 2
}
