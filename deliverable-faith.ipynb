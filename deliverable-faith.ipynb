{
 "cells": [
  {
   "cell_type": "code",
   "execution_count": 1,
   "metadata": {},
   "outputs": [],
   "source": [
    "# ignore warnings\n",
    "import warnings\n",
    "warnings.filterwarnings(\"ignore\")\n",
    "\n",
    "# wrangling\n",
    "import pandas as pd\n",
    "import numpy as np\n",
    "\n",
    "# preparing\n",
    "from sklearn.model_selection import train_test_split\n",
    "\n",
    "# visualizing\n",
    "%matplotlib inline\n",
    "import matplotlib.pyplot as plt\n",
    "import seaborn as sns\n",
    "\n",
    "# exploring\n",
    "import scipy.stats as stats\n",
    "import pandas_profiling\n",
    "\n",
    "# modeling\n",
    "from sklearn.cluster import KMeans\n",
    "from sklearn.preprocessing import LabelEncoder, OneHotEncoder\n",
    "from sklearn.linear_model import LinearRegression\n",
    "from statsmodels.formula.api import ols\n",
    "from sklearn.metrics import mean_squared_error, r2_score, explained_variance_score\n",
    "from sklearn.feature_selection import f_regression\n",
    "from math import sqrt\n",
    "from sklearn.neighbors import KNeighborsRegressor\n",
    "\n",
    "# 3D projection\n",
    "from mpl_toolkits.mplot3d import Axes3D\n",
    "\n",
    "pd.options.display.float_format = '{:20,.2f}'.format\n",
    "\n",
    "# my modules\n",
    "import acquire\n",
    "import summarize\n",
    "import prepare\n",
    "\n",
    "# default pandas decimal number display format\n",
    "pd.options.display.float_format = '{:20,.2f}'.format"
   ]
  },
  {
   "cell_type": "markdown",
   "metadata": {},
   "source": [
    "### Acquire & Summarize\n"
   ]
  },
  {
   "cell_type": "markdown",
   "metadata": {},
   "source": [
    "Acquired zillow data using acquire.py (sequel query in this file)"
   ]
  },
  {
   "cell_type": "code",
   "execution_count": 2,
   "metadata": {},
   "outputs": [],
   "source": [
    "# df = acquire.get_zillow_data()\n",
    "# df.head()"
   ]
  },
  {
   "cell_type": "code",
   "execution_count": 3,
   "metadata": {},
   "outputs": [],
   "source": [
    "df = pd.read_csv(\"zillow_dataframe.csv\")"
   ]
  },
  {
   "cell_type": "code",
   "execution_count": 4,
   "metadata": {},
   "outputs": [],
   "source": [
    "df = df.drop(columns=[\"Unnamed: 0\", \"garagetotalsqft\", \"poolsizesum\", \"taxdelinquencyflag\", \"taxdelinquencyyear\", \"transactions\"])"
   ]
  },
  {
   "cell_type": "code",
   "execution_count": 5,
   "metadata": {},
   "outputs": [
    {
     "data": {
      "text/plain": [
       "(52169, 15)"
      ]
     },
     "execution_count": 5,
     "metadata": {},
     "output_type": "execute_result"
    }
   ],
   "source": [
    "df.shape"
   ]
  },
  {
   "cell_type": "code",
   "execution_count": 6,
   "metadata": {},
   "outputs": [],
   "source": [
    "# df = prepare.handle_missing_values(df)"
   ]
  },
  {
   "cell_type": "code",
   "execution_count": 7,
   "metadata": {},
   "outputs": [
    {
     "data": {
      "text/plain": [
       "tax_rate                            5\n",
       "bathroomcnt                         0\n",
       "bedroomcnt                          0\n",
       "calculatedfinishedsquarefeet        8\n",
       "fips                                0\n",
       "garagecarcnt                    34203\n",
       "latitude                            0\n",
       "longitude                           0\n",
       "lotsizesquarefeet                 354\n",
       "poolcnt                         41105\n",
       "taxvaluedollarcnt                   1\n",
       "yearbuilt                          40\n",
       "landtaxvaluedollarcnt               1\n",
       "logerror                            0\n",
       "county_name                         0\n",
       "dtype: int64"
      ]
     },
     "execution_count": 7,
     "metadata": {},
     "output_type": "execute_result"
    }
   ],
   "source": [
    "df.isnull().sum()"
   ]
  },
  {
   "cell_type": "code",
   "execution_count": 8,
   "metadata": {},
   "outputs": [],
   "source": [
    "df.latitude = df.latitude / 1_000_000 \n",
    "df.longitude = df.longitude / 1_000_000 "
   ]
  },
  {
   "cell_type": "markdown",
   "metadata": {},
   "source": [
    "### Clustering fips - aka binning the 3 different counties"
   ]
  },
  {
   "cell_type": "code",
   "execution_count": 9,
   "metadata": {},
   "outputs": [],
   "source": [
    "from sklearn.cluster import KMeans\n",
    "\n",
    "X = df[['fips']]\n",
    "\n",
    "kmeans = KMeans(n_clusters=3)\n",
    "kmeans.fit(X)\n",
    "\n",
    "X['cluster'] = pd.Series(kmeans.predict(X)).astype(str)"
   ]
  },
  {
   "cell_type": "code",
   "execution_count": 10,
   "metadata": {},
   "outputs": [
    {
     "data": {
      "text/plain": [
       "(52169, 2)"
      ]
     },
     "execution_count": 10,
     "metadata": {},
     "output_type": "execute_result"
    }
   ],
   "source": [
    "X.shape"
   ]
  },
  {
   "cell_type": "code",
   "execution_count": 11,
   "metadata": {},
   "outputs": [],
   "source": [
    "X = X.drop(columns='fips')"
   ]
  },
  {
   "cell_type": "code",
   "execution_count": 12,
   "metadata": {},
   "outputs": [],
   "source": [
    "df['cluster'] = X.cluster"
   ]
  },
  {
   "cell_type": "code",
   "execution_count": 13,
   "metadata": {},
   "outputs": [],
   "source": [
    "def encode(df, col_name):\n",
    "    \n",
    "    encoded_values = sorted(list(df[col_name].unique()))\n",
    "\n",
    "    # Integer Encoding\n",
    "    int_encoder = LabelEncoder()\n",
    "    df.encoded = int_encoder.fit_transform(df[col_name])\n",
    "\n",
    "    # create 2D np arrays of the encoded variable (in train and test)\n",
    "    df_array = np.array(df.encoded).reshape(len(df.encoded),1)\n",
    "\n",
    "    # One Hot Encoding\n",
    "    ohe = OneHotEncoder(sparse=False, categories='auto')\n",
    "    df_ohe = ohe.fit_transform(df_array)\n",
    "\n",
    "    # Turn the array of new values into a data frame with columns names being the values\n",
    "    # and index matching that of train/test\n",
    "    # then merge the new dataframe with the existing train/test dataframe\n",
    "    df_encoded = pd.DataFrame(data=df_ohe, columns=encoded_values, index=df.index)\n",
    "    df = df.join(df_encoded)\n",
    "\n",
    "    return df, ohe"
   ]
  },
  {
   "cell_type": "code",
   "execution_count": 14,
   "metadata": {},
   "outputs": [],
   "source": [
    "df, ohe = encode(df, 'cluster')"
   ]
  },
  {
   "cell_type": "code",
   "execution_count": 15,
   "metadata": {},
   "outputs": [
    {
     "data": {
      "text/plain": [
       "array([[2],\n",
       "       [1],\n",
       "       [2],\n",
       "       ...,\n",
       "       [0],\n",
       "       [0],\n",
       "       [0]])"
      ]
     },
     "execution_count": 15,
     "metadata": {},
     "output_type": "execute_result"
    }
   ],
   "source": [
    "ohe.inverse_transform(df[['0', '1', '2']])"
   ]
  },
  {
   "cell_type": "code",
   "execution_count": 16,
   "metadata": {},
   "outputs": [],
   "source": [
    "df = df.drop(columns='cluster')\n",
    "\n",
    "df['los_angeles'] = df['0']\n",
    "df['ventura'] = df['1']\n",
    "df['orange'] = df['2']\n",
    "\n",
    "df = df.drop(columns=['0', '1', '2'])"
   ]
  },
  {
   "cell_type": "markdown",
   "metadata": {},
   "source": [
    "### Split the data into train and test, 70/30"
   ]
  },
  {
   "cell_type": "code",
   "execution_count": 17,
   "metadata": {},
   "outputs": [],
   "source": [
    "train, test = train_test_split(df, test_size=.30, random_state=123)"
   ]
  },
  {
   "cell_type": "code",
   "execution_count": 18,
   "metadata": {},
   "outputs": [
    {
     "data": {
      "text/plain": [
       "(36518, 18)"
      ]
     },
     "execution_count": 18,
     "metadata": {},
     "output_type": "execute_result"
    }
   ],
   "source": [
    "train.shape"
   ]
  },
  {
   "cell_type": "code",
   "execution_count": 19,
   "metadata": {},
   "outputs": [
    {
     "data": {
      "text/plain": [
       "(15651, 18)"
      ]
     },
     "execution_count": 19,
     "metadata": {},
     "output_type": "execute_result"
    }
   ],
   "source": [
    "test.shape"
   ]
  },
  {
   "cell_type": "markdown",
   "metadata": {},
   "source": [
    "### Impute \"poolcnt\", \"garagecarcnt\" with 0s using a function.\n",
    "\n",
    " - Run this on train and test subsets separately"
   ]
  },
  {
   "cell_type": "code",
   "execution_count": 20,
   "metadata": {},
   "outputs": [],
   "source": [
    "cols = [\"poolcnt\", \"garagecarcnt\"]"
   ]
  },
  {
   "cell_type": "code",
   "execution_count": 21,
   "metadata": {},
   "outputs": [],
   "source": [
    "# Impute zeros into poolcnt and garagecarcnt on train set\n",
    "\n",
    "train = prepare.fill_zero(train, cols=cols)"
   ]
  },
  {
   "cell_type": "code",
   "execution_count": 22,
   "metadata": {},
   "outputs": [],
   "source": [
    "# Impute zeros into poolcnt and garagecarcnt on test set\n",
    "\n",
    "test = prepare.fill_zero(test, cols=cols)"
   ]
  },
  {
   "cell_type": "markdown",
   "metadata": {},
   "source": [
    "### Drop columns then rows using function\n",
    "\n",
    " - Run this on train and test subsets separately"
   ]
  },
  {
   "cell_type": "code",
   "execution_count": 23,
   "metadata": {},
   "outputs": [],
   "source": [
    "# drop columns that have more than 50% of values missing and rows with more than 75% of values missing\n",
    "\n",
    "train = prepare.handle_missing_values(train)"
   ]
  },
  {
   "cell_type": "code",
   "execution_count": 24,
   "metadata": {},
   "outputs": [],
   "source": [
    "# drop columns that have more than 50% of values missing and rows with more than 75% of values missing\n",
    "\n",
    "test = prepare.handle_missing_values(test)"
   ]
  },
  {
   "cell_type": "markdown",
   "metadata": {},
   "source": [
    "### Drop the remaining Nulls in df to get clean train and test data sets"
   ]
  },
  {
   "cell_type": "code",
   "execution_count": 25,
   "metadata": {},
   "outputs": [],
   "source": [
    "train.dropna(inplace=True)"
   ]
  },
  {
   "cell_type": "code",
   "execution_count": 26,
   "metadata": {},
   "outputs": [],
   "source": [
    "test.dropna(inplace=True)"
   ]
  },
  {
   "cell_type": "markdown",
   "metadata": {},
   "source": [
    "### THE train and test subsets with no missing values and poolcnt and garagecarcnt imputed with zeros. Outliers still in these subsets!\n",
    "\n",
    "- I left county_name in these df for ease of exploration and viz. \n",
    "\n",
    "- Drop county_name and use fips for modeling and clustering purposes.\n",
    "\n",
    "- If you want train and test with outliers handled, see below..."
   ]
  },
  {
   "cell_type": "code",
   "execution_count": 27,
   "metadata": {},
   "outputs": [
    {
     "data": {
      "text/plain": [
       "tax_rate                        0\n",
       "bathroomcnt                     0\n",
       "bedroomcnt                      0\n",
       "calculatedfinishedsquarefeet    0\n",
       "fips                            0\n",
       "garagecarcnt                    0\n",
       "latitude                        0\n",
       "longitude                       0\n",
       "lotsizesquarefeet               0\n",
       "poolcnt                         0\n",
       "taxvaluedollarcnt               0\n",
       "yearbuilt                       0\n",
       "landtaxvaluedollarcnt           0\n",
       "logerror                        0\n",
       "county_name                     0\n",
       "los_angeles                     0\n",
       "ventura                         0\n",
       "orange                          0\n",
       "dtype: int64"
      ]
     },
     "execution_count": 27,
     "metadata": {},
     "output_type": "execute_result"
    }
   ],
   "source": [
    "train.isnull().sum()"
   ]
  },
  {
   "cell_type": "code",
   "execution_count": 28,
   "metadata": {},
   "outputs": [
    {
     "data": {
      "text/plain": [
       "tax_rate                        0\n",
       "bathroomcnt                     0\n",
       "bedroomcnt                      0\n",
       "calculatedfinishedsquarefeet    0\n",
       "fips                            0\n",
       "garagecarcnt                    0\n",
       "latitude                        0\n",
       "longitude                       0\n",
       "lotsizesquarefeet               0\n",
       "poolcnt                         0\n",
       "taxvaluedollarcnt               0\n",
       "yearbuilt                       0\n",
       "landtaxvaluedollarcnt           0\n",
       "logerror                        0\n",
       "county_name                     0\n",
       "los_angeles                     0\n",
       "ventura                         0\n",
       "orange                          0\n",
       "dtype: int64"
      ]
     },
     "execution_count": 28,
     "metadata": {},
     "output_type": "execute_result"
    }
   ],
   "source": [
    "test.isnull().sum()"
   ]
  },
  {
   "cell_type": "code",
   "execution_count": 29,
   "metadata": {},
   "outputs": [
    {
     "data": {
      "text/plain": [
       " 3.00    16310\n",
       " 4.00    10614\n",
       " 2.00     5838\n",
       " 5.00     2760\n",
       " 6.00      451\n",
       " 1.00      440\n",
       " 7.00       75\n",
       " 8.00       20\n",
       " 9.00        6\n",
       "10.00        2\n",
       "14.00        1\n",
       "12.00        1\n",
       "Name: bedroomcnt, dtype: int64"
      ]
     },
     "execution_count": 29,
     "metadata": {},
     "output_type": "execute_result"
    }
   ],
   "source": [
    "train.bedroomcnt.value_counts()"
   ]
  },
  {
   "cell_type": "code",
   "execution_count": 30,
   "metadata": {},
   "outputs": [
    {
     "data": {
      "text/plain": [
       " 2.00    15260\n",
       " 3.00     7474\n",
       " 1.00     6627\n",
       " 2.50     2804\n",
       " 4.00     1571\n",
       " 3.50      630\n",
       " 1.50      578\n",
       " 5.00      542\n",
       " 4.50      482\n",
       " 6.00      224\n",
       " 5.50      160\n",
       " 7.00       57\n",
       " 8.00       40\n",
       " 6.50       35\n",
       " 7.50       14\n",
       " 9.00       11\n",
       "10.00        3\n",
       " 8.50        2\n",
       "11.00        2\n",
       "18.00        1\n",
       "13.00        1\n",
       "Name: bathroomcnt, dtype: int64"
      ]
     },
     "execution_count": 30,
     "metadata": {},
     "output_type": "execute_result"
    }
   ],
   "source": [
    "train.bathroomcnt.value_counts()"
   ]
  },
  {
   "cell_type": "markdown",
   "metadata": {},
   "source": [
    "Zillow's log error was low on the los angeles high priced outlier.  LA county houses seems to have the highest log error outliers"
   ]
  },
  {
   "cell_type": "code",
   "execution_count": 31,
   "metadata": {},
   "outputs": [
    {
     "data": {
      "text/plain": [
       "<matplotlib.axes._subplots.AxesSubplot at 0x1a24758208>"
      ]
     },
     "execution_count": 31,
     "metadata": {},
     "output_type": "execute_result"
    },
    {
     "data": {
      "image/png": "[encoded data removed]",
      "text/plain": [
       "<Figure size 432x288 with 1 Axes>"
      ]
     },
     "metadata": {
      "needs_background": "light"
     },
     "output_type": "display_data"
    }
   ],
   "source": [
    "sns.scatterplot(data=train, x=\"logerror\", y=\"taxvaluedollarcnt\", hue=\"county_name\", hue_order=[\"Los Angeles\", \"Orange\", \"Ventura\"] , alpha=.6)"
   ]
  },
  {
   "cell_type": "markdown",
   "metadata": {},
   "source": [
    "Before outliers"
   ]
  },
  {
   "cell_type": "code",
   "execution_count": 32,
   "metadata": {},
   "outputs": [
    {
     "data": {
      "text/plain": [
       "<matplotlib.axes._subplots.AxesSubplot at 0x1a260227b8>"
      ]
     },
     "execution_count": 32,
     "metadata": {},
     "output_type": "execute_result"
    },
    {
     "data": {
      "image/png": "[encoded data removed]",
      "text/plain": [
       "<Figure size 432x288 with 1 Axes>"
      ]
     },
     "metadata": {
      "needs_background": "light"
     },
     "output_type": "display_data"
    }
   ],
   "source": [
    "sns.boxplot(train.bedroomcnt, train.calculatedfinishedsquarefeet)"
   ]
  },
  {
   "cell_type": "code",
   "execution_count": 33,
   "metadata": {},
   "outputs": [
    {
     "data": {
      "text/plain": [
       "<matplotlib.axes._subplots.AxesSubplot at 0x1a247b50f0>"
      ]
     },
     "execution_count": 33,
     "metadata": {},
     "output_type": "execute_result"
    },
    {
     "data": {
      "image/png": "[encoded data removed]",
      "text/plain": [
       "<Figure size 432x288 with 1 Axes>"
      ]
     },
     "metadata": {
      "needs_background": "light"
     },
     "output_type": "display_data"
    }
   ],
   "source": [
    "sns.boxplot(train.bathroomcnt, train.calculatedfinishedsquarefeet)"
   ]
  },
  {
   "cell_type": "markdown",
   "metadata": {},
   "source": [
    "### Handle outliers by removing values < Q1 - IQR * 1.5 and values > Q3 + IQR * 1.5"
   ]
  },
  {
   "cell_type": "code",
   "execution_count": 34,
   "metadata": {},
   "outputs": [
    {
     "data": {
      "text/plain": [
       "(30982, 18)"
      ]
     },
     "execution_count": 34,
     "metadata": {},
     "output_type": "execute_result"
    }
   ],
   "source": [
    "train = prepare.remove_outliers_iqr(train, columns=[\"bedroomcnt\", \"bathroomcnt\", \"lotsizesquarefeet\"], k=1.5)\n",
    "train.shape"
   ]
  },
  {
   "cell_type": "code",
   "execution_count": 35,
   "metadata": {},
   "outputs": [
    {
     "data": {
      "text/plain": [
       "(13273, 18)"
      ]
     },
     "execution_count": 35,
     "metadata": {},
     "output_type": "execute_result"
    }
   ],
   "source": [
    "test = prepare.remove_outliers_iqr(test, columns=[\"bedroomcnt\", \"bathroomcnt\", \"lotsizesquarefeet\"], k=1.5)\n",
    "test.shape"
   ]
  },
  {
   "cell_type": "markdown",
   "metadata": {},
   "source": [
    "### Convert dtypes to category for the cols below\n",
    "\n",
    "- train_cat and test_cat are subsets with dtypes converted to category for the following columns:\n",
    "\n",
    "    - \"bathroomcnt\", \"bedroomcnt\", \"poolcnt\", \"yearbuilt\", \"garagecarcnt\", \"county_name\"\n",
    "    \n",
    "- train_cat and test_cat also have outliers handled and no missing values."
   ]
  },
  {
   "cell_type": "code",
   "execution_count": 36,
   "metadata": {},
   "outputs": [
    {
     "name": "stdout",
     "output_type": "stream",
     "text": [
      "<class 'pandas.core.frame.DataFrame'>\n",
      "Int64Index: 30982 entries, 22620 to 15725\n",
      "Data columns (total 18 columns):\n",
      "tax_rate                        30982 non-null float64\n",
      "bathroomcnt                     30982 non-null float64\n",
      "bedroomcnt                      30982 non-null float64\n",
      "calculatedfinishedsquarefeet    30982 non-null float64\n",
      "fips                            30982 non-null float64\n",
      "garagecarcnt                    30982 non-null float64\n",
      "latitude                        30982 non-null float64\n",
      "longitude                       30982 non-null float64\n",
      "lotsizesquarefeet               30982 non-null float64\n",
      "poolcnt                         30982 non-null float64\n",
      "taxvaluedollarcnt               30982 non-null float64\n",
      "yearbuilt                       30982 non-null float64\n",
      "landtaxvaluedollarcnt           30982 non-null float64\n",
      "logerror                        30982 non-null float64\n",
      "county_name                     30982 non-null object\n",
      "los_angeles                     30982 non-null float64\n",
      "ventura                         30982 non-null float64\n",
      "orange                          30982 non-null float64\n",
      "dtypes: float64(17), object(1)\n",
      "memory usage: 4.5+ MB\n"
     ]
    }
   ],
   "source": [
    "train.info()"
   ]
  },
  {
   "cell_type": "code",
   "execution_count": 37,
   "metadata": {},
   "outputs": [],
   "source": [
    "cols = [\"bathroomcnt\", \"bedroomcnt\", \"poolcnt\", \"yearbuilt\", \"garagecarcnt\", \"county_name\"]"
   ]
  },
  {
   "cell_type": "code",
   "execution_count": 38,
   "metadata": {},
   "outputs": [],
   "source": [
    "train_cat = prepare.numeric_to_category(train, cols)"
   ]
  },
  {
   "cell_type": "code",
   "execution_count": 39,
   "metadata": {},
   "outputs": [],
   "source": [
    "test_cat = prepare.numeric_to_category(test, cols)"
   ]
  },
  {
   "cell_type": "code",
   "execution_count": 40,
   "metadata": {},
   "outputs": [
    {
     "name": "stdout",
     "output_type": "stream",
     "text": [
      "<class 'pandas.core.frame.DataFrame'>\n",
      "Int64Index: 30982 entries, 22620 to 15725\n",
      "Data columns (total 18 columns):\n",
      "tax_rate                        30982 non-null float64\n",
      "bathroomcnt                     30982 non-null category\n",
      "bedroomcnt                      30982 non-null category\n",
      "calculatedfinishedsquarefeet    30982 non-null float64\n",
      "fips                            30982 non-null float64\n",
      "garagecarcnt                    30982 non-null category\n",
      "latitude                        30982 non-null float64\n",
      "longitude                       30982 non-null float64\n",
      "lotsizesquarefeet               30982 non-null float64\n",
      "poolcnt                         30982 non-null category\n",
      "taxvaluedollarcnt               30982 non-null float64\n",
      "yearbuilt                       30982 non-null category\n",
      "landtaxvaluedollarcnt           30982 non-null float64\n",
      "logerror                        30982 non-null float64\n",
      "county_name                     30982 non-null category\n",
      "los_angeles                     30982 non-null float64\n",
      "ventura                         30982 non-null float64\n",
      "orange                          30982 non-null float64\n",
      "dtypes: category(6), float64(12)\n",
      "memory usage: 3.3 MB\n"
     ]
    }
   ],
   "source": [
    "train_cat.info()"
   ]
  },
  {
   "cell_type": "code",
   "execution_count": 41,
   "metadata": {},
   "outputs": [
    {
     "data": {
      "text/plain": [
       "3.00    14880\n",
       "4.00     8904\n",
       "2.00     5424\n",
       "5.00     1774\n",
       "Name: bedroomcnt, dtype: int64"
      ]
     },
     "execution_count": 41,
     "metadata": {},
     "output_type": "execute_result"
    }
   ],
   "source": [
    "train.bedroomcnt.value_counts()"
   ]
  },
  {
   "cell_type": "code",
   "execution_count": 42,
   "metadata": {},
   "outputs": [
    {
     "data": {
      "text/plain": [
       "2.00    14117\n",
       "1.00     6032\n",
       "3.00     6012\n",
       "2.50     2595\n",
       "4.00      934\n",
       "3.50      492\n",
       "1.50      470\n",
       "4.50      330\n",
       "Name: bathroomcnt, dtype: int64"
      ]
     },
     "execution_count": 42,
     "metadata": {},
     "output_type": "execute_result"
    }
   ],
   "source": [
    "train.bathroomcnt.value_counts()"
   ]
  },
  {
   "cell_type": "markdown",
   "metadata": {},
   "source": [
    "## Bin yearbuilt by Decade\n",
    "\n",
    "- 1878 - 2015\n",
    "\n",
    "- Drop 11 rows with yearbuilt == 0.00"
   ]
  },
  {
   "cell_type": "code",
   "execution_count": 43,
   "metadata": {},
   "outputs": [],
   "source": [
    "train_cat[\"yearbuilt\"] = train_cat[\"yearbuilt\"].astype(int)"
   ]
  },
  {
   "cell_type": "code",
   "execution_count": 44,
   "metadata": {},
   "outputs": [],
   "source": [
    "test_cat[\"yearbuilt\"] = test_cat[\"yearbuilt\"].astype(int)"
   ]
  },
  {
   "cell_type": "code",
   "execution_count": 45,
   "metadata": {
    "scrolled": true
   },
   "outputs": [
    {
     "data": {
      "text/plain": [
       "0        11\n",
       "1878      1\n",
       "1882      1\n",
       "1885      3\n",
       "1887      2\n",
       "1888      2\n",
       "1889      1\n",
       "1890      5\n",
       "1893      3\n",
       "1895      9\n",
       "1896      3\n",
       "1898      2\n",
       "1900      6\n",
       "1901     11\n",
       "1902      6\n",
       "1903     12\n",
       "1904     13\n",
       "1905     38\n",
       "1906     33\n",
       "1907     29\n",
       "1908     30\n",
       "1909     48\n",
       "1910     72\n",
       "1911     62\n",
       "1912     75\n",
       "1913     55\n",
       "1914     43\n",
       "1915     48\n",
       "1916     23\n",
       "1917     27\n",
       "       ... \n",
       "1986    338\n",
       "1987    393\n",
       "1988    272\n",
       "1989    475\n",
       "1990    346\n",
       "1991    115\n",
       "1992    186\n",
       "1993    165\n",
       "1994    219\n",
       "1995    191\n",
       "1996    190\n",
       "1997    216\n",
       "1998    196\n",
       "1999    242\n",
       "2000    272\n",
       "2001    279\n",
       "2002    213\n",
       "2003    250\n",
       "2004    219\n",
       "2005    247\n",
       "2006    212\n",
       "2007    158\n",
       "2008     58\n",
       "2009     45\n",
       "2010     53\n",
       "2011     34\n",
       "2012     56\n",
       "2013     69\n",
       "2014     70\n",
       "2015     23\n",
       "Name: yearbuilt, Length: 128, dtype: int64"
      ]
     },
     "execution_count": 45,
     "metadata": {},
     "output_type": "execute_result"
    }
   ],
   "source": [
    "# There are 11 rows with 0 value for yearbuilt. Drop these below.\n",
    "\n",
    "train_cat.yearbuilt.value_counts().sort_index(ascending=True)"
   ]
  },
  {
   "cell_type": "code",
   "execution_count": 46,
   "metadata": {},
   "outputs": [],
   "source": [
    "train_cat = train_cat[train_cat[\"yearbuilt\"] != 0.00]"
   ]
  },
  {
   "cell_type": "code",
   "execution_count": 47,
   "metadata": {},
   "outputs": [],
   "source": [
    "test_cat = test_cat[test_cat[\"yearbuilt\"] != 0.00]"
   ]
  },
  {
   "cell_type": "code",
   "execution_count": 48,
   "metadata": {},
   "outputs": [],
   "source": [
    "# bin train df yearbuilt by decade, 1800 dates are all in one bin.\n",
    "\n",
    "bins = [1878, 1900, 1910, 1920, 1930, 1940, 1950, 1960, 1970, 1980, 1990, 2000, 2010, 2020]\n",
    "\n",
    "train_cat[\"decade\"] = pd.cut(x=train_cat['yearbuilt'], bins=bins)"
   ]
  },
  {
   "cell_type": "code",
   "execution_count": 49,
   "metadata": {},
   "outputs": [],
   "source": [
    "# convert decade column to category dtype\n",
    "\n",
    "train_cat[\"decade\"] = train_cat.decade.astype('category')"
   ]
  },
  {
   "cell_type": "code",
   "execution_count": 50,
   "metadata": {},
   "outputs": [],
   "source": [
    "# bin test df yearbuilt by decade, 1800 dates are all in one bin.\n",
    "\n",
    "\n",
    "test_cat[\"decade\"] = pd.cut(x=test_cat['yearbuilt'], bins=bins)"
   ]
  },
  {
   "cell_type": "code",
   "execution_count": 51,
   "metadata": {},
   "outputs": [],
   "source": [
    "# convert decade column to category dtype\n",
    "\n",
    "test_cat[\"decade\"] = test_cat.decade.astype('category')"
   ]
  },
  {
   "cell_type": "code",
   "execution_count": 52,
   "metadata": {
    "scrolled": true
   },
   "outputs": [
    {
     "data": {
      "text/html": [
       "<div>\n",
       "<style scoped>\n",
       "    .dataframe tbody tr th:only-of-type {\n",
       "        vertical-align: middle;\n",
       "    }\n",
       "\n",
       "    .dataframe tbody tr th {\n",
       "        vertical-align: top;\n",
       "    }\n",
       "\n",
       "    .dataframe thead th {\n",
       "        text-align: right;\n",
       "    }\n",
       "</style>\n",
       "<table border=\"1\" class=\"dataframe\">\n",
       "  <thead>\n",
       "    <tr style=\"text-align: right;\">\n",
       "      <th></th>\n",
       "      <th>tax_rate</th>\n",
       "      <th>bathroomcnt</th>\n",
       "      <th>bedroomcnt</th>\n",
       "      <th>calculatedfinishedsquarefeet</th>\n",
       "      <th>fips</th>\n",
       "      <th>garagecarcnt</th>\n",
       "      <th>latitude</th>\n",
       "      <th>longitude</th>\n",
       "      <th>lotsizesquarefeet</th>\n",
       "      <th>poolcnt</th>\n",
       "      <th>taxvaluedollarcnt</th>\n",
       "      <th>yearbuilt</th>\n",
       "      <th>landtaxvaluedollarcnt</th>\n",
       "      <th>logerror</th>\n",
       "      <th>county_name</th>\n",
       "      <th>los_angeles</th>\n",
       "      <th>ventura</th>\n",
       "      <th>orange</th>\n",
       "    </tr>\n",
       "    <tr>\n",
       "      <th>decade</th>\n",
       "      <th></th>\n",
       "      <th></th>\n",
       "      <th></th>\n",
       "      <th></th>\n",
       "      <th></th>\n",
       "      <th></th>\n",
       "      <th></th>\n",
       "      <th></th>\n",
       "      <th></th>\n",
       "      <th></th>\n",
       "      <th></th>\n",
       "      <th></th>\n",
       "      <th></th>\n",
       "      <th></th>\n",
       "      <th></th>\n",
       "      <th></th>\n",
       "      <th></th>\n",
       "      <th></th>\n",
       "    </tr>\n",
       "  </thead>\n",
       "  <tbody>\n",
       "    <tr>\n",
       "      <th>(1878, 1900]</th>\n",
       "      <td>37</td>\n",
       "      <td>37</td>\n",
       "      <td>37</td>\n",
       "      <td>37</td>\n",
       "      <td>37</td>\n",
       "      <td>37</td>\n",
       "      <td>37</td>\n",
       "      <td>37</td>\n",
       "      <td>37</td>\n",
       "      <td>37</td>\n",
       "      <td>37</td>\n",
       "      <td>37</td>\n",
       "      <td>37</td>\n",
       "      <td>37</td>\n",
       "      <td>37</td>\n",
       "      <td>37</td>\n",
       "      <td>37</td>\n",
       "      <td>37</td>\n",
       "    </tr>\n",
       "    <tr>\n",
       "      <th>(1900, 1910]</th>\n",
       "      <td>292</td>\n",
       "      <td>292</td>\n",
       "      <td>292</td>\n",
       "      <td>292</td>\n",
       "      <td>292</td>\n",
       "      <td>292</td>\n",
       "      <td>292</td>\n",
       "      <td>292</td>\n",
       "      <td>292</td>\n",
       "      <td>292</td>\n",
       "      <td>292</td>\n",
       "      <td>292</td>\n",
       "      <td>292</td>\n",
       "      <td>292</td>\n",
       "      <td>292</td>\n",
       "      <td>292</td>\n",
       "      <td>292</td>\n",
       "      <td>292</td>\n",
       "    </tr>\n",
       "    <tr>\n",
       "      <th>(1910, 1920]</th>\n",
       "      <td>516</td>\n",
       "      <td>516</td>\n",
       "      <td>516</td>\n",
       "      <td>516</td>\n",
       "      <td>516</td>\n",
       "      <td>516</td>\n",
       "      <td>516</td>\n",
       "      <td>516</td>\n",
       "      <td>516</td>\n",
       "      <td>516</td>\n",
       "      <td>516</td>\n",
       "      <td>516</td>\n",
       "      <td>516</td>\n",
       "      <td>516</td>\n",
       "      <td>516</td>\n",
       "      <td>516</td>\n",
       "      <td>516</td>\n",
       "      <td>516</td>\n",
       "    </tr>\n",
       "    <tr>\n",
       "      <th>(1920, 1930]</th>\n",
       "      <td>2168</td>\n",
       "      <td>2168</td>\n",
       "      <td>2168</td>\n",
       "      <td>2168</td>\n",
       "      <td>2168</td>\n",
       "      <td>2168</td>\n",
       "      <td>2168</td>\n",
       "      <td>2168</td>\n",
       "      <td>2168</td>\n",
       "      <td>2168</td>\n",
       "      <td>2168</td>\n",
       "      <td>2168</td>\n",
       "      <td>2168</td>\n",
       "      <td>2168</td>\n",
       "      <td>2168</td>\n",
       "      <td>2168</td>\n",
       "      <td>2168</td>\n",
       "      <td>2168</td>\n",
       "    </tr>\n",
       "    <tr>\n",
       "      <th>(1930, 1940]</th>\n",
       "      <td>1415</td>\n",
       "      <td>1415</td>\n",
       "      <td>1415</td>\n",
       "      <td>1415</td>\n",
       "      <td>1415</td>\n",
       "      <td>1415</td>\n",
       "      <td>1415</td>\n",
       "      <td>1415</td>\n",
       "      <td>1415</td>\n",
       "      <td>1415</td>\n",
       "      <td>1415</td>\n",
       "      <td>1415</td>\n",
       "      <td>1415</td>\n",
       "      <td>1415</td>\n",
       "      <td>1415</td>\n",
       "      <td>1415</td>\n",
       "      <td>1415</td>\n",
       "      <td>1415</td>\n",
       "    </tr>\n",
       "    <tr>\n",
       "      <th>(1940, 1950]</th>\n",
       "      <td>4098</td>\n",
       "      <td>4098</td>\n",
       "      <td>4098</td>\n",
       "      <td>4098</td>\n",
       "      <td>4098</td>\n",
       "      <td>4098</td>\n",
       "      <td>4098</td>\n",
       "      <td>4098</td>\n",
       "      <td>4098</td>\n",
       "      <td>4098</td>\n",
       "      <td>4098</td>\n",
       "      <td>4098</td>\n",
       "      <td>4098</td>\n",
       "      <td>4098</td>\n",
       "      <td>4098</td>\n",
       "      <td>4098</td>\n",
       "      <td>4098</td>\n",
       "      <td>4098</td>\n",
       "    </tr>\n",
       "    <tr>\n",
       "      <th>(1950, 1960]</th>\n",
       "      <td>7670</td>\n",
       "      <td>7670</td>\n",
       "      <td>7670</td>\n",
       "      <td>7670</td>\n",
       "      <td>7670</td>\n",
       "      <td>7670</td>\n",
       "      <td>7670</td>\n",
       "      <td>7670</td>\n",
       "      <td>7670</td>\n",
       "      <td>7670</td>\n",
       "      <td>7670</td>\n",
       "      <td>7670</td>\n",
       "      <td>7670</td>\n",
       "      <td>7670</td>\n",
       "      <td>7670</td>\n",
       "      <td>7670</td>\n",
       "      <td>7670</td>\n",
       "      <td>7670</td>\n",
       "    </tr>\n",
       "    <tr>\n",
       "      <th>(1960, 1970]</th>\n",
       "      <td>4596</td>\n",
       "      <td>4596</td>\n",
       "      <td>4596</td>\n",
       "      <td>4596</td>\n",
       "      <td>4596</td>\n",
       "      <td>4596</td>\n",
       "      <td>4596</td>\n",
       "      <td>4596</td>\n",
       "      <td>4596</td>\n",
       "      <td>4596</td>\n",
       "      <td>4596</td>\n",
       "      <td>4596</td>\n",
       "      <td>4596</td>\n",
       "      <td>4596</td>\n",
       "      <td>4596</td>\n",
       "      <td>4596</td>\n",
       "      <td>4596</td>\n",
       "      <td>4596</td>\n",
       "    </tr>\n",
       "    <tr>\n",
       "      <th>(1970, 1980]</th>\n",
       "      <td>3454</td>\n",
       "      <td>3454</td>\n",
       "      <td>3454</td>\n",
       "      <td>3454</td>\n",
       "      <td>3454</td>\n",
       "      <td>3454</td>\n",
       "      <td>3454</td>\n",
       "      <td>3454</td>\n",
       "      <td>3454</td>\n",
       "      <td>3454</td>\n",
       "      <td>3454</td>\n",
       "      <td>3454</td>\n",
       "      <td>3454</td>\n",
       "      <td>3454</td>\n",
       "      <td>3454</td>\n",
       "      <td>3454</td>\n",
       "      <td>3454</td>\n",
       "      <td>3454</td>\n",
       "    </tr>\n",
       "    <tr>\n",
       "      <th>(1980, 1990]</th>\n",
       "      <td>2746</td>\n",
       "      <td>2746</td>\n",
       "      <td>2746</td>\n",
       "      <td>2746</td>\n",
       "      <td>2746</td>\n",
       "      <td>2746</td>\n",
       "      <td>2746</td>\n",
       "      <td>2746</td>\n",
       "      <td>2746</td>\n",
       "      <td>2746</td>\n",
       "      <td>2746</td>\n",
       "      <td>2746</td>\n",
       "      <td>2746</td>\n",
       "      <td>2746</td>\n",
       "      <td>2746</td>\n",
       "      <td>2746</td>\n",
       "      <td>2746</td>\n",
       "      <td>2746</td>\n",
       "    </tr>\n",
       "    <tr>\n",
       "      <th>(1990, 2000]</th>\n",
       "      <td>1992</td>\n",
       "      <td>1992</td>\n",
       "      <td>1992</td>\n",
       "      <td>1992</td>\n",
       "      <td>1992</td>\n",
       "      <td>1992</td>\n",
       "      <td>1992</td>\n",
       "      <td>1992</td>\n",
       "      <td>1992</td>\n",
       "      <td>1992</td>\n",
       "      <td>1992</td>\n",
       "      <td>1992</td>\n",
       "      <td>1992</td>\n",
       "      <td>1992</td>\n",
       "      <td>1992</td>\n",
       "      <td>1992</td>\n",
       "      <td>1992</td>\n",
       "      <td>1992</td>\n",
       "    </tr>\n",
       "    <tr>\n",
       "      <th>(2000, 2010]</th>\n",
       "      <td>1734</td>\n",
       "      <td>1734</td>\n",
       "      <td>1734</td>\n",
       "      <td>1734</td>\n",
       "      <td>1734</td>\n",
       "      <td>1734</td>\n",
       "      <td>1734</td>\n",
       "      <td>1734</td>\n",
       "      <td>1734</td>\n",
       "      <td>1734</td>\n",
       "      <td>1734</td>\n",
       "      <td>1734</td>\n",
       "      <td>1734</td>\n",
       "      <td>1734</td>\n",
       "      <td>1734</td>\n",
       "      <td>1734</td>\n",
       "      <td>1734</td>\n",
       "      <td>1734</td>\n",
       "    </tr>\n",
       "    <tr>\n",
       "      <th>(2010, 2020]</th>\n",
       "      <td>252</td>\n",
       "      <td>252</td>\n",
       "      <td>252</td>\n",
       "      <td>252</td>\n",
       "      <td>252</td>\n",
       "      <td>252</td>\n",
       "      <td>252</td>\n",
       "      <td>252</td>\n",
       "      <td>252</td>\n",
       "      <td>252</td>\n",
       "      <td>252</td>\n",
       "      <td>252</td>\n",
       "      <td>252</td>\n",
       "      <td>252</td>\n",
       "      <td>252</td>\n",
       "      <td>252</td>\n",
       "      <td>252</td>\n",
       "      <td>252</td>\n",
       "    </tr>\n",
       "  </tbody>\n",
       "</table>\n",
       "</div>"
      ],
      "text/plain": [
       "              tax_rate  bathroomcnt  bedroomcnt  calculatedfinishedsquarefeet  \\\n",
       "decade                                                                          \n",
       "(1878, 1900]        37           37          37                            37   \n",
       "(1900, 1910]       292          292         292                           292   \n",
       "(1910, 1920]       516          516         516                           516   \n",
       "(1920, 1930]      2168         2168        2168                          2168   \n",
       "(1930, 1940]      1415         1415        1415                          1415   \n",
       "(1940, 1950]      4098         4098        4098                          4098   \n",
       "(1950, 1960]      7670         7670        7670                          7670   \n",
       "(1960, 1970]      4596         4596        4596                          4596   \n",
       "(1970, 1980]      3454         3454        3454                          3454   \n",
       "(1980, 1990]      2746         2746        2746                          2746   \n",
       "(1990, 2000]      1992         1992        1992                          1992   \n",
       "(2000, 2010]      1734         1734        1734                          1734   \n",
       "(2010, 2020]       252          252         252                           252   \n",
       "\n",
       "              fips  garagecarcnt  latitude  longitude  lotsizesquarefeet  \\\n",
       "decade                                                                     \n",
       "(1878, 1900]    37            37        37         37                 37   \n",
       "(1900, 1910]   292           292       292        292                292   \n",
       "(1910, 1920]   516           516       516        516                516   \n",
       "(1920, 1930]  2168          2168      2168       2168               2168   \n",
       "(1930, 1940]  1415          1415      1415       1415               1415   \n",
       "(1940, 1950]  4098          4098      4098       4098               4098   \n",
       "(1950, 1960]  7670          7670      7670       7670               7670   \n",
       "(1960, 1970]  4596          4596      4596       4596               4596   \n",
       "(1970, 1980]  3454          3454      3454       3454               3454   \n",
       "(1980, 1990]  2746          2746      2746       2746               2746   \n",
       "(1990, 2000]  1992          1992      1992       1992               1992   \n",
       "(2000, 2010]  1734          1734      1734       1734               1734   \n",
       "(2010, 2020]   252           252       252        252                252   \n",
       "\n",
       "              poolcnt  taxvaluedollarcnt  yearbuilt  landtaxvaluedollarcnt  \\\n",
       "decade                                                                       \n",
       "(1878, 1900]       37                 37         37                     37   \n",
       "(1900, 1910]      292                292        292                    292   \n",
       "(1910, 1920]      516                516        516                    516   \n",
       "(1920, 1930]     2168               2168       2168                   2168   \n",
       "(1930, 1940]     1415               1415       1415                   1415   \n",
       "(1940, 1950]     4098               4098       4098                   4098   \n",
       "(1950, 1960]     7670               7670       7670                   7670   \n",
       "(1960, 1970]     4596               4596       4596                   4596   \n",
       "(1970, 1980]     3454               3454       3454                   3454   \n",
       "(1980, 1990]     2746               2746       2746                   2746   \n",
       "(1990, 2000]     1992               1992       1992                   1992   \n",
       "(2000, 2010]     1734               1734       1734                   1734   \n",
       "(2010, 2020]      252                252        252                    252   \n",
       "\n",
       "              logerror  county_name  los_angeles  ventura  orange  \n",
       "decade                                                             \n",
       "(1878, 1900]        37           37           37       37      37  \n",
       "(1900, 1910]       292          292          292      292     292  \n",
       "(1910, 1920]       516          516          516      516     516  \n",
       "(1920, 1930]      2168         2168         2168     2168    2168  \n",
       "(1930, 1940]      1415         1415         1415     1415    1415  \n",
       "(1940, 1950]      4098         4098         4098     4098    4098  \n",
       "(1950, 1960]      7670         7670         7670     7670    7670  \n",
       "(1960, 1970]      4596         4596         4596     4596    4596  \n",
       "(1970, 1980]      3454         3454         3454     3454    3454  \n",
       "(1980, 1990]      2746         2746         2746     2746    2746  \n",
       "(1990, 2000]      1992         1992         1992     1992    1992  \n",
       "(2000, 2010]      1734         1734         1734     1734    1734  \n",
       "(2010, 2020]       252          252          252      252     252  "
      ]
     },
     "execution_count": 52,
     "metadata": {},
     "output_type": "execute_result"
    }
   ],
   "source": [
    "train_cat.groupby(\"decade\").count()"
   ]
  },
  {
   "cell_type": "code",
   "execution_count": 53,
   "metadata": {},
   "outputs": [
    {
     "data": {
      "text/plain": [
       "<matplotlib.axes._subplots.AxesSubplot at 0x1a25c80550>"
      ]
     },
     "execution_count": 53,
     "metadata": {},
     "output_type": "execute_result"
    },
    {
     "data": {
      "image/png": "[encoded data removed]",
      "text/plain": [
       "<Figure size 432x288 with 1 Axes>"
      ]
     },
     "metadata": {
      "needs_background": "light"
     },
     "output_type": "display_data"
    }
   ],
   "source": [
    "sns.countplot(x='decade', palette=\"ch:.10\", data=train_cat, )"
   ]
  },
  {
   "cell_type": "code",
   "execution_count": 54,
   "metadata": {},
   "outputs": [
    {
     "data": {
      "text/plain": [
       "<matplotlib.axes._subplots.AxesSubplot at 0x1a26bf0588>"
      ]
     },
     "execution_count": 54,
     "metadata": {},
     "output_type": "execute_result"
    },
    {
     "data": {
      "image/png": "[encoded data removed]",
      "text/plain": [
       "<Figure size 432x288 with 1 Axes>"
      ]
     },
     "metadata": {
      "needs_background": "light"
     },
     "output_type": "display_data"
    }
   ],
   "source": [
    "\n",
    "sns.scatterplot(data=train_cat, x=\"yearbuilt\", y=\"logerror\")"
   ]
  },
  {
   "cell_type": "markdown",
   "metadata": {},
   "source": [
    "### Feature Engineer poolcnt and garagecarcnt into one column"
   ]
  },
  {
   "cell_type": "code",
   "execution_count": 55,
   "metadata": {},
   "outputs": [],
   "source": [
    "train[\"poolcnt\"] = train[\"poolcnt\"].astype(int)"
   ]
  },
  {
   "cell_type": "code",
   "execution_count": 56,
   "metadata": {},
   "outputs": [],
   "source": [
    "test[\"poolcnt\"] = test[\"poolcnt\"].astype(int)"
   ]
  },
  {
   "cell_type": "code",
   "execution_count": 57,
   "metadata": {},
   "outputs": [
    {
     "data": {
      "text/plain": [
       "0    25691\n",
       "1     5291\n",
       "Name: poolcnt, dtype: int64"
      ]
     },
     "execution_count": 57,
     "metadata": {},
     "output_type": "execute_result"
    }
   ],
   "source": [
    "train[\"poolcnt\"].value_counts().sort_index(ascending=True)"
   ]
  },
  {
   "cell_type": "code",
   "execution_count": 58,
   "metadata": {},
   "outputs": [
    {
     "data": {
      "text/plain": [
       "0    11016\n",
       "1     2257\n",
       "Name: poolcnt, dtype: int64"
      ]
     },
     "execution_count": 58,
     "metadata": {},
     "output_type": "execute_result"
    }
   ],
   "source": [
    "test[\"poolcnt\"].value_counts().sort_index(ascending=True)"
   ]
  },
  {
   "cell_type": "code",
   "execution_count": 59,
   "metadata": {},
   "outputs": [],
   "source": [
    "train[\"garagecarcnt\"] = train[\"garagecarcnt\"].astype(int)"
   ]
  },
  {
   "cell_type": "code",
   "execution_count": 60,
   "metadata": {},
   "outputs": [],
   "source": [
    "test[\"garagecarcnt\"] = test[\"garagecarcnt\"].astype(int)"
   ]
  },
  {
   "cell_type": "code",
   "execution_count": 61,
   "metadata": {},
   "outputs": [
    {
     "data": {
      "text/plain": [
       "0     19943\n",
       "1      1384\n",
       "2      9412\n",
       "3       199\n",
       "4        39\n",
       "5         2\n",
       "6         2\n",
       "10        1\n",
       "Name: garagecarcnt, dtype: int64"
      ]
     },
     "execution_count": 61,
     "metadata": {},
     "output_type": "execute_result"
    }
   ],
   "source": [
    "train[\"garagecarcnt\"].value_counts().sort_index(ascending=True)"
   ]
  },
  {
   "cell_type": "code",
   "execution_count": 62,
   "metadata": {},
   "outputs": [],
   "source": [
    "# defines conditions to compute the correct value for extras in train\n",
    "\n",
    "conditions = [\n",
    "    (train[\"poolcnt\"] == 0) & (train[\"garagecarcnt\"] == 0),\n",
    "    (train[\"poolcnt\"] > 0) & (train[\"garagecarcnt\"] == 0),\n",
    "    (train[\"poolcnt\"] == 0) & (train[\"garagecarcnt\"] > 0),\n",
    "    (train[\"poolcnt\"] > 0) & (train[\"garagecarcnt\"] > 0)\n",
    "]"
   ]
  },
  {
   "cell_type": "code",
   "execution_count": 63,
   "metadata": {},
   "outputs": [],
   "source": [
    "# defines value to put in extras column based on conditions above\n",
    "\n",
    "outputs = [0, 1, 1, 2]"
   ]
  },
  {
   "cell_type": "code",
   "execution_count": 64,
   "metadata": {},
   "outputs": [],
   "source": [
    "# Create new columns that has a 0 if a home has neither pool nor garage\n",
    "#                               1 if a home has either pool or garage\n",
    "#                               2 if a home has both pool and garage\n",
    "\n",
    "train[\"extras\"] = np.select(conditions, outputs, 'Other')"
   ]
  },
  {
   "cell_type": "code",
   "execution_count": 65,
   "metadata": {},
   "outputs": [
    {
     "data": {
      "text/html": [
       "<div>\n",
       "<style scoped>\n",
       "    .dataframe tbody tr th:only-of-type {\n",
       "        vertical-align: middle;\n",
       "    }\n",
       "\n",
       "    .dataframe tbody tr th {\n",
       "        vertical-align: top;\n",
       "    }\n",
       "\n",
       "    .dataframe thead th {\n",
       "        text-align: right;\n",
       "    }\n",
       "</style>\n",
       "<table border=\"1\" class=\"dataframe\">\n",
       "  <thead>\n",
       "    <tr style=\"text-align: right;\">\n",
       "      <th></th>\n",
       "      <th>tax_rate</th>\n",
       "      <th>bathroomcnt</th>\n",
       "      <th>bedroomcnt</th>\n",
       "      <th>calculatedfinishedsquarefeet</th>\n",
       "      <th>fips</th>\n",
       "      <th>garagecarcnt</th>\n",
       "      <th>latitude</th>\n",
       "      <th>longitude</th>\n",
       "      <th>lotsizesquarefeet</th>\n",
       "      <th>poolcnt</th>\n",
       "      <th>taxvaluedollarcnt</th>\n",
       "      <th>yearbuilt</th>\n",
       "      <th>landtaxvaluedollarcnt</th>\n",
       "      <th>logerror</th>\n",
       "      <th>county_name</th>\n",
       "      <th>los_angeles</th>\n",
       "      <th>ventura</th>\n",
       "      <th>orange</th>\n",
       "      <th>extras</th>\n",
       "    </tr>\n",
       "  </thead>\n",
       "  <tbody>\n",
       "    <tr>\n",
       "      <th>22620</th>\n",
       "      <td>0.01</td>\n",
       "      <td>2.00</td>\n",
       "      <td>2.00</td>\n",
       "      <td>1,212.00</td>\n",
       "      <td>6,059.00</td>\n",
       "      <td>2</td>\n",
       "      <td>33.85</td>\n",
       "      <td>-118.02</td>\n",
       "      <td>6,000.00</td>\n",
       "      <td>0</td>\n",
       "      <td>143,427.00</td>\n",
       "      <td>1955</td>\n",
       "      <td>88,553.00</td>\n",
       "      <td>-0.08</td>\n",
       "      <td>Orange</td>\n",
       "      <td>0.00</td>\n",
       "      <td>0.00</td>\n",
       "      <td>1.00</td>\n",
       "      <td>1</td>\n",
       "    </tr>\n",
       "  </tbody>\n",
       "</table>\n",
       "</div>"
      ],
      "text/plain": [
       "                  tax_rate          bathroomcnt           bedroomcnt  \\\n",
       "22620                 0.01                 2.00                 2.00   \n",
       "\n",
       "       calculatedfinishedsquarefeet                 fips  garagecarcnt  \\\n",
       "22620                      1,212.00             6,059.00             2   \n",
       "\n",
       "                  latitude            longitude    lotsizesquarefeet  poolcnt  \\\n",
       "22620                33.85              -118.02             6,000.00        0   \n",
       "\n",
       "         taxvaluedollarcnt  yearbuilt  landtaxvaluedollarcnt  \\\n",
       "22620           143,427.00       1955              88,553.00   \n",
       "\n",
       "                  logerror county_name          los_angeles  \\\n",
       "22620                -0.08      Orange                 0.00   \n",
       "\n",
       "                   ventura               orange extras  \n",
       "22620                 0.00                 1.00      1  "
      ]
     },
     "execution_count": 65,
     "metadata": {},
     "output_type": "execute_result"
    }
   ],
   "source": [
    "train.head(1)"
   ]
  },
  {
   "cell_type": "code",
   "execution_count": 66,
   "metadata": {},
   "outputs": [
    {
     "data": {
      "text/html": [
       "<div>\n",
       "<style scoped>\n",
       "    .dataframe tbody tr th:only-of-type {\n",
       "        vertical-align: middle;\n",
       "    }\n",
       "\n",
       "    .dataframe tbody tr th {\n",
       "        vertical-align: top;\n",
       "    }\n",
       "\n",
       "    .dataframe thead th {\n",
       "        text-align: right;\n",
       "    }\n",
       "</style>\n",
       "<table border=\"1\" class=\"dataframe\">\n",
       "  <thead>\n",
       "    <tr style=\"text-align: right;\">\n",
       "      <th></th>\n",
       "      <th>tax_rate</th>\n",
       "      <th>bathroomcnt</th>\n",
       "      <th>bedroomcnt</th>\n",
       "      <th>calculatedfinishedsquarefeet</th>\n",
       "      <th>fips</th>\n",
       "      <th>garagecarcnt</th>\n",
       "      <th>latitude</th>\n",
       "      <th>longitude</th>\n",
       "      <th>lotsizesquarefeet</th>\n",
       "      <th>poolcnt</th>\n",
       "      <th>taxvaluedollarcnt</th>\n",
       "      <th>yearbuilt</th>\n",
       "      <th>landtaxvaluedollarcnt</th>\n",
       "      <th>logerror</th>\n",
       "      <th>county_name</th>\n",
       "      <th>los_angeles</th>\n",
       "      <th>ventura</th>\n",
       "      <th>orange</th>\n",
       "    </tr>\n",
       "  </thead>\n",
       "  <tbody>\n",
       "    <tr>\n",
       "      <th>10408</th>\n",
       "      <td>0.03</td>\n",
       "      <td>2.00</td>\n",
       "      <td>3.00</td>\n",
       "      <td>1,064.00</td>\n",
       "      <td>6,037.00</td>\n",
       "      <td>0</td>\n",
       "      <td>34.58</td>\n",
       "      <td>-118.06</td>\n",
       "      <td>7,046.00</td>\n",
       "      <td>0</td>\n",
       "      <td>65,261.00</td>\n",
       "      <td>1956</td>\n",
       "      <td>27,191.00</td>\n",
       "      <td>-0.02</td>\n",
       "      <td>Los Angeles</td>\n",
       "      <td>1.00</td>\n",
       "      <td>0.00</td>\n",
       "      <td>0.00</td>\n",
       "    </tr>\n",
       "  </tbody>\n",
       "</table>\n",
       "</div>"
      ],
      "text/plain": [
       "                  tax_rate          bathroomcnt           bedroomcnt  \\\n",
       "10408                 0.03                 2.00                 3.00   \n",
       "\n",
       "       calculatedfinishedsquarefeet                 fips  garagecarcnt  \\\n",
       "10408                      1,064.00             6,037.00             0   \n",
       "\n",
       "                  latitude            longitude    lotsizesquarefeet  poolcnt  \\\n",
       "10408                34.58              -118.06             7,046.00        0   \n",
       "\n",
       "         taxvaluedollarcnt  yearbuilt  landtaxvaluedollarcnt  \\\n",
       "10408            65,261.00       1956              27,191.00   \n",
       "\n",
       "                  logerror  county_name          los_angeles  \\\n",
       "10408                -0.02  Los Angeles                 1.00   \n",
       "\n",
       "                   ventura               orange  \n",
       "10408                 0.00                 0.00  "
      ]
     },
     "execution_count": 66,
     "metadata": {},
     "output_type": "execute_result"
    }
   ],
   "source": [
    "test.head(1)"
   ]
  },
  {
   "cell_type": "code",
   "execution_count": 67,
   "metadata": {},
   "outputs": [],
   "source": [
    "# defines conditions to compute the correct value for extras in train\n",
    "\n",
    "conditions = [\n",
    "    (test[\"poolcnt\"] == 0) & (test[\"garagecarcnt\"] == 0),\n",
    "    (test[\"poolcnt\"] > 0) & (test[\"garagecarcnt\"] == 0),\n",
    "    (test[\"poolcnt\"] == 0) & (test[\"garagecarcnt\"] > 0),\n",
    "    (test[\"poolcnt\"] > 0) & (test[\"garagecarcnt\"] > 0)\n",
    "]"
   ]
  },
  {
   "cell_type": "code",
   "execution_count": 68,
   "metadata": {},
   "outputs": [],
   "source": [
    "test[\"extras\"] = np.select(conditions, outputs, 'Other')"
   ]
  },
  {
   "cell_type": "code",
   "execution_count": 69,
   "metadata": {},
   "outputs": [
    {
     "data": {
      "text/html": [
       "<div>\n",
       "<style scoped>\n",
       "    .dataframe tbody tr th:only-of-type {\n",
       "        vertical-align: middle;\n",
       "    }\n",
       "\n",
       "    .dataframe tbody tr th {\n",
       "        vertical-align: top;\n",
       "    }\n",
       "\n",
       "    .dataframe thead th {\n",
       "        text-align: right;\n",
       "    }\n",
       "</style>\n",
       "<table border=\"1\" class=\"dataframe\">\n",
       "  <thead>\n",
       "    <tr style=\"text-align: right;\">\n",
       "      <th></th>\n",
       "      <th>tax_rate</th>\n",
       "      <th>bathroomcnt</th>\n",
       "      <th>bedroomcnt</th>\n",
       "      <th>calculatedfinishedsquarefeet</th>\n",
       "      <th>fips</th>\n",
       "      <th>garagecarcnt</th>\n",
       "      <th>latitude</th>\n",
       "      <th>longitude</th>\n",
       "      <th>lotsizesquarefeet</th>\n",
       "      <th>poolcnt</th>\n",
       "      <th>taxvaluedollarcnt</th>\n",
       "      <th>yearbuilt</th>\n",
       "      <th>landtaxvaluedollarcnt</th>\n",
       "      <th>logerror</th>\n",
       "      <th>county_name</th>\n",
       "      <th>los_angeles</th>\n",
       "      <th>ventura</th>\n",
       "      <th>orange</th>\n",
       "      <th>extras</th>\n",
       "    </tr>\n",
       "  </thead>\n",
       "  <tbody>\n",
       "    <tr>\n",
       "      <th>10408</th>\n",
       "      <td>0.03</td>\n",
       "      <td>2.00</td>\n",
       "      <td>3.00</td>\n",
       "      <td>1,064.00</td>\n",
       "      <td>6,037.00</td>\n",
       "      <td>0</td>\n",
       "      <td>34.58</td>\n",
       "      <td>-118.06</td>\n",
       "      <td>7,046.00</td>\n",
       "      <td>0</td>\n",
       "      <td>65,261.00</td>\n",
       "      <td>1956</td>\n",
       "      <td>27,191.00</td>\n",
       "      <td>-0.02</td>\n",
       "      <td>Los Angeles</td>\n",
       "      <td>1.00</td>\n",
       "      <td>0.00</td>\n",
       "      <td>0.00</td>\n",
       "      <td>0</td>\n",
       "    </tr>\n",
       "  </tbody>\n",
       "</table>\n",
       "</div>"
      ],
      "text/plain": [
       "                  tax_rate          bathroomcnt           bedroomcnt  \\\n",
       "10408                 0.03                 2.00                 3.00   \n",
       "\n",
       "       calculatedfinishedsquarefeet                 fips  garagecarcnt  \\\n",
       "10408                      1,064.00             6,037.00             0   \n",
       "\n",
       "                  latitude            longitude    lotsizesquarefeet  poolcnt  \\\n",
       "10408                34.58              -118.06             7,046.00        0   \n",
       "\n",
       "         taxvaluedollarcnt  yearbuilt  landtaxvaluedollarcnt  \\\n",
       "10408            65,261.00       1956              27,191.00   \n",
       "\n",
       "                  logerror  county_name          los_angeles  \\\n",
       "10408                -0.02  Los Angeles                 1.00   \n",
       "\n",
       "                   ventura               orange extras  \n",
       "10408                 0.00                 0.00      0  "
      ]
     },
     "execution_count": 69,
     "metadata": {},
     "output_type": "execute_result"
    }
   ],
   "source": [
    "test.head(1)"
   ]
  },
  {
   "cell_type": "markdown",
   "metadata": {},
   "source": [
    "## Visualize"
   ]
  },
  {
   "cell_type": "code",
   "execution_count": 70,
   "metadata": {},
   "outputs": [
    {
     "data": {
      "text/plain": [
       "<matplotlib.axes._subplots.AxesSubplot at 0x1a26bc46d8>"
      ]
     },
     "execution_count": 70,
     "metadata": {},
     "output_type": "execute_result"
    },
    {
     "data": {
      "image/png": "[encoded data removed]",
      "text/plain": [
       "<Figure size 432x288 with 1 Axes>"
      ]
     },
     "metadata": {
      "needs_background": "light"
     },
     "output_type": "display_data"
    }
   ],
   "source": [
    "sns.scatterplot(data=train, x=\"logerror\", y=\"taxvaluedollarcnt\", hue=\"county_name\", hue_order=[\"Los Angeles\", \"Orange\", \"Ventura\"], alpha=.6)"
   ]
  },
  {
   "cell_type": "code",
   "execution_count": 71,
   "metadata": {},
   "outputs": [
    {
     "data": {
      "text/plain": [
       "<matplotlib.axes._subplots.AxesSubplot at 0x1a26bf5438>"
      ]
     },
     "execution_count": 71,
     "metadata": {},
     "output_type": "execute_result"
    },
    {
     "data": {
      "image/png": "[encoded data removed]",
      "text/plain": [
       "<Figure size 432x288 with 1 Axes>"
      ]
     },
     "metadata": {
      "needs_background": "light"
     },
     "output_type": "display_data"
    }
   ],
   "source": [
    "sns.boxplot(train.bedroomcnt, train.calculatedfinishedsquarefeet)"
   ]
  },
  {
   "cell_type": "code",
   "execution_count": 72,
   "metadata": {},
   "outputs": [
    {
     "data": {
      "text/plain": [
       "<matplotlib.axes._subplots.AxesSubplot at 0x1a260b2198>"
      ]
     },
     "execution_count": 72,
     "metadata": {},
     "output_type": "execute_result"
    },
    {
     "data": {
      "image/png": "[encoded data removed]",
      "text/plain": [
       "<Figure size 432x288 with 1 Axes>"
      ]
     },
     "metadata": {
      "needs_background": "light"
     },
     "output_type": "display_data"
    }
   ],
   "source": [
    "sns.boxplot(train.bathroomcnt, train.calculatedfinishedsquarefeet)"
   ]
  },
  {
   "cell_type": "markdown",
   "metadata": {},
   "source": [
    "## Stats Testing to Decide on Feature Engineering"
   ]
  },
  {
   "cell_type": "markdown",
   "metadata": {},
   "source": [
    "- Here I use a chi2 test to look at categorical features."
   ]
  },
  {
   "cell_type": "markdown",
   "metadata": {},
   "source": [
    "- $H_0$: Bathroomcnt is independent of how many bedrooms a home has.\n",
    "\n",
    "- $H_a$: Bathroomcnt is not independent of how many bedrooms a home has."
   ]
  },
  {
   "cell_type": "code",
   "execution_count": 73,
   "metadata": {},
   "outputs": [
    {
     "data": {
      "text/html": [
       "<style  type=\"text/css\" >\n",
       "    #T_d9fcdd6a_02fc_11ea_b9d5_88e9fe64f5f6row0_col0 {\n",
       "            background-color:  #800026;\n",
       "            color:  #f1f1f1;\n",
       "        }    #T_d9fcdd6a_02fc_11ea_b9d5_88e9fe64f5f6row0_col1 {\n",
       "            background-color:  #febb56;\n",
       "            color:  #000000;\n",
       "        }    #T_d9fcdd6a_02fc_11ea_b9d5_88e9fe64f5f6row0_col2 {\n",
       "            background-color:  #ffe793;\n",
       "            color:  #000000;\n",
       "        }    #T_d9fcdd6a_02fc_11ea_b9d5_88e9fe64f5f6row0_col3 {\n",
       "            background-color:  #fffec9;\n",
       "            color:  #000000;\n",
       "        }    #T_d9fcdd6a_02fc_11ea_b9d5_88e9fe64f5f6row0_col4 {\n",
       "            background-color:  #ffffcc;\n",
       "            color:  #000000;\n",
       "        }    #T_d9fcdd6a_02fc_11ea_b9d5_88e9fe64f5f6row0_col5 {\n",
       "            background-color:  #ffffcc;\n",
       "            color:  #000000;\n",
       "        }    #T_d9fcdd6a_02fc_11ea_b9d5_88e9fe64f5f6row0_col6 {\n",
       "            background-color:  #ffffcc;\n",
       "            color:  #000000;\n",
       "        }    #T_d9fcdd6a_02fc_11ea_b9d5_88e9fe64f5f6row0_col7 {\n",
       "            background-color:  #ffffcc;\n",
       "            color:  #000000;\n",
       "        }    #T_d9fcdd6a_02fc_11ea_b9d5_88e9fe64f5f6row1_col0 {\n",
       "            background-color:  #e92720;\n",
       "            color:  #f1f1f1;\n",
       "        }    #T_d9fcdd6a_02fc_11ea_b9d5_88e9fe64f5f6row1_col1 {\n",
       "            background-color:  #800026;\n",
       "            color:  #f1f1f1;\n",
       "        }    #T_d9fcdd6a_02fc_11ea_b9d5_88e9fe64f5f6row1_col2 {\n",
       "            background-color:  #800026;\n",
       "            color:  #f1f1f1;\n",
       "        }    #T_d9fcdd6a_02fc_11ea_b9d5_88e9fe64f5f6row1_col3 {\n",
       "            background-color:  #800026;\n",
       "            color:  #f1f1f1;\n",
       "        }    #T_d9fcdd6a_02fc_11ea_b9d5_88e9fe64f5f6row1_col4 {\n",
       "            background-color:  #fc6c33;\n",
       "            color:  #000000;\n",
       "        }    #T_d9fcdd6a_02fc_11ea_b9d5_88e9fe64f5f6row1_col5 {\n",
       "            background-color:  #fea145;\n",
       "            color:  #000000;\n",
       "        }    #T_d9fcdd6a_02fc_11ea_b9d5_88e9fe64f5f6row1_col6 {\n",
       "            background-color:  #feb24c;\n",
       "            color:  #000000;\n",
       "        }    #T_d9fcdd6a_02fc_11ea_b9d5_88e9fe64f5f6row1_col7 {\n",
       "            background-color:  #ffeda1;\n",
       "            color:  #000000;\n",
       "        }    #T_d9fcdd6a_02fc_11ea_b9d5_88e9fe64f5f6row2_col0 {\n",
       "            background-color:  #fffac0;\n",
       "            color:  #000000;\n",
       "        }    #T_d9fcdd6a_02fc_11ea_b9d5_88e9fe64f5f6row2_col1 {\n",
       "            background-color:  #fedb7b;\n",
       "            color:  #000000;\n",
       "        }    #T_d9fcdd6a_02fc_11ea_b9d5_88e9fe64f5f6row2_col2 {\n",
       "            background-color:  #feac49;\n",
       "            color:  #000000;\n",
       "        }    #T_d9fcdd6a_02fc_11ea_b9d5_88e9fe64f5f6row2_col3 {\n",
       "            background-color:  #c90823;\n",
       "            color:  #f1f1f1;\n",
       "        }    #T_d9fcdd6a_02fc_11ea_b9d5_88e9fe64f5f6row2_col4 {\n",
       "            background-color:  #800026;\n",
       "            color:  #f1f1f1;\n",
       "        }    #T_d9fcdd6a_02fc_11ea_b9d5_88e9fe64f5f6row2_col5 {\n",
       "            background-color:  #800026;\n",
       "            color:  #f1f1f1;\n",
       "        }    #T_d9fcdd6a_02fc_11ea_b9d5_88e9fe64f5f6row2_col6 {\n",
       "            background-color:  #800026;\n",
       "            color:  #f1f1f1;\n",
       "        }    #T_d9fcdd6a_02fc_11ea_b9d5_88e9fe64f5f6row2_col7 {\n",
       "            background-color:  #800026;\n",
       "            color:  #f1f1f1;\n",
       "        }    #T_d9fcdd6a_02fc_11ea_b9d5_88e9fe64f5f6row3_col0 {\n",
       "            background-color:  #ffffcc;\n",
       "            color:  #000000;\n",
       "        }    #T_d9fcdd6a_02fc_11ea_b9d5_88e9fe64f5f6row3_col1 {\n",
       "            background-color:  #ffffcc;\n",
       "            color:  #000000;\n",
       "        }    #T_d9fcdd6a_02fc_11ea_b9d5_88e9fe64f5f6row3_col2 {\n",
       "            background-color:  #ffffcc;\n",
       "            color:  #000000;\n",
       "        }    #T_d9fcdd6a_02fc_11ea_b9d5_88e9fe64f5f6row3_col3 {\n",
       "            background-color:  #ffffcc;\n",
       "            color:  #000000;\n",
       "        }    #T_d9fcdd6a_02fc_11ea_b9d5_88e9fe64f5f6row3_col4 {\n",
       "            background-color:  #feda78;\n",
       "            color:  #000000;\n",
       "        }    #T_d9fcdd6a_02fc_11ea_b9d5_88e9fe64f5f6row3_col5 {\n",
       "            background-color:  #fed16e;\n",
       "            color:  #000000;\n",
       "        }    #T_d9fcdd6a_02fc_11ea_b9d5_88e9fe64f5f6row3_col6 {\n",
       "            background-color:  #ee3122;\n",
       "            color:  #f1f1f1;\n",
       "        }    #T_d9fcdd6a_02fc_11ea_b9d5_88e9fe64f5f6row3_col7 {\n",
       "            background-color:  #a60026;\n",
       "            color:  #f1f1f1;\n",
       "        }</style><table id=\"T_d9fcdd6a_02fc_11ea_b9d5_88e9fe64f5f6\" ><thead>    <tr>        <th class=\"index_name level0\" >bathroomcnt</th>        <th class=\"col_heading level0 col0\" >1.0</th>        <th class=\"col_heading level0 col1\" >1.5</th>        <th class=\"col_heading level0 col2\" >2.0</th>        <th class=\"col_heading level0 col3\" >2.5</th>        <th class=\"col_heading level0 col4\" >3.0</th>        <th class=\"col_heading level0 col5\" >3.5</th>        <th class=\"col_heading level0 col6\" >4.0</th>        <th class=\"col_heading level0 col7\" >4.5</th>    </tr>    <tr>        <th class=\"index_name level0\" >bedroomcnt</th>        <th class=\"blank\" ></th>        <th class=\"blank\" ></th>        <th class=\"blank\" ></th>        <th class=\"blank\" ></th>        <th class=\"blank\" ></th>        <th class=\"blank\" ></th>        <th class=\"blank\" ></th>        <th class=\"blank\" ></th>    </tr></thead><tbody>\n",
       "                <tr>\n",
       "                        <th id=\"T_d9fcdd6a_02fc_11ea_b9d5_88e9fe64f5f6level0_row0\" class=\"row_heading level0 row0\" >2.0</th>\n",
       "                        <td id=\"T_d9fcdd6a_02fc_11ea_b9d5_88e9fe64f5f6row0_col0\" class=\"data row0 col0\" >3409</td>\n",
       "                        <td id=\"T_d9fcdd6a_02fc_11ea_b9d5_88e9fe64f5f6row0_col1\" class=\"data row0 col1\" >103</td>\n",
       "                        <td id=\"T_d9fcdd6a_02fc_11ea_b9d5_88e9fe64f5f6row0_col2\" class=\"data row0 col2\" >1619</td>\n",
       "                        <td id=\"T_d9fcdd6a_02fc_11ea_b9d5_88e9fe64f5f6row0_col3\" class=\"data row0 col3\" >127</td>\n",
       "                        <td id=\"T_d9fcdd6a_02fc_11ea_b9d5_88e9fe64f5f6row0_col4\" class=\"data row0 col4\" >149</td>\n",
       "                        <td id=\"T_d9fcdd6a_02fc_11ea_b9d5_88e9fe64f5f6row0_col5\" class=\"data row0 col5\" >8</td>\n",
       "                        <td id=\"T_d9fcdd6a_02fc_11ea_b9d5_88e9fe64f5f6row0_col6\" class=\"data row0 col6\" >5</td>\n",
       "                        <td id=\"T_d9fcdd6a_02fc_11ea_b9d5_88e9fe64f5f6row0_col7\" class=\"data row0 col7\" >0</td>\n",
       "            </tr>\n",
       "            <tr>\n",
       "                        <th id=\"T_d9fcdd6a_02fc_11ea_b9d5_88e9fe64f5f6level0_row1\" class=\"row_heading level0 row1\" >3.0</th>\n",
       "                        <td id=\"T_d9fcdd6a_02fc_11ea_b9d5_88e9fe64f5f6row1_col0\" class=\"data row1 col0\" >2450</td>\n",
       "                        <td id=\"T_d9fcdd6a_02fc_11ea_b9d5_88e9fe64f5f6row1_col1\" class=\"data row1 col1\" >295</td>\n",
       "                        <td id=\"T_d9fcdd6a_02fc_11ea_b9d5_88e9fe64f5f6row1_col2\" class=\"data row1 col2\" >8705</td>\n",
       "                        <td id=\"T_d9fcdd6a_02fc_11ea_b9d5_88e9fe64f5f6row1_col3\" class=\"data row1 col3\" >1274</td>\n",
       "                        <td id=\"T_d9fcdd6a_02fc_11ea_b9d5_88e9fe64f5f6row1_col4\" class=\"data row1 col4\" >1838</td>\n",
       "                        <td id=\"T_d9fcdd6a_02fc_11ea_b9d5_88e9fe64f5f6row1_col5\" class=\"data row1 col5\" >124</td>\n",
       "                        <td id=\"T_d9fcdd6a_02fc_11ea_b9d5_88e9fe64f5f6row1_col6\" class=\"data row1 col6\" >172</td>\n",
       "                        <td id=\"T_d9fcdd6a_02fc_11ea_b9d5_88e9fe64f5f6row1_col7\" class=\"data row1 col7\" >20</td>\n",
       "            </tr>\n",
       "            <tr>\n",
       "                        <th id=\"T_d9fcdd6a_02fc_11ea_b9d5_88e9fe64f5f6level0_row2\" class=\"row_heading level0 row2\" >4.0</th>\n",
       "                        <td id=\"T_d9fcdd6a_02fc_11ea_b9d5_88e9fe64f5f6row2_col0\" class=\"data row2 col0\" >149</td>\n",
       "                        <td id=\"T_d9fcdd6a_02fc_11ea_b9d5_88e9fe64f5f6row2_col1\" class=\"data row2 col1\" >71</td>\n",
       "                        <td id=\"T_d9fcdd6a_02fc_11ea_b9d5_88e9fe64f5f6row2_col2\" class=\"data row2 col2\" >3575</td>\n",
       "                        <td id=\"T_d9fcdd6a_02fc_11ea_b9d5_88e9fe64f5f6row2_col3\" class=\"data row2 col3\" >1080</td>\n",
       "                        <td id=\"T_d9fcdd6a_02fc_11ea_b9d5_88e9fe64f5f6row2_col4\" class=\"data row2 col4\" >3140</td>\n",
       "                        <td id=\"T_d9fcdd6a_02fc_11ea_b9d5_88e9fe64f5f6row2_col5\" class=\"data row2 col5\" >277</td>\n",
       "                        <td id=\"T_d9fcdd6a_02fc_11ea_b9d5_88e9fe64f5f6row2_col6\" class=\"data row2 col6\" >446</td>\n",
       "                        <td id=\"T_d9fcdd6a_02fc_11ea_b9d5_88e9fe64f5f6row2_col7\" class=\"data row2 col7\" >161</td>\n",
       "            </tr>\n",
       "            <tr>\n",
       "                        <th id=\"T_d9fcdd6a_02fc_11ea_b9d5_88e9fe64f5f6level0_row3\" class=\"row_heading level0 row3\" >5.0</th>\n",
       "                        <td id=\"T_d9fcdd6a_02fc_11ea_b9d5_88e9fe64f5f6row3_col0\" class=\"data row3 col0\" >19</td>\n",
       "                        <td id=\"T_d9fcdd6a_02fc_11ea_b9d5_88e9fe64f5f6row3_col1\" class=\"data row3 col1\" >1</td>\n",
       "                        <td id=\"T_d9fcdd6a_02fc_11ea_b9d5_88e9fe64f5f6row3_col2\" class=\"data row3 col2\" >216</td>\n",
       "                        <td id=\"T_d9fcdd6a_02fc_11ea_b9d5_88e9fe64f5f6row3_col3\" class=\"data row3 col3\" >114</td>\n",
       "                        <td id=\"T_d9fcdd6a_02fc_11ea_b9d5_88e9fe64f5f6row3_col4\" class=\"data row3 col4\" >883</td>\n",
       "                        <td id=\"T_d9fcdd6a_02fc_11ea_b9d5_88e9fe64f5f6row3_col5\" class=\"data row3 col5\" >82</td>\n",
       "                        <td id=\"T_d9fcdd6a_02fc_11ea_b9d5_88e9fe64f5f6row3_col6\" class=\"data row3 col6\" >311</td>\n",
       "                        <td id=\"T_d9fcdd6a_02fc_11ea_b9d5_88e9fe64f5f6row3_col7\" class=\"data row3 col7\" >148</td>\n",
       "            </tr>\n",
       "    </tbody></table>"
      ],
      "text/plain": [
       "<pandas.io.formats.style.Styler at 0x1a26a72048>"
      ]
     },
     "execution_count": 73,
     "metadata": {},
     "output_type": "execute_result"
    }
   ],
   "source": [
    "# contingency_table from the df_cat dataframe (w/o categories)\n",
    "\n",
    "contingency_table = pd.crosstab(train_cat.bedroomcnt, train_cat.bathroomcnt).style.background_gradient(cmap='YlOrRd')\n",
    "contingency_table"
   ]
  },
  {
   "cell_type": "code",
   "execution_count": 74,
   "metadata": {},
   "outputs": [],
   "source": [
    "contingency_table = pd.crosstab(train_cat.bedroomcnt, train_cat.bathroomcnt)"
   ]
  },
  {
   "cell_type": "code",
   "execution_count": 75,
   "metadata": {},
   "outputs": [],
   "source": [
    "_, p, _, expected = stats.chi2_contingency(contingency_table)"
   ]
  },
  {
   "cell_type": "code",
   "execution_count": 76,
   "metadata": {},
   "outputs": [
    {
     "name": "stdout",
     "output_type": "stream",
     "text": [
      "The p-value of the contingency test is 0.0.\n"
     ]
    }
   ],
   "source": [
    "print(f\"The p-value of the contingency test is {p}.\")"
   ]
  },
  {
   "cell_type": "markdown",
   "metadata": {},
   "source": [
    "### Takeaways from chi2 test on bedroomcnt and bathroomcnt\n",
    "\n",
    "- Based on the p_value of 0 from the chi2 test above, I reject the Null Hypothesis that bathroomcnt is independent of how many bedrooms a home has.\n",
    "\n",
    "\n",
    "- Based on rejecting the Null Hypothesis, I will combine the two features into a single feature that is a ratio of bedrooms to bathrooms."
   ]
  },
  {
   "cell_type": "markdown",
   "metadata": {},
   "source": [
    "- $H_0$: garagecarcnt is independent of how many pools a home has.\n",
    "\n",
    "- $H_a$: garagecarcnt is not independent of how many pools a home has."
   ]
  },
  {
   "cell_type": "code",
   "execution_count": 77,
   "metadata": {},
   "outputs": [
    {
     "data": {
      "text/html": [
       "<style  type=\"text/css\" >\n",
       "    #T_da29b20e_02fc_11ea_b9d5_88e9fe64f5f6row0_col0 {\n",
       "            background-color:  #f64227;\n",
       "            color:  #f1f1f1;\n",
       "        }    #T_da29b20e_02fc_11ea_b9d5_88e9fe64f5f6row0_col1 {\n",
       "            background-color:  #fc612f;\n",
       "            color:  #000000;\n",
       "        }    #T_da29b20e_02fc_11ea_b9d5_88e9fe64f5f6row0_col2 {\n",
       "            background-color:  #f84628;\n",
       "            color:  #000000;\n",
       "        }    #T_da29b20e_02fc_11ea_b9d5_88e9fe64f5f6row1_col0 {\n",
       "            background-color:  #fff8bb;\n",
       "            color:  #000000;\n",
       "        }    #T_da29b20e_02fc_11ea_b9d5_88e9fe64f5f6row1_col1 {\n",
       "            background-color:  #fffcc4;\n",
       "            color:  #000000;\n",
       "        }    #T_da29b20e_02fc_11ea_b9d5_88e9fe64f5f6row1_col2 {\n",
       "            background-color:  #fff9bd;\n",
       "            color:  #000000;\n",
       "        }    #T_da29b20e_02fc_11ea_b9d5_88e9fe64f5f6row2_col0 {\n",
       "            background-color:  #fecc68;\n",
       "            color:  #000000;\n",
       "        }    #T_da29b20e_02fc_11ea_b9d5_88e9fe64f5f6row2_col1 {\n",
       "            background-color:  #feb44e;\n",
       "            color:  #000000;\n",
       "        }    #T_da29b20e_02fc_11ea_b9d5_88e9fe64f5f6row2_col2 {\n",
       "            background-color:  #fec965;\n",
       "            color:  #000000;\n",
       "        }    #T_da29b20e_02fc_11ea_b9d5_88e9fe64f5f6row3_col0 {\n",
       "            background-color:  #fffecb;\n",
       "            color:  #000000;\n",
       "        }    #T_da29b20e_02fc_11ea_b9d5_88e9fe64f5f6row3_col1 {\n",
       "            background-color:  #fffdc8;\n",
       "            color:  #000000;\n",
       "        }    #T_da29b20e_02fc_11ea_b9d5_88e9fe64f5f6row3_col2 {\n",
       "            background-color:  #fffecb;\n",
       "            color:  #000000;\n",
       "        }    #T_da29b20e_02fc_11ea_b9d5_88e9fe64f5f6row4_col0 {\n",
       "            background-color:  #ffffcc;\n",
       "            color:  #000000;\n",
       "        }    #T_da29b20e_02fc_11ea_b9d5_88e9fe64f5f6row4_col1 {\n",
       "            background-color:  #ffffcc;\n",
       "            color:  #000000;\n",
       "        }    #T_da29b20e_02fc_11ea_b9d5_88e9fe64f5f6row4_col2 {\n",
       "            background-color:  #ffffcc;\n",
       "            color:  #000000;\n",
       "        }    #T_da29b20e_02fc_11ea_b9d5_88e9fe64f5f6row5_col0 {\n",
       "            background-color:  #ffffcc;\n",
       "            color:  #000000;\n",
       "        }    #T_da29b20e_02fc_11ea_b9d5_88e9fe64f5f6row5_col1 {\n",
       "            background-color:  #ffffcc;\n",
       "            color:  #000000;\n",
       "        }    #T_da29b20e_02fc_11ea_b9d5_88e9fe64f5f6row5_col2 {\n",
       "            background-color:  #ffffcc;\n",
       "            color:  #000000;\n",
       "        }    #T_da29b20e_02fc_11ea_b9d5_88e9fe64f5f6row6_col0 {\n",
       "            background-color:  #ffffcc;\n",
       "            color:  #000000;\n",
       "        }    #T_da29b20e_02fc_11ea_b9d5_88e9fe64f5f6row6_col1 {\n",
       "            background-color:  #ffffcc;\n",
       "            color:  #000000;\n",
       "        }    #T_da29b20e_02fc_11ea_b9d5_88e9fe64f5f6row6_col2 {\n",
       "            background-color:  #ffffcc;\n",
       "            color:  #000000;\n",
       "        }    #T_da29b20e_02fc_11ea_b9d5_88e9fe64f5f6row7_col0 {\n",
       "            background-color:  #ffffcc;\n",
       "            color:  #000000;\n",
       "        }    #T_da29b20e_02fc_11ea_b9d5_88e9fe64f5f6row7_col1 {\n",
       "            background-color:  #ffffcc;\n",
       "            color:  #000000;\n",
       "        }    #T_da29b20e_02fc_11ea_b9d5_88e9fe64f5f6row7_col2 {\n",
       "            background-color:  #ffffcc;\n",
       "            color:  #000000;\n",
       "        }    #T_da29b20e_02fc_11ea_b9d5_88e9fe64f5f6row8_col0 {\n",
       "            background-color:  #800026;\n",
       "            color:  #f1f1f1;\n",
       "        }    #T_da29b20e_02fc_11ea_b9d5_88e9fe64f5f6row8_col1 {\n",
       "            background-color:  #800026;\n",
       "            color:  #f1f1f1;\n",
       "        }    #T_da29b20e_02fc_11ea_b9d5_88e9fe64f5f6row8_col2 {\n",
       "            background-color:  #800026;\n",
       "            color:  #f1f1f1;\n",
       "        }</style><table id=\"T_da29b20e_02fc_11ea_b9d5_88e9fe64f5f6\" ><thead>    <tr>        <th class=\"index_name level0\" >poolcnt</th>        <th class=\"col_heading level0 col0\" >0.0</th>        <th class=\"col_heading level0 col1\" >1.0</th>        <th class=\"col_heading level0 col2\" >All</th>    </tr>    <tr>        <th class=\"index_name level0\" >garagecarcnt</th>        <th class=\"blank\" ></th>        <th class=\"blank\" ></th>        <th class=\"blank\" ></th>    </tr></thead><tbody>\n",
       "                <tr>\n",
       "                        <th id=\"T_da29b20e_02fc_11ea_b9d5_88e9fe64f5f6level0_row0\" class=\"row_heading level0 row0\" >0.0</th>\n",
       "                        <td id=\"T_da29b20e_02fc_11ea_b9d5_88e9fe64f5f6row0_col0\" class=\"data row0 col0\" >16828</td>\n",
       "                        <td id=\"T_da29b20e_02fc_11ea_b9d5_88e9fe64f5f6row0_col1\" class=\"data row0 col1\" >3109</td>\n",
       "                        <td id=\"T_da29b20e_02fc_11ea_b9d5_88e9fe64f5f6row0_col2\" class=\"data row0 col2\" >19937</td>\n",
       "            </tr>\n",
       "            <tr>\n",
       "                        <th id=\"T_da29b20e_02fc_11ea_b9d5_88e9fe64f5f6level0_row1\" class=\"row_heading level0 row1\" >1.0</th>\n",
       "                        <td id=\"T_da29b20e_02fc_11ea_b9d5_88e9fe64f5f6row1_col0\" class=\"data row1 col0\" >1243</td>\n",
       "                        <td id=\"T_da29b20e_02fc_11ea_b9d5_88e9fe64f5f6row1_col1\" class=\"data row1 col1\" >140</td>\n",
       "                        <td id=\"T_da29b20e_02fc_11ea_b9d5_88e9fe64f5f6row1_col2\" class=\"data row1 col2\" >1383</td>\n",
       "            </tr>\n",
       "            <tr>\n",
       "                        <th id=\"T_da29b20e_02fc_11ea_b9d5_88e9fe64f5f6level0_row2\" class=\"row_heading level0 row2\" >2.0</th>\n",
       "                        <td id=\"T_da29b20e_02fc_11ea_b9d5_88e9fe64f5f6row2_col0\" class=\"data row2 col0\" >7461</td>\n",
       "                        <td id=\"T_da29b20e_02fc_11ea_b9d5_88e9fe64f5f6row2_col1\" class=\"data row2 col1\" >1947</td>\n",
       "                        <td id=\"T_da29b20e_02fc_11ea_b9d5_88e9fe64f5f6row2_col2\" class=\"data row2 col2\" >9408</td>\n",
       "            </tr>\n",
       "            <tr>\n",
       "                        <th id=\"T_da29b20e_02fc_11ea_b9d5_88e9fe64f5f6level0_row3\" class=\"row_heading level0 row3\" >3.0</th>\n",
       "                        <td id=\"T_da29b20e_02fc_11ea_b9d5_88e9fe64f5f6row3_col0\" class=\"data row3 col0\" >121</td>\n",
       "                        <td id=\"T_da29b20e_02fc_11ea_b9d5_88e9fe64f5f6row3_col1\" class=\"data row3 col1\" >78</td>\n",
       "                        <td id=\"T_da29b20e_02fc_11ea_b9d5_88e9fe64f5f6row3_col2\" class=\"data row3 col2\" >199</td>\n",
       "            </tr>\n",
       "            <tr>\n",
       "                        <th id=\"T_da29b20e_02fc_11ea_b9d5_88e9fe64f5f6level0_row4\" class=\"row_heading level0 row4\" >4.0</th>\n",
       "                        <td id=\"T_da29b20e_02fc_11ea_b9d5_88e9fe64f5f6row4_col0\" class=\"data row4 col0\" >22</td>\n",
       "                        <td id=\"T_da29b20e_02fc_11ea_b9d5_88e9fe64f5f6row4_col1\" class=\"data row4 col1\" >17</td>\n",
       "                        <td id=\"T_da29b20e_02fc_11ea_b9d5_88e9fe64f5f6row4_col2\" class=\"data row4 col2\" >39</td>\n",
       "            </tr>\n",
       "            <tr>\n",
       "                        <th id=\"T_da29b20e_02fc_11ea_b9d5_88e9fe64f5f6level0_row5\" class=\"row_heading level0 row5\" >5.0</th>\n",
       "                        <td id=\"T_da29b20e_02fc_11ea_b9d5_88e9fe64f5f6row5_col0\" class=\"data row5 col0\" >2</td>\n",
       "                        <td id=\"T_da29b20e_02fc_11ea_b9d5_88e9fe64f5f6row5_col1\" class=\"data row5 col1\" >0</td>\n",
       "                        <td id=\"T_da29b20e_02fc_11ea_b9d5_88e9fe64f5f6row5_col2\" class=\"data row5 col2\" >2</td>\n",
       "            </tr>\n",
       "            <tr>\n",
       "                        <th id=\"T_da29b20e_02fc_11ea_b9d5_88e9fe64f5f6level0_row6\" class=\"row_heading level0 row6\" >6.0</th>\n",
       "                        <td id=\"T_da29b20e_02fc_11ea_b9d5_88e9fe64f5f6row6_col0\" class=\"data row6 col0\" >2</td>\n",
       "                        <td id=\"T_da29b20e_02fc_11ea_b9d5_88e9fe64f5f6row6_col1\" class=\"data row6 col1\" >0</td>\n",
       "                        <td id=\"T_da29b20e_02fc_11ea_b9d5_88e9fe64f5f6row6_col2\" class=\"data row6 col2\" >2</td>\n",
       "            </tr>\n",
       "            <tr>\n",
       "                        <th id=\"T_da29b20e_02fc_11ea_b9d5_88e9fe64f5f6level0_row7\" class=\"row_heading level0 row7\" >10.0</th>\n",
       "                        <td id=\"T_da29b20e_02fc_11ea_b9d5_88e9fe64f5f6row7_col0\" class=\"data row7 col0\" >1</td>\n",
       "                        <td id=\"T_da29b20e_02fc_11ea_b9d5_88e9fe64f5f6row7_col1\" class=\"data row7 col1\" >0</td>\n",
       "                        <td id=\"T_da29b20e_02fc_11ea_b9d5_88e9fe64f5f6row7_col2\" class=\"data row7 col2\" >1</td>\n",
       "            </tr>\n",
       "            <tr>\n",
       "                        <th id=\"T_da29b20e_02fc_11ea_b9d5_88e9fe64f5f6level0_row8\" class=\"row_heading level0 row8\" >All</th>\n",
       "                        <td id=\"T_da29b20e_02fc_11ea_b9d5_88e9fe64f5f6row8_col0\" class=\"data row8 col0\" >25680</td>\n",
       "                        <td id=\"T_da29b20e_02fc_11ea_b9d5_88e9fe64f5f6row8_col1\" class=\"data row8 col1\" >5291</td>\n",
       "                        <td id=\"T_da29b20e_02fc_11ea_b9d5_88e9fe64f5f6row8_col2\" class=\"data row8 col2\" >30971</td>\n",
       "            </tr>\n",
       "    </tbody></table>"
      ],
      "text/plain": [
       "<pandas.io.formats.style.Styler at 0x1a24752dd8>"
      ]
     },
     "execution_count": 77,
     "metadata": {},
     "output_type": "execute_result"
    }
   ],
   "source": [
    "contingency_table = pd.crosstab(train_cat.garagecarcnt, train_cat.poolcnt, margins=True).style.background_gradient(cmap='YlOrRd')\n",
    "contingency_table"
   ]
  },
  {
   "cell_type": "code",
   "execution_count": 78,
   "metadata": {},
   "outputs": [],
   "source": [
    "contingency_table = pd.crosstab(train_cat.garagecarcnt, train_cat.poolcnt)"
   ]
  },
  {
   "cell_type": "code",
   "execution_count": 79,
   "metadata": {},
   "outputs": [],
   "source": [
    "_, p, _, expected = stats.chi2_contingency(contingency_table)"
   ]
  },
  {
   "cell_type": "code",
   "execution_count": 80,
   "metadata": {},
   "outputs": [
    {
     "name": "stdout",
     "output_type": "stream",
     "text": [
      "The p-value of the contingency test is 3.4951449348417376e-51.\n"
     ]
    }
   ],
   "source": [
    "print(f\"The p-value of the contingency test is {p}.\")"
   ]
  },
  {
   "cell_type": "markdown",
   "metadata": {},
   "source": [
    "## Pearson r test on lot size and tax value"
   ]
  },
  {
   "cell_type": "code",
   "execution_count": 81,
   "metadata": {},
   "outputs": [],
   "source": [
    "r, p = stats.pearsonr(train_cat.lotsizesquarefeet, train_cat.taxvaluedollarcnt)"
   ]
  },
  {
   "cell_type": "code",
   "execution_count": 82,
   "metadata": {},
   "outputs": [
    {
     "name": "stdout",
     "output_type": "stream",
     "text": [
      "r is 0.0690533331345955\n"
     ]
    }
   ],
   "source": [
    "print(f\"r is {r}\")"
   ]
  },
  {
   "cell_type": "code",
   "execution_count": 83,
   "metadata": {},
   "outputs": [
    {
     "name": "stdout",
     "output_type": "stream",
     "text": [
      "p is 4.691049548815385e-34\n"
     ]
    }
   ],
   "source": [
    "print(f\"p is {p}\")"
   ]
  },
  {
   "cell_type": "markdown",
   "metadata": {},
   "source": [
    "## T-test of decade and taxvaluedollarcnt\n",
    "\n",
    "- Can I do this? How do I use my decade intervals?"
   ]
  },
  {
   "cell_type": "code",
   "execution_count": 84,
   "metadata": {
    "scrolled": true
   },
   "outputs": [
    {
     "data": {
      "text/html": [
       "<div>\n",
       "<style scoped>\n",
       "    .dataframe tbody tr th:only-of-type {\n",
       "        vertical-align: middle;\n",
       "    }\n",
       "\n",
       "    .dataframe tbody tr th {\n",
       "        vertical-align: top;\n",
       "    }\n",
       "\n",
       "    .dataframe thead th {\n",
       "        text-align: right;\n",
       "    }\n",
       "</style>\n",
       "<table border=\"1\" class=\"dataframe\">\n",
       "  <thead>\n",
       "    <tr style=\"text-align: right;\">\n",
       "      <th></th>\n",
       "      <th>tax_rate</th>\n",
       "      <th>bathroomcnt</th>\n",
       "      <th>bedroomcnt</th>\n",
       "      <th>calculatedfinishedsquarefeet</th>\n",
       "      <th>fips</th>\n",
       "      <th>garagecarcnt</th>\n",
       "      <th>latitude</th>\n",
       "      <th>longitude</th>\n",
       "      <th>lotsizesquarefeet</th>\n",
       "      <th>poolcnt</th>\n",
       "      <th>taxvaluedollarcnt</th>\n",
       "      <th>yearbuilt</th>\n",
       "      <th>landtaxvaluedollarcnt</th>\n",
       "      <th>logerror</th>\n",
       "      <th>county_name</th>\n",
       "      <th>los_angeles</th>\n",
       "      <th>ventura</th>\n",
       "      <th>orange</th>\n",
       "      <th>decade</th>\n",
       "    </tr>\n",
       "  </thead>\n",
       "  <tbody>\n",
       "    <tr>\n",
       "      <th>22620</th>\n",
       "      <td>0.01</td>\n",
       "      <td>2.00</td>\n",
       "      <td>2.00</td>\n",
       "      <td>1,212.00</td>\n",
       "      <td>6,059.00</td>\n",
       "      <td>2.00</td>\n",
       "      <td>33.85</td>\n",
       "      <td>-118.02</td>\n",
       "      <td>6,000.00</td>\n",
       "      <td>0.00</td>\n",
       "      <td>143,427.00</td>\n",
       "      <td>1955</td>\n",
       "      <td>88,553.00</td>\n",
       "      <td>-0.08</td>\n",
       "      <td>Orange</td>\n",
       "      <td>0.00</td>\n",
       "      <td>0.00</td>\n",
       "      <td>1.00</td>\n",
       "      <td>(1950, 1960]</td>\n",
       "    </tr>\n",
       "    <tr>\n",
       "      <th>35532</th>\n",
       "      <td>0.02</td>\n",
       "      <td>2.00</td>\n",
       "      <td>3.00</td>\n",
       "      <td>1,812.00</td>\n",
       "      <td>6,037.00</td>\n",
       "      <td>0.00</td>\n",
       "      <td>34.05</td>\n",
       "      <td>-118.08</td>\n",
       "      <td>10,906.00</td>\n",
       "      <td>0.00</td>\n",
       "      <td>87,511.00</td>\n",
       "      <td>1957</td>\n",
       "      <td>16,333.00</td>\n",
       "      <td>-0.04</td>\n",
       "      <td>Los Angeles</td>\n",
       "      <td>1.00</td>\n",
       "      <td>0.00</td>\n",
       "      <td>0.00</td>\n",
       "      <td>(1950, 1960]</td>\n",
       "    </tr>\n",
       "    <tr>\n",
       "      <th>17905</th>\n",
       "      <td>0.01</td>\n",
       "      <td>3.00</td>\n",
       "      <td>4.00</td>\n",
       "      <td>3,149.00</td>\n",
       "      <td>6,059.00</td>\n",
       "      <td>2.00</td>\n",
       "      <td>33.49</td>\n",
       "      <td>-117.64</td>\n",
       "      <td>9,000.00</td>\n",
       "      <td>1.00</td>\n",
       "      <td>1,005,040.00</td>\n",
       "      <td>1998</td>\n",
       "      <td>576,786.00</td>\n",
       "      <td>0.03</td>\n",
       "      <td>Orange</td>\n",
       "      <td>0.00</td>\n",
       "      <td>0.00</td>\n",
       "      <td>1.00</td>\n",
       "      <td>(1990, 2000]</td>\n",
       "    </tr>\n",
       "    <tr>\n",
       "      <th>49147</th>\n",
       "      <td>0.01</td>\n",
       "      <td>3.00</td>\n",
       "      <td>4.00</td>\n",
       "      <td>2,859.00</td>\n",
       "      <td>6,037.00</td>\n",
       "      <td>0.00</td>\n",
       "      <td>34.45</td>\n",
       "      <td>-118.57</td>\n",
       "      <td>6,252.00</td>\n",
       "      <td>0.00</td>\n",
       "      <td>644,000.00</td>\n",
       "      <td>2003</td>\n",
       "      <td>330,000.00</td>\n",
       "      <td>0.07</td>\n",
       "      <td>Los Angeles</td>\n",
       "      <td>1.00</td>\n",
       "      <td>0.00</td>\n",
       "      <td>0.00</td>\n",
       "      <td>(2000, 2010]</td>\n",
       "    </tr>\n",
       "    <tr>\n",
       "      <th>43935</th>\n",
       "      <td>0.01</td>\n",
       "      <td>3.00</td>\n",
       "      <td>4.00</td>\n",
       "      <td>2,512.00</td>\n",
       "      <td>6,037.00</td>\n",
       "      <td>0.00</td>\n",
       "      <td>34.16</td>\n",
       "      <td>-118.41</td>\n",
       "      <td>7,042.00</td>\n",
       "      <td>1.00</td>\n",
       "      <td>806,181.00</td>\n",
       "      <td>1974</td>\n",
       "      <td>437,002.00</td>\n",
       "      <td>0.08</td>\n",
       "      <td>Los Angeles</td>\n",
       "      <td>1.00</td>\n",
       "      <td>0.00</td>\n",
       "      <td>0.00</td>\n",
       "      <td>(1970, 1980]</td>\n",
       "    </tr>\n",
       "  </tbody>\n",
       "</table>\n",
       "</div>"
      ],
      "text/plain": [
       "                  tax_rate          bathroomcnt           bedroomcnt  \\\n",
       "22620                 0.01                 2.00                 2.00   \n",
       "35532                 0.02                 2.00                 3.00   \n",
       "17905                 0.01                 3.00                 4.00   \n",
       "49147                 0.01                 3.00                 4.00   \n",
       "43935                 0.01                 3.00                 4.00   \n",
       "\n",
       "       calculatedfinishedsquarefeet                 fips         garagecarcnt  \\\n",
       "22620                      1,212.00             6,059.00                 2.00   \n",
       "35532                      1,812.00             6,037.00                 0.00   \n",
       "17905                      3,149.00             6,059.00                 2.00   \n",
       "49147                      2,859.00             6,037.00                 0.00   \n",
       "43935                      2,512.00             6,037.00                 0.00   \n",
       "\n",
       "                  latitude            longitude    lotsizesquarefeet  \\\n",
       "22620                33.85              -118.02             6,000.00   \n",
       "35532                34.05              -118.08            10,906.00   \n",
       "17905                33.49              -117.64             9,000.00   \n",
       "49147                34.45              -118.57             6,252.00   \n",
       "43935                34.16              -118.41             7,042.00   \n",
       "\n",
       "                   poolcnt    taxvaluedollarcnt  yearbuilt  \\\n",
       "22620                 0.00           143,427.00       1955   \n",
       "35532                 0.00            87,511.00       1957   \n",
       "17905                 1.00         1,005,040.00       1998   \n",
       "49147                 0.00           644,000.00       2003   \n",
       "43935                 1.00           806,181.00       1974   \n",
       "\n",
       "       landtaxvaluedollarcnt             logerror  county_name  \\\n",
       "22620              88,553.00                -0.08       Orange   \n",
       "35532              16,333.00                -0.04  Los Angeles   \n",
       "17905             576,786.00                 0.03       Orange   \n",
       "49147             330,000.00                 0.07  Los Angeles   \n",
       "43935             437,002.00                 0.08  Los Angeles   \n",
       "\n",
       "               los_angeles              ventura               orange  \\\n",
       "22620                 0.00                 0.00                 1.00   \n",
       "35532                 1.00                 0.00                 0.00   \n",
       "17905                 0.00                 0.00                 1.00   \n",
       "49147                 1.00                 0.00                 0.00   \n",
       "43935                 1.00                 0.00                 0.00   \n",
       "\n",
       "             decade  \n",
       "22620  (1950, 1960]  \n",
       "35532  (1950, 1960]  \n",
       "17905  (1990, 2000]  \n",
       "49147  (2000, 2010]  \n",
       "43935  (1970, 1980]  "
      ]
     },
     "execution_count": 84,
     "metadata": {},
     "output_type": "execute_result"
    }
   ],
   "source": [
    "train_cat.head()"
   ]
  },
  {
   "cell_type": "markdown",
   "metadata": {},
   "source": [
    "## Visualize Correlation between lot size and home value"
   ]
  },
  {
   "cell_type": "code",
   "execution_count": 85,
   "metadata": {
    "scrolled": true
   },
   "outputs": [
    {
     "data": {
      "text/plain": [
       " 1,048.00    1\n",
       " 1,050.00    1\n",
       " 1,053.00    1\n",
       " 1,075.00    1\n",
       " 1,078.00    1\n",
       " 1,092.00    1\n",
       " 1,116.00    1\n",
       " 1,120.00    1\n",
       " 1,130.00    1\n",
       " 1,140.00    1\n",
       " 1,141.00    1\n",
       " 1,144.00    1\n",
       " 1,152.00    1\n",
       " 1,154.00    5\n",
       " 1,155.00    2\n",
       " 1,161.00    1\n",
       " 1,176.00    1\n",
       " 1,188.00    2\n",
       " 1,196.00    1\n",
       " 1,199.00    1\n",
       " 1,200.00    2\n",
       " 1,210.00    3\n",
       " 1,228.00    1\n",
       " 1,231.00    1\n",
       " 1,235.00    1\n",
       " 1,248.00    1\n",
       " 1,256.00    1\n",
       " 1,274.00    1\n",
       " 1,276.00    1\n",
       " 1,279.00    1\n",
       "            ..\n",
       "12,895.00    2\n",
       "12,896.00    1\n",
       "12,900.00    1\n",
       "12,901.00    1\n",
       "12,902.00    1\n",
       "12,903.00    1\n",
       "12,908.00    1\n",
       "12,909.00    1\n",
       "12,914.00    1\n",
       "12,919.00    3\n",
       "12,925.00    2\n",
       "12,926.00    1\n",
       "12,932.00    2\n",
       "12,934.00    1\n",
       "12,937.00    1\n",
       "12,938.00    2\n",
       "12,942.00    1\n",
       "12,946.00    1\n",
       "12,947.00    1\n",
       "12,950.00    1\n",
       "12,951.00    1\n",
       "12,953.00    1\n",
       "12,955.00    2\n",
       "12,968.00    1\n",
       "12,969.00    2\n",
       "12,972.00    1\n",
       "12,974.00    1\n",
       "12,976.00    1\n",
       "12,978.00    1\n",
       "12,981.00    1\n",
       "Name: lotsizesquarefeet, Length: 8184, dtype: int64"
      ]
     },
     "execution_count": 85,
     "metadata": {},
     "output_type": "execute_result"
    }
   ],
   "source": [
    "train_cat.lotsizesquarefeet.value_counts().sort_index()"
   ]
  },
  {
   "cell_type": "code",
   "execution_count": 86,
   "metadata": {},
   "outputs": [],
   "source": [
    "# creating df handling values above 10_000 sqfeet to get a better look at the relationship between the variables\n",
    "\n",
    "#lot_no_outliers = train_cat[train_cat.lotsizesquarefeet > 10000]"
   ]
  },
  {
   "cell_type": "code",
   "execution_count": 87,
   "metadata": {},
   "outputs": [],
   "source": [
    "lot_no_outliers = train_cat[train_cat.taxvaluedollarcnt < 2_000_000]"
   ]
  },
  {
   "cell_type": "markdown",
   "metadata": {},
   "source": [
    "### DB Scan this thingy"
   ]
  },
  {
   "cell_type": "code",
   "execution_count": 88,
   "metadata": {},
   "outputs": [
    {
     "data": {
      "text/plain": [
       "<seaborn.axisgrid.JointGrid at 0x1a26ab6860>"
      ]
     },
     "execution_count": 88,
     "metadata": {},
     "output_type": "execute_result"
    },
    {
     "data": {
      "image/png": "[encoded data removed]",
      "text/plain": [
       "<Figure size 432x432 with 3 Axes>"
      ]
     },
     "metadata": {
      "needs_background": "light"
     },
     "output_type": "display_data"
    }
   ],
   "source": [
    "sns.jointplot(data=lot_no_outliers, y=\"taxvaluedollarcnt\", x=\"lotsizesquarefeet\", kind=\"hex\")"
   ]
  },
  {
   "cell_type": "markdown",
   "metadata": {},
   "source": [
    "## Split train and test into X_train, X_test, y_train, y_test"
   ]
  },
  {
   "cell_type": "code",
   "execution_count": 89,
   "metadata": {},
   "outputs": [],
   "source": [
    "train = train.drop(columns='county_name')\n",
    "test = test.drop(columns='county_name')"
   ]
  },
  {
   "cell_type": "code",
   "execution_count": 90,
   "metadata": {},
   "outputs": [],
   "source": [
    "X_train = train.drop(columns=\"logerror\")\n",
    "\n",
    "y_train = train[[\"logerror\"]]\n",
    "\n",
    "X_test = test.drop(columns=\"logerror\")\n",
    "\n",
    "y_test = test[[\"logerror\"]]"
   ]
  },
  {
   "cell_type": "markdown",
   "metadata": {},
   "source": [
    "### Model df - Random Forest"
   ]
  },
  {
   "cell_type": "code",
   "execution_count": 91,
   "metadata": {},
   "outputs": [],
   "source": [
    "from sklearn.model_selection import train_test_split\n",
    "from sklearn.ensemble import RandomForestRegressor\n",
    "from sklearn.metrics import classification_report\n",
    "from sklearn.metrics import confusion_matrix\n",
    "\n",
    "\n",
    "import matplotlib.pyplot as plt\n",
    "%matplotlib inline\n",
    "import seaborn as sns"
   ]
  },
  {
   "cell_type": "code",
   "execution_count": 92,
   "metadata": {},
   "outputs": [],
   "source": [
    "rf = RandomForestRegressor(n_estimators=100)"
   ]
  },
  {
   "cell_type": "code",
   "execution_count": 93,
   "metadata": {},
   "outputs": [
    {
     "data": {
      "text/plain": [
       "RandomForestRegressor(bootstrap=True, criterion='mse', max_depth=None,\n",
       "                      max_features='auto', max_leaf_nodes=None,\n",
       "                      min_impurity_decrease=0.0, min_impurity_split=None,\n",
       "                      min_samples_leaf=1, min_samples_split=2,\n",
       "                      min_weight_fraction_leaf=0.0, n_estimators=100,\n",
       "                      n_jobs=None, oob_score=False, random_state=None,\n",
       "                      verbose=0, warm_start=False)"
      ]
     },
     "execution_count": 93,
     "metadata": {},
     "output_type": "execute_result"
    }
   ],
   "source": [
    "rf.fit(X_train, y_train)"
   ]
  },
  {
   "cell_type": "code",
   "execution_count": 94,
   "metadata": {},
   "outputs": [
    {
     "name": "stdout",
     "output_type": "stream",
     "text": [
      "root mean squared error = 0.0020191271974559256\n"
     ]
    }
   ],
   "source": [
    "from sklearn.metrics import mean_squared_error\n",
    "\n",
    "y_pred = rf.predict(X_train)\n",
    "print(f'root mean squared error = {mean_squared_error(y_train, y_pred)**1/2}')"
   ]
  },
  {
   "cell_type": "code",
   "execution_count": 95,
   "metadata": {},
   "outputs": [
    {
     "name": "stdout",
     "output_type": "stream",
     "text": [
      "root mean squared error = 0.014369760586992667\n"
     ]
    }
   ],
   "source": [
    "y_pred = rf.predict(X_test)\n",
    "print(f'root mean squared error = {mean_squared_error(y_test, y_pred)**1/2}')"
   ]
  },
  {
   "cell_type": "markdown",
   "metadata": {},
   "source": [
    "### PUT TAKEAWAYS FROM RANDOM FOREST MODEL HERE"
   ]
  },
  {
   "cell_type": "markdown",
   "metadata": {},
   "source": [
    "## Model - Linear Regression Model"
   ]
  },
  {
   "cell_type": "code",
   "execution_count": 96,
   "metadata": {},
   "outputs": [
    {
     "data": {
      "text/plain": [
       "tax_rate                         float64\n",
       "bathroomcnt                     category\n",
       "bedroomcnt                      category\n",
       "calculatedfinishedsquarefeet     float64\n",
       "fips                             float64\n",
       "garagecarcnt                       int64\n",
       "latitude                         float64\n",
       "longitude                        float64\n",
       "lotsizesquarefeet                float64\n",
       "poolcnt                            int64\n",
       "taxvaluedollarcnt                float64\n",
       "yearbuilt                          int64\n",
       "landtaxvaluedollarcnt            float64\n",
       "los_angeles                      float64\n",
       "ventura                          float64\n",
       "orange                           float64\n",
       "extras                            object\n",
       "dtype: object"
      ]
     },
     "execution_count": 96,
     "metadata": {},
     "output_type": "execute_result"
    }
   ],
   "source": [
    "X_train.dtypes"
   ]
  },
  {
   "cell_type": "code",
   "execution_count": 97,
   "metadata": {},
   "outputs": [
    {
     "data": {
      "text/html": [
       "<div>\n",
       "<style scoped>\n",
       "    .dataframe tbody tr th:only-of-type {\n",
       "        vertical-align: middle;\n",
       "    }\n",
       "\n",
       "    .dataframe tbody tr th {\n",
       "        vertical-align: top;\n",
       "    }\n",
       "\n",
       "    .dataframe thead th {\n",
       "        text-align: right;\n",
       "    }\n",
       "</style>\n",
       "<table border=\"1\" class=\"dataframe\">\n",
       "  <thead>\n",
       "    <tr style=\"text-align: right;\">\n",
       "      <th></th>\n",
       "      <th>tax_rate</th>\n",
       "      <th>bathroomcnt</th>\n",
       "      <th>bedroomcnt</th>\n",
       "      <th>calculatedfinishedsquarefeet</th>\n",
       "      <th>fips</th>\n",
       "      <th>garagecarcnt</th>\n",
       "      <th>latitude</th>\n",
       "      <th>longitude</th>\n",
       "      <th>lotsizesquarefeet</th>\n",
       "      <th>poolcnt</th>\n",
       "      <th>taxvaluedollarcnt</th>\n",
       "      <th>yearbuilt</th>\n",
       "      <th>landtaxvaluedollarcnt</th>\n",
       "      <th>los_angeles</th>\n",
       "      <th>ventura</th>\n",
       "      <th>orange</th>\n",
       "      <th>extras</th>\n",
       "    </tr>\n",
       "  </thead>\n",
       "  <tbody>\n",
       "    <tr>\n",
       "      <th>22620</th>\n",
       "      <td>0.01</td>\n",
       "      <td>2.00</td>\n",
       "      <td>2.00</td>\n",
       "      <td>1,212.00</td>\n",
       "      <td>6,059.00</td>\n",
       "      <td>2</td>\n",
       "      <td>33.85</td>\n",
       "      <td>-118.02</td>\n",
       "      <td>6,000.00</td>\n",
       "      <td>0</td>\n",
       "      <td>143,427.00</td>\n",
       "      <td>1955</td>\n",
       "      <td>88,553.00</td>\n",
       "      <td>0.00</td>\n",
       "      <td>0.00</td>\n",
       "      <td>1.00</td>\n",
       "      <td>1</td>\n",
       "    </tr>\n",
       "    <tr>\n",
       "      <th>35532</th>\n",
       "      <td>0.02</td>\n",
       "      <td>2.00</td>\n",
       "      <td>3.00</td>\n",
       "      <td>1,812.00</td>\n",
       "      <td>6,037.00</td>\n",
       "      <td>0</td>\n",
       "      <td>34.05</td>\n",
       "      <td>-118.08</td>\n",
       "      <td>10,906.00</td>\n",
       "      <td>0</td>\n",
       "      <td>87,511.00</td>\n",
       "      <td>1957</td>\n",
       "      <td>16,333.00</td>\n",
       "      <td>1.00</td>\n",
       "      <td>0.00</td>\n",
       "      <td>0.00</td>\n",
       "      <td>0</td>\n",
       "    </tr>\n",
       "    <tr>\n",
       "      <th>17905</th>\n",
       "      <td>0.01</td>\n",
       "      <td>3.00</td>\n",
       "      <td>4.00</td>\n",
       "      <td>3,149.00</td>\n",
       "      <td>6,059.00</td>\n",
       "      <td>2</td>\n",
       "      <td>33.49</td>\n",
       "      <td>-117.64</td>\n",
       "      <td>9,000.00</td>\n",
       "      <td>1</td>\n",
       "      <td>1,005,040.00</td>\n",
       "      <td>1998</td>\n",
       "      <td>576,786.00</td>\n",
       "      <td>0.00</td>\n",
       "      <td>0.00</td>\n",
       "      <td>1.00</td>\n",
       "      <td>2</td>\n",
       "    </tr>\n",
       "    <tr>\n",
       "      <th>49147</th>\n",
       "      <td>0.01</td>\n",
       "      <td>3.00</td>\n",
       "      <td>4.00</td>\n",
       "      <td>2,859.00</td>\n",
       "      <td>6,037.00</td>\n",
       "      <td>0</td>\n",
       "      <td>34.45</td>\n",
       "      <td>-118.57</td>\n",
       "      <td>6,252.00</td>\n",
       "      <td>0</td>\n",
       "      <td>644,000.00</td>\n",
       "      <td>2003</td>\n",
       "      <td>330,000.00</td>\n",
       "      <td>1.00</td>\n",
       "      <td>0.00</td>\n",
       "      <td>0.00</td>\n",
       "      <td>0</td>\n",
       "    </tr>\n",
       "    <tr>\n",
       "      <th>43935</th>\n",
       "      <td>0.01</td>\n",
       "      <td>3.00</td>\n",
       "      <td>4.00</td>\n",
       "      <td>2,512.00</td>\n",
       "      <td>6,037.00</td>\n",
       "      <td>0</td>\n",
       "      <td>34.16</td>\n",
       "      <td>-118.41</td>\n",
       "      <td>7,042.00</td>\n",
       "      <td>1</td>\n",
       "      <td>806,181.00</td>\n",
       "      <td>1974</td>\n",
       "      <td>437,002.00</td>\n",
       "      <td>1.00</td>\n",
       "      <td>0.00</td>\n",
       "      <td>0.00</td>\n",
       "      <td>1</td>\n",
       "    </tr>\n",
       "  </tbody>\n",
       "</table>\n",
       "</div>"
      ],
      "text/plain": [
       "                  tax_rate          bathroomcnt           bedroomcnt  \\\n",
       "22620                 0.01                 2.00                 2.00   \n",
       "35532                 0.02                 2.00                 3.00   \n",
       "17905                 0.01                 3.00                 4.00   \n",
       "49147                 0.01                 3.00                 4.00   \n",
       "43935                 0.01                 3.00                 4.00   \n",
       "\n",
       "       calculatedfinishedsquarefeet                 fips  garagecarcnt  \\\n",
       "22620                      1,212.00             6,059.00             2   \n",
       "35532                      1,812.00             6,037.00             0   \n",
       "17905                      3,149.00             6,059.00             2   \n",
       "49147                      2,859.00             6,037.00             0   \n",
       "43935                      2,512.00             6,037.00             0   \n",
       "\n",
       "                  latitude            longitude    lotsizesquarefeet  poolcnt  \\\n",
       "22620                33.85              -118.02             6,000.00        0   \n",
       "35532                34.05              -118.08            10,906.00        0   \n",
       "17905                33.49              -117.64             9,000.00        1   \n",
       "49147                34.45              -118.57             6,252.00        0   \n",
       "43935                34.16              -118.41             7,042.00        1   \n",
       "\n",
       "         taxvaluedollarcnt  yearbuilt  landtaxvaluedollarcnt  \\\n",
       "22620           143,427.00       1955              88,553.00   \n",
       "35532            87,511.00       1957              16,333.00   \n",
       "17905         1,005,040.00       1998             576,786.00   \n",
       "49147           644,000.00       2003             330,000.00   \n",
       "43935           806,181.00       1974             437,002.00   \n",
       "\n",
       "               los_angeles              ventura               orange extras  \n",
       "22620                 0.00                 0.00                 1.00      1  \n",
       "35532                 1.00                 0.00                 0.00      0  \n",
       "17905                 0.00                 0.00                 1.00      2  \n",
       "49147                 1.00                 0.00                 0.00      0  \n",
       "43935                 1.00                 0.00                 0.00      1  "
      ]
     },
     "execution_count": 97,
     "metadata": {},
     "output_type": "execute_result"
    }
   ],
   "source": [
    "X_train.head()"
   ]
  },
  {
   "cell_type": "code",
   "execution_count": 98,
   "metadata": {},
   "outputs": [],
   "source": [
    "X_train.garagecarcnt = X_train.garagecarcnt.astype(float)\n",
    "X_train.bathroomcnt = X_train.bathroomcnt.astype(float)\n",
    "X_train.bedroomcnt = X_train.bedroomcnt.astype(float)\n",
    "X_train.poolcnt = X_train.poolcnt.astype(float)"
   ]
  },
  {
   "cell_type": "code",
   "execution_count": 99,
   "metadata": {},
   "outputs": [],
   "source": [
    "X_train = X_train.drop(columns='yearbuilt')\n",
    "X_test = X_test.drop(columns='yearbuilt')"
   ]
  },
  {
   "cell_type": "code",
   "execution_count": 100,
   "metadata": {},
   "outputs": [
    {
     "name": "stdout",
     "output_type": "stream",
     "text": [
      "LinearRegression(copy_X=True, fit_intercept=True, n_jobs=None, normalize=False)\n"
     ]
    }
   ],
   "source": [
    "# create the LR object\n",
    "\n",
    "lm1 = LinearRegression()\n",
    "print(lm1)"
   ]
  },
  {
   "cell_type": "code",
   "execution_count": 101,
   "metadata": {},
   "outputs": [],
   "source": [
    "# fit/train the model\n",
    "\n",
    "model = lm1.fit(X_train, y_train)"
   ]
  },
  {
   "cell_type": "code",
   "execution_count": 102,
   "metadata": {},
   "outputs": [
    {
     "data": {
      "text/plain": [
       "array([[0.02222162],\n",
       "       [0.02460522],\n",
       "       [0.02210001],\n",
       "       ...,\n",
       "       [0.01279036],\n",
       "       [0.01763535],\n",
       "       [0.02739717]])"
      ]
     },
     "execution_count": 102,
     "metadata": {},
     "output_type": "execute_result"
    }
   ],
   "source": [
    "# create yhat variable, numpy array, in-sample prediction values\n",
    "\n",
    "yhat = model.predict(X_train)\n",
    "type(yhat)\n",
    "yhat"
   ]
  },
  {
   "cell_type": "code",
   "execution_count": 103,
   "metadata": {},
   "outputs": [
    {
     "data": {
      "text/html": [
       "<div>\n",
       "<style scoped>\n",
       "    .dataframe tbody tr th:only-of-type {\n",
       "        vertical-align: middle;\n",
       "    }\n",
       "\n",
       "    .dataframe tbody tr th {\n",
       "        vertical-align: top;\n",
       "    }\n",
       "\n",
       "    .dataframe thead th {\n",
       "        text-align: right;\n",
       "    }\n",
       "</style>\n",
       "<table border=\"1\" class=\"dataframe\">\n",
       "  <thead>\n",
       "    <tr style=\"text-align: right;\">\n",
       "      <th></th>\n",
       "      <th>logerror</th>\n",
       "    </tr>\n",
       "  </thead>\n",
       "  <tbody>\n",
       "    <tr>\n",
       "      <th>22620</th>\n",
       "      <td>-0.08</td>\n",
       "    </tr>\n",
       "    <tr>\n",
       "      <th>35532</th>\n",
       "      <td>-0.04</td>\n",
       "    </tr>\n",
       "    <tr>\n",
       "      <th>17905</th>\n",
       "      <td>0.03</td>\n",
       "    </tr>\n",
       "    <tr>\n",
       "      <th>49147</th>\n",
       "      <td>0.07</td>\n",
       "    </tr>\n",
       "    <tr>\n",
       "      <th>43935</th>\n",
       "      <td>0.08</td>\n",
       "    </tr>\n",
       "  </tbody>\n",
       "</table>\n",
       "</div>"
      ],
      "text/plain": [
       "                  logerror\n",
       "22620                -0.08\n",
       "35532                -0.04\n",
       "17905                 0.03\n",
       "49147                 0.07\n",
       "43935                 0.08"
      ]
     },
     "execution_count": 103,
     "metadata": {},
     "output_type": "execute_result"
    }
   ],
   "source": [
    "actual = y_train\n",
    "actual.head()"
   ]
  },
  {
   "cell_type": "code",
   "execution_count": 104,
   "metadata": {},
   "outputs": [],
   "source": [
    "actual['yhat'] = yhat"
   ]
  },
  {
   "cell_type": "markdown",
   "metadata": {},
   "source": [
    "### Evaluate LR Model"
   ]
  },
  {
   "cell_type": "code",
   "execution_count": 105,
   "metadata": {},
   "outputs": [],
   "source": [
    "actual[\"residual\"] = actual[\"yhat\"] - actual[\"logerror\"]"
   ]
  },
  {
   "cell_type": "code",
   "execution_count": 106,
   "metadata": {},
   "outputs": [
    {
     "data": {
      "text/html": [
       "<div>\n",
       "<style scoped>\n",
       "    .dataframe tbody tr th:only-of-type {\n",
       "        vertical-align: middle;\n",
       "    }\n",
       "\n",
       "    .dataframe tbody tr th {\n",
       "        vertical-align: top;\n",
       "    }\n",
       "\n",
       "    .dataframe thead th {\n",
       "        text-align: right;\n",
       "    }\n",
       "</style>\n",
       "<table border=\"1\" class=\"dataframe\">\n",
       "  <thead>\n",
       "    <tr style=\"text-align: right;\">\n",
       "      <th></th>\n",
       "      <th>logerror</th>\n",
       "      <th>yhat</th>\n",
       "      <th>residual</th>\n",
       "    </tr>\n",
       "  </thead>\n",
       "  <tbody>\n",
       "    <tr>\n",
       "      <th>22620</th>\n",
       "      <td>-0.08</td>\n",
       "      <td>0.02</td>\n",
       "      <td>0.10</td>\n",
       "    </tr>\n",
       "  </tbody>\n",
       "</table>\n",
       "</div>"
      ],
      "text/plain": [
       "                  logerror                 yhat             residual\n",
       "22620                -0.08                 0.02                 0.10"
      ]
     },
     "execution_count": 106,
     "metadata": {},
     "output_type": "execute_result"
    }
   ],
   "source": [
    "actual.head(1)"
   ]
  },
  {
   "cell_type": "code",
   "execution_count": 107,
   "metadata": {},
   "outputs": [
    {
     "data": {
      "text/plain": [
       "<matplotlib.axes._subplots.AxesSubplot at 0x1a29a8c390>"
      ]
     },
     "execution_count": 107,
     "metadata": {},
     "output_type": "execute_result"
    },
    {
     "data": {
      "image/png": "[encoded data removed]",
      "text/plain": [
       "<Figure size 432x288 with 1 Axes>"
      ]
     },
     "metadata": {
      "needs_background": "light"
     },
     "output_type": "display_data"
    }
   ],
   "source": [
    "sns.distplot(actual[\"residual\"])"
   ]
  },
  {
   "cell_type": "code",
   "execution_count": 108,
   "metadata": {},
   "outputs": [],
   "source": [
    "#sns.jointplot(actual[\"logerror\"], actual[\"yhat\"], kind=\"resid\")\n"
   ]
  },
  {
   "cell_type": "code",
   "execution_count": 109,
   "metadata": {},
   "outputs": [],
   "source": [
    "actual[\"residual^2\"] = actual[\"residual\"] ** 2"
   ]
  },
  {
   "cell_type": "code",
   "execution_count": 110,
   "metadata": {},
   "outputs": [
    {
     "name": "stdout",
     "output_type": "stream",
     "text": [
      "sse = 845.9601905399343\n",
      "mse = 0.02730489285843181\n",
      "rmse = 0.16524192221840017\n"
     ]
    }
   ],
   "source": [
    "sse = sum(actual[\"residual^2\"])\n",
    "print(f\"sse = {sse}\")\n",
    "mse = sse / len(actual)\n",
    "print(f\"mse = {mse}\")\n",
    "rmse = sqrt(mse)\n",
    "print(f\"rmse = {rmse}\")"
   ]
  },
  {
   "cell_type": "code",
   "execution_count": 111,
   "metadata": {},
   "outputs": [
    {
     "data": {
      "text/html": [
       "<div>\n",
       "<style scoped>\n",
       "    .dataframe tbody tr th:only-of-type {\n",
       "        vertical-align: middle;\n",
       "    }\n",
       "\n",
       "    .dataframe tbody tr th {\n",
       "        vertical-align: top;\n",
       "    }\n",
       "\n",
       "    .dataframe thead th {\n",
       "        text-align: right;\n",
       "    }\n",
       "</style>\n",
       "<table border=\"1\" class=\"dataframe\">\n",
       "  <thead>\n",
       "    <tr style=\"text-align: right;\">\n",
       "      <th></th>\n",
       "      <th>metric</th>\n",
       "      <th>model_error</th>\n",
       "    </tr>\n",
       "  </thead>\n",
       "  <tbody>\n",
       "    <tr>\n",
       "      <th>0</th>\n",
       "      <td>SSE</td>\n",
       "      <td>845.96</td>\n",
       "    </tr>\n",
       "    <tr>\n",
       "      <th>1</th>\n",
       "      <td>MSE</td>\n",
       "      <td>0.03</td>\n",
       "    </tr>\n",
       "    <tr>\n",
       "      <th>2</th>\n",
       "      <td>RMSE</td>\n",
       "      <td>0.17</td>\n",
       "    </tr>\n",
       "  </tbody>\n",
       "</table>\n",
       "</div>"
      ],
      "text/plain": [
       "  metric          model_error\n",
       "0    SSE               845.96\n",
       "1    MSE                 0.03\n",
       "2   RMSE                 0.17"
      ]
     },
     "execution_count": 111,
     "metadata": {},
     "output_type": "execute_result"
    }
   ],
   "source": [
    "df_eval = pd.DataFrame(np.array([\"SSE\", \"MSE\", \"RMSE\"]), columns=[\"metric\"])\n",
    "df_eval[\"model_error\"] = np.array([sse, mse, rmse])\n",
    "df_eval"
   ]
  },
  {
   "cell_type": "markdown",
   "metadata": {},
   "source": [
    "- Create a numpy array from the y_df_nums_train df, so I can run eval metrics using yhat(prediction array) and y_array (array of actual y values)"
   ]
  },
  {
   "cell_type": "code",
   "execution_count": 112,
   "metadata": {},
   "outputs": [
    {
     "data": {
      "text/plain": [
       "numpy.ndarray"
      ]
     },
     "execution_count": 112,
     "metadata": {},
     "output_type": "execute_result"
    }
   ],
   "source": [
    "y_array = np.array(y_train)\n",
    "type(y_array)"
   ]
  },
  {
   "cell_type": "code",
   "execution_count": 113,
   "metadata": {},
   "outputs": [
    {
     "data": {
      "text/plain": [
       "0.00401728297750481"
      ]
     },
     "execution_count": 113,
     "metadata": {},
     "output_type": "execute_result"
    }
   ],
   "source": [
    "r2_score(actual.logerror, actual.yhat)"
   ]
  },
  {
   "cell_type": "code",
   "execution_count": 114,
   "metadata": {},
   "outputs": [
    {
     "name": "stdout",
     "output_type": "stream",
     "text": [
      "linear model\n",
      "  mean squared error: 0.0273\n",
      "  0.40% of the variance in the logerror can be explained by variables.\n"
     ]
    }
   ],
   "source": [
    "mse_lm1 = mean_squared_error(actual.logerror, actual.yhat)\n",
    "print(\"linear model\\n  mean squared error: {:.3}\".format(mse_lm1)) \n",
    "\n",
    "r2_lm1 = r2_score(actual.logerror, actual.yhat)\n",
    "print('  {:.2%} of the variance in the logerror can be explained by variables.'.format(r2_lm1))"
   ]
  },
  {
   "cell_type": "markdown",
   "metadata": {},
   "source": [
    "### Takeaways from the Linear Regression Model:\n",
    "\n",
    "- Based on the results above I fail to reject the Null Hypothesis that the numeric values alone can predict the logerror.\n",
    "\n",
    "- Using a Linear Regression model to predict the logerror may not be the best choice.\n",
    "\n",
    "- Finding a way to include categorical variables in a model may help predict logerror."
   ]
  },
  {
   "cell_type": "markdown",
   "metadata": {},
   "source": [
    "### Model - K Neighbors Regressor"
   ]
  },
  {
   "cell_type": "code",
   "execution_count": 115,
   "metadata": {},
   "outputs": [],
   "source": [
    "# create the object\n",
    "neigh = KNeighborsRegressor(n_neighbors=2)"
   ]
  },
  {
   "cell_type": "code",
   "execution_count": 116,
   "metadata": {},
   "outputs": [
    {
     "data": {
      "text/plain": [
       "KNeighborsRegressor(algorithm='auto', leaf_size=30, metric='minkowski',\n",
       "                    metric_params=None, n_jobs=None, n_neighbors=2, p=2,\n",
       "                    weights='uniform')"
      ]
     },
     "execution_count": 116,
     "metadata": {},
     "output_type": "execute_result"
    }
   ],
   "source": [
    "# fit/train the model using train \n",
    "neigh.fit(X_train, y_train)"
   ]
  },
  {
   "cell_type": "code",
   "execution_count": 117,
   "metadata": {},
   "outputs": [
    {
     "data": {
      "text/plain": [
       "numpy.ndarray"
      ]
     },
     "execution_count": 117,
     "metadata": {},
     "output_type": "execute_result"
    }
   ],
   "source": [
    "yhat = neigh.predict(X_train)\n",
    "type(yhat)"
   ]
  },
  {
   "cell_type": "code",
   "execution_count": 118,
   "metadata": {},
   "outputs": [],
   "source": [
    "r2 = neigh.score(X_train, y_train)"
   ]
  },
  {
   "cell_type": "code",
   "execution_count": 119,
   "metadata": {},
   "outputs": [
    {
     "name": "stdout",
     "output_type": "stream",
     "text": [
      "  44.05% of the variance in the logerror can be explained by variables.\n"
     ]
    }
   ],
   "source": [
    "print('  {:.2%} of the variance in the logerror can be explained by variables.'.format(r2))"
   ]
  },
  {
   "cell_type": "markdown",
   "metadata": {},
   "source": [
    "### Takeaways from KNRegressor Model\n",
    "\n",
    "- This model explained more than 40% more of the variance in logerror than my LR model using exactly the same data.\n",
    "\n",
    "- The subset of data I used was comprised of the numeric values only from the original dataframe.\n",
    "\n",
    "- I think this model could do even better with outliers handled and some feature engineering."
   ]
  },
  {
   "cell_type": "code",
   "execution_count": null,
   "metadata": {},
   "outputs": [],
   "source": []
  }
 ],
 "metadata": {
  "kernelspec": {
   "display_name": "Python 3",
   "language": "python",
   "name": "python3"
  },
  "language_info": {
   "codemirror_mode": {
    "name": "ipython",
    "version": 3
   },
   "file_extension": ".py",
   "mimetype": "text/x-python",
   "name": "python",
   "nbconvert_exporter": "python",
   "pygments_lexer": "ipython3",
   "version": "3.7.3"
  }
 },
 "nbformat": 4,
 "nbformat_minor": 2
}
