{
 "cells": [
  {
   "cell_type": "code",
   "execution_count": 1,
   "metadata": {},
   "outputs": [],
   "source": [
    "# ignore warnings\n",
    "import warnings\n",
    "warnings.filterwarnings(\"ignore\")\n",
    "\n",
    "# wrangling\n",
    "import pandas as pd\n",
    "import numpy as np\n",
    "\n",
    "# preparing\n",
    "from sklearn.model_selection import train_test_split\n",
    "\n",
    "# visualizing\n",
    "%matplotlib inline\n",
    "import matplotlib.pyplot as plt\n",
    "import seaborn as sns\n",
    "\n",
    "# exploring\n",
    "import scipy.stats as stats\n",
    "import pandas_profiling\n",
    "\n",
    "# modeling\n",
    "from sklearn.cluster import KMeans\n",
    "from sklearn.preprocessing import LabelEncoder, OneHotEncoder, MinMaxScaler\n",
    "from sklearn.linear_model import LinearRegression\n",
    "from statsmodels.formula.api import ols\n",
    "from sklearn.metrics import mean_squared_error, r2_score, explained_variance_score\n",
    "from sklearn.feature_selection import f_regression\n",
    "from math import sqrt\n",
    "from sklearn.neighbors import KNeighborsRegressor\n",
    "\n",
    "# 3D projection\n",
    "from mpl_toolkits.mplot3d import Axes3D\n",
    "\n",
    "pd.options.display.float_format = '{:20,.2f}'.format\n",
    "\n",
    "# my modules\n",
    "import acquire\n",
    "import summarize\n",
    "import prepare\n",
    "\n",
    "# default pandas decimal number display format\n",
    "pd.options.display.float_format = '{:20,.2f}'.format"
   ]
  },
  {
   "cell_type": "markdown",
   "metadata": {},
   "source": [
    "## Acquire\n",
    "\n",
    "- 2017 data\n",
    "\n",
    "- Used only latest transaction property id.\n",
    "\n",
    "- Used only properties with single family homes.\n",
    "\n",
    "- Acquired zillow data using acquire.py (sequel query in this file)\n",
    "\n",
    "- Exported df to a csv file for faster loading."
   ]
  },
  {
   "cell_type": "code",
   "execution_count": 2,
   "metadata": {},
   "outputs": [],
   "source": [
    "# df = acquire.get_zillow_data()\n",
    "# df.head()"
   ]
  },
  {
   "cell_type": "code",
   "execution_count": 69,
   "metadata": {},
   "outputs": [],
   "source": [
    "# Reads in a df with 52,169 rows and 21 columns\n",
    "\n",
    "df = pd.read_csv(\"zillow_dataframe.csv\")"
   ]
  },
  {
   "cell_type": "code",
   "execution_count": 70,
   "metadata": {},
   "outputs": [
    {
     "data": {
      "text/plain": [
       "(52169, 21)"
      ]
     },
     "execution_count": 70,
     "metadata": {},
     "output_type": "execute_result"
    }
   ],
   "source": [
    "df.shape"
   ]
  },
  {
   "cell_type": "markdown",
   "metadata": {},
   "source": [
    "## Prepare\n",
    "\n",
    "- Starting stage with 52,169 rows and 19 columns\n",
    "\n",
    "- This stage will be revisted often as data needs dictate.\n",
    "\n",
    "- Drop columns not needed based on previous and ongling exploration:\n",
    "\n",
    "    - \"Unnamed: 0\", \"garagetotalsqft\", \"poolsizesum\", \"taxdelinquencyflag\", \"taxdelinquencyyear\", \"transactions\"\n",
    "    \n",
    "- Keep garagecacnt and poolcnt for exploration and possible feature engineering purposed.\n",
    "\n",
    "- Manually scale latitude and longitude by dividing by 1 million.\n",
    "\n",
    "- Create the following new variables for exploration and modeling\n",
    "\n",
    "    - price_per_sq_ft: (value of house / house square footage)\n",
    "    \n",
    "    - land_price_per_sq_ft: (land tax value / lot square footage)\n",
    "    \n",
    "    - cluster: Los Angeles == 0, Ventura == 1, Orange == 2\n",
    "    \n",
    "- Split data into train and test\n",
    "    \n",
    "- Fill zeros for missing values in garagecarcnt and poolcnt\n",
    "\n",
    "    - explore these columns for possible feature engineering in this or future iterations of project\n",
    "\n",
    "- Use a function to drop rows and columns:\n",
    "\n",
    "    - drop columns that have more than 50% of values missing and rows with more than 75% of values missing\n",
    "    \n",
    "- Drop remaining rows with Nulls to get data ready to model\n",
    "\n",
    "- Final train and test df sizes at the end of prepare-  \n",
    "\n",
    "    - train = (36518, 20)\n",
    "    - test = (15651, 20)"
   ]
  },
  {
   "cell_type": "code",
   "execution_count": 71,
   "metadata": {},
   "outputs": [],
   "source": [
    "# drop columns that will not be needed for explore or model\n",
    "\n",
    "df = df.drop(columns=[\"Unnamed: 0\", \"garagetotalsqft\", \"poolsizesum\", \"taxdelinquencyflag\", \"taxdelinquencyyear\", \"transactions\"])"
   ]
  },
  {
   "cell_type": "code",
   "execution_count": 72,
   "metadata": {},
   "outputs": [
    {
     "data": {
      "text/plain": [
       "(52169, 15)"
      ]
     },
     "execution_count": 72,
     "metadata": {},
     "output_type": "execute_result"
    }
   ],
   "source": [
    "df.shape"
   ]
  },
  {
   "cell_type": "code",
   "execution_count": 73,
   "metadata": {},
   "outputs": [
    {
     "data": {
      "text/plain": [
       "tax_rate                            5\n",
       "bathroomcnt                         0\n",
       "bedroomcnt                          0\n",
       "calculatedfinishedsquarefeet        8\n",
       "fips                                0\n",
       "garagecarcnt                    34203\n",
       "latitude                            0\n",
       "longitude                           0\n",
       "lotsizesquarefeet                 354\n",
       "poolcnt                         41105\n",
       "taxvaluedollarcnt                   1\n",
       "yearbuilt                          40\n",
       "landtaxvaluedollarcnt               1\n",
       "logerror                            0\n",
       "county_name                         0\n",
       "dtype: int64"
      ]
     },
     "execution_count": 73,
     "metadata": {},
     "output_type": "execute_result"
    }
   ],
   "source": [
    "df.isnull().sum()"
   ]
  },
  {
   "cell_type": "code",
   "execution_count": 74,
   "metadata": {},
   "outputs": [],
   "source": [
    "# Manually scale lat and long from very large numbers by dividing by 1 million\n",
    "\n",
    "df.latitude = df.latitude / 1_000_000 \n",
    "df.longitude = df.longitude / 1_000_000 "
   ]
  },
  {
   "cell_type": "raw",
   "metadata": {},
   "source": [
    "### Add new features for modeling:\n",
    "- price_per_sq_ft (value of house / house square footage\n",
    "- land_price_per_sq_ft  (land tax value / lot square footage)"
   ]
  },
  {
   "cell_type": "code",
   "execution_count": 75,
   "metadata": {},
   "outputs": [],
   "source": [
    "df['price_per_sq_ft'] = df['taxvaluedollarcnt'] / df['calculatedfinishedsquarefeet']\n",
    "df['lot_price_per_sq_ft'] = df['landtaxvaluedollarcnt'] / df['lotsizesquarefeet']"
   ]
  },
  {
   "cell_type": "code",
   "execution_count": 76,
   "metadata": {},
   "outputs": [
    {
     "data": {
      "text/html": [
       "<div>\n",
       "<style scoped>\n",
       "    .dataframe tbody tr th:only-of-type {\n",
       "        vertical-align: middle;\n",
       "    }\n",
       "\n",
       "    .dataframe tbody tr th {\n",
       "        vertical-align: top;\n",
       "    }\n",
       "\n",
       "    .dataframe thead th {\n",
       "        text-align: right;\n",
       "    }\n",
       "</style>\n",
       "<table border=\"1\" class=\"dataframe\">\n",
       "  <thead>\n",
       "    <tr style=\"text-align: right;\">\n",
       "      <th></th>\n",
       "      <th>tax_rate</th>\n",
       "      <th>bathroomcnt</th>\n",
       "      <th>bedroomcnt</th>\n",
       "      <th>calculatedfinishedsquarefeet</th>\n",
       "      <th>fips</th>\n",
       "      <th>garagecarcnt</th>\n",
       "      <th>latitude</th>\n",
       "      <th>longitude</th>\n",
       "      <th>lotsizesquarefeet</th>\n",
       "      <th>poolcnt</th>\n",
       "      <th>taxvaluedollarcnt</th>\n",
       "      <th>yearbuilt</th>\n",
       "      <th>landtaxvaluedollarcnt</th>\n",
       "      <th>logerror</th>\n",
       "      <th>county_name</th>\n",
       "      <th>price_per_sq_ft</th>\n",
       "      <th>lot_price_per_sq_ft</th>\n",
       "    </tr>\n",
       "  </thead>\n",
       "  <tbody>\n",
       "    <tr>\n",
       "      <th>0</th>\n",
       "      <td>0.01</td>\n",
       "      <td>3.50</td>\n",
       "      <td>4.00</td>\n",
       "      <td>3,100.00</td>\n",
       "      <td>6,059.00</td>\n",
       "      <td>2.00</td>\n",
       "      <td>33.63</td>\n",
       "      <td>-117.87</td>\n",
       "      <td>4,506.00</td>\n",
       "      <td>nan</td>\n",
       "      <td>1,023,282.00</td>\n",
       "      <td>1,998.00</td>\n",
       "      <td>537,569.00</td>\n",
       "      <td>0.03</td>\n",
       "      <td>Orange</td>\n",
       "      <td>330.09</td>\n",
       "      <td>119.30</td>\n",
       "    </tr>\n",
       "    <tr>\n",
       "      <th>1</th>\n",
       "      <td>0.01</td>\n",
       "      <td>1.00</td>\n",
       "      <td>2.00</td>\n",
       "      <td>1,465.00</td>\n",
       "      <td>6,111.00</td>\n",
       "      <td>1.00</td>\n",
       "      <td>34.45</td>\n",
       "      <td>-119.28</td>\n",
       "      <td>12,647.00</td>\n",
       "      <td>nan</td>\n",
       "      <td>464,000.00</td>\n",
       "      <td>1,967.00</td>\n",
       "      <td>376,000.00</td>\n",
       "      <td>0.06</td>\n",
       "      <td>Ventura</td>\n",
       "      <td>316.72</td>\n",
       "      <td>29.73</td>\n",
       "    </tr>\n",
       "    <tr>\n",
       "      <th>2</th>\n",
       "      <td>0.01</td>\n",
       "      <td>2.00</td>\n",
       "      <td>3.00</td>\n",
       "      <td>1,243.00</td>\n",
       "      <td>6,059.00</td>\n",
       "      <td>2.00</td>\n",
       "      <td>33.89</td>\n",
       "      <td>-117.82</td>\n",
       "      <td>8,432.00</td>\n",
       "      <td>1.00</td>\n",
       "      <td>564,778.00</td>\n",
       "      <td>1,962.00</td>\n",
       "      <td>479,489.00</td>\n",
       "      <td>0.01</td>\n",
       "      <td>Orange</td>\n",
       "      <td>454.37</td>\n",
       "      <td>56.87</td>\n",
       "    </tr>\n",
       "    <tr>\n",
       "      <th>3</th>\n",
       "      <td>0.01</td>\n",
       "      <td>3.00</td>\n",
       "      <td>4.00</td>\n",
       "      <td>2,376.00</td>\n",
       "      <td>6,037.00</td>\n",
       "      <td>nan</td>\n",
       "      <td>34.25</td>\n",
       "      <td>-118.24</td>\n",
       "      <td>13,038.00</td>\n",
       "      <td>1.00</td>\n",
       "      <td>145,143.00</td>\n",
       "      <td>1,970.00</td>\n",
       "      <td>36,225.00</td>\n",
       "      <td>-0.10</td>\n",
       "      <td>Los Angeles</td>\n",
       "      <td>61.09</td>\n",
       "      <td>2.78</td>\n",
       "    </tr>\n",
       "    <tr>\n",
       "      <th>4</th>\n",
       "      <td>0.01</td>\n",
       "      <td>3.00</td>\n",
       "      <td>4.00</td>\n",
       "      <td>2,962.00</td>\n",
       "      <td>6,037.00</td>\n",
       "      <td>nan</td>\n",
       "      <td>34.15</td>\n",
       "      <td>-118.18</td>\n",
       "      <td>63,000.00</td>\n",
       "      <td>1.00</td>\n",
       "      <td>773,303.00</td>\n",
       "      <td>1,950.00</td>\n",
       "      <td>496,619.00</td>\n",
       "      <td>-0.00</td>\n",
       "      <td>Los Angeles</td>\n",
       "      <td>261.07</td>\n",
       "      <td>7.88</td>\n",
       "    </tr>\n",
       "  </tbody>\n",
       "</table>\n",
       "</div>"
      ],
      "text/plain": [
       "              tax_rate          bathroomcnt           bedroomcnt  \\\n",
       "0                 0.01                 3.50                 4.00   \n",
       "1                 0.01                 1.00                 2.00   \n",
       "2                 0.01                 2.00                 3.00   \n",
       "3                 0.01                 3.00                 4.00   \n",
       "4                 0.01                 3.00                 4.00   \n",
       "\n",
       "   calculatedfinishedsquarefeet                 fips         garagecarcnt  \\\n",
       "0                      3,100.00             6,059.00                 2.00   \n",
       "1                      1,465.00             6,111.00                 1.00   \n",
       "2                      1,243.00             6,059.00                 2.00   \n",
       "3                      2,376.00             6,037.00                  nan   \n",
       "4                      2,962.00             6,037.00                  nan   \n",
       "\n",
       "              latitude            longitude    lotsizesquarefeet  \\\n",
       "0                33.63              -117.87             4,506.00   \n",
       "1                34.45              -119.28            12,647.00   \n",
       "2                33.89              -117.82             8,432.00   \n",
       "3                34.25              -118.24            13,038.00   \n",
       "4                34.15              -118.18            63,000.00   \n",
       "\n",
       "               poolcnt    taxvaluedollarcnt            yearbuilt  \\\n",
       "0                  nan         1,023,282.00             1,998.00   \n",
       "1                  nan           464,000.00             1,967.00   \n",
       "2                 1.00           564,778.00             1,962.00   \n",
       "3                 1.00           145,143.00             1,970.00   \n",
       "4                 1.00           773,303.00             1,950.00   \n",
       "\n",
       "   landtaxvaluedollarcnt             logerror  county_name  \\\n",
       "0             537,569.00                 0.03       Orange   \n",
       "1             376,000.00                 0.06      Ventura   \n",
       "2             479,489.00                 0.01       Orange   \n",
       "3              36,225.00                -0.10  Los Angeles   \n",
       "4             496,619.00                -0.00  Los Angeles   \n",
       "\n",
       "       price_per_sq_ft  lot_price_per_sq_ft  \n",
       "0               330.09               119.30  \n",
       "1               316.72                29.73  \n",
       "2               454.37                56.87  \n",
       "3                61.09                 2.78  \n",
       "4               261.07                 7.88  "
      ]
     },
     "execution_count": 76,
     "metadata": {},
     "output_type": "execute_result"
    }
   ],
   "source": [
    "df.head()"
   ]
  },
  {
   "cell_type": "code",
   "execution_count": 77,
   "metadata": {},
   "outputs": [],
   "source": [
    "# df = df.drop(columns=['calculatedfinishedsquarefeet', 'lotsizesquarefeet', 'taxvaluedollarcnt', 'landtaxvaluedollarcnt'])"
   ]
  },
  {
   "cell_type": "markdown",
   "metadata": {},
   "source": [
    "### Clustering fips - aka binning the 3 different counties"
   ]
  },
  {
   "cell_type": "code",
   "execution_count": 78,
   "metadata": {},
   "outputs": [],
   "source": [
    "from sklearn.cluster import KMeans\n",
    "\n",
    "X = df[['fips']]\n",
    "\n",
    "kmeans = KMeans(n_clusters=3)\n",
    "kmeans.fit(X)\n",
    "\n",
    "X['cluster'] = pd.Series(kmeans.predict(X)).astype(str)"
   ]
  },
  {
   "cell_type": "code",
   "execution_count": 79,
   "metadata": {},
   "outputs": [
    {
     "data": {
      "text/plain": [
       "(52169, 2)"
      ]
     },
     "execution_count": 79,
     "metadata": {},
     "output_type": "execute_result"
    }
   ],
   "source": [
    "X.shape"
   ]
  },
  {
   "cell_type": "code",
   "execution_count": 80,
   "metadata": {},
   "outputs": [],
   "source": [
    "# Drop column no longer necessary\n",
    "\n",
    "X = X.drop(columns='fips')"
   ]
  },
  {
   "cell_type": "code",
   "execution_count": 81,
   "metadata": {},
   "outputs": [],
   "source": [
    "# Create column with county clusters identified\n",
    "\n",
    "df['cluster'] = X.cluster"
   ]
  },
  {
   "cell_type": "code",
   "execution_count": 82,
   "metadata": {},
   "outputs": [],
   "source": [
    "df, ohe = prepare.encode(df, 'cluster')"
   ]
  },
  {
   "cell_type": "code",
   "execution_count": 83,
   "metadata": {},
   "outputs": [
    {
     "data": {
      "text/plain": [
       "array([[2],\n",
       "       [1],\n",
       "       [2],\n",
       "       ...,\n",
       "       [0],\n",
       "       [0],\n",
       "       [0]])"
      ]
     },
     "execution_count": 83,
     "metadata": {},
     "output_type": "execute_result"
    }
   ],
   "source": [
    "ohe.inverse_transform(df[['0', '1', '2']])"
   ]
  },
  {
   "cell_type": "code",
   "execution_count": 84,
   "metadata": {},
   "outputs": [],
   "source": [
    "# Los Angeles == 0, Ventura == 1, Orange == 2\n",
    "\n",
    "df = df.drop(columns='cluster')\n",
    "\n",
    "df['los_angeles'] = df['0']\n",
    "df['ventura'] = df['1']\n",
    "df['orange'] = df['2']\n",
    "\n",
    "df = df.drop(columns=['0', '1', '2'])"
   ]
  },
  {
   "cell_type": "markdown",
   "metadata": {},
   "source": [
    "### Split the data into train and test, 70/30"
   ]
  },
  {
   "cell_type": "code",
   "execution_count": 88,
   "metadata": {},
   "outputs": [
    {
     "data": {
      "text/html": [
       "<div>\n",
       "<style scoped>\n",
       "    .dataframe tbody tr th:only-of-type {\n",
       "        vertical-align: middle;\n",
       "    }\n",
       "\n",
       "    .dataframe tbody tr th {\n",
       "        vertical-align: top;\n",
       "    }\n",
       "\n",
       "    .dataframe thead th {\n",
       "        text-align: right;\n",
       "    }\n",
       "</style>\n",
       "<table border=\"1\" class=\"dataframe\">\n",
       "  <thead>\n",
       "    <tr style=\"text-align: right;\">\n",
       "      <th></th>\n",
       "      <th>tax_rate</th>\n",
       "      <th>bathroomcnt</th>\n",
       "      <th>bedroomcnt</th>\n",
       "      <th>calculatedfinishedsquarefeet</th>\n",
       "      <th>fips</th>\n",
       "      <th>garagecarcnt</th>\n",
       "      <th>latitude</th>\n",
       "      <th>longitude</th>\n",
       "      <th>lotsizesquarefeet</th>\n",
       "      <th>poolcnt</th>\n",
       "      <th>taxvaluedollarcnt</th>\n",
       "      <th>yearbuilt</th>\n",
       "      <th>landtaxvaluedollarcnt</th>\n",
       "      <th>logerror</th>\n",
       "      <th>county_name</th>\n",
       "      <th>price_per_sq_ft</th>\n",
       "      <th>lot_price_per_sq_ft</th>\n",
       "      <th>los_angeles</th>\n",
       "      <th>ventura</th>\n",
       "      <th>orange</th>\n",
       "    </tr>\n",
       "  </thead>\n",
       "  <tbody>\n",
       "    <tr>\n",
       "      <th>0</th>\n",
       "      <td>0.01</td>\n",
       "      <td>3.50</td>\n",
       "      <td>4.00</td>\n",
       "      <td>3,100.00</td>\n",
       "      <td>6,059.00</td>\n",
       "      <td>2.00</td>\n",
       "      <td>33.63</td>\n",
       "      <td>-117.87</td>\n",
       "      <td>4,506.00</td>\n",
       "      <td>nan</td>\n",
       "      <td>1,023,282.00</td>\n",
       "      <td>1,998.00</td>\n",
       "      <td>537,569.00</td>\n",
       "      <td>0.03</td>\n",
       "      <td>Orange</td>\n",
       "      <td>330.09</td>\n",
       "      <td>119.30</td>\n",
       "      <td>0.00</td>\n",
       "      <td>0.00</td>\n",
       "      <td>1.00</td>\n",
       "    </tr>\n",
       "  </tbody>\n",
       "</table>\n",
       "</div>"
      ],
      "text/plain": [
       "              tax_rate          bathroomcnt           bedroomcnt  \\\n",
       "0                 0.01                 3.50                 4.00   \n",
       "\n",
       "   calculatedfinishedsquarefeet                 fips         garagecarcnt  \\\n",
       "0                      3,100.00             6,059.00                 2.00   \n",
       "\n",
       "              latitude            longitude    lotsizesquarefeet  \\\n",
       "0                33.63              -117.87             4,506.00   \n",
       "\n",
       "               poolcnt    taxvaluedollarcnt            yearbuilt  \\\n",
       "0                  nan         1,023,282.00             1,998.00   \n",
       "\n",
       "   landtaxvaluedollarcnt             logerror county_name  \\\n",
       "0             537,569.00                 0.03      Orange   \n",
       "\n",
       "       price_per_sq_ft  lot_price_per_sq_ft          los_angeles  \\\n",
       "0               330.09               119.30                 0.00   \n",
       "\n",
       "               ventura               orange  \n",
       "0                 0.00                 1.00  "
      ]
     },
     "execution_count": 88,
     "metadata": {},
     "output_type": "execute_result"
    }
   ],
   "source": [
    "df.head(1)"
   ]
  },
  {
   "cell_type": "code",
   "execution_count": 89,
   "metadata": {},
   "outputs": [],
   "source": [
    "train, test = train_test_split(df, test_size=.30, random_state=123)"
   ]
  },
  {
   "cell_type": "code",
   "execution_count": 90,
   "metadata": {},
   "outputs": [
    {
     "data": {
      "text/plain": [
       "(36518, 20)"
      ]
     },
     "execution_count": 90,
     "metadata": {},
     "output_type": "execute_result"
    }
   ],
   "source": [
    "train.shape"
   ]
  },
  {
   "cell_type": "code",
   "execution_count": 91,
   "metadata": {},
   "outputs": [
    {
     "data": {
      "text/plain": [
       "(15651, 20)"
      ]
     },
     "execution_count": 91,
     "metadata": {},
     "output_type": "execute_result"
    }
   ],
   "source": [
    "test.shape"
   ]
  },
  {
   "cell_type": "markdown",
   "metadata": {},
   "source": [
    "### Impute \"poolcnt\", \"garagecarcnt\" with 0s using a function.\n",
    "\n",
    " - Run this on train and test subsets separately"
   ]
  },
  {
   "cell_type": "code",
   "execution_count": 92,
   "metadata": {},
   "outputs": [],
   "source": [
    "cols = [\"poolcnt\", \"garagecarcnt\"]"
   ]
  },
  {
   "cell_type": "code",
   "execution_count": 93,
   "metadata": {},
   "outputs": [],
   "source": [
    "# Impute zeros into poolcnt and garagecarcnt on train set\n",
    "\n",
    "train = prepare.fill_zero(train, cols=cols)"
   ]
  },
  {
   "cell_type": "code",
   "execution_count": 94,
   "metadata": {},
   "outputs": [],
   "source": [
    "# Impute zeros into poolcnt and garagecarcnt on test set\n",
    "\n",
    "test = prepare.fill_zero(test, cols=cols)"
   ]
  },
  {
   "cell_type": "markdown",
   "metadata": {},
   "source": [
    "### Drop columns then rows using function\n",
    "\n",
    " - Run this on train and test subsets separately"
   ]
  },
  {
   "cell_type": "code",
   "execution_count": 95,
   "metadata": {},
   "outputs": [],
   "source": [
    "# drop columns that have more than 50% of values missing and rows with more than 75% of values missing\n",
    "\n",
    "train = prepare.handle_missing_values(train)"
   ]
  },
  {
   "cell_type": "code",
   "execution_count": 96,
   "metadata": {},
   "outputs": [],
   "source": [
    "# drop columns that have more than 50% of values missing and rows with more than 75% of values missing\n",
    "\n",
    "test = prepare.handle_missing_values(test)"
   ]
  },
  {
   "cell_type": "markdown",
   "metadata": {},
   "source": [
    "### Drop the remaining Nulls in df to get clean train and test data sets"
   ]
  },
  {
   "cell_type": "code",
   "execution_count": 97,
   "metadata": {},
   "outputs": [
    {
     "data": {
      "text/plain": [
       "tax_rate                        0\n",
       "bathroomcnt                     0\n",
       "bedroomcnt                      0\n",
       "calculatedfinishedsquarefeet    0\n",
       "fips                            0\n",
       "garagecarcnt                    0\n",
       "latitude                        0\n",
       "longitude                       0\n",
       "lotsizesquarefeet               0\n",
       "poolcnt                         0\n",
       "taxvaluedollarcnt               0\n",
       "yearbuilt                       0\n",
       "landtaxvaluedollarcnt           0\n",
       "logerror                        0\n",
       "county_name                     0\n",
       "price_per_sq_ft                 0\n",
       "lot_price_per_sq_ft             0\n",
       "los_angeles                     0\n",
       "ventura                         0\n",
       "orange                          0\n",
       "dtype: int64"
      ]
     },
     "execution_count": 97,
     "metadata": {},
     "output_type": "execute_result"
    }
   ],
   "source": [
    "train.isnull().sum()"
   ]
  },
  {
   "cell_type": "code",
   "execution_count": 98,
   "metadata": {},
   "outputs": [],
   "source": [
    "train.dropna(inplace=True)"
   ]
  },
  {
   "cell_type": "code",
   "execution_count": 99,
   "metadata": {},
   "outputs": [],
   "source": [
    "test.dropna(inplace=True)"
   ]
  },
  {
   "cell_type": "markdown",
   "metadata": {},
   "source": [
    "### THE train and test subsets with no missing values and poolcnt and garagecarcnt imputed with zeros. Outliers still in these subsets!\n",
    "\n",
    "- I left county_name in these df for ease of exploration and viz. \n",
    "\n",
    "- Drop county_name and use fips for modeling and clustering purposes.\n",
    "\n",
    "- If you want train and test with outliers handled, see below..."
   ]
  },
  {
   "cell_type": "code",
   "execution_count": 100,
   "metadata": {},
   "outputs": [
    {
     "data": {
      "text/plain": [
       "(36518, 20)"
      ]
     },
     "execution_count": 100,
     "metadata": {},
     "output_type": "execute_result"
    }
   ],
   "source": [
    "train.isnull().sum()\n",
    "train.shape"
   ]
  },
  {
   "cell_type": "code",
   "execution_count": 101,
   "metadata": {},
   "outputs": [
    {
     "data": {
      "text/plain": [
       "20"
      ]
     },
     "execution_count": 101,
     "metadata": {},
     "output_type": "execute_result"
    }
   ],
   "source": [
    "len(train.columns)"
   ]
  },
  {
   "cell_type": "code",
   "execution_count": 102,
   "metadata": {},
   "outputs": [
    {
     "data": {
      "text/plain": [
       "(15651, 20)"
      ]
     },
     "execution_count": 102,
     "metadata": {},
     "output_type": "execute_result"
    }
   ],
   "source": [
    "test.isnull().sum()\n",
    "test.shape"
   ]
  },
  {
   "cell_type": "markdown",
   "metadata": {},
   "source": [
    "## Explore bedroom"
   ]
  },
  {
   "cell_type": "code",
   "execution_count": 103,
   "metadata": {},
   "outputs": [
    {
     "data": {
      "text/plain": [
       " 3.00    16310\n",
       " 4.00    10614\n",
       " 2.00     5838\n",
       " 5.00     2760\n",
       " 6.00      451\n",
       " 1.00      440\n",
       " 7.00       75\n",
       " 8.00       20\n",
       " 9.00        6\n",
       "10.00        2\n",
       "14.00        1\n",
       "12.00        1\n",
       "Name: bedroomcnt, dtype: int64"
      ]
     },
     "execution_count": 103,
     "metadata": {},
     "output_type": "execute_result"
    }
   ],
   "source": [
    "train.bedroomcnt.value_counts()"
   ]
  },
  {
   "cell_type": "code",
   "execution_count": 104,
   "metadata": {},
   "outputs": [
    {
     "data": {
      "text/plain": [
       " 2.00    15260\n",
       " 3.00     7474\n",
       " 1.00     6627\n",
       " 2.50     2804\n",
       " 4.00     1571\n",
       " 3.50      630\n",
       " 1.50      578\n",
       " 5.00      542\n",
       " 4.50      482\n",
       " 6.00      224\n",
       " 5.50      160\n",
       " 7.00       57\n",
       " 8.00       40\n",
       " 6.50       35\n",
       " 7.50       14\n",
       " 9.00       11\n",
       "10.00        3\n",
       " 8.50        2\n",
       "11.00        2\n",
       "18.00        1\n",
       "13.00        1\n",
       "Name: bathroomcnt, dtype: int64"
      ]
     },
     "execution_count": 104,
     "metadata": {},
     "output_type": "execute_result"
    }
   ],
   "source": [
    "train.bathroomcnt.value_counts()"
   ]
  },
  {
   "cell_type": "markdown",
   "metadata": {},
   "source": [
    "### Before outliers"
   ]
  },
  {
   "cell_type": "code",
   "execution_count": 105,
   "metadata": {},
   "outputs": [
    {
     "data": {
      "text/plain": [
       "<matplotlib.axes._subplots.AxesSubplot at 0x1a25c7a6d8>"
      ]
     },
     "execution_count": 105,
     "metadata": {},
     "output_type": "execute_result"
    },
    {
     "data": {
      "image/png": "[encoded data removed]",
      "text/plain": [
       "<Figure size 432x288 with 1 Axes>"
      ]
     },
     "metadata": {
      "needs_background": "light"
     },
     "output_type": "display_data"
    }
   ],
   "source": [
    "sns.boxplot(train.bedroomcnt, train.calculatedfinishedsquarefeet)"
   ]
  },
  {
   "cell_type": "code",
   "execution_count": 106,
   "metadata": {},
   "outputs": [
    {
     "data": {
      "text/plain": [
       "<matplotlib.axes._subplots.AxesSubplot at 0x1a249febe0>"
      ]
     },
     "execution_count": 106,
     "metadata": {},
     "output_type": "execute_result"
    },
    {
     "data": {
      "image/png": "[encoded data removed]",
      "text/plain": [
       "<Figure size 432x288 with 1 Axes>"
      ]
     },
     "metadata": {
      "needs_background": "light"
     },
     "output_type": "display_data"
    }
   ],
   "source": [
    "sns.boxplot(train.bathroomcnt, train.calculatedfinishedsquarefeet)"
   ]
  },
  {
   "cell_type": "markdown",
   "metadata": {},
   "source": [
    "## Takeaways from bathroom and bedrooms counts\n",
    "\n",
    "- Use remove_outliers_iqr to drop rows with bedroom or bathroom counts outside upper and lower bounds\n",
    "\n",
    "    - Upper bound = Q3 + 1.5 * IQR\n",
    "    - Lower bound = Q1 - 1.5 * IQR"
   ]
  },
  {
   "cell_type": "markdown",
   "metadata": {},
   "source": [
    "### Handle outliers by removing values < Q1 - IQR * 1.5 and values > Q3 + IQR * 1.5"
   ]
  },
  {
   "cell_type": "code",
   "execution_count": 107,
   "metadata": {},
   "outputs": [
    {
     "data": {
      "text/plain": [
       "(30982, 20)"
      ]
     },
     "execution_count": 107,
     "metadata": {},
     "output_type": "execute_result"
    }
   ],
   "source": [
    "train = prepare.remove_outliers_iqr(train, columns=[\"bedroomcnt\", \"bathroomcnt\", \"lotsizesquarefeet\"], k=1.5)\n",
    "train.shape"
   ]
  },
  {
   "cell_type": "code",
   "execution_count": 108,
   "metadata": {},
   "outputs": [
    {
     "data": {
      "text/plain": [
       "(13273, 20)"
      ]
     },
     "execution_count": 108,
     "metadata": {},
     "output_type": "execute_result"
    }
   ],
   "source": [
    "test = prepare.remove_outliers_iqr(test, columns=[\"bedroomcnt\", \"bathroomcnt\", \"lotsizesquarefeet\"], k=1.5)\n",
    "test.shape"
   ]
  },
  {
   "cell_type": "markdown",
   "metadata": {},
   "source": [
    "### After handling outliers above 5 bedrooms and 4.5 bathrooms"
   ]
  },
  {
   "cell_type": "code",
   "execution_count": 118,
   "metadata": {},
   "outputs": [
    {
     "data": {
      "text/plain": [
       "<matplotlib.axes._subplots.AxesSubplot at 0x1a22d01cc0>"
      ]
     },
     "execution_count": 118,
     "metadata": {},
     "output_type": "execute_result"
    },
    {
     "data": {
      "image/png": "[encoded data removed]",
      "text/plain": [
       "<Figure size 432x288 with 1 Axes>"
      ]
     },
     "metadata": {
      "needs_background": "light"
     },
     "output_type": "display_data"
    }
   ],
   "source": [
    "sns.boxplot(train.bedroomcnt, train.calculatedfinishedsquarefeet)"
   ]
  },
  {
   "cell_type": "code",
   "execution_count": 119,
   "metadata": {},
   "outputs": [
    {
     "data": {
      "text/plain": [
       "<matplotlib.axes._subplots.AxesSubplot at 0x1a2388f390>"
      ]
     },
     "execution_count": 119,
     "metadata": {},
     "output_type": "execute_result"
    },
    {
     "data": {
      "image/png": "[encoded data removed]",
      "text/plain": [
       "<Figure size 432x288 with 1 Axes>"
      ]
     },
     "metadata": {
      "needs_background": "light"
     },
     "output_type": "display_data"
    }
   ],
   "source": [
    "sns.boxplot(train.bathroomcnt, train.calculatedfinishedsquarefeet)"
   ]
  },
  {
   "cell_type": "markdown",
   "metadata": {},
   "source": [
    "### Convert dtypes to category for the cols below\n",
    "\n",
    "- train_cat and test_cat are subsets with dtypes converted to category for the following columns:\n",
    "\n",
    "    - \"bathroomcnt\", \"bedroomcnt\", \"poolcnt\", \"yearbuilt\", \"garagecarcnt\", \"county_name\"\n",
    "    \n",
    "- train_cat and test_cat also have outliers handled and no missing values."
   ]
  },
  {
   "cell_type": "code",
   "execution_count": 109,
   "metadata": {},
   "outputs": [
    {
     "name": "stdout",
     "output_type": "stream",
     "text": [
      "<class 'pandas.core.frame.DataFrame'>\n",
      "Int64Index: 30982 entries, 22620 to 15725\n",
      "Data columns (total 20 columns):\n",
      "tax_rate                        30982 non-null float64\n",
      "bathroomcnt                     30982 non-null float64\n",
      "bedroomcnt                      30982 non-null float64\n",
      "calculatedfinishedsquarefeet    30982 non-null float64\n",
      "fips                            30982 non-null float64\n",
      "garagecarcnt                    30982 non-null float64\n",
      "latitude                        30982 non-null float64\n",
      "longitude                       30982 non-null float64\n",
      "lotsizesquarefeet               30982 non-null float64\n",
      "poolcnt                         30982 non-null float64\n",
      "taxvaluedollarcnt               30982 non-null float64\n",
      "yearbuilt                       30982 non-null float64\n",
      "landtaxvaluedollarcnt           30982 non-null float64\n",
      "logerror                        30982 non-null float64\n",
      "county_name                     30982 non-null object\n",
      "price_per_sq_ft                 30982 non-null float64\n",
      "lot_price_per_sq_ft             30982 non-null float64\n",
      "los_angeles                     30982 non-null float64\n",
      "ventura                         30982 non-null float64\n",
      "orange                          30982 non-null float64\n",
      "dtypes: float64(19), object(1)\n",
      "memory usage: 5.0+ MB\n"
     ]
    }
   ],
   "source": [
    "train.info()"
   ]
  },
  {
   "cell_type": "code",
   "execution_count": 110,
   "metadata": {},
   "outputs": [],
   "source": [
    "cols = [\"bathroomcnt\", \"bedroomcnt\", \"poolcnt\", \"yearbuilt\", \"garagecarcnt\", \"county_name\"]"
   ]
  },
  {
   "cell_type": "code",
   "execution_count": 111,
   "metadata": {},
   "outputs": [],
   "source": [
    "train_cat = prepare.numeric_to_category(train, cols)"
   ]
  },
  {
   "cell_type": "code",
   "execution_count": 112,
   "metadata": {},
   "outputs": [],
   "source": [
    "test_cat = prepare.numeric_to_category(test, cols)"
   ]
  },
  {
   "cell_type": "code",
   "execution_count": 113,
   "metadata": {},
   "outputs": [
    {
     "name": "stdout",
     "output_type": "stream",
     "text": [
      "<class 'pandas.core.frame.DataFrame'>\n",
      "Int64Index: 30982 entries, 22620 to 15725\n",
      "Data columns (total 20 columns):\n",
      "tax_rate                        30982 non-null float64\n",
      "bathroomcnt                     30982 non-null category\n",
      "bedroomcnt                      30982 non-null category\n",
      "calculatedfinishedsquarefeet    30982 non-null float64\n",
      "fips                            30982 non-null float64\n",
      "garagecarcnt                    30982 non-null category\n",
      "latitude                        30982 non-null float64\n",
      "longitude                       30982 non-null float64\n",
      "lotsizesquarefeet               30982 non-null float64\n",
      "poolcnt                         30982 non-null category\n",
      "taxvaluedollarcnt               30982 non-null float64\n",
      "yearbuilt                       30982 non-null category\n",
      "landtaxvaluedollarcnt           30982 non-null float64\n",
      "logerror                        30982 non-null float64\n",
      "county_name                     30982 non-null category\n",
      "price_per_sq_ft                 30982 non-null float64\n",
      "lot_price_per_sq_ft             30982 non-null float64\n",
      "los_angeles                     30982 non-null float64\n",
      "ventura                         30982 non-null float64\n",
      "orange                          30982 non-null float64\n",
      "dtypes: category(6), float64(14)\n",
      "memory usage: 3.8 MB\n"
     ]
    }
   ],
   "source": [
    "train_cat.info()"
   ]
  },
  {
   "cell_type": "code",
   "execution_count": 114,
   "metadata": {},
   "outputs": [
    {
     "data": {
      "text/plain": [
       "3.00    14880\n",
       "4.00     8904\n",
       "2.00     5424\n",
       "5.00     1774\n",
       "Name: bedroomcnt, dtype: int64"
      ]
     },
     "execution_count": 114,
     "metadata": {},
     "output_type": "execute_result"
    }
   ],
   "source": [
    "train.bedroomcnt.value_counts()"
   ]
  },
  {
   "cell_type": "code",
   "execution_count": 115,
   "metadata": {},
   "outputs": [
    {
     "data": {
      "text/plain": [
       "2.00    14117\n",
       "1.00     6032\n",
       "3.00     6012\n",
       "2.50     2595\n",
       "4.00      934\n",
       "3.50      492\n",
       "1.50      470\n",
       "4.50      330\n",
       "Name: bathroomcnt, dtype: int64"
      ]
     },
     "execution_count": 115,
     "metadata": {},
     "output_type": "execute_result"
    }
   ],
   "source": [
    "train.bathroomcnt.value_counts()"
   ]
  },
  {
   "cell_type": "markdown",
   "metadata": {},
   "source": [
    "## Does price_per_sq_ft offer a better view of logerror?"
   ]
  },
  {
   "cell_type": "code",
   "execution_count": 116,
   "metadata": {},
   "outputs": [
    {
     "data": {
      "text/plain": [
       "<matplotlib.axes._subplots.AxesSubplot at 0x1a26435080>"
      ]
     },
     "execution_count": 116,
     "metadata": {},
     "output_type": "execute_result"
    },
    {
     "data": {
      "image/png": "[encoded data removed]",
      "text/plain": [
       "<Figure size 432x288 with 1 Axes>"
      ]
     },
     "metadata": {
      "needs_background": "light"
     },
     "output_type": "display_data"
    }
   ],
   "source": [
    "sns.scatterplot(data=train, x=\"logerror\", y=\"taxvaluedollarcnt\", hue=\"county_name\", hue_order=[\"Los Angeles\", \"Orange\", \"Ventura\"], alpha=.6)"
   ]
  },
  {
   "cell_type": "code",
   "execution_count": 117,
   "metadata": {},
   "outputs": [
    {
     "data": {
      "text/plain": [
       "<matplotlib.axes._subplots.AxesSubplot at 0x1a2384af60>"
      ]
     },
     "execution_count": 117,
     "metadata": {},
     "output_type": "execute_result"
    },
    {
     "data": {
      "image/png": "[encoded data removed]",
      "text/plain": [
       "<Figure size 432x288 with 1 Axes>"
      ]
     },
     "metadata": {
      "needs_background": "light"
     },
     "output_type": "display_data"
    }
   ],
   "source": [
    "sns.scatterplot(data=train, x=\"logerror\", y=\"price_per_sq_ft\", hue=\"county_name\", hue_order=[\"Los Angeles\", \"Orange\", \"Ventura\"], alpha=.6)"
   ]
  },
  {
   "cell_type": "markdown",
   "metadata": {},
   "source": [
    "## Takeaways from logerror by county using price_per_sq_ft\n",
    "\n",
    "- Using price_per_sq_ft instead of taxvaluedollarcnt offers better insight into logerror.\n",
    "\n",
    "\n",
    "- Zillow's log error was low on the los angeles high priced outlier.  LA county houses seems to have the highest log error outliers"
   ]
  },
  {
   "cell_type": "markdown",
   "metadata": {},
   "source": []
  },
  {
   "cell_type": "code",
   "execution_count": 48,
   "metadata": {},
   "outputs": [
    {
     "data": {
      "text/plain": [
       "<matplotlib.axes._subplots.AxesSubplot at 0x1a237a37b8>"
      ]
     },
     "execution_count": 48,
     "metadata": {},
     "output_type": "execute_result"
    },
    {
     "data": {
      "image/png": "[encoded data removed]",
      "text/plain": [
       "<Figure size 432x288 with 1 Axes>"
      ]
     },
     "metadata": {
      "needs_background": "light"
     },
     "output_type": "display_data"
    }
   ],
   "source": []
  },
  {
   "cell_type": "markdown",
   "metadata": {},
   "source": [
    "## Explore variable relationships with new feature price_per_sq_ft\n",
    "\n",
    "- 1878 - 2015\n",
    "\n",
    "- Drop 11 rows with yearbuilt == 0.00"
   ]
  },
  {
   "cell_type": "code",
   "execution_count": 49,
   "metadata": {},
   "outputs": [
    {
     "data": {
      "text/plain": [
       "<matplotlib.axes._subplots.AxesSubplot at 0x1a244e59b0>"
      ]
     },
     "execution_count": 49,
     "metadata": {},
     "output_type": "execute_result"
    },
    {
     "data": {
      "image/png": "[encoded data removed]",
      "text/plain": [
       "<Figure size 432x288 with 1 Axes>"
      ]
     },
     "metadata": {
      "needs_background": "light"
     },
     "output_type": "display_data"
    }
   ],
   "source": [
    "sns.scatterplot(data=train_cat, x=\"yearbuilt\", y=\"price_per_sq_ft\")"
   ]
  },
  {
   "cell_type": "code",
   "execution_count": 50,
   "metadata": {},
   "outputs": [
    {
     "data": {
      "text/plain": [
       "<matplotlib.axes._subplots.AxesSubplot at 0x1a2569af28>"
      ]
     },
     "execution_count": 50,
     "metadata": {},
     "output_type": "execute_result"
    },
    {
     "data": {
      "image/png": "[encoded data removed]",
      "text/plain": [
       "<Figure size 432x288 with 1 Axes>"
      ]
     },
     "metadata": {
      "needs_background": "light"
     },
     "output_type": "display_data"
    }
   ],
   "source": [
    "sns.scatterplot(data=train_cat, x=\"price_per_sq_ft\", y=\"logerror\")"
   ]
  },
  {
   "cell_type": "code",
   "execution_count": 51,
   "metadata": {},
   "outputs": [
    {
     "data": {
      "text/plain": [
       "<matplotlib.axes._subplots.AxesSubplot at 0x1a2596a908>"
      ]
     },
     "execution_count": 51,
     "metadata": {},
     "output_type": "execute_result"
    },
    {
     "data": {
      "image/png": "[encoded data removed]",
      "text/plain": [
       "<Figure size 432x288 with 1 Axes>"
      ]
     },
     "metadata": {
      "needs_background": "light"
     },
     "output_type": "display_data"
    }
   ],
   "source": [
    "sns.scatterplot(data=train_cat, x=\"yearbuilt\", y=\"logerror\")"
   ]
  },
  {
   "cell_type": "code",
   "execution_count": 52,
   "metadata": {},
   "outputs": [
    {
     "data": {
      "text/plain": [
       "<matplotlib.axes._subplots.AxesSubplot at 0x1a25a066d8>"
      ]
     },
     "execution_count": 52,
     "metadata": {},
     "output_type": "execute_result"
    },
    {
     "data": {
      "image/png": "[encoded data removed]",
      "text/plain": [
       "<Figure size 432x288 with 1 Axes>"
      ]
     },
     "metadata": {
      "needs_background": "light"
     },
     "output_type": "display_data"
    }
   ],
   "source": [
    "sns.scatterplot(data=train_cat, x=\"lot_price_per_sq_ft\", y=\"logerror\")"
   ]
  },
  {
   "cell_type": "code",
   "execution_count": 53,
   "metadata": {},
   "outputs": [
    {
     "data": {
      "text/plain": [
       "<matplotlib.axes._subplots.AxesSubplot at 0x1a25cc2eb8>"
      ]
     },
     "execution_count": 53,
     "metadata": {},
     "output_type": "execute_result"
    },
    {
     "data": {
      "image/png": "[encoded data removed]",
      "text/plain": [
       "<Figure size 432x288 with 1 Axes>"
      ]
     },
     "metadata": {
      "needs_background": "light"
     },
     "output_type": "display_data"
    }
   ],
   "source": [
    "sns.scatterplot(data=train_cat, x=\"latitude\", y=\"logerror\")"
   ]
  },
  {
   "cell_type": "code",
   "execution_count": 54,
   "metadata": {},
   "outputs": [
    {
     "data": {
      "text/plain": [
       "<matplotlib.axes._subplots.AxesSubplot at 0x1a25e12f98>"
      ]
     },
     "execution_count": 54,
     "metadata": {},
     "output_type": "execute_result"
    },
    {
     "data": {
      "image/png": "[encoded data removed]",
      "text/plain": [
       "<Figure size 432x288 with 1 Axes>"
      ]
     },
     "metadata": {
      "needs_background": "light"
     },
     "output_type": "display_data"
    }
   ],
   "source": [
    "sns.scatterplot(data=train_cat, x=\"longitude\", y=\"logerror\")"
   ]
  },
  {
   "cell_type": "code",
   "execution_count": 55,
   "metadata": {
    "scrolled": true
   },
   "outputs": [
    {
     "data": {
      "text/plain": [
       "<matplotlib.axes._subplots.AxesSubplot at 0x1a25f85940>"
      ]
     },
     "execution_count": 55,
     "metadata": {},
     "output_type": "execute_result"
    },
    {
     "data": {
      "image/png": "[encoded data removed]",
      "text/plain": [
       "<Figure size 432x288 with 1 Axes>"
      ]
     },
     "metadata": {
      "needs_background": "light"
     },
     "output_type": "display_data"
    }
   ],
   "source": [
    "sns.scatterplot(data=train_cat, x=\"garagecarcnt\", y=\"logerror\")"
   ]
  },
  {
   "cell_type": "code",
   "execution_count": 56,
   "metadata": {},
   "outputs": [
    {
     "data": {
      "text/plain": [
       "<matplotlib.axes._subplots.AxesSubplot at 0x1a2601ea58>"
      ]
     },
     "execution_count": 56,
     "metadata": {},
     "output_type": "execute_result"
    },
    {
     "data": {
      "image/png": "[encoded data removed]",
      "text/plain": [
       "<Figure size 432x288 with 1 Axes>"
      ]
     },
     "metadata": {
      "needs_background": "light"
     },
     "output_type": "display_data"
    }
   ],
   "source": [
    "sns.scatterplot(data=train_cat, x=\"bedroomcnt\", y=\"logerror\")"
   ]
  },
  {
   "cell_type": "markdown",
   "metadata": {},
   "source": [
    "## Stats Testing to Decide on Feature Engineering"
   ]
  },
  {
   "cell_type": "markdown",
   "metadata": {},
   "source": [
    "### Chi2 test to looking at bedroom and bathroom counts"
   ]
  },
  {
   "cell_type": "markdown",
   "metadata": {},
   "source": [
    "- $H_0$: Bathroomcnt is independent of how many bedrooms a home has.\n",
    "\n",
    "- $H_a$: Bathroomcnt is not independent of how many bedrooms a home has."
   ]
  },
  {
   "cell_type": "code",
   "execution_count": 57,
   "metadata": {},
   "outputs": [
    {
     "data": {
      "text/html": [
       "<style  type=\"text/css\" >\n",
       "    #T_cf8ed01e_0305_11ea_97ed_88e9fe64f5f6row0_col0 {\n",
       "            background-color:  #800026;\n",
       "            color:  #f1f1f1;\n",
       "        }    #T_cf8ed01e_0305_11ea_97ed_88e9fe64f5f6row0_col1 {\n",
       "            background-color:  #febb56;\n",
       "            color:  #000000;\n",
       "        }    #T_cf8ed01e_0305_11ea_97ed_88e9fe64f5f6row0_col2 {\n",
       "            background-color:  #ffe793;\n",
       "            color:  #000000;\n",
       "        }    #T_cf8ed01e_0305_11ea_97ed_88e9fe64f5f6row0_col3 {\n",
       "            background-color:  #fffec9;\n",
       "            color:  #000000;\n",
       "        }    #T_cf8ed01e_0305_11ea_97ed_88e9fe64f5f6row0_col4 {\n",
       "            background-color:  #ffffcc;\n",
       "            color:  #000000;\n",
       "        }    #T_cf8ed01e_0305_11ea_97ed_88e9fe64f5f6row0_col5 {\n",
       "            background-color:  #ffffcc;\n",
       "            color:  #000000;\n",
       "        }    #T_cf8ed01e_0305_11ea_97ed_88e9fe64f5f6row0_col6 {\n",
       "            background-color:  #ffffcc;\n",
       "            color:  #000000;\n",
       "        }    #T_cf8ed01e_0305_11ea_97ed_88e9fe64f5f6row0_col7 {\n",
       "            background-color:  #ffffcc;\n",
       "            color:  #000000;\n",
       "        }    #T_cf8ed01e_0305_11ea_97ed_88e9fe64f5f6row1_col0 {\n",
       "            background-color:  #e92720;\n",
       "            color:  #f1f1f1;\n",
       "        }    #T_cf8ed01e_0305_11ea_97ed_88e9fe64f5f6row1_col1 {\n",
       "            background-color:  #800026;\n",
       "            color:  #f1f1f1;\n",
       "        }    #T_cf8ed01e_0305_11ea_97ed_88e9fe64f5f6row1_col2 {\n",
       "            background-color:  #800026;\n",
       "            color:  #f1f1f1;\n",
       "        }    #T_cf8ed01e_0305_11ea_97ed_88e9fe64f5f6row1_col3 {\n",
       "            background-color:  #800026;\n",
       "            color:  #f1f1f1;\n",
       "        }    #T_cf8ed01e_0305_11ea_97ed_88e9fe64f5f6row1_col4 {\n",
       "            background-color:  #fc6c33;\n",
       "            color:  #000000;\n",
       "        }    #T_cf8ed01e_0305_11ea_97ed_88e9fe64f5f6row1_col5 {\n",
       "            background-color:  #fea245;\n",
       "            color:  #000000;\n",
       "        }    #T_cf8ed01e_0305_11ea_97ed_88e9fe64f5f6row1_col6 {\n",
       "            background-color:  #feb24c;\n",
       "            color:  #000000;\n",
       "        }    #T_cf8ed01e_0305_11ea_97ed_88e9fe64f5f6row1_col7 {\n",
       "            background-color:  #ffeda1;\n",
       "            color:  #000000;\n",
       "        }    #T_cf8ed01e_0305_11ea_97ed_88e9fe64f5f6row2_col0 {\n",
       "            background-color:  #fffac0;\n",
       "            color:  #000000;\n",
       "        }    #T_cf8ed01e_0305_11ea_97ed_88e9fe64f5f6row2_col1 {\n",
       "            background-color:  #fedb7b;\n",
       "            color:  #000000;\n",
       "        }    #T_cf8ed01e_0305_11ea_97ed_88e9fe64f5f6row2_col2 {\n",
       "            background-color:  #feac49;\n",
       "            color:  #000000;\n",
       "        }    #T_cf8ed01e_0305_11ea_97ed_88e9fe64f5f6row2_col3 {\n",
       "            background-color:  #c90823;\n",
       "            color:  #f1f1f1;\n",
       "        }    #T_cf8ed01e_0305_11ea_97ed_88e9fe64f5f6row2_col4 {\n",
       "            background-color:  #800026;\n",
       "            color:  #f1f1f1;\n",
       "        }    #T_cf8ed01e_0305_11ea_97ed_88e9fe64f5f6row2_col5 {\n",
       "            background-color:  #800026;\n",
       "            color:  #f1f1f1;\n",
       "        }    #T_cf8ed01e_0305_11ea_97ed_88e9fe64f5f6row2_col6 {\n",
       "            background-color:  #800026;\n",
       "            color:  #f1f1f1;\n",
       "        }    #T_cf8ed01e_0305_11ea_97ed_88e9fe64f5f6row2_col7 {\n",
       "            background-color:  #800026;\n",
       "            color:  #f1f1f1;\n",
       "        }    #T_cf8ed01e_0305_11ea_97ed_88e9fe64f5f6row3_col0 {\n",
       "            background-color:  #ffffcc;\n",
       "            color:  #000000;\n",
       "        }    #T_cf8ed01e_0305_11ea_97ed_88e9fe64f5f6row3_col1 {\n",
       "            background-color:  #ffffcc;\n",
       "            color:  #000000;\n",
       "        }    #T_cf8ed01e_0305_11ea_97ed_88e9fe64f5f6row3_col2 {\n",
       "            background-color:  #ffffcc;\n",
       "            color:  #000000;\n",
       "        }    #T_cf8ed01e_0305_11ea_97ed_88e9fe64f5f6row3_col3 {\n",
       "            background-color:  #ffffcc;\n",
       "            color:  #000000;\n",
       "        }    #T_cf8ed01e_0305_11ea_97ed_88e9fe64f5f6row3_col4 {\n",
       "            background-color:  #feda78;\n",
       "            color:  #000000;\n",
       "        }    #T_cf8ed01e_0305_11ea_97ed_88e9fe64f5f6row3_col5 {\n",
       "            background-color:  #fed16e;\n",
       "            color:  #000000;\n",
       "        }    #T_cf8ed01e_0305_11ea_97ed_88e9fe64f5f6row3_col6 {\n",
       "            background-color:  #ee3122;\n",
       "            color:  #f1f1f1;\n",
       "        }    #T_cf8ed01e_0305_11ea_97ed_88e9fe64f5f6row3_col7 {\n",
       "            background-color:  #aa0026;\n",
       "            color:  #f1f1f1;\n",
       "        }</style><table id=\"T_cf8ed01e_0305_11ea_97ed_88e9fe64f5f6\" ><thead>    <tr>        <th class=\"index_name level0\" >bathroomcnt</th>        <th class=\"col_heading level0 col0\" >1.0</th>        <th class=\"col_heading level0 col1\" >1.5</th>        <th class=\"col_heading level0 col2\" >2.0</th>        <th class=\"col_heading level0 col3\" >2.5</th>        <th class=\"col_heading level0 col4\" >3.0</th>        <th class=\"col_heading level0 col5\" >3.5</th>        <th class=\"col_heading level0 col6\" >4.0</th>        <th class=\"col_heading level0 col7\" >4.5</th>    </tr>    <tr>        <th class=\"index_name level0\" >bedroomcnt</th>        <th class=\"blank\" ></th>        <th class=\"blank\" ></th>        <th class=\"blank\" ></th>        <th class=\"blank\" ></th>        <th class=\"blank\" ></th>        <th class=\"blank\" ></th>        <th class=\"blank\" ></th>        <th class=\"blank\" ></th>    </tr></thead><tbody>\n",
       "                <tr>\n",
       "                        <th id=\"T_cf8ed01e_0305_11ea_97ed_88e9fe64f5f6level0_row0\" class=\"row_heading level0 row0\" >2.0</th>\n",
       "                        <td id=\"T_cf8ed01e_0305_11ea_97ed_88e9fe64f5f6row0_col0\" class=\"data row0 col0\" >3413</td>\n",
       "                        <td id=\"T_cf8ed01e_0305_11ea_97ed_88e9fe64f5f6row0_col1\" class=\"data row0 col1\" >103</td>\n",
       "                        <td id=\"T_cf8ed01e_0305_11ea_97ed_88e9fe64f5f6row0_col2\" class=\"data row0 col2\" >1619</td>\n",
       "                        <td id=\"T_cf8ed01e_0305_11ea_97ed_88e9fe64f5f6row0_col3\" class=\"data row0 col3\" >127</td>\n",
       "                        <td id=\"T_cf8ed01e_0305_11ea_97ed_88e9fe64f5f6row0_col4\" class=\"data row0 col4\" >149</td>\n",
       "                        <td id=\"T_cf8ed01e_0305_11ea_97ed_88e9fe64f5f6row0_col5\" class=\"data row0 col5\" >8</td>\n",
       "                        <td id=\"T_cf8ed01e_0305_11ea_97ed_88e9fe64f5f6row0_col6\" class=\"data row0 col6\" >5</td>\n",
       "                        <td id=\"T_cf8ed01e_0305_11ea_97ed_88e9fe64f5f6row0_col7\" class=\"data row0 col7\" >0</td>\n",
       "            </tr>\n",
       "            <tr>\n",
       "                        <th id=\"T_cf8ed01e_0305_11ea_97ed_88e9fe64f5f6level0_row1\" class=\"row_heading level0 row1\" >3.0</th>\n",
       "                        <td id=\"T_cf8ed01e_0305_11ea_97ed_88e9fe64f5f6row1_col0\" class=\"data row1 col0\" >2451</td>\n",
       "                        <td id=\"T_cf8ed01e_0305_11ea_97ed_88e9fe64f5f6row1_col1\" class=\"data row1 col1\" >295</td>\n",
       "                        <td id=\"T_cf8ed01e_0305_11ea_97ed_88e9fe64f5f6row1_col2\" class=\"data row1 col2\" >8706</td>\n",
       "                        <td id=\"T_cf8ed01e_0305_11ea_97ed_88e9fe64f5f6row1_col3\" class=\"data row1 col3\" >1274</td>\n",
       "                        <td id=\"T_cf8ed01e_0305_11ea_97ed_88e9fe64f5f6row1_col4\" class=\"data row1 col4\" >1838</td>\n",
       "                        <td id=\"T_cf8ed01e_0305_11ea_97ed_88e9fe64f5f6row1_col5\" class=\"data row1 col5\" >124</td>\n",
       "                        <td id=\"T_cf8ed01e_0305_11ea_97ed_88e9fe64f5f6row1_col6\" class=\"data row1 col6\" >172</td>\n",
       "                        <td id=\"T_cf8ed01e_0305_11ea_97ed_88e9fe64f5f6row1_col7\" class=\"data row1 col7\" >20</td>\n",
       "            </tr>\n",
       "            <tr>\n",
       "                        <th id=\"T_cf8ed01e_0305_11ea_97ed_88e9fe64f5f6level0_row2\" class=\"row_heading level0 row2\" >4.0</th>\n",
       "                        <td id=\"T_cf8ed01e_0305_11ea_97ed_88e9fe64f5f6row2_col0\" class=\"data row2 col0\" >149</td>\n",
       "                        <td id=\"T_cf8ed01e_0305_11ea_97ed_88e9fe64f5f6row2_col1\" class=\"data row2 col1\" >71</td>\n",
       "                        <td id=\"T_cf8ed01e_0305_11ea_97ed_88e9fe64f5f6row2_col2\" class=\"data row2 col2\" >3576</td>\n",
       "                        <td id=\"T_cf8ed01e_0305_11ea_97ed_88e9fe64f5f6row2_col3\" class=\"data row2 col3\" >1080</td>\n",
       "                        <td id=\"T_cf8ed01e_0305_11ea_97ed_88e9fe64f5f6row2_col4\" class=\"data row2 col4\" >3142</td>\n",
       "                        <td id=\"T_cf8ed01e_0305_11ea_97ed_88e9fe64f5f6row2_col5\" class=\"data row2 col5\" >278</td>\n",
       "                        <td id=\"T_cf8ed01e_0305_11ea_97ed_88e9fe64f5f6row2_col6\" class=\"data row2 col6\" >446</td>\n",
       "                        <td id=\"T_cf8ed01e_0305_11ea_97ed_88e9fe64f5f6row2_col7\" class=\"data row2 col7\" >162</td>\n",
       "            </tr>\n",
       "            <tr>\n",
       "                        <th id=\"T_cf8ed01e_0305_11ea_97ed_88e9fe64f5f6level0_row3\" class=\"row_heading level0 row3\" >5.0</th>\n",
       "                        <td id=\"T_cf8ed01e_0305_11ea_97ed_88e9fe64f5f6row3_col0\" class=\"data row3 col0\" >19</td>\n",
       "                        <td id=\"T_cf8ed01e_0305_11ea_97ed_88e9fe64f5f6row3_col1\" class=\"data row3 col1\" >1</td>\n",
       "                        <td id=\"T_cf8ed01e_0305_11ea_97ed_88e9fe64f5f6row3_col2\" class=\"data row3 col2\" >216</td>\n",
       "                        <td id=\"T_cf8ed01e_0305_11ea_97ed_88e9fe64f5f6row3_col3\" class=\"data row3 col3\" >114</td>\n",
       "                        <td id=\"T_cf8ed01e_0305_11ea_97ed_88e9fe64f5f6row3_col4\" class=\"data row3 col4\" >883</td>\n",
       "                        <td id=\"T_cf8ed01e_0305_11ea_97ed_88e9fe64f5f6row3_col5\" class=\"data row3 col5\" >82</td>\n",
       "                        <td id=\"T_cf8ed01e_0305_11ea_97ed_88e9fe64f5f6row3_col6\" class=\"data row3 col6\" >311</td>\n",
       "                        <td id=\"T_cf8ed01e_0305_11ea_97ed_88e9fe64f5f6row3_col7\" class=\"data row3 col7\" >148</td>\n",
       "            </tr>\n",
       "    </tbody></table>"
      ],
      "text/plain": [
       "<pandas.io.formats.style.Styler at 0x1a25e37e10>"
      ]
     },
     "execution_count": 57,
     "metadata": {},
     "output_type": "execute_result"
    }
   ],
   "source": [
    "# contingency_table from the df_cat dataframe (w/o categories)\n",
    "\n",
    "contingency_table = pd.crosstab(train_cat.bedroomcnt, train_cat.bathroomcnt).style.background_gradient(cmap='YlOrRd')\n",
    "contingency_table"
   ]
  },
  {
   "cell_type": "code",
   "execution_count": 58,
   "metadata": {},
   "outputs": [],
   "source": [
    "contingency_table = pd.crosstab(train_cat.bedroomcnt, train_cat.bathroomcnt)\n",
    "_, p, _, expected = stats.chi2_contingency(contingency_table)"
   ]
  },
  {
   "cell_type": "code",
   "execution_count": 59,
   "metadata": {},
   "outputs": [
    {
     "name": "stdout",
     "output_type": "stream",
     "text": [
      "The p-value of the contingency test is 0.0.\n"
     ]
    }
   ],
   "source": [
    "print(f\"The p-value of the contingency test is {p}.\")"
   ]
  },
  {
   "cell_type": "markdown",
   "metadata": {},
   "source": [
    "### Takeaways from chi2 test on bedroomcnt and bathroomcnt\n",
    "\n",
    "- The typical home is a 3 bedroom, 2 bathroom. This is where the most variation will lie making it the most difficult home values to predict.\n",
    "\n",
    "\n",
    "- Based on the p_value of 0 from the chi2 test above, I reject the Null Hypothesis that bathroomcnt is independent of how many bedrooms a home has.\n",
    "\n",
    "\n",
    "- Based on rejecting the Null Hypothesis, it might be useful to combine the two features into a single feature that is a ratio of bedrooms to bathrooms. This may be done in this or a futre iteration of this project."
   ]
  },
  {
   "cell_type": "markdown",
   "metadata": {},
   "source": [
    "## Chi2 test looking at garagecarcnt and poolcnt\n",
    "\n",
    "- $H_0$: garagecarcnt is independent of how many pools a home has.\n",
    "\n",
    "- $H_a$: garagecarcnt is not independent of how many pools a home has."
   ]
  },
  {
   "cell_type": "code",
   "execution_count": 60,
   "metadata": {},
   "outputs": [
    {
     "data": {
      "text/html": [
       "<style  type=\"text/css\" >\n",
       "    #T_cfbe1734_0305_11ea_97ed_88e9fe64f5f6row0_col0 {\n",
       "            background-color:  #800026;\n",
       "            color:  #f1f1f1;\n",
       "        }    #T_cfbe1734_0305_11ea_97ed_88e9fe64f5f6row0_col1 {\n",
       "            background-color:  #800026;\n",
       "            color:  #f1f1f1;\n",
       "        }    #T_cfbe1734_0305_11ea_97ed_88e9fe64f5f6row1_col0 {\n",
       "            background-color:  #fff5b3;\n",
       "            color:  #000000;\n",
       "        }    #T_cfbe1734_0305_11ea_97ed_88e9fe64f5f6row1_col1 {\n",
       "            background-color:  #fff9bd;\n",
       "            color:  #000000;\n",
       "        }    #T_cfbe1734_0305_11ea_97ed_88e9fe64f5f6row2_col0 {\n",
       "            background-color:  #fd9e43;\n",
       "            color:  #000000;\n",
       "        }    #T_cfbe1734_0305_11ea_97ed_88e9fe64f5f6row2_col1 {\n",
       "            background-color:  #fc4d2a;\n",
       "            color:  #000000;\n",
       "        }    #T_cfbe1734_0305_11ea_97ed_88e9fe64f5f6row3_col0 {\n",
       "            background-color:  #fffecb;\n",
       "            color:  #000000;\n",
       "        }    #T_cfbe1734_0305_11ea_97ed_88e9fe64f5f6row3_col1 {\n",
       "            background-color:  #fffcc4;\n",
       "            color:  #000000;\n",
       "        }    #T_cfbe1734_0305_11ea_97ed_88e9fe64f5f6row4_col0 {\n",
       "            background-color:  #ffffcc;\n",
       "            color:  #000000;\n",
       "        }    #T_cfbe1734_0305_11ea_97ed_88e9fe64f5f6row4_col1 {\n",
       "            background-color:  #fffecb;\n",
       "            color:  #000000;\n",
       "        }    #T_cfbe1734_0305_11ea_97ed_88e9fe64f5f6row5_col0 {\n",
       "            background-color:  #ffffcc;\n",
       "            color:  #000000;\n",
       "        }    #T_cfbe1734_0305_11ea_97ed_88e9fe64f5f6row5_col1 {\n",
       "            background-color:  #ffffcc;\n",
       "            color:  #000000;\n",
       "        }    #T_cfbe1734_0305_11ea_97ed_88e9fe64f5f6row6_col0 {\n",
       "            background-color:  #ffffcc;\n",
       "            color:  #000000;\n",
       "        }    #T_cfbe1734_0305_11ea_97ed_88e9fe64f5f6row6_col1 {\n",
       "            background-color:  #ffffcc;\n",
       "            color:  #000000;\n",
       "        }    #T_cfbe1734_0305_11ea_97ed_88e9fe64f5f6row7_col0 {\n",
       "            background-color:  #ffffcc;\n",
       "            color:  #000000;\n",
       "        }    #T_cfbe1734_0305_11ea_97ed_88e9fe64f5f6row7_col1 {\n",
       "            background-color:  #ffffcc;\n",
       "            color:  #000000;\n",
       "        }</style><table id=\"T_cfbe1734_0305_11ea_97ed_88e9fe64f5f6\" ><thead>    <tr>        <th class=\"index_name level0\" >poolcnt</th>        <th class=\"col_heading level0 col0\" >0.0</th>        <th class=\"col_heading level0 col1\" >1.0</th>    </tr>    <tr>        <th class=\"index_name level0\" >garagecarcnt</th>        <th class=\"blank\" ></th>        <th class=\"blank\" ></th>    </tr></thead><tbody>\n",
       "                <tr>\n",
       "                        <th id=\"T_cfbe1734_0305_11ea_97ed_88e9fe64f5f6level0_row0\" class=\"row_heading level0 row0\" >0.0</th>\n",
       "                        <td id=\"T_cfbe1734_0305_11ea_97ed_88e9fe64f5f6row0_col0\" class=\"data row0 col0\" >16834</td>\n",
       "                        <td id=\"T_cfbe1734_0305_11ea_97ed_88e9fe64f5f6row0_col1\" class=\"data row0 col1\" >3109</td>\n",
       "            </tr>\n",
       "            <tr>\n",
       "                        <th id=\"T_cfbe1734_0305_11ea_97ed_88e9fe64f5f6level0_row1\" class=\"row_heading level0 row1\" >1.0</th>\n",
       "                        <td id=\"T_cfbe1734_0305_11ea_97ed_88e9fe64f5f6row1_col0\" class=\"data row1 col0\" >1244</td>\n",
       "                        <td id=\"T_cfbe1734_0305_11ea_97ed_88e9fe64f5f6row1_col1\" class=\"data row1 col1\" >140</td>\n",
       "            </tr>\n",
       "            <tr>\n",
       "                        <th id=\"T_cfbe1734_0305_11ea_97ed_88e9fe64f5f6level0_row2\" class=\"row_heading level0 row2\" >2.0</th>\n",
       "                        <td id=\"T_cfbe1734_0305_11ea_97ed_88e9fe64f5f6row2_col0\" class=\"data row2 col0\" >7465</td>\n",
       "                        <td id=\"T_cfbe1734_0305_11ea_97ed_88e9fe64f5f6row2_col1\" class=\"data row2 col1\" >1947</td>\n",
       "            </tr>\n",
       "            <tr>\n",
       "                        <th id=\"T_cfbe1734_0305_11ea_97ed_88e9fe64f5f6level0_row3\" class=\"row_heading level0 row3\" >3.0</th>\n",
       "                        <td id=\"T_cfbe1734_0305_11ea_97ed_88e9fe64f5f6row3_col0\" class=\"data row3 col0\" >121</td>\n",
       "                        <td id=\"T_cfbe1734_0305_11ea_97ed_88e9fe64f5f6row3_col1\" class=\"data row3 col1\" >78</td>\n",
       "            </tr>\n",
       "            <tr>\n",
       "                        <th id=\"T_cfbe1734_0305_11ea_97ed_88e9fe64f5f6level0_row4\" class=\"row_heading level0 row4\" >4.0</th>\n",
       "                        <td id=\"T_cfbe1734_0305_11ea_97ed_88e9fe64f5f6row4_col0\" class=\"data row4 col0\" >22</td>\n",
       "                        <td id=\"T_cfbe1734_0305_11ea_97ed_88e9fe64f5f6row4_col1\" class=\"data row4 col1\" >17</td>\n",
       "            </tr>\n",
       "            <tr>\n",
       "                        <th id=\"T_cfbe1734_0305_11ea_97ed_88e9fe64f5f6level0_row5\" class=\"row_heading level0 row5\" >5.0</th>\n",
       "                        <td id=\"T_cfbe1734_0305_11ea_97ed_88e9fe64f5f6row5_col0\" class=\"data row5 col0\" >2</td>\n",
       "                        <td id=\"T_cfbe1734_0305_11ea_97ed_88e9fe64f5f6row5_col1\" class=\"data row5 col1\" >0</td>\n",
       "            </tr>\n",
       "            <tr>\n",
       "                        <th id=\"T_cfbe1734_0305_11ea_97ed_88e9fe64f5f6level0_row6\" class=\"row_heading level0 row6\" >6.0</th>\n",
       "                        <td id=\"T_cfbe1734_0305_11ea_97ed_88e9fe64f5f6row6_col0\" class=\"data row6 col0\" >2</td>\n",
       "                        <td id=\"T_cfbe1734_0305_11ea_97ed_88e9fe64f5f6row6_col1\" class=\"data row6 col1\" >0</td>\n",
       "            </tr>\n",
       "            <tr>\n",
       "                        <th id=\"T_cfbe1734_0305_11ea_97ed_88e9fe64f5f6level0_row7\" class=\"row_heading level0 row7\" >10.0</th>\n",
       "                        <td id=\"T_cfbe1734_0305_11ea_97ed_88e9fe64f5f6row7_col0\" class=\"data row7 col0\" >1</td>\n",
       "                        <td id=\"T_cfbe1734_0305_11ea_97ed_88e9fe64f5f6row7_col1\" class=\"data row7 col1\" >0</td>\n",
       "            </tr>\n",
       "    </tbody></table>"
      ],
      "text/plain": [
       "<pandas.io.formats.style.Styler at 0x1a260dfc88>"
      ]
     },
     "execution_count": 60,
     "metadata": {},
     "output_type": "execute_result"
    }
   ],
   "source": [
    "contingency_table = pd.crosstab(train_cat.garagecarcnt, train_cat.poolcnt).style.background_gradient(cmap='YlOrRd')\n",
    "contingency_table"
   ]
  },
  {
   "cell_type": "code",
   "execution_count": 61,
   "metadata": {},
   "outputs": [
    {
     "data": {
      "text/html": [
       "<div>\n",
       "<style scoped>\n",
       "    .dataframe tbody tr th:only-of-type {\n",
       "        vertical-align: middle;\n",
       "    }\n",
       "\n",
       "    .dataframe tbody tr th {\n",
       "        vertical-align: top;\n",
       "    }\n",
       "\n",
       "    .dataframe thead th {\n",
       "        text-align: right;\n",
       "    }\n",
       "</style>\n",
       "<table border=\"1\" class=\"dataframe\">\n",
       "  <thead>\n",
       "    <tr style=\"text-align: right;\">\n",
       "      <th>poolcnt</th>\n",
       "      <th>0.0</th>\n",
       "      <th>1.0</th>\n",
       "    </tr>\n",
       "    <tr>\n",
       "      <th>garagecarcnt</th>\n",
       "      <th></th>\n",
       "      <th></th>\n",
       "    </tr>\n",
       "  </thead>\n",
       "  <tbody>\n",
       "    <tr>\n",
       "      <th>0.00</th>\n",
       "      <td>16834</td>\n",
       "      <td>3109</td>\n",
       "    </tr>\n",
       "    <tr>\n",
       "      <th>1.00</th>\n",
       "      <td>1244</td>\n",
       "      <td>140</td>\n",
       "    </tr>\n",
       "    <tr>\n",
       "      <th>2.00</th>\n",
       "      <td>7465</td>\n",
       "      <td>1947</td>\n",
       "    </tr>\n",
       "    <tr>\n",
       "      <th>3.00</th>\n",
       "      <td>121</td>\n",
       "      <td>78</td>\n",
       "    </tr>\n",
       "    <tr>\n",
       "      <th>4.00</th>\n",
       "      <td>22</td>\n",
       "      <td>17</td>\n",
       "    </tr>\n",
       "    <tr>\n",
       "      <th>5.00</th>\n",
       "      <td>2</td>\n",
       "      <td>0</td>\n",
       "    </tr>\n",
       "    <tr>\n",
       "      <th>6.00</th>\n",
       "      <td>2</td>\n",
       "      <td>0</td>\n",
       "    </tr>\n",
       "    <tr>\n",
       "      <th>10.00</th>\n",
       "      <td>1</td>\n",
       "      <td>0</td>\n",
       "    </tr>\n",
       "  </tbody>\n",
       "</table>\n",
       "</div>"
      ],
      "text/plain": [
       "poolcnt        0.00  1.00\n",
       "garagecarcnt             \n",
       " 0.00         16834  3109\n",
       " 1.00          1244   140\n",
       " 2.00          7465  1947\n",
       " 3.00           121    78\n",
       " 4.00            22    17\n",
       " 5.00             2     0\n",
       " 6.00             2     0\n",
       "10.00             1     0"
      ]
     },
     "execution_count": 61,
     "metadata": {},
     "output_type": "execute_result"
    }
   ],
   "source": [
    "contingency_table = pd.crosstab(train_cat.garagecarcnt, train_cat.poolcnt)\n",
    "contingency_table"
   ]
  },
  {
   "cell_type": "code",
   "execution_count": 62,
   "metadata": {},
   "outputs": [],
   "source": [
    "_, p, _, expected = stats.chi2_contingency(contingency_table)"
   ]
  },
  {
   "cell_type": "code",
   "execution_count": 63,
   "metadata": {},
   "outputs": [
    {
     "name": "stdout",
     "output_type": "stream",
     "text": [
      "The p-value of the contingency test is 3.4502756484518547e-51.\n"
     ]
    }
   ],
   "source": [
    "print(f\"The p-value of the contingency test is {p}.\")"
   ]
  },
  {
   "cell_type": "code",
   "execution_count": 64,
   "metadata": {},
   "outputs": [],
   "source": [
    "r, p = stats.pearsonr(train_cat.lotsizesquarefeet, train_cat.taxvaluedollarcnt)"
   ]
  },
  {
   "cell_type": "code",
   "execution_count": 65,
   "metadata": {},
   "outputs": [
    {
     "name": "stdout",
     "output_type": "stream",
     "text": [
      "r is 0.06923401882543892\n"
     ]
    }
   ],
   "source": [
    "print(f\"r is {r}\")"
   ]
  },
  {
   "cell_type": "code",
   "execution_count": 66,
   "metadata": {},
   "outputs": [
    {
     "name": "stdout",
     "output_type": "stream",
     "text": [
      "p is 3.0885831609595475e-34\n"
     ]
    }
   ],
   "source": [
    "print(f\"p is {p}\")"
   ]
  },
  {
   "cell_type": "markdown",
   "metadata": {},
   "source": [
    "### DB Scan this thingy"
   ]
  },
  {
   "cell_type": "code",
   "execution_count": 67,
   "metadata": {},
   "outputs": [
    {
     "ename": "NameError",
     "evalue": "name 'lot_no_outliers' is not defined",
     "output_type": "error",
     "traceback": [
      "\u001b[0;31m---------------------------------------------------------------------------\u001b[0m",
      "\u001b[0;31mNameError\u001b[0m                                 Traceback (most recent call last)",
      "\u001b[0;32m<ipython-input-67-02eeedceb490>\u001b[0m in \u001b[0;36m<module>\u001b[0;34m\u001b[0m\n\u001b[0;32m----> 1\u001b[0;31m \u001b[0msns\u001b[0m\u001b[0;34m.\u001b[0m\u001b[0mscatterplot\u001b[0m\u001b[0;34m(\u001b[0m\u001b[0mdata\u001b[0m\u001b[0;34m=\u001b[0m\u001b[0mlot_no_outliers\u001b[0m\u001b[0;34m,\u001b[0m \u001b[0my\u001b[0m\u001b[0;34m=\u001b[0m\u001b[0;34m\"price_per_sq_ft\"\u001b[0m\u001b[0;34m,\u001b[0m \u001b[0mx\u001b[0m\u001b[0;34m=\u001b[0m\u001b[0;34m\"lot_price_per_sq_ft\"\u001b[0m\u001b[0;34m,\u001b[0m \u001b[0mhue\u001b[0m\u001b[0;34m=\u001b[0m\u001b[0;34m\"county_name\"\u001b[0m\u001b[0;34m)\u001b[0m\u001b[0;34m\u001b[0m\u001b[0;34m\u001b[0m\u001b[0m\n\u001b[0m",
      "\u001b[0;31mNameError\u001b[0m: name 'lot_no_outliers' is not defined"
     ]
    }
   ],
   "source": [
    "sns.scatterplot(data=lot_no_outliers, y=\"price_per_sq_ft\", x=\"lot_price_per_sq_ft\", hue=\"county_name\")"
   ]
  },
  {
   "cell_type": "markdown",
   "metadata": {},
   "source": [
    "## Split train and test into X_train, X_test, y_train, y_test"
   ]
  },
  {
   "cell_type": "code",
   "execution_count": null,
   "metadata": {},
   "outputs": [],
   "source": [
    "train = train.drop(columns='county_name')\n",
    "test = test.drop(columns='county_name')"
   ]
  },
  {
   "cell_type": "code",
   "execution_count": null,
   "metadata": {},
   "outputs": [],
   "source": [
    "df = df.drop(columns=['calculatedfinishedsquarefeet', 'lotsizesquarefeet', 'taxvaluedollarcnt', 'landtaxvaluedollarcnt', 'yearbuilt'])"
   ]
  },
  {
   "cell_type": "code",
   "execution_count": null,
   "metadata": {},
   "outputs": [],
   "source": [
    "X_train = train.drop(columns=\"logerror\")\n",
    "\n",
    "y_train = train[[\"logerror\"]]\n",
    "\n",
    "X_test = test.drop(columns=\"logerror\")\n",
    "\n",
    "y_test = test[[\"logerror\"]]"
   ]
  },
  {
   "cell_type": "markdown",
   "metadata": {},
   "source": [
    "## Model - Linear Regression Model"
   ]
  },
  {
   "cell_type": "code",
   "execution_count": null,
   "metadata": {},
   "outputs": [],
   "source": [
    "X_train.dtypes"
   ]
  },
  {
   "cell_type": "code",
   "execution_count": null,
   "metadata": {},
   "outputs": [],
   "source": [
    "X_train.head()"
   ]
  },
  {
   "cell_type": "code",
   "execution_count": null,
   "metadata": {},
   "outputs": [],
   "source": [
    "X_train.garagecarcnt = X_train.garagecarcnt.astype(float)\n",
    "X_train.bathroomcnt = X_train.bathroomcnt.astype(float)\n",
    "X_train.bedroomcnt = X_train.bedroomcnt.astype(float)\n",
    "X_train.poolcnt = X_train.poolcnt.astype(float)"
   ]
  },
  {
   "cell_type": "code",
   "execution_count": null,
   "metadata": {},
   "outputs": [],
   "source": [
    "X_train = X_train.drop(columns='yearbuilt')\n",
    "X_test = X_test.drop(columns='yearbuilt')"
   ]
  },
  {
   "cell_type": "code",
   "execution_count": null,
   "metadata": {},
   "outputs": [],
   "source": [
    "# create the LR object\n",
    "\n",
    "lm1 = LinearRegression()\n",
    "print(lm1)"
   ]
  },
  {
   "cell_type": "code",
   "execution_count": null,
   "metadata": {},
   "outputs": [],
   "source": [
    "# fit/train the model\n",
    "\n",
    "model = lm1.fit(X_train, y_train)"
   ]
  },
  {
   "cell_type": "code",
   "execution_count": null,
   "metadata": {},
   "outputs": [],
   "source": [
    "# create yhat variable, numpy array, in-sample prediction values\n",
    "\n",
    "yhat = model.predict(X_train)\n",
    "type(yhat)\n",
    "yhat"
   ]
  },
  {
   "cell_type": "code",
   "execution_count": null,
   "metadata": {},
   "outputs": [],
   "source": [
    "actual = y_train\n",
    "actual.head()"
   ]
  },
  {
   "cell_type": "code",
   "execution_count": null,
   "metadata": {},
   "outputs": [],
   "source": [
    "actual['yhat'] = yhat"
   ]
  },
  {
   "cell_type": "markdown",
   "metadata": {},
   "source": [
    "### Evaluate LR Model"
   ]
  },
  {
   "cell_type": "code",
   "execution_count": null,
   "metadata": {},
   "outputs": [],
   "source": [
    "actual[\"residual\"] = actual[\"yhat\"] - actual[\"logerror\"]"
   ]
  },
  {
   "cell_type": "code",
   "execution_count": null,
   "metadata": {},
   "outputs": [],
   "source": [
    "sns.distplot(actual[\"residual\"])"
   ]
  },
  {
   "cell_type": "code",
   "execution_count": null,
   "metadata": {},
   "outputs": [],
   "source": [
    "sns.scatterplot(actual[\"logerror\"], actual[\"yhat\"])"
   ]
  },
  {
   "cell_type": "code",
   "execution_count": null,
   "metadata": {},
   "outputs": [],
   "source": [
    "actual[\"residual^2\"] = actual[\"residual\"] ** 2"
   ]
  },
  {
   "cell_type": "code",
   "execution_count": null,
   "metadata": {},
   "outputs": [],
   "source": [
    "sse = sum(actual[\"residual^2\"])\n",
    "print(f\"sse = {sse}\")\n",
    "mse = sse / len(actual)\n",
    "print(f\"mse = {mse}\")\n",
    "rmse = sqrt(mse)\n",
    "print(f\"rmse = {rmse}\")"
   ]
  },
  {
   "cell_type": "code",
   "execution_count": null,
   "metadata": {},
   "outputs": [],
   "source": [
    "df_eval = pd.DataFrame(np.array([\"SSE\", \"MSE\", \"RMSE\"]), columns=[\"metric\"])\n",
    "df_eval[\"model_error\"] = np.array([sse, mse, rmse])\n",
    "df_eval"
   ]
  },
  {
   "cell_type": "markdown",
   "metadata": {},
   "source": [
    "- Create a numpy array from the y_df_nums_train df, so I can run eval metrics using yhat(prediction array) and y_array (array of actual y values)"
   ]
  },
  {
   "cell_type": "code",
   "execution_count": null,
   "metadata": {},
   "outputs": [],
   "source": [
    "y_array = np.array(y_train)\n",
    "type(y_array)"
   ]
  },
  {
   "cell_type": "code",
   "execution_count": null,
   "metadata": {},
   "outputs": [],
   "source": [
    "r2_score(actual.logerror, actual.yhat)"
   ]
  },
  {
   "cell_type": "code",
   "execution_count": null,
   "metadata": {},
   "outputs": [],
   "source": [
    "mse_lm1 = mean_squared_error(actual.logerror, actual.yhat)\n",
    "print(\"linear model\\n  mean squared error: {:.3}\".format(mse_lm1)) \n",
    "\n",
    "r2_lm1 = r2_score(actual.logerror, actual.yhat)\n",
    "print('  {:.2%} of the variance in the logerror can be explained by variables.'.format(r2_lm1))"
   ]
  },
  {
   "cell_type": "markdown",
   "metadata": {},
   "source": [
    "### Takeaways from the Linear Regression Model:\n",
    "\n",
    "- Based on the results above I fail to reject the Null Hypothesis that the numeric values alone can predict the logerror.\n",
    "\n",
    "- Using a Linear Regression model to predict the logerror may not be the best choice.\n",
    "\n",
    "- Finding a way to include categorical variables in a model may help predict logerror."
   ]
  },
  {
   "cell_type": "markdown",
   "metadata": {},
   "source": [
    "### Model - K Neighbors Regressor"
   ]
  },
  {
   "cell_type": "code",
   "execution_count": null,
   "metadata": {},
   "outputs": [],
   "source": [
    "# create the object\n",
    "neigh = KNeighborsRegressor(n_neighbors=2)"
   ]
  },
  {
   "cell_type": "code",
   "execution_count": null,
   "metadata": {},
   "outputs": [],
   "source": [
    "# fit/train the model using train \n",
    "neigh.fit(X_train, y_train)"
   ]
  },
  {
   "cell_type": "code",
   "execution_count": null,
   "metadata": {},
   "outputs": [],
   "source": [
    "yhat = neigh.predict(X_train)\n",
    "type(yhat)"
   ]
  },
  {
   "cell_type": "code",
   "execution_count": null,
   "metadata": {},
   "outputs": [],
   "source": [
    "r2 = neigh.score(X_train, y_train)"
   ]
  },
  {
   "cell_type": "code",
   "execution_count": null,
   "metadata": {},
   "outputs": [],
   "source": [
    "print('  {:.2%} of the variance in the logerror can be explained by variables.'.format(r2))"
   ]
  },
  {
   "cell_type": "markdown",
   "metadata": {},
   "source": [
    "### Takeaways from KNRegressor Model\n",
    "\n",
    "- This model explained more than 40% more of the variance in logerror than my LR model using exactly the same data.\n",
    "\n",
    "- The subset of data I used was comprised of the numeric values only from the original dataframe.\n",
    "\n",
    "- I think this model could do even better with outliers handled and some feature engineering."
   ]
  },
  {
   "cell_type": "markdown",
   "metadata": {},
   "source": [
    "### Model df - Random Forest"
   ]
  },
  {
   "cell_type": "code",
   "execution_count": null,
   "metadata": {},
   "outputs": [],
   "source": [
    "from sklearn.model_selection import train_test_split\n",
    "from sklearn.ensemble import RandomForestRegressor\n",
    "from sklearn.metrics import classification_report\n",
    "from sklearn.metrics import confusion_matrix\n",
    "\n",
    "\n",
    "import matplotlib.pyplot as plt\n",
    "%matplotlib inline\n",
    "import seaborn as sns"
   ]
  },
  {
   "cell_type": "code",
   "execution_count": null,
   "metadata": {},
   "outputs": [],
   "source": [
    "rf = RandomForestRegressor(n_estimators=10)"
   ]
  },
  {
   "cell_type": "code",
   "execution_count": null,
   "metadata": {},
   "outputs": [],
   "source": [
    "rf.fit(X_train, y_train)"
   ]
  },
  {
   "cell_type": "code",
   "execution_count": null,
   "metadata": {},
   "outputs": [],
   "source": [
    "from sklearn.metrics import mean_squared_error\n",
    "\n",
    "y_pred = rf.predict(X_train)\n",
    "print(f'root mean squared error = {mean_squared_error(y_train, y_pred)**1/2}')"
   ]
  },
  {
   "cell_type": "code",
   "execution_count": null,
   "metadata": {},
   "outputs": [],
   "source": [
    "y_pred = rf.predict(X_test)\n",
    "print(f'root mean squared error = {mean_squared_error(y_test, y_pred)**1/2}')"
   ]
  },
  {
   "cell_type": "markdown",
   "metadata": {},
   "source": [
    "### PUT TAKEAWAYS FROM RANDOM FOREST MODEL HERE"
   ]
  },
  {
   "cell_type": "code",
   "execution_count": null,
   "metadata": {},
   "outputs": [],
   "source": [
    "predictions_vs_actual = pd.DataFrame({'predictions_log_error': y_pred, 'actual_log_error': y_test.logerror})"
   ]
  },
  {
   "cell_type": "code",
   "execution_count": null,
   "metadata": {},
   "outputs": [],
   "source": [
    "sns.scatterplot(data=predictions_vs_actual, x='predictions_log_error', y='actual_log_error', hue=\"cluster\")"
   ]
  },
  {
   "cell_type": "code",
   "execution_count": null,
   "metadata": {},
   "outputs": [],
   "source": []
  }
 ],
 "metadata": {
  "kernelspec": {
   "display_name": "Python 3",
   "language": "python",
   "name": "python3"
  },
  "language_info": {
   "codemirror_mode": {
    "name": "ipython",
    "version": 3
   },
   "file_extension": ".py",
   "mimetype": "text/x-python",
   "name": "python",
   "nbconvert_exporter": "python",
   "pygments_lexer": "ipython3",
   "version": "3.7.3"
  }
 },
 "nbformat": 4,
 "nbformat_minor": 2
}
