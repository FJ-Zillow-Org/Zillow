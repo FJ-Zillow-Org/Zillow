{
 "cells": [
  {
   "cell_type": "code",
   "execution_count": null,
   "metadata": {},
   "outputs": [],
   "source": [
    "# ignore warnings\n",
    "import warnings\n",
    "warnings.filterwarnings(\"ignore\")\n",
    "\n",
    "# wrangling\n",
    "import pandas as pd\n",
    "import numpy as np\n",
    "\n",
    "# preparing\n",
    "from sklearn.model_selection import train_test_split\n",
    "\n",
    "# visualizing\n",
    "%matplotlib inline\n",
    "import matplotlib.pyplot as plt\n",
    "import seaborn as sns\n",
    "\n",
    "# exploring\n",
    "import scipy.stats as stats\n",
    "import pandas_profiling\n",
    "\n",
    "# modeling\n",
    "from sklearn.cluster import KMeans\n",
    "from sklearn.preprocessing import LabelEncoder, OneHotEncoder, MinMaxScaler\n",
    "from sklearn.linear_model import LinearRegression\n",
    "from statsmodels.formula.api import ols\n",
    "from sklearn.metrics import mean_squared_error, r2_score, explained_variance_score\n",
    "from sklearn.feature_selection import f_regression\n",
    "from math import sqrt\n",
    "from sklearn.neighbors import KNeighborsRegressor\n",
    "\n",
    "# 3D projection\n",
    "from mpl_toolkits.mplot3d import Axes3D\n",
    "\n",
    "pd.options.display.float_format = '{:20,.2f}'.format\n",
    "\n",
    "# my modules\n",
    "import acquire\n",
    "import summarize\n",
    "import prepare\n",
    "\n",
    "# default pandas decimal number display format\n",
    "pd.options.display.float_format = '{:20,.2f}'.format"
   ]
  },
  {
   "cell_type": "markdown",
   "metadata": {},
   "source": [
    "## Acquire\n",
    "\n",
    "- 2017 data\n",
    "\n",
    "- Used only latest transaction property id.\n",
    "\n",
    "- Used only properties with single family homes.\n",
    "\n",
    "- Acquired zillow data using acquire.py (sequel query in this file)\n",
    "\n",
    "- Exported df to a csv file for faster loading."
   ]
  },
  {
   "cell_type": "code",
   "execution_count": 2,
   "metadata": {},
   "outputs": [],
   "source": [
    "# df = acquire.get_zillow_data()\n",
    "# df.head()"
   ]
  },
  {
   "cell_type": "code",
   "execution_count": 3,
   "metadata": {},
   "outputs": [],
   "source": [
    "# Reads in a df with 52,169 rows and 21 columns\n",
    "\n",
    "df = pd.read_csv(\"zillow_dataframe.csv\")"
   ]
  },
  {
   "cell_type": "code",
   "execution_count": 4,
   "metadata": {},
   "outputs": [
    {
     "data": {
      "text/plain": [
       "(52169, 21)"
      ]
     },
     "execution_count": 4,
     "metadata": {},
     "output_type": "execute_result"
    }
   ],
   "source": [
    "df.shape"
   ]
  },
  {
   "cell_type": "markdown",
   "metadata": {},
   "source": [
    "----"
   ]
  },
  {
   "cell_type": "markdown",
   "metadata": {},
   "source": [
    "## Prepare\n",
    "\n",
    "- Starting stage with 52,169 rows and 19 columns\n",
    "\n",
    "\n",
    "- This stage will be revisted often as data needs dictate.\n",
    "\n",
    "\n",
    "- Drop columns not needed based on previous and ongling exploration:\n",
    "\n",
    "    - \"Unnamed: 0\", \"garagetotalsqft\", \"poolsizesum\", \"taxdelinquencyflag\", \"taxdelinquencyyear\", \"transactions\"\n",
    "    \n",
    "    \n",
    "- Keep garagecacnt and poolcnt for exploration and possible feature engineering purposed.\n",
    "\n",
    "\n",
    "- Manually scale latitude and longitude by dividing by 1 million.\n",
    "\n",
    "\n",
    "- Create the following new variables for exploration and modeling\n",
    "\n",
    "    - price_per_sq_ft: (value of house / house square footage)\n",
    "    \n",
    "    - land_price_per_sq_ft: (land tax value / lot square footage)\n",
    "    \n",
    "    - cluster: Los Angeles == 0, Ventura == 1, Orange == 2\n",
    "    \n",
    "    \n",
    "- Split data into train and test\n",
    "    \n",
    "    \n",
    "- Fill zeros for missing values in garagecarcnt and poolcnt\n",
    "\n",
    "    - explore these columns for possible feature engineering in this or future iterations of project\n",
    "    \n",
    "    \n",
    "- Drop remaining rows with Nulls to get data ready to model\n",
    "    - train df\n",
    "        - lotsizesquarefeet               251\n",
    "        - yearbuilt                        26\n",
    "        - price_per_sq_ft                   3\n",
    "        - lot_price_per_sq_ft             251\n",
    "    - test df\n",
    "        - tax_rate                          1\n",
    "        - calculatedfinishedsquarefeet      5\n",
    "        - lotsizesquarefeet               103\n",
    "        - taxvaluedollarcnt                 1\n",
    "        - yearbuilt                        14\n",
    "        - landtaxvaluedollarcnt             1\n",
    "        - price_per_sq_ft                   6\n",
    "        - lot_price_per_sq_ft             104\n",
    "\n",
    "\n",
    "- Final train and test df sizes at the end of prepare-  \n",
    "\n",
    "    - train = (36238, 20)\n",
    "    - test = (15532, 20)\n",
    "    \n",
    "    "
   ]
  },
  {
   "cell_type": "code",
   "execution_count": 5,
   "metadata": {},
   "outputs": [],
   "source": [
    "# drop columns that will not be needed for explore or model\n",
    "\n",
    "df = df.drop(columns=[\"Unnamed: 0\", \"garagetotalsqft\", \"poolsizesum\", \"taxdelinquencyflag\", \"taxdelinquencyyear\", \"transactions\"])"
   ]
  },
  {
   "cell_type": "code",
   "execution_count": 6,
   "metadata": {},
   "outputs": [
    {
     "data": {
      "text/plain": [
       "(52169, 15)"
      ]
     },
     "execution_count": 6,
     "metadata": {},
     "output_type": "execute_result"
    }
   ],
   "source": [
    "df.shape"
   ]
  },
  {
   "cell_type": "code",
   "execution_count": 7,
   "metadata": {},
   "outputs": [],
   "source": [
    "# Manually scale lat and long from very large numbers by dividing by 1 million\n",
    "\n",
    "df.latitude = df.latitude / 1_000_000 \n",
    "df.longitude = df.longitude / 1_000_000 "
   ]
  },
  {
   "cell_type": "markdown",
   "metadata": {},
   "source": [
    "### Create New Features:\n",
    "\n",
    "- price_per_sq_ft (value of house / house square footage\n",
    "\n",
    "- land_price_per_sq_ft  (land tax value / lot square footage)"
   ]
  },
  {
   "cell_type": "markdown",
   "metadata": {},
   "source": [
    "#### Might need to find and drop the outliers for price per sq ft.  Probably some with extremely low or extremely high values that don't make sense"
   ]
  },
  {
   "cell_type": "code",
   "execution_count": 8,
   "metadata": {},
   "outputs": [],
   "source": [
    "df['price_per_sq_ft'] = df['taxvaluedollarcnt'] / df['calculatedfinishedsquarefeet']\n",
    "df['lot_price_per_sq_ft'] = df['landtaxvaluedollarcnt'] / df['lotsizesquarefeet']"
   ]
  },
  {
   "cell_type": "code",
   "execution_count": 9,
   "metadata": {},
   "outputs": [
    {
     "data": {
      "text/html": [
       "<div>\n",
       "<style scoped>\n",
       "    .dataframe tbody tr th:only-of-type {\n",
       "        vertical-align: middle;\n",
       "    }\n",
       "\n",
       "    .dataframe tbody tr th {\n",
       "        vertical-align: top;\n",
       "    }\n",
       "\n",
       "    .dataframe thead th {\n",
       "        text-align: right;\n",
       "    }\n",
       "</style>\n",
       "<table border=\"1\" class=\"dataframe\">\n",
       "  <thead>\n",
       "    <tr style=\"text-align: right;\">\n",
       "      <th></th>\n",
       "      <th>tax_rate</th>\n",
       "      <th>bathroomcnt</th>\n",
       "      <th>bedroomcnt</th>\n",
       "      <th>calculatedfinishedsquarefeet</th>\n",
       "      <th>fips</th>\n",
       "      <th>garagecarcnt</th>\n",
       "      <th>latitude</th>\n",
       "      <th>longitude</th>\n",
       "      <th>lotsizesquarefeet</th>\n",
       "      <th>poolcnt</th>\n",
       "      <th>taxvaluedollarcnt</th>\n",
       "      <th>yearbuilt</th>\n",
       "      <th>landtaxvaluedollarcnt</th>\n",
       "      <th>logerror</th>\n",
       "      <th>county_name</th>\n",
       "      <th>price_per_sq_ft</th>\n",
       "      <th>lot_price_per_sq_ft</th>\n",
       "    </tr>\n",
       "  </thead>\n",
       "  <tbody>\n",
       "    <tr>\n",
       "      <th>0</th>\n",
       "      <td>0.01</td>\n",
       "      <td>3.50</td>\n",
       "      <td>4.00</td>\n",
       "      <td>3,100.00</td>\n",
       "      <td>6,059.00</td>\n",
       "      <td>2.00</td>\n",
       "      <td>33.63</td>\n",
       "      <td>-117.87</td>\n",
       "      <td>4,506.00</td>\n",
       "      <td>nan</td>\n",
       "      <td>1,023,282.00</td>\n",
       "      <td>1,998.00</td>\n",
       "      <td>537,569.00</td>\n",
       "      <td>0.03</td>\n",
       "      <td>Orange</td>\n",
       "      <td>330.09</td>\n",
       "      <td>119.30</td>\n",
       "    </tr>\n",
       "  </tbody>\n",
       "</table>\n",
       "</div>"
      ],
      "text/plain": [
       "              tax_rate          bathroomcnt           bedroomcnt  \\\n",
       "0                 0.01                 3.50                 4.00   \n",
       "\n",
       "   calculatedfinishedsquarefeet                 fips         garagecarcnt  \\\n",
       "0                      3,100.00             6,059.00                 2.00   \n",
       "\n",
       "              latitude            longitude    lotsizesquarefeet  \\\n",
       "0                33.63              -117.87             4,506.00   \n",
       "\n",
       "               poolcnt    taxvaluedollarcnt            yearbuilt  \\\n",
       "0                  nan         1,023,282.00             1,998.00   \n",
       "\n",
       "   landtaxvaluedollarcnt             logerror county_name  \\\n",
       "0             537,569.00                 0.03      Orange   \n",
       "\n",
       "       price_per_sq_ft  lot_price_per_sq_ft  \n",
       "0               330.09               119.30  "
      ]
     },
     "execution_count": 9,
     "metadata": {},
     "output_type": "execute_result"
    }
   ],
   "source": [
    "df.head(1)"
   ]
  },
  {
   "cell_type": "code",
   "execution_count": 10,
   "metadata": {},
   "outputs": [],
   "source": [
    "# df = df.drop(columns=['calculatedfinishedsquarefeet', 'lotsizesquarefeet', 'taxvaluedollarcnt', 'landtaxvaluedollarcnt'])"
   ]
  },
  {
   "cell_type": "markdown",
   "metadata": {},
   "source": [
    "### Split the data into train and test, 70/30"
   ]
  },
  {
   "cell_type": "code",
   "execution_count": 11,
   "metadata": {},
   "outputs": [],
   "source": [
    "train, test = train_test_split(df, test_size=.30, random_state=123)"
   ]
  },
  {
   "cell_type": "code",
   "execution_count": 12,
   "metadata": {},
   "outputs": [
    {
     "data": {
      "text/plain": [
       "(36518, 17)"
      ]
     },
     "execution_count": 12,
     "metadata": {},
     "output_type": "execute_result"
    }
   ],
   "source": [
    "train.shape"
   ]
  },
  {
   "cell_type": "code",
   "execution_count": 13,
   "metadata": {},
   "outputs": [
    {
     "data": {
      "text/plain": [
       "(15651, 17)"
      ]
     },
     "execution_count": 13,
     "metadata": {},
     "output_type": "execute_result"
    }
   ],
   "source": [
    "test.shape"
   ]
  },
  {
   "cell_type": "markdown",
   "metadata": {},
   "source": [
    "### Proof of Concept - Clustering fips (aka binning the 3 different counties)"
   ]
  },
  {
   "cell_type": "code",
   "execution_count": 14,
   "metadata": {},
   "outputs": [],
   "source": [
    "kmeans = KMeans(n_clusters=3, n_init=1, max_iter=100, random_state=123)"
   ]
  },
  {
   "cell_type": "code",
   "execution_count": 15,
   "metadata": {},
   "outputs": [
    {
     "data": {
      "text/plain": [
       "KMeans(algorithm='auto', copy_x=True, init='k-means++', max_iter=100,\n",
       "       n_clusters=3, n_init=1, n_jobs=None, precompute_distances='auto',\n",
       "       random_state=123, tol=0.0001, verbose=0)"
      ]
     },
     "execution_count": 15,
     "metadata": {},
     "output_type": "execute_result"
    }
   ],
   "source": [
    "kmeans.fit(train[['fips']])"
   ]
  },
  {
   "cell_type": "code",
   "execution_count": 16,
   "metadata": {},
   "outputs": [],
   "source": [
    "cluster = 'cluster_' + str('fips')\n",
    "\n",
    "train[cluster] = kmeans.predict(train[['fips']])\n",
    "\n",
    "test[cluster] = kmeans.predict(test[['fips']])"
   ]
  },
  {
   "cell_type": "markdown",
   "metadata": {},
   "source": [
    "Elbow method to determine how many clusters are necessary"
   ]
  },
  {
   "cell_type": "code",
   "execution_count": 17,
   "metadata": {},
   "outputs": [
    {
     "data": {
      "image/png": "[encoded data removed]",
      "text/plain": [
       "<Figure size 432x288 with 1 Axes>"
      ]
     },
     "metadata": {
      "needs_background": "light"
     },
     "output_type": "display_data"
    }
   ],
   "source": [
    "X1 = train[['cluster_fips']]\n",
    "# calculate distortion for a range of numbers of clusters\n",
    "distortions = []\n",
    "for i in range(1, 11):\n",
    "    km = KMeans(\n",
    "        n_clusters=i, init='random',\n",
    "        n_init=10, max_iter=300,\n",
    "        tol=1e-04, random_state=0\n",
    "    )\n",
    "    km.fit(X1)\n",
    "    distortions.append(km.inertia_)\n",
    "\n",
    "# plot\n",
    "plt.plot(range(1, 11), distortions, marker='o')\n",
    "plt.xlabel('Number of clusters')\n",
    "plt.ylabel('Distortion')\n",
    "plt.show()"
   ]
  },
  {
   "cell_type": "markdown",
   "metadata": {},
   "source": [
    "## Clustering based on price per square foot, latitude, and longitude"
   ]
  },
  {
   "cell_type": "code",
   "execution_count": 18,
   "metadata": {},
   "outputs": [],
   "source": [
    "kmeans = KMeans(n_clusters=10, n_init=1, max_iter=100, random_state=123)"
   ]
  },
  {
   "cell_type": "code",
   "execution_count": 19,
   "metadata": {},
   "outputs": [],
   "source": [
    "train = train[pd.notnull(train['price_per_sq_ft'])]"
   ]
  },
  {
   "cell_type": "code",
   "execution_count": 20,
   "metadata": {},
   "outputs": [],
   "source": [
    "test = test[pd.notnull(test['price_per_sq_ft'])]"
   ]
  },
  {
   "cell_type": "code",
   "execution_count": 21,
   "metadata": {},
   "outputs": [
    {
     "data": {
      "text/plain": [
       "KMeans(algorithm='auto', copy_x=True, init='k-means++', max_iter=100,\n",
       "       n_clusters=10, n_init=1, n_jobs=None, precompute_distances='auto',\n",
       "       random_state=123, tol=0.0001, verbose=0)"
      ]
     },
     "execution_count": 21,
     "metadata": {},
     "output_type": "execute_result"
    }
   ],
   "source": [
    "kmeans.fit(train[['price_per_sq_ft', 'latitude', 'longitude']])"
   ]
  },
  {
   "cell_type": "code",
   "execution_count": 22,
   "metadata": {},
   "outputs": [],
   "source": [
    "cluster = 'cluster_' + str('sqft')\n",
    "\n",
    "train[cluster] = kmeans.predict(train[['price_per_sq_ft', 'latitude', 'longitude']])\n",
    "\n",
    "test[cluster] = kmeans.predict(test[['price_per_sq_ft', 'latitude', 'longitude']])"
   ]
  },
  {
   "cell_type": "code",
   "execution_count": 23,
   "metadata": {},
   "outputs": [
    {
     "data": {
      "image/png": "[encoded data removed]",
      "text/plain": [
       "<Figure size 432x288 with 1 Axes>"
      ]
     },
     "metadata": {
      "needs_background": "light"
     },
     "output_type": "display_data"
    }
   ],
   "source": [
    "X2 = train[['price_per_sq_ft', 'latitude', 'longitude']]\n",
    "# calculate distortion for a range of numbers of clusters\n",
    "distortions = []\n",
    "for i in range(1, 11):\n",
    "    km = KMeans(\n",
    "        n_clusters=i, init='random',\n",
    "        n_init=10, max_iter=300,\n",
    "        tol=1e-04, random_state=0\n",
    "    )\n",
    "    km.fit(X2)\n",
    "    distortions.append(km.inertia_)\n",
    "\n",
    "# plot\n",
    "plt.plot(range(1, 11), distortions, marker='o')\n",
    "plt.xlabel('Number of clusters')\n",
    "plt.ylabel('Distortion')\n",
    "plt.show()"
   ]
  },
  {
   "cell_type": "markdown",
   "metadata": {},
   "source": [
    "### Encode clusters"
   ]
  },
  {
   "cell_type": "code",
   "execution_count": 24,
   "metadata": {},
   "outputs": [],
   "source": [
    "train_cluster_fips = train.drop(columns='cluster_sqft')\n",
    "test_cluster_fips = test.drop(columns='cluster_sqft')"
   ]
  },
  {
   "cell_type": "code",
   "execution_count": 25,
   "metadata": {},
   "outputs": [],
   "source": [
    "train_cluster_sqft = train.drop(columns='cluster_fips')\n",
    "test_cluster_sqft = test.drop(columns='cluster_fips')"
   ]
  },
  {
   "cell_type": "code",
   "execution_count": 26,
   "metadata": {},
   "outputs": [],
   "source": [
    "train_cluster_fips, test_cluster_fips, ohe1 = prepare.encode(train_cluster_fips, test_cluster_fips, 'cluster_fips')\n",
    "train_cluster_sqft, test_cluster_sqft, ohe2 = prepare.encode(train_cluster_sqft, test_cluster_sqft, 'cluster_sqft')"
   ]
  },
  {
   "cell_type": "markdown",
   "metadata": {},
   "source": [
    "### Drop cluster column and rename clusters as county names"
   ]
  },
  {
   "cell_type": "code",
   "execution_count": 27,
   "metadata": {},
   "outputs": [],
   "source": [
    "train_cluster_fips = train_cluster_fips.drop(columns='cluster_fips')\n",
    "\n",
    "train_cluster_fips['los_angeles'] = train_cluster_fips['cluster_fips_0']\n",
    "train_cluster_fips['ventura'] = train_cluster_fips['cluster_fips_1']\n",
    "train_cluster_fips['orange'] = train_cluster_fips['cluster_fips_2']\n",
    "\n",
    "train_cluster_fips = train_cluster_fips.drop(columns=['cluster_fips_0', 'cluster_fips_1', 'cluster_fips_2'])"
   ]
  },
  {
   "cell_type": "code",
   "execution_count": 28,
   "metadata": {},
   "outputs": [],
   "source": [
    "test_cluster_fips = test_cluster_fips.drop(columns='cluster_fips')\n",
    "\n",
    "test_cluster_fips['los_angeles'] = test_cluster_fips['cluster_fips_0']\n",
    "test_cluster_fips['ventura'] = test_cluster_fips['cluster_fips_1']\n",
    "test_cluster_fips['orange'] = test_cluster_fips['cluster_fips_2']\n",
    "\n",
    "test_cluster_fips = test_cluster_fips.drop(columns=['cluster_fips_0', 'cluster_fips_1', 'cluster_fips_2'])"
   ]
  },
  {
   "cell_type": "markdown",
   "metadata": {},
   "source": [
    "### Impute \"poolcnt\", \"garagecarcnt\" with 0s using a function. (reference prepare.py)\n",
    "\n",
    " - Run this on train and test subsets separately"
   ]
  },
  {
   "cell_type": "code",
   "execution_count": 29,
   "metadata": {},
   "outputs": [],
   "source": [
    "cols = [\"poolcnt\", \"garagecarcnt\"]"
   ]
  },
  {
   "cell_type": "code",
   "execution_count": 30,
   "metadata": {},
   "outputs": [],
   "source": [
    "# Impute zeros into poolcnt and garagecarcnt on train set\n",
    "\n",
    "train_cluster_sqft = prepare.fill_zero(train_cluster_sqft, cols=cols)"
   ]
  },
  {
   "cell_type": "code",
   "execution_count": 31,
   "metadata": {},
   "outputs": [],
   "source": [
    "# Impute zeros into poolcnt and garagecarcnt on test set\n",
    "\n",
    "test_cluster_sqft = prepare.fill_zero(test_cluster_sqft, cols=cols)"
   ]
  },
  {
   "cell_type": "markdown",
   "metadata": {},
   "source": [
    "### Drop columns then rows using function (reference prepare.py)\n",
    "\n",
    " - Run this on train and test subsets separately"
   ]
  },
  {
   "cell_type": "code",
   "execution_count": 32,
   "metadata": {},
   "outputs": [],
   "source": [
    "# drop columns that have more than 50% of values missing and rows with more than 75% of values missing\n",
    "\n",
    "train_cluster_sqft = prepare.handle_missing_values(train_cluster_sqft)"
   ]
  },
  {
   "cell_type": "code",
   "execution_count": 33,
   "metadata": {},
   "outputs": [],
   "source": [
    "# drop columns that have more than 50% of values missing and rows with more than 75% of values missing\n",
    "\n",
    "test_cluster_sqft = prepare.handle_missing_values(test_cluster_sqft)"
   ]
  },
  {
   "cell_type": "markdown",
   "metadata": {},
   "source": [
    "### Drop the remaining Nulls in df to get clean train and test data sets"
   ]
  },
  {
   "cell_type": "code",
   "execution_count": 34,
   "metadata": {},
   "outputs": [],
   "source": [
    "train_cluster_sqft.dropna(inplace=True)\n",
    "test_cluster_sqft.dropna(inplace=True)"
   ]
  },
  {
   "cell_type": "markdown",
   "metadata": {},
   "source": [
    "### BELOW:\n",
    "#### Old stuff that I'm saving while I transfer over my new stuff just in case I encounter some problems"
   ]
  },
  {
   "cell_type": "code",
   "execution_count": null,
   "metadata": {},
   "outputs": [],
   "source": [
    "# from sklearn.cluster import KMeans\n",
    "\n",
    "# X = df[['fips']]\n",
    "\n",
    "# kmeans = KMeans(n_clusters=3)\n",
    "# kmeans.fit(X)\n",
    "\n",
    "# X['cluster'] = pd.Series(kmeans.predict(X)).astype(str)"
   ]
  },
  {
   "cell_type": "code",
   "execution_count": null,
   "metadata": {},
   "outputs": [],
   "source": [
    "# Drop column no longer necessary\n",
    "\n",
    "# X = X.drop(columns='fips')"
   ]
  },
  {
   "cell_type": "code",
   "execution_count": null,
   "metadata": {},
   "outputs": [],
   "source": [
    "# Create column with county clusters identified\n",
    "\n",
    "# df['cluster'] = X.cluster"
   ]
  },
  {
   "cell_type": "code",
   "execution_count": null,
   "metadata": {},
   "outputs": [],
   "source": [
    "# df, ohe = prepare.encode(df, 'cluster')"
   ]
  },
  {
   "cell_type": "code",
   "execution_count": null,
   "metadata": {},
   "outputs": [],
   "source": [
    "# ohe.inverse_transform(df[['0', '1', '2']])"
   ]
  },
  {
   "cell_type": "code",
   "execution_count": null,
   "metadata": {},
   "outputs": [],
   "source": [
    "# # Los Angeles == 0, Ventura == 1, Orange == 2\n",
    "\n",
    "# df = df.drop(columns='cluster')\n",
    "\n",
    "# df['los_angeles'] = df['0']\n",
    "# df['ventura'] = df['1']\n",
    "# df['orange'] = df['2']\n",
    "\n",
    "# df = df.drop(columns=['0', '1', '2'])"
   ]
  },
  {
   "cell_type": "markdown",
   "metadata": {},
   "source": [
    "### Impute \n",
    "\n",
    "- \"poolcnt\", \"garagecarcnt\" with zeros\n",
    "\n",
    " - Run this on train and test subsets separately"
   ]
  },
  {
   "cell_type": "code",
   "execution_count": null,
   "metadata": {},
   "outputs": [],
   "source": [
    "# # Impute zeros into poolcnt and garagecarcnt on train set\n",
    "\n",
    "# train.poolcnt.fillna(value=0, inplace=True)\n",
    "# test.poolcnt.fillna(value=0, inplace=True)"
   ]
  },
  {
   "cell_type": "code",
   "execution_count": null,
   "metadata": {},
   "outputs": [],
   "source": [
    "# # Impute zeros into poolcnt and garagecarcnt on test set\n",
    "# train.garagecarcnt.fillna(value=0, inplace=True)\n",
    "# test.garagecarcnt.fillna(value=0, inplace=True)"
   ]
  },
  {
   "cell_type": "markdown",
   "metadata": {},
   "source": [
    "### Drop Nulls \n",
    "\n",
    "- drop rows with remaining missing values to get clean train and test data sets"
   ]
  },
  {
   "cell_type": "code",
   "execution_count": null,
   "metadata": {},
   "outputs": [],
   "source": [
    "# train.dropna(inplace=True)"
   ]
  },
  {
   "cell_type": "code",
   "execution_count": null,
   "metadata": {},
   "outputs": [],
   "source": [
    "# test.dropna(inplace=True)"
   ]
  },
  {
   "cell_type": "markdown",
   "metadata": {},
   "source": [
    "### THE train and test subsets \n",
    "\n",
    "- no missing values and poolcnt and garagecarcnt imputed with zeros. \n",
    "\n",
    "- Outliers still in these subsets!\n",
    "\n",
    "- I left county_name in these df for ease of exploration and viz. \n",
    "\n",
    "- Drop county_name and use fips for modeling and clustering purposes.\n",
    "\n",
    "- If you want train and test with defined categories and outliers handled, see train_cat and test_cat below"
   ]
  },
  {
   "cell_type": "code",
   "execution_count": null,
   "metadata": {},
   "outputs": [],
   "source": [
    "train.isnull().sum()\n",
    "train.shape"
   ]
  },
  {
   "cell_type": "code",
   "execution_count": null,
   "metadata": {},
   "outputs": [],
   "source": [
    "test.isnull().sum()\n",
    "test.shape"
   ]
  },
  {
   "cell_type": "code",
   "execution_count": null,
   "metadata": {},
   "outputs": [],
   "source": [
    "train.head()"
   ]
  },
  {
   "cell_type": "markdown",
   "metadata": {},
   "source": [
    "---"
   ]
  },
  {
   "cell_type": "markdown",
   "metadata": {},
   "source": [
    "## Data Dictionary\n",
    "\n",
    "- tax_rate                        float64\n",
    "\n",
    "    - calculated column using taxamount/taxvaluedollarcnt\n",
    "    \n",
    "- bathroomcnt                     float64\n",
    "\n",
    "    - number of full and half baths\n",
    "    \n",
    "- bedroomcnt                      float64\n",
    "\n",
    "    - number of bedrooms\n",
    "\n",
    "- calculatedfinishedsquarefeet    float64\n",
    "\n",
    "    - square footage of entire home\n",
    "\n",
    "- fips                            float64\n",
    "\n",
    "    - county codes\n",
    " https://www.nrcs.usda.gov/wps/portal/nrcs/detail/national/home/?cid=nrcs143_013697\n",
    "\n",
    "- garagecarcnt                    float64\n",
    "\n",
    "    - number of car garage (34203 missing values in original df)\n",
    "\n",
    "- latitude                        float64\n",
    "\n",
    "    - latitude divided by 1 million\n",
    "\n",
    "- longitude                       float64\n",
    "\n",
    "    - longitude divided by 1 million\n",
    "\n",
    "- lotsizesquarefeet               float64\n",
    "\n",
    "    - size of lot in square feet\n",
    "\n",
    "- poolcnt                         float64\n",
    "\n",
    "    - number of pools (41105 missing values in original df)\n",
    "\n",
    "- taxvaluedollarcnt               float64\n",
    "\n",
    "    - home value in US dollars\n",
    "\n",
    "- yearbuilt                       float64\n",
    "\n",
    "    - year the home was built (1878 - 2015)\n",
    "\n",
    "- landtaxvaluedollarcnt           float64\n",
    "\n",
    "    - land value in US dollars\n",
    "\n",
    "- logerror                        float64\n",
    "\n",
    "    - the difference between the Zestimate and the actual sales price (our target variable)\n",
    "\n",
    "- county_name                     object\n",
    "\n",
    "    - Los Angeles, Orange, Ventura counties derived from fips codes\n",
    "\n",
    "- price_per_sq_ft                 float64\n",
    "\n",
    "    - calculated column using taxvaluedollarcnt / calculatedfinishedsquareft\n",
    "\n",
    "- lot_price_per_sq_ft             float64\n",
    "\n",
    "    - calculated columns using landtaxvaluedollarcnt / lotsizesquarefeet\n",
    "\n",
    "- los_angeles                     float64\n",
    "\n",
    "    - binned column with 1 indicating a home in Los Angeles county, 0 if not\n",
    "\n",
    "- ventura                         float64\n",
    "\n",
    "    - binned column with 1 indicating a home in Ventura county, 0 if not\n",
    "\n",
    "- orange                          float64\n",
    "\n",
    "    - binned column with 1 indicating a home in Orange county, 0 if not"
   ]
  },
  {
   "cell_type": "markdown",
   "metadata": {},
   "source": [
    "----"
   ]
  },
  {
   "cell_type": "markdown",
   "metadata": {},
   "source": [
    "## Explore "
   ]
  },
  {
   "cell_type": "markdown",
   "metadata": {},
   "source": [
    "### County Overview"
   ]
  },
  {
   "cell_type": "code",
   "execution_count": null,
   "metadata": {},
   "outputs": [],
   "source": [
    "plt.rcParams[\"figure.figsize\"] = (10,6)\n",
    "\n",
    "ax = sns.countplot(data=train, x='county_name', order=['Los Angeles', 'Orange', 'Ventura'], palette='Wistia_r')\n",
    "\n",
    "for p in ax.patches:\n",
    "        ax.annotate('{:.0f}'.format(p.get_height()), (p.get_x()+0.3, p.get_height()+50))\n",
    "        \n",
    "plt.title('Number of Homes by County')\n",
    "plt.xlabel('County Name')\n",
    "plt.ylabel('Number of Homes')\n",
    "plt.show()"
   ]
  },
  {
   "cell_type": "markdown",
   "metadata": {},
   "source": [
    "### Heatmap"
   ]
  },
  {
   "cell_type": "code",
   "execution_count": null,
   "metadata": {},
   "outputs": [],
   "source": [
    "# do a quick drop of the columns below just for this heat map. They are just clutter here.\n",
    "\n",
    "# heatmap_df = train.drop(columns=['los_angeles', 'orange', 'ventura', 'fips'])"
   ]
  },
  {
   "cell_type": "code",
   "execution_count": null,
   "metadata": {},
   "outputs": [],
   "source": [
    "plt.figure(figsize=(14,8))\n",
    "sns.heatmap(train.corr(), annot=True, cmap=\"YlGnBu\")\n",
    "\n",
    "plt.title('Relationships')\n",
    "plt.show()"
   ]
  },
  {
   "cell_type": "markdown",
   "metadata": {},
   "source": [
    "#### Takeaways: Heatmap \n",
    "\n",
    "- There is nothing highly correlated with logerror.\n",
    "\n",
    "- The new columns price_per_sq_ft and lot_price_per_sq_ft have more of a correlation with logerror than the more general columns they are based on, taxvaluedollarcnt and landtaxvaluedollarcnt."
   ]
  },
  {
   "cell_type": "markdown",
   "metadata": {},
   "source": [
    "### Explore: Price and Logerror"
   ]
  },
  {
   "cell_type": "code",
   "execution_count": null,
   "metadata": {},
   "outputs": [],
   "source": [
    "# price_per_sq_ft by county\n",
    "\n",
    "price = train.groupby('county_name').price_per_sq_ft.mean()\n",
    "price"
   ]
  },
  {
   "cell_type": "code",
   "execution_count": null,
   "metadata": {},
   "outputs": [],
   "source": [
    "plt.rcParams[\"figure.figsize\"] = (10,6)\n",
    "\n",
    "for county in sorted(df.county_name.unique()):\n",
    "    subset = df[df.county_name == county]\n",
    "    plt.scatter(subset.logerror, subset.price_per_sq_ft, label=county, alpha=.5)\n",
    "    plt.legend(title='# County', loc='upper left')\n",
    "    \n",
    "plt.xlabel('Logerror')\n",
    "plt.ylabel('Price Per Square_ft ($)')\n",
    "plt.title('How does price affect logerror?')\n",
    "\n",
    "plt.hlines(df.price_per_sq_ft.mean(), df.logerror.min(), df.logerror.max(), ls=':', color='red')\n",
    "plt.vlines(df.logerror.mean(), df.price_per_sq_ft.min(), df.price_per_sq_ft.max(), ls=':', color='red')\n",
    "\n",
    "plt.annotate(\n",
    "    f'Avg Logerror: {df.logerror.mean():.2f}',\n",
    "    xy=(df.logerror.mean(), 40),\n",
    "    xytext=(1, 7000)\n",
    ")\n",
    "\n",
    "plt.annotate(\n",
    "    f'Avg Price Per Square_ft: {df.price_per_sq_ft.mean():.2f}',\n",
    "    xy=(5, df.price_per_sq_ft.mean()),\n",
    "    xytext=(4, 500)\n",
    ")\n",
    "\n",
    "plt.show()"
   ]
  },
  {
   "cell_type": "markdown",
   "metadata": {},
   "source": [
    "#### By County"
   ]
  },
  {
   "cell_type": "code",
   "execution_count": null,
   "metadata": {},
   "outputs": [],
   "source": [
    "plt.rc('figure', figsize=(20, 16))\n",
    "plt.rc('axes', grid=True)\n",
    "plt.rc('axes.spines', top=False, right=False, left=True, bottom=True)\n",
    "plt.rc('font', size=14)\n",
    "\n",
    "for i, county in enumerate(df.county_name.unique()):\n",
    "    plt.subplot(3, 3, i+1)\n",
    "    subset = df[df.county_name == county]\n",
    "    plt.scatter(subset.logerror, subset.price_per_sq_ft, label=county)\n",
    "    \n",
    "    plt.title(f'{county} county', size=12)\n",
    "    plt.xlabel('Logerror', size=12)\n",
    "    plt.ylabel('Price Per Square Foot', size=12)\n",
    "    \n",
    "    plt.hlines(subset.price_per_sq_ft.mean(), df.logerror.min(), df.logerror.max(), ls=':', color='red')\n",
    "    plt.vlines(subset.logerror.mean(), df.price_per_sq_ft.min(), df.price_per_sq_ft.max(), ls=':', color='red')\n",
    "    \n",
    "    plt.annotate(\n",
    "    f'Avg Logerror: {subset.logerror.mean():.2f}',\n",
    "    xy=(subset.logerror.mean(), 10),\n",
    "    xytext=(.5, 6000),\n",
    "    size=12\n",
    "    )\n",
    "\n",
    "    plt.annotate(\n",
    "    f'Avg PPSF: {subset.price_per_sq_ft.mean():.2f}',\n",
    "    xy=(5, subset.price_per_sq_ft.mean()),\n",
    "    xytext=(1, 2000),\n",
    "    size=12\n",
    "    )\n",
    "    #plt.xlim(-4, 4)\n",
    "    #plt.ylim(0, 7000)\n",
    "\n",
    "plt.subplots_adjust(hspace=.3)\n",
    "plt.suptitle('How logerror relates to Price Per Square Foot by County?')\n",
    "\n",
    "plt.show()"
   ]
  },
  {
   "cell_type": "markdown",
   "metadata": {},
   "source": [
    "#### Takeaways:  Price Per Square Foot and Logerror\n",
    "\n",
    "- Orange County has the highest price per square foot and the highest logerror.\n",
    "\n",
    "- Ventura has the lowest price per square foot and the lowest logerror."
   ]
  },
  {
   "cell_type": "markdown",
   "metadata": {},
   "source": [
    "---"
   ]
  },
  {
   "cell_type": "markdown",
   "metadata": {},
   "source": [
    "### Explore:  Bedroom and Bathroom"
   ]
  },
  {
   "cell_type": "code",
   "execution_count": null,
   "metadata": {},
   "outputs": [],
   "source": [
    "plt.rcParams[\"figure.figsize\"] = (10,6)\n",
    "#plt.rc('figure', figsize=(12, 8))\n",
    "sns.countplot(x='bedroomcnt', palette=\"Wistia\", data=train)\n",
    "\n",
    "plt.title('Bedroom Count')\n",
    "plt.show()"
   ]
  },
  {
   "cell_type": "code",
   "execution_count": null,
   "metadata": {},
   "outputs": [],
   "source": [
    "train.bedroomcnt.value_counts().sort_index()"
   ]
  },
  {
   "cell_type": "code",
   "execution_count": null,
   "metadata": {},
   "outputs": [],
   "source": [
    "plt.rcParams[\"figure.figsize\"] = (10,6)\n",
    "\n",
    "sns.countplot(x='bathroomcnt', palette=\"Wistia\", data=train)\n",
    "\n",
    "plt.title('Bathroom Count')\n",
    "plt.show()"
   ]
  },
  {
   "cell_type": "code",
   "execution_count": null,
   "metadata": {},
   "outputs": [],
   "source": [
    "train.bathroomcnt.value_counts().sort_index()"
   ]
  },
  {
   "cell_type": "markdown",
   "metadata": {},
   "source": [
    "### Explore:  Outliers in Bedroom and Bathroom Counts"
   ]
  },
  {
   "cell_type": "code",
   "execution_count": null,
   "metadata": {},
   "outputs": [],
   "source": [
    "plt.rcParams[\"figure.figsize\"] = (10,6)\n",
    "\n",
    "sns.boxplot(train.bedroomcnt, train.calculatedfinishedsquarefeet, palette=\"Wistia\")\n",
    "\n",
    "plt.title('Bedroom Count')\n",
    "plt.show()"
   ]
  },
  {
   "cell_type": "code",
   "execution_count": null,
   "metadata": {},
   "outputs": [],
   "source": [
    "plt.rcParams[\"figure.figsize\"] = (10,6)\n",
    "\n",
    "sns.boxplot(train.bathroomcnt, train.calculatedfinishedsquarefeet, palette=\"Wistia\")\n",
    "\n",
    "plt.title('Bathroom Count')\n",
    "plt.show()"
   ]
  },
  {
   "cell_type": "markdown",
   "metadata": {},
   "source": [
    "#### Takeaways: Bedroom and Bathroom \n",
    "\n",
    "- Use remove_outliers_iqr to drop rows with bedroom or bathroom counts outside upper and lower bounds\n",
    "\n",
    "    - Upper bound = Q3 + 1.5 * IQR\n",
    "    - Lower bound = Q1 - 1.5 * IQR\n",
    "    \n",
    "- The most typical home is a 3 bedroom, 2 bathroom home."
   ]
  },
  {
   "cell_type": "markdown",
   "metadata": {},
   "source": [
    "---"
   ]
  },
  {
   "cell_type": "markdown",
   "metadata": {},
   "source": [
    "### Handle outliers \n",
    "\n",
    "- remove values < Q1 - IQR * 1.5 and values > Q3 + IQR * 1.5"
   ]
  },
  {
   "cell_type": "code",
   "execution_count": null,
   "metadata": {},
   "outputs": [],
   "source": [
    "# train = prepare.remove_outliers_iqr(train, columns=[\"bedroomcnt\", \"bathroomcnt\", \"lotsizesquarefeet\"], k=1.5)"
   ]
  },
  {
   "cell_type": "code",
   "execution_count": null,
   "metadata": {},
   "outputs": [],
   "source": [
    "# test = prepare.remove_outliers_iqr(test, columns=[\"bedroomcnt\", \"bathroomcnt\", \"lotsizesquarefeet\"], k=1.5)\n",
    "# test.shape"
   ]
  },
  {
   "cell_type": "markdown",
   "metadata": {},
   "source": [
    "### After Outliers \n",
    "\n",
    "- remove rows with values above 5 bedrooms and 4.5 bathrooms"
   ]
  },
  {
   "cell_type": "code",
   "execution_count": null,
   "metadata": {},
   "outputs": [],
   "source": [
    "plt.rcParams[\"figure.figsize\"] = (10,6)\n",
    "\n",
    "sns.countplot(x='bedroomcnt', palette=\"Wistia\", data=train)\n",
    "\n",
    "plt.title('Bedroom Count')\n",
    "plt.show()"
   ]
  },
  {
   "cell_type": "code",
   "execution_count": null,
   "metadata": {},
   "outputs": [],
   "source": [
    "plt.rcParams[\"figure.figsize\"] = (10,6)\n",
    "\n",
    "sns.boxplot(train.bedroomcnt, train.calculatedfinishedsquarefeet, palette=\"Wistia\")\n",
    "\n",
    "plt.title('Bedroom Count')\n",
    "plt.show()"
   ]
  },
  {
   "cell_type": "code",
   "execution_count": null,
   "metadata": {},
   "outputs": [],
   "source": [
    "plt.rcParams[\"figure.figsize\"] = (10,6)\n",
    "\n",
    "sns.countplot(x='bathroomcnt', palette=\"Wistia\", data=train)\n",
    "\n",
    "plt.title('Bathroom Count')\n",
    "plt.show()"
   ]
  },
  {
   "cell_type": "code",
   "execution_count": null,
   "metadata": {},
   "outputs": [],
   "source": [
    "plt.rcParams[\"figure.figsize\"] = (10,6)\n",
    "\n",
    "sns.boxplot(train.bathroomcnt, train.calculatedfinishedsquarefeet, palette=\"Wistia\")\n",
    "plt.title('Bathroom Count')\n",
    "\n",
    "plt.show()"
   ]
  },
  {
   "cell_type": "code",
   "execution_count": null,
   "metadata": {},
   "outputs": [],
   "source": [
    "train.bedroomcnt.value_counts()"
   ]
  },
  {
   "cell_type": "code",
   "execution_count": null,
   "metadata": {},
   "outputs": [],
   "source": [
    "train.bathroomcnt.value_counts()"
   ]
  },
  {
   "cell_type": "code",
   "execution_count": null,
   "metadata": {},
   "outputs": [],
   "source": [
    "f, axes = plt.subplots(1, 2, figsize=(12,6))\n",
    "\n",
    "p1 = sns.scatterplot(data=train, y=\"bedroomcnt\", x=\"logerror\", hue='county_name', hue_order=[\"Los Angeles\", \"Orange\", \"Ventura\"], alpha=.6, ax=axes[0])\n",
    "p2 = sns.scatterplot(data=train, y=\"bathroomcnt\", x=\"logerror\", hue='county_name', hue_order=[\"Los Angeles\", \"Orange\", \"Ventura\"], alpha=.6, ax=axes[1])\n",
    "\n",
    "plt.subplots_adjust(hspace=.3)\n",
    "plt.suptitle('Logerror by Bedroom and Bathroom Counts?')\n",
    "plt.legend(loc='upper left')\n",
    "plt.show()"
   ]
  },
  {
   "cell_type": "markdown",
   "metadata": {},
   "source": [
    "#### Takeaways:  Bedroom and Bathroom Counts\n",
    "\n",
    "- The logerror is higher for the more typical homes of 3 bedrooms and 2 bathrooms.\n",
    "\n",
    "- The homes with half baths have lower logerrors."
   ]
  },
  {
   "cell_type": "markdown",
   "metadata": {},
   "source": [
    "---"
   ]
  },
  {
   "cell_type": "markdown",
   "metadata": {},
   "source": [
    "### Explore: price_per_sq_ft vs. taxvaluedollarcnt"
   ]
  },
  {
   "cell_type": "code",
   "execution_count": null,
   "metadata": {},
   "outputs": [],
   "source": [
    "f, axes = plt.subplots(1, 2, figsize=(12,6))\n",
    "\n",
    "p1 = sns.scatterplot(data=train, y=\"taxvaluedollarcnt\", x=\"logerror\", hue='county_name', hue_order=[\"Los Angeles\", \"Orange\", \"Ventura\"], alpha=.6, ax=axes[0])\n",
    "p2 = sns.scatterplot(data=train, y=\"price_per_sq_ft\", x=\"logerror\", hue='county_name', hue_order=[\"Los Angeles\", \"Orange\", \"Ventura\"], alpha=.6, ax=axes[1])\n",
    "\n",
    "plt.subplots_adjust(hspace=.3)\n",
    "plt.suptitle('Logerror by Home Value Vs. Price Per Square Foot by County?')\n",
    "\n",
    "plt.show()"
   ]
  },
  {
   "cell_type": "markdown",
   "metadata": {},
   "source": [
    "#### Takeaways: price_per_sq_ft \n",
    "\n",
    "- Using price_per_sq_ft instead of taxvaluedollarcnt offers better insight into logerror.\n",
    "\n",
    "\n",
    "- Zillow's log error was low on the higher priced outliers.  \n",
    "\n",
    "\n",
    "- The lower the price per square foot, the higher the log error, the lower the accuracy of the Zestimate."
   ]
  },
  {
   "cell_type": "markdown",
   "metadata": {},
   "source": [
    "---"
   ]
  },
  {
   "cell_type": "markdown",
   "metadata": {},
   "source": [
    "### Explore Variable Relationships \n",
    "\n",
    "- using new feature price_per_sq_ft"
   ]
  },
  {
   "cell_type": "markdown",
   "metadata": {},
   "source": [
    "### Explore: Year Built Vs. Logerror"
   ]
  },
  {
   "cell_type": "code",
   "execution_count": null,
   "metadata": {},
   "outputs": [],
   "source": [
    "plt.rcParams[\"figure.figsize\"] = (10,6)\n",
    "\n",
    "sns.scatterplot(data=train, y=\"yearbuilt\", x=\"logerror\", hue='county_name', hue_order=[\"Los Angeles\", \"Orange\", \"Ventura\"], alpha=.6)\n",
    "plt.title(\"Year Built Vs. Logerror\")\n",
    "plt.show()"
   ]
  },
  {
   "cell_type": "markdown",
   "metadata": {},
   "source": [
    "#### Takeaways: Year Built and Logerror\n",
    "\n",
    "- Orange and Ventura counties have had lots of market growth since the 1950s.\n",
    "\n",
    "- Orange county has the highest logerror, .03, and highest price per square foot, $273.95, of all the counties.\n",
    "\n",
    "- The newer homes and growing market may be more difficult to predict with the algorithm Zillow is using."
   ]
  },
  {
   "cell_type": "code",
   "execution_count": null,
   "metadata": {},
   "outputs": [],
   "source": [
    "f, axes = plt.subplots(1, 2, figsize=(12,6))\n",
    "\n",
    "p1 = sns.scatterplot(data=train, y=\"latitude\", x=\"logerror\", hue='county_name', hue_order=[\"Los Angeles\", \"Orange\", \"Ventura\"], alpha=.6, ax=axes[0])\n",
    "p2 = sns.scatterplot(data=train, x=\"longitude\", y=\"logerror\", hue='county_name', hue_order=[\"Los Angeles\", \"Orange\", \"Ventura\"], alpha=.6, ax=axes[1])\n",
    "\n",
    "plt.subplots_adjust(hspace=.3)\n",
    "plt.suptitle('Logerror by Latitude and Longitude')"
   ]
  },
  {
   "cell_type": "markdown",
   "metadata": {},
   "source": [
    "### Explore:  Garages by County"
   ]
  },
  {
   "cell_type": "code",
   "execution_count": null,
   "metadata": {
    "scrolled": true
   },
   "outputs": [],
   "source": [
    "# What happened to caragecarcnt in Los Angeles? 1?! This data is rough...\n",
    "\n",
    "plt.rcParams[\"figure.figsize\"] = (6,4)\n",
    "sns.scatterplot(data=train, y=\"garagecarcnt\", x=\"logerror\", hue='county_name', hue_order=[\"Los Angeles\", \"Orange\", \"Ventura\"], alpha=.6)\n",
    "\n",
    "plt.title('Garage Car Count')\n",
    "plt.show()"
   ]
  },
  {
   "cell_type": "code",
   "execution_count": null,
   "metadata": {},
   "outputs": [],
   "source": [
    "train.groupby(['county_name']).garagecarcnt.value_counts().sort_index()"
   ]
  },
  {
   "cell_type": "markdown",
   "metadata": {},
   "source": [
    "#### Takeaways:  Garages\n",
    "\n",
    "- Los Angeles county only has one home reporting a 2 car garage and the rest report 0! \n",
    "\n",
    "- Orange county reportedly has the most garages, and they are majority 2 car garages. This could be because they are newer homes, or it could be that they are reporting more accurately than Los Angeles county.\n",
    "\n",
    "- Ventura also has a majority of 2 car garages, and only 34 homes report no garage."
   ]
  },
  {
   "cell_type": "markdown",
   "metadata": {},
   "source": [
    "---"
   ]
  },
  {
   "cell_type": "markdown",
   "metadata": {},
   "source": [
    "## Stats Testing \n",
    "\n",
    "- to Decide on Feature Engineering"
   ]
  },
  {
   "cell_type": "markdown",
   "metadata": {},
   "source": [
    "### Chi2 test: Bedroom and Bathroom counts"
   ]
  },
  {
   "cell_type": "markdown",
   "metadata": {},
   "source": [
    "- $H_0$: Bathroomcnt is independent of how many bedrooms a home has.\n",
    "\n",
    "- $H_a$: Bathroomcnt is not independent of how many bedrooms a home has."
   ]
  },
  {
   "cell_type": "code",
   "execution_count": null,
   "metadata": {},
   "outputs": [],
   "source": [
    "# kernal density estimate (kde) chart to show most common combination of bed and bath count\n",
    "plt.rcParams[\"figure.figsize\"] = (10,6)\n",
    "sns.kdeplot(train.bedroomcnt, train.bathroomcnt, shade=True, cmap='Reds')\n",
    "plt.title(\"Bed and Bath Counts\")\n",
    "\n",
    "plt.show()"
   ]
  },
  {
   "cell_type": "code",
   "execution_count": null,
   "metadata": {},
   "outputs": [],
   "source": [
    "# contingency_table from the df_cat dataframe (w/o categories)\n",
    "plt.rcParams[\"figure.figsize\"] = (20,10)\n",
    "\n",
    "contingency_table = pd.crosstab(train.bedroomcnt, train.bathroomcnt).style.background_gradient(cmap='YlOrRd')\n",
    "contingency_table"
   ]
  },
  {
   "cell_type": "code",
   "execution_count": null,
   "metadata": {},
   "outputs": [],
   "source": [
    "contingency_table = pd.crosstab(train.bedroomcnt, train.bathroomcnt)\n",
    "_, p, _, expected = stats.chi2_contingency(contingency_table)"
   ]
  },
  {
   "cell_type": "code",
   "execution_count": null,
   "metadata": {},
   "outputs": [],
   "source": [
    "print(f\"The p-value of the contingency test is {p}.\")"
   ]
  },
  {
   "cell_type": "code",
   "execution_count": null,
   "metadata": {},
   "outputs": [],
   "source": [
    "r, p = stats.pearsonr(train.bedroomcnt, train.bathroomcnt)"
   ]
  },
  {
   "cell_type": "code",
   "execution_count": null,
   "metadata": {},
   "outputs": [],
   "source": [
    "print(f\"r is {r}\")"
   ]
  },
  {
   "cell_type": "code",
   "execution_count": null,
   "metadata": {},
   "outputs": [],
   "source": [
    "print(f\"p is {p}\")"
   ]
  },
  {
   "cell_type": "markdown",
   "metadata": {},
   "source": [
    "#### Takeaways: Bedroom and Bathroom\n",
    "\n",
    "- The typical home is a 3 bedroom, 2 bathroom. This is where the most variation will lie making it the most difficult home values to predict.\n",
    "\n",
    "\n",
    "- Based on the p_value of 0 from the chi2 test above, I reject the Null Hypothesis that bathroomcnt is independent of how many bedrooms a home has.\n",
    "\n",
    "\n",
    "- Based on rejecting the Null Hypothesis, it might be useful to combine the two features into a single feature that is a ratio of bedrooms to bathrooms. This may be done in this or a future iteration of this project."
   ]
  },
  {
   "cell_type": "markdown",
   "metadata": {},
   "source": [
    "---"
   ]
  },
  {
   "cell_type": "markdown",
   "metadata": {},
   "source": [
    "### Chi2 test: Garage and Pool counts\n",
    "\n",
    "- $H_0$: garagecarcnt is independent of how many pools a home has.\n",
    "\n",
    "- $H_a$: garagecarcnt is not independent of how many pools a home has."
   ]
  },
  {
   "cell_type": "code",
   "execution_count": null,
   "metadata": {},
   "outputs": [],
   "source": [
    "plt.rcParams[\"figure.figsize\"] = (20,10)\n",
    "\n",
    "contingency_table = pd.crosstab(train.garagecarcnt, train.poolcnt).style.background_gradient(cmap='YlOrRd')\n",
    "contingency_table"
   ]
  },
  {
   "cell_type": "code",
   "execution_count": null,
   "metadata": {},
   "outputs": [],
   "source": [
    "contingency_table = pd.crosstab(train.garagecarcnt, train.poolcnt)"
   ]
  },
  {
   "cell_type": "code",
   "execution_count": null,
   "metadata": {},
   "outputs": [],
   "source": [
    "_, p, _, expected = stats.chi2_contingency(contingency_table)"
   ]
  },
  {
   "cell_type": "code",
   "execution_count": null,
   "metadata": {},
   "outputs": [],
   "source": [
    "print(f\"The p-value of the contingency test is {p}.\")"
   ]
  },
  {
   "cell_type": "code",
   "execution_count": null,
   "metadata": {},
   "outputs": [],
   "source": [
    "r, p = stats.pearsonr(train.lotsizesquarefeet, train.taxvaluedollarcnt)"
   ]
  },
  {
   "cell_type": "code",
   "execution_count": null,
   "metadata": {},
   "outputs": [],
   "source": [
    "print(f\"r is {r}\")"
   ]
  },
  {
   "cell_type": "code",
   "execution_count": null,
   "metadata": {},
   "outputs": [],
   "source": [
    "print(f\"p is {p}\")"
   ]
  },
  {
   "cell_type": "markdown",
   "metadata": {},
   "source": [
    "#### Takeaways: Garage and Pool\n",
    "\n",
    "- Most homes do not have a pool or a garage.\n",
    "\n",
    "- Two car garages are the most common and one pool.\n",
    "\n",
    "- Since each of these variables would add value to the home value but both have so many missing values, there could be an opportunity for feature engineering combining these two variables into a single column called 'extras'."
   ]
  },
  {
   "cell_type": "markdown",
   "metadata": {},
   "source": [
    "---"
   ]
  },
  {
   "cell_type": "markdown",
   "metadata": {},
   "source": [
    "## Drop unwanted features "
   ]
  },
  {
   "cell_type": "code",
   "execution_count": 35,
   "metadata": {},
   "outputs": [],
   "source": [
    "train_cluster_sqft = train_cluster_sqft.drop(columns=['cluster_sqft', 'yearbuilt', 'fips', 'county_name', 'calculatedfinishedsquarefeet', 'lotsizesquarefeet', 'taxvaluedollarcnt', 'landtaxvaluedollarcnt'])\n",
    "test_cluster_sqft = test_cluster_sqft.drop(columns=['cluster_sqft', 'yearbuilt', 'fips', 'county_name', 'calculatedfinishedsquarefeet', 'lotsizesquarefeet', 'taxvaluedollarcnt', 'landtaxvaluedollarcnt'])"
   ]
  },
  {
   "cell_type": "markdown",
   "metadata": {},
   "source": [
    "## Split train and test into X_train, X_test, y_train, y_test to prepare for modeling."
   ]
  },
  {
   "cell_type": "code",
   "execution_count": 36,
   "metadata": {},
   "outputs": [],
   "source": [
    "X_train = train_cluster_sqft.drop(columns=\"logerror\")\n",
    "\n",
    "y_train = train_cluster_sqft[[\"logerror\"]]\n",
    "\n",
    "X_test = test_cluster_sqft.drop(columns=\"logerror\")\n",
    "\n",
    "y_test = test_cluster_sqft[[\"logerror\"]]"
   ]
  },
  {
   "cell_type": "code",
   "execution_count": 37,
   "metadata": {},
   "outputs": [],
   "source": [
    "# Drop columns from test and train used in derived columns and kept for exploration\n",
    "\n",
    "# train = train.drop(columns=['county_name','calculatedfinishedsquarefeet', 'lotsizesquarefeet', 'taxvaluedollarcnt', 'landtaxvaluedollarcnt', 'yearbuilt'])"
   ]
  },
  {
   "cell_type": "code",
   "execution_count": 38,
   "metadata": {},
   "outputs": [],
   "source": [
    "# test = test.drop(columns=['county_name','calculatedfinishedsquarefeet', 'lotsizesquarefeet', 'taxvaluedollarcnt', 'landtaxvaluedollarcnt', 'yearbuilt'])"
   ]
  },
  {
   "cell_type": "code",
   "execution_count": 39,
   "metadata": {},
   "outputs": [],
   "source": [
    "# X_train = train.drop(columns=\"logerror\")\n",
    "\n",
    "# y_train = train[[\"logerror\"]]\n",
    "\n",
    "# X_test = test.drop(columns=\"logerror\")\n",
    "\n",
    "# y_test = test[[\"logerror\"]]"
   ]
  },
  {
   "cell_type": "markdown",
   "metadata": {},
   "source": [
    "---"
   ]
  },
  {
   "cell_type": "markdown",
   "metadata": {},
   "source": [
    "## Model "
   ]
  },
  {
   "cell_type": "markdown",
   "metadata": {},
   "source": [
    "### Linear Regression Model"
   ]
  },
  {
   "cell_type": "code",
   "execution_count": 40,
   "metadata": {},
   "outputs": [
    {
     "data": {
      "text/plain": [
       "tax_rate               float64\n",
       "bathroomcnt            float64\n",
       "bedroomcnt             float64\n",
       "garagecarcnt           float64\n",
       "latitude               float64\n",
       "longitude              float64\n",
       "poolcnt                float64\n",
       "price_per_sq_ft        float64\n",
       "lot_price_per_sq_ft    float64\n",
       "cluster_sqft_0         float64\n",
       "cluster_sqft_1         float64\n",
       "cluster_sqft_2         float64\n",
       "cluster_sqft_3         float64\n",
       "cluster_sqft_4         float64\n",
       "cluster_sqft_5         float64\n",
       "cluster_sqft_6         float64\n",
       "cluster_sqft_7         float64\n",
       "cluster_sqft_8         float64\n",
       "cluster_sqft_9         float64\n",
       "dtype: object"
      ]
     },
     "execution_count": 40,
     "metadata": {},
     "output_type": "execute_result"
    }
   ],
   "source": [
    "X_train.dtypes"
   ]
  },
  {
   "cell_type": "code",
   "execution_count": null,
   "metadata": {},
   "outputs": [],
   "source": [
    "# create the LR object\n",
    "\n",
    "lm1 = LinearRegression()\n",
    "print(lm1)"
   ]
  },
  {
   "cell_type": "code",
   "execution_count": null,
   "metadata": {},
   "outputs": [],
   "source": [
    "# fit/train the model\n",
    "\n",
    "model = lm1.fit(X_train, y_train)"
   ]
  },
  {
   "cell_type": "code",
   "execution_count": null,
   "metadata": {},
   "outputs": [],
   "source": [
    "# create yhat variable, numpy array, in-sample prediction values\n",
    "\n",
    "yhat = model.predict(X_train)\n",
    "yhat"
   ]
  },
  {
   "cell_type": "markdown",
   "metadata": {},
   "source": [
    "#### Evaluate:  LR Model"
   ]
  },
  {
   "cell_type": "code",
   "execution_count": null,
   "metadata": {},
   "outputs": [],
   "source": [
    "actual = y_train\n",
    "actual['yhat'] = yhat\n",
    "actual[\"residual\"] = actual[\"yhat\"] - actual[\"logerror\"]\n",
    "actual[\"residual^2\"] = actual[\"residual\"] ** 2\n",
    "\n",
    "actual.head()"
   ]
  },
  {
   "cell_type": "code",
   "execution_count": null,
   "metadata": {},
   "outputs": [],
   "source": [
    "sse = sum(actual[\"residual^2\"])\n",
    "mse = sse / len(actual)\n",
    "print(f\"mse = {mse}\")\n",
    "rmse = sqrt(mse)\n",
    "print(f\"rmse = {rmse}\")"
   ]
  },
  {
   "cell_type": "code",
   "execution_count": null,
   "metadata": {},
   "outputs": [],
   "source": [
    "df_eval = pd.DataFrame(np.array([\"SSE\", \"MSE\", \"RMSE\"]), columns=[\"metric\"])\n",
    "df_eval[\"model_error\"] = np.array([sse, mse, rmse])\n",
    "df_eval"
   ]
  },
  {
   "cell_type": "code",
   "execution_count": null,
   "metadata": {},
   "outputs": [],
   "source": [
    "mse_lm1 = mean_squared_error(actual.logerror, actual.yhat)\n",
    "print(\"linear model\\n  mean squared error: {:.3}\".format(mse_lm1)) \n",
    "\n",
    "r2_lm1 = r2_score(actual.logerror, actual.yhat)\n",
    "print('  {:.2%} of the variance in the logerror can be explained by variables.'.format(r2_lm1))"
   ]
  },
  {
   "cell_type": "code",
   "execution_count": null,
   "metadata": {},
   "outputs": [],
   "source": [
    "plt.rcParams[\"figure.figsize\"] = (10,6)\n",
    "\n",
    "sns.scatterplot(actual[\"logerror\"], actual[\"yhat\"])\n",
    "\n",
    "\n",
    "plt.title('Model Predictions Vs. Actual Logerror')\n",
    "plt.show()"
   ]
  },
  {
   "cell_type": "markdown",
   "metadata": {},
   "source": [
    "#### Takeaways:  Linear Regression Model:\n",
    "\n",
    "- Based on the results above I fail to reject the Null Hypothesis that the numeric values alone can predict the logerror.\n",
    "\n",
    "- Using a Linear Regression model to predict the logerror may not be the best choice.\n",
    "\n",
    "- Finding a way to include categorical variables in a model may help predict logerror."
   ]
  },
  {
   "cell_type": "markdown",
   "metadata": {},
   "source": [
    "---"
   ]
  },
  {
   "cell_type": "markdown",
   "metadata": {},
   "source": [
    "### K Neighbors Regressor"
   ]
  },
  {
   "cell_type": "code",
   "execution_count": null,
   "metadata": {},
   "outputs": [],
   "source": [
    "# create the object\n",
    "neigh = KNeighborsRegressor(n_neighbors=2)"
   ]
  },
  {
   "cell_type": "code",
   "execution_count": null,
   "metadata": {},
   "outputs": [],
   "source": [
    "# fit/train the model using train \n",
    "neigh.fit(X_train, y_train)"
   ]
  },
  {
   "cell_type": "code",
   "execution_count": null,
   "metadata": {},
   "outputs": [],
   "source": [
    "yhat = neigh.predict(X_train)"
   ]
  },
  {
   "cell_type": "markdown",
   "metadata": {},
   "source": [
    "#### Evaluate:  KNeighbors Regression"
   ]
  },
  {
   "cell_type": "code",
   "execution_count": null,
   "metadata": {},
   "outputs": [],
   "source": [
    "actual = y_train\n",
    "actual['yhat'] = yhat\n",
    "actual[\"residual\"] = actual[\"yhat\"] - actual[\"logerror\"]\n",
    "actual[\"residual^2\"] = actual[\"residual\"] ** 2\n",
    "\n",
    "actual.head()"
   ]
  },
  {
   "cell_type": "code",
   "execution_count": null,
   "metadata": {},
   "outputs": [],
   "source": [
    "r2 = neigh.score(X_train, y_train)"
   ]
  },
  {
   "cell_type": "code",
   "execution_count": null,
   "metadata": {},
   "outputs": [],
   "source": [
    "plt.rcParams[\"figure.figsize\"] = (10,6)\n",
    "\n",
    "sns.scatterplot(actual[\"logerror\"], actual[\"yhat\"])\n",
    "\n",
    "plt.title('Model Predictions Vs. Actual Logerror')\n",
    "plt.show()"
   ]
  },
  {
   "cell_type": "code",
   "execution_count": null,
   "metadata": {},
   "outputs": [],
   "source": [
    "MSE = mean_squared_error(y_train, yhat)"
   ]
  },
  {
   "cell_type": "code",
   "execution_count": null,
   "metadata": {},
   "outputs": [],
   "source": [
    "r2 = neigh.score(X_train, y_train)"
   ]
  },
  {
   "cell_type": "code",
   "execution_count": null,
   "metadata": {},
   "outputs": [],
   "source": [
    "print('{:.4} is the mean squared error.'.format(MSE))\n",
    "print('  {:.2%} of the variance in the logerror can be explained by variables.'.format(r2))"
   ]
  },
  {
   "cell_type": "markdown",
   "metadata": {},
   "source": [
    "#### Takeaways:  KNRegressor Model\n",
    "\n",
    "- This model explained more than 58% more of the variance in logerror than my LR model using exactly the same data.\n",
    "\n",
    "- This is much better than the LR model, but it leaves much to be desired. \n",
    "\n",
    "- We will try another type of model before trying to improve on this one with more feature engineering."
   ]
  },
  {
   "cell_type": "markdown",
   "metadata": {},
   "source": [
    "---"
   ]
  },
  {
   "cell_type": "markdown",
   "metadata": {},
   "source": [
    "### Random Forest Regressor"
   ]
  },
  {
   "cell_type": "code",
   "execution_count": 41,
   "metadata": {},
   "outputs": [],
   "source": [
    "from sklearn.model_selection import train_test_split\n",
    "from sklearn.ensemble import RandomForestRegressor\n",
    "from sklearn.metrics import classification_report\n",
    "from sklearn.metrics import confusion_matrix\n",
    "\n",
    "\n",
    "import matplotlib.pyplot as plt\n",
    "%matplotlib inline\n",
    "import seaborn as sns"
   ]
  },
  {
   "cell_type": "code",
   "execution_count": 42,
   "metadata": {},
   "outputs": [],
   "source": [
    "rf = RandomForestRegressor(n_estimators=10)"
   ]
  },
  {
   "cell_type": "code",
   "execution_count": 43,
   "metadata": {},
   "outputs": [
    {
     "data": {
      "text/plain": [
       "RandomForestRegressor(bootstrap=True, criterion='mse', max_depth=None,\n",
       "                      max_features='auto', max_leaf_nodes=None,\n",
       "                      min_impurity_decrease=0.0, min_impurity_split=None,\n",
       "                      min_samples_leaf=1, min_samples_split=2,\n",
       "                      min_weight_fraction_leaf=0.0, n_estimators=10,\n",
       "                      n_jobs=None, oob_score=False, random_state=None,\n",
       "                      verbose=0, warm_start=False)"
      ]
     },
     "execution_count": 43,
     "metadata": {},
     "output_type": "execute_result"
    }
   ],
   "source": [
    "rf.fit(X_train, y_train)"
   ]
  },
  {
   "cell_type": "markdown",
   "metadata": {},
   "source": [
    "#### Evaluate:  Random Forest Regressor"
   ]
  },
  {
   "cell_type": "code",
   "execution_count": 44,
   "metadata": {},
   "outputs": [
    {
     "data": {
      "text/plain": [
       "tax_rate               float64\n",
       "bathroomcnt            float64\n",
       "bedroomcnt             float64\n",
       "garagecarcnt           float64\n",
       "latitude               float64\n",
       "longitude              float64\n",
       "poolcnt                float64\n",
       "price_per_sq_ft        float64\n",
       "lot_price_per_sq_ft    float64\n",
       "cluster_sqft_0         float64\n",
       "cluster_sqft_1         float64\n",
       "cluster_sqft_2         float64\n",
       "cluster_sqft_3         float64\n",
       "cluster_sqft_4         float64\n",
       "cluster_sqft_5         float64\n",
       "cluster_sqft_6         float64\n",
       "cluster_sqft_7         float64\n",
       "cluster_sqft_8         float64\n",
       "cluster_sqft_9         float64\n",
       "dtype: object"
      ]
     },
     "execution_count": 44,
     "metadata": {},
     "output_type": "execute_result"
    }
   ],
   "source": [
    "X_train.dtypes"
   ]
  },
  {
   "cell_type": "code",
   "execution_count": 45,
   "metadata": {},
   "outputs": [
    {
     "data": {
      "text/plain": [
       "tax_rate               float64\n",
       "bathroomcnt            float64\n",
       "bedroomcnt             float64\n",
       "garagecarcnt           float64\n",
       "latitude               float64\n",
       "longitude              float64\n",
       "poolcnt                float64\n",
       "price_per_sq_ft        float64\n",
       "lot_price_per_sq_ft    float64\n",
       "cluster_sqft_0         float64\n",
       "cluster_sqft_1         float64\n",
       "cluster_sqft_2         float64\n",
       "cluster_sqft_3         float64\n",
       "cluster_sqft_4         float64\n",
       "cluster_sqft_5         float64\n",
       "cluster_sqft_6         float64\n",
       "cluster_sqft_7         float64\n",
       "cluster_sqft_8         float64\n",
       "cluster_sqft_9         float64\n",
       "dtype: object"
      ]
     },
     "execution_count": 45,
     "metadata": {},
     "output_type": "execute_result"
    }
   ],
   "source": [
    "X_test.dtypes"
   ]
  },
  {
   "cell_type": "code",
   "execution_count": 46,
   "metadata": {},
   "outputs": [
    {
     "name": "stdout",
     "output_type": "stream",
     "text": [
      "root mean squared error = 0.003277160958599064\n"
     ]
    }
   ],
   "source": [
    "from sklearn.metrics import mean_squared_error\n",
    "\n",
    "y_pred = rf.predict(X_train)\n",
    "print(f'root mean squared error = {mean_squared_error(y_train, y_pred)**1/2}')"
   ]
  },
  {
   "cell_type": "code",
   "execution_count": 47,
   "metadata": {},
   "outputs": [
    {
     "name": "stdout",
     "output_type": "stream",
     "text": [
      "root mean squared error = 0.017162392795817587\n"
     ]
    }
   ],
   "source": [
    "y_pred = rf.predict(X_test)\n",
    "print(f'root mean squared error = {mean_squared_error(y_test, y_pred)**1/2}')"
   ]
  },
  {
   "cell_type": "markdown",
   "metadata": {},
   "source": [
    "#### Takeaways:  Random Forest Regressor"
   ]
  },
  {
   "cell_type": "code",
   "execution_count": null,
   "metadata": {},
   "outputs": [],
   "source": [
    "predictions_vs_actual = pd.DataFrame({'predictions_log_error': y_pred, 'actual_log_error': y_test.logerror})"
   ]
  },
  {
   "cell_type": "code",
   "execution_count": null,
   "metadata": {},
   "outputs": [],
   "source": [
    "sns.scatterplot(data=predictions_vs_actual, x='predictions_log_error', y='actual_log_error', hue=\"cluster\")"
   ]
  },
  {
   "cell_type": "code",
   "execution_count": null,
   "metadata": {},
   "outputs": [],
   "source": []
  }
 ],
 "metadata": {
  "kernelspec": {
   "display_name": "Python 3",
   "language": "python",
   "name": "python3"
  },
  "language_info": {
   "codemirror_mode": {
    "name": "ipython",
    "version": 3
   },
   "file_extension": ".py",
   "mimetype": "text/x-python",
   "name": "python",
   "nbconvert_exporter": "python",
   "pygments_lexer": "ipython3",
   "version": "3.7.3"
  },
  "toc": {
   "base_numbering": 1,
   "nav_menu": {},
   "number_sections": true,
   "sideBar": true,
   "skip_h1_title": false,
   "title_cell": "Table of Contents",
   "title_sidebar": "Contents",
   "toc_cell": false,
   "toc_position": {
    "height": "calc(100% - 180px)",
    "left": "10px",
    "top": "150px",
    "width": "221.989px"
   },
   "toc_section_display": true,
   "toc_window_display": true
  }
 },
 "nbformat": 4,
 "nbformat_minor": 2
}
