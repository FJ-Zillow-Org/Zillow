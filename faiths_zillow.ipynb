{
 "cells": [
  {
   "cell_type": "code",
   "execution_count": 1,
   "metadata": {},
   "outputs": [],
   "source": [
    "# ignore warnings\n",
    "import warnings\n",
    "warnings.filterwarnings(\"ignore\")\n",
    "\n",
    "# wrangling\n",
    "import pandas as pd\n",
    "import numpy as np\n",
    "\n",
    "# preparing\n",
    "from sklearn.model_selection import train_test_split\n",
    "\n",
    "# visualizing\n",
    "%matplotlib inline\n",
    "import matplotlib.pyplot as plt\n",
    "import seaborn as sns\n",
    "\n",
    "# exploring\n",
    "import scipy.stats as stats\n",
    "import pandas_profiling\n",
    "\n",
    "# modeling\n",
    "from sklearn.cluster import KMeans\n",
    "from sklearn.preprocessing import LabelEncoder, OneHotEncoder\n",
    "from sklearn.linear_model import LinearRegression\n",
    "from statsmodels.formula.api import ols\n",
    "from sklearn.metrics import mean_squared_error, r2_score, explained_variance_score\n",
    "from sklearn.feature_selection import f_regression\n",
    "from sklearn.neighbors import KNeighborsRegressor\n",
    "from math import sqrt\n",
    "\n",
    "# 3D projection\n",
    "from mpl_toolkits.mplot3d import Axes3D\n",
    "\n",
    "pd.options.display.float_format = '{:20,.2f}'.format\n",
    "\n",
    "# my modules\n",
    "import acquire\n",
    "import summarize\n",
    "import prepare\n",
    "\n",
    "# default pandas decimal number display format\n",
    "pd.options.display.float_format = '{:20,.2f}'.format"
   ]
  },
  {
   "cell_type": "markdown",
   "metadata": {},
   "source": [
    "### Acquire df\n",
    "\n",
    "- Query brought in 52,169"
   ]
  },
  {
   "cell_type": "code",
   "execution_count": 2,
   "metadata": {},
   "outputs": [],
   "source": [
    "# df = acquire.get_zillow_data()"
   ]
  },
  {
   "cell_type": "code",
   "execution_count": 3,
   "metadata": {},
   "outputs": [],
   "source": [
    "df = pd.read_csv(\"zillow_dataframe.csv\")"
   ]
  },
  {
   "cell_type": "code",
   "execution_count": 4,
   "metadata": {},
   "outputs": [
    {
     "data": {
      "text/plain": [
       "(52169, 21)"
      ]
     },
     "execution_count": 4,
     "metadata": {},
     "output_type": "execute_result"
    }
   ],
   "source": [
    "df.shape"
   ]
  },
  {
   "cell_type": "markdown",
   "metadata": {},
   "source": [
    "- $H_0$: The Null Hypothesis is that the numeric values from the Zillow data do not predict the logerror."
   ]
  },
  {
   "cell_type": "markdown",
   "metadata": {},
   "source": [
    "- $H_a$: The Null Hypothesis is that the numeric values from the Zillow data do not predict the logerror."
   ]
  },
  {
   "cell_type": "markdown",
   "metadata": {},
   "source": [
    "### Summarize df"
   ]
  },
  {
   "cell_type": "code",
   "execution_count": 5,
   "metadata": {},
   "outputs": [
    {
     "name": "stdout",
     "output_type": "stream",
     "text": [
      "--- Shape: (52169, 21)\n",
      "--- Info\n",
      "<class 'pandas.core.frame.DataFrame'>\n",
      "RangeIndex: 52169 entries, 0 to 52168\n",
      "Data columns (total 21 columns):\n",
      "Unnamed: 0                      52169 non-null int64\n",
      "tax_rate                        52164 non-null float64\n",
      "bathroomcnt                     52169 non-null float64\n",
      "bedroomcnt                      52169 non-null float64\n",
      "calculatedfinishedsquarefeet    52161 non-null float64\n",
      "fips                            52169 non-null float64\n",
      "garagecarcnt                    17966 non-null float64\n",
      "garagetotalsqft                 17966 non-null float64\n",
      "latitude                        52169 non-null float64\n",
      "longitude                       52169 non-null float64\n",
      "lotsizesquarefeet               51815 non-null float64\n",
      "poolcnt                         11064 non-null float64\n",
      "poolsizesum                     860 non-null float64\n",
      "taxvaluedollarcnt               52168 non-null float64\n",
      "yearbuilt                       52129 non-null float64\n",
      "landtaxvaluedollarcnt           52168 non-null float64\n",
      "taxdelinquencyflag              2060 non-null object\n",
      "taxdelinquencyyear              2060 non-null float64\n",
      "logerror                        52169 non-null float64\n",
      "transactions                    52169 non-null int64\n",
      "county_name                     52169 non-null object\n",
      "dtypes: float64(17), int64(2), object(2)\n",
      "memory usage: 8.4+ MB\n",
      "--- Descriptions\n",
      "                 Unnamed: 0             tax_rate          bathroomcnt  \\\n",
      "count             52,169.00            52,164.00            52,169.00   \n",
      "unique                  nan                  nan                  nan   \n",
      "top                     nan                  nan                  nan   \n",
      "freq                    nan                  nan                  nan   \n",
      "mean              26,084.00                 0.01                 2.31   \n",
      "std               15,060.04                 0.01                 1.02   \n",
      "min                    0.00                 0.00                 1.00   \n",
      "25%               13,042.00                 0.01                 2.00   \n",
      "50%               26,084.00                 0.01                 2.00   \n",
      "75%               39,126.00                 0.01                 3.00   \n",
      "max               52,168.00                 0.82                18.00   \n",
      "\n",
      "                 bedroomcnt  calculatedfinishedsquarefeet  \\\n",
      "count             52,169.00                     52,161.00   \n",
      "unique                  nan                           nan   \n",
      "top                     nan                           nan   \n",
      "freq                    nan                           nan   \n",
      "mean                   3.31                      1,923.74   \n",
      "std                    0.93                      1,003.72   \n",
      "min                    1.00                        152.00   \n",
      "25%                    3.00                      1,268.00   \n",
      "50%                    3.00                      1,660.00   \n",
      "75%                    4.00                      2,306.00   \n",
      "max                   14.00                     21,929.00   \n",
      "\n",
      "                       fips         garagecarcnt      garagetotalsqft  \\\n",
      "count             52,169.00            17,966.00            17,966.00   \n",
      "unique                  nan                  nan                  nan   \n",
      "top                     nan                  nan                  nan   \n",
      "freq                    nan                  nan                  nan   \n",
      "mean               6,049.11                 1.95               495.95   \n",
      "std                   21.00                 0.55               156.97   \n",
      "min                6,037.00                 0.00                 0.00   \n",
      "25%                6,037.00                 2.00               426.00   \n",
      "50%                6,037.00                 2.00               462.00   \n",
      "75%                6,059.00                 2.00               567.00   \n",
      "max                6,111.00                14.00             4,251.00   \n",
      "\n",
      "                   latitude            longitude  ...              poolcnt  \\\n",
      "count             52,169.00            52,169.00  ...            11,064.00   \n",
      "unique                  nan                  nan  ...                  nan   \n",
      "top                     nan                  nan  ...                  nan   \n",
      "freq                    nan                  nan  ...                  nan   \n",
      "mean          34,022,625.60      -118,193,906.95  ...                 1.00   \n",
      "std              273,976.25           356,319.31  ...                 0.00   \n",
      "min           33,340,620.00      -119,475,416.00  ...                 1.00   \n",
      "25%           33,826,974.00      -118,400,699.00  ...                 1.00   \n",
      "50%           34,023,629.00      -118,152,967.00  ...                 1.00   \n",
      "75%           34,187,253.00      -117,929,144.00  ...                 1.00   \n",
      "max           34,818,767.00      -117,554,636.00  ...                 1.00   \n",
      "\n",
      "                poolsizesum    taxvaluedollarcnt            yearbuilt  \\\n",
      "count                860.00            52,168.00            52,129.00   \n",
      "unique                  nan                  nan                  nan   \n",
      "top                     nan                  nan                  nan   \n",
      "freq                    nan                  nan                  nan   \n",
      "mean                 518.48           528,350.48             1,963.45   \n",
      "std                  156.06           748,500.02                23.11   \n",
      "min                   24.00             1,000.00             1,878.00   \n",
      "25%                  424.00           194,245.00             1,950.00   \n",
      "50%                  500.00           374,008.00             1,961.00   \n",
      "75%                  600.00           618,946.50             1,979.00   \n",
      "max                1,500.00        49,061,236.00             2,016.00   \n",
      "\n",
      "        landtaxvaluedollarcnt  taxdelinquencyflag   taxdelinquencyyear  \\\n",
      "count               52,168.00                2060             2,060.00   \n",
      "unique                    nan                   1                  nan   \n",
      "top                       nan                   Y                  nan   \n",
      "freq                      nan                2060                  nan   \n",
      "mean               332,650.34                 NaN                14.10   \n",
      "std                568,705.24                 NaN                 2.40   \n",
      "min                    161.00                 NaN                 4.00   \n",
      "25%                 76,340.75                 NaN                14.00   \n",
      "50%                218,079.00                 NaN                15.00   \n",
      "75%                408,351.00                 NaN                15.00   \n",
      "max             48,952,198.00                 NaN                99.00   \n",
      "\n",
      "                   logerror         transactions  county_name  \n",
      "count             52,169.00            52,169.00        52169  \n",
      "unique                  nan                  nan            3  \n",
      "top                     nan                  nan  Los Angeles  \n",
      "freq                    nan                  nan        33752  \n",
      "mean                   0.02                 1.00          NaN  \n",
      "std                    0.18                 0.05          NaN  \n",
      "min                   -4.66                 1.00          NaN  \n",
      "25%                   -0.02                 1.00          NaN  \n",
      "50%                    0.01                 1.00          NaN  \n",
      "75%                    0.04                 1.00          NaN  \n",
      "max                    5.26                 3.00          NaN  \n",
      "\n",
      "[11 rows x 21 columns]\n",
      "--- Nulls By Column\n",
      "                              num_rows_missing     pct_rows_missing\n",
      "Unnamed: 0                                   0                 0.00\n",
      "tax_rate                                     5                 0.00\n",
      "bathroomcnt                                  0                 0.00\n",
      "bedroomcnt                                   0                 0.00\n",
      "calculatedfinishedsquarefeet                 8                 0.00\n",
      "fips                                         0                 0.00\n",
      "garagecarcnt                             34203                 0.66\n",
      "garagetotalsqft                          34203                 0.66\n",
      "latitude                                     0                 0.00\n",
      "longitude                                    0                 0.00\n",
      "lotsizesquarefeet                          354                 0.01\n",
      "poolcnt                                  41105                 0.79\n",
      "poolsizesum                              51309                 0.98\n",
      "taxvaluedollarcnt                            1                 0.00\n",
      "yearbuilt                                   40                 0.00\n",
      "landtaxvaluedollarcnt                        1                 0.00\n",
      "taxdelinquencyflag                       50109                 0.96\n",
      "taxdelinquencyyear                       50109                 0.96\n",
      "logerror                                     0                 0.00\n",
      "transactions                                 0                 0.00\n",
      "county_name                                  0                 0.00\n",
      "--- Nulls By Row\n",
      "  num_cols_missing    pct_cols_missing  num_rows\n",
      "0                0                 0.0         5\n",
      "1                1   4.761904761904762        62\n",
      "2                2   9.523809523809524      1092\n",
      "3                3  14.285714285714285      3580\n",
      "4                4  19.047619047619047     14909\n",
      "5                5  23.809523809523807      6571\n",
      "6                6   28.57142857142857     25687\n",
      "7                7   33.33333333333333       256\n",
      "8                8  38.095238095238095         7\n",
      "--- Value Counts\n"
     ]
    },
    {
     "name": "stdout",
     "output_type": "stream",
     "text": [
      "(-52.169, 5216.8]                    5217\n",
      "(5216.8, 10433.6]                    5217\n",
      "(10433.6, 15650.4]                   5217\n",
      "(15650.4, 20867.2]                   5217\n",
      "(20867.2, 26084.0]                   5217\n",
      "(26084.0, 31300.8]                   5216\n",
      "(31300.8, 36517.6]                   5217\n",
      "(36517.6, 41734.4]                   5217\n",
      "(41734.4, 46951.2]                   5217\n",
      "(46951.2, 52168.0]                   5217\n",
      "(-0.0017230000000000001, 0.0817]    52125\n",
      "(0.0817, 0.163]                        30\n",
      "(0.163, 0.245]                          3\n",
      "(0.245, 0.327]                          2\n",
      "(0.327, 0.408]                          1\n",
      "(0.408, 0.49]                           1\n",
      "(0.49, 0.572]                           1\n",
      "(0.572, 0.653]                          0\n",
      "(0.653, 0.735]                          0\n",
      "(0.735, 0.816]                          1\n",
      "(0.982, 2.7]                        36120\n",
      "(2.7, 4.4]                          13787\n",
      "(4.4, 6.1]                           2032\n",
      "(6.1, 7.8]                            151\n",
      "(7.8, 9.5]                             69\n",
      "(9.5, 11.2]                             8\n",
      "(11.2, 12.9]                            0\n",
      "(12.9, 14.6]                            1\n",
      "(14.6, 16.3]                            0\n",
      "(16.3, 18.0]                            1\n",
      "                                    ...  \n",
      "(32.5, 42.0]                            0\n",
      "(42.0, 51.5]                            0\n",
      "(51.5, 61.0]                            0\n",
      "(61.0, 70.5]                            0\n",
      "(70.5, 80.0]                            0\n",
      "(80.0, 89.5]                            0\n",
      "(89.5, 99.0]                            1\n",
      "(-4.666, -3.664]                        2\n",
      "(-3.664, -2.672]                        0\n",
      "(-2.672, -1.68]                        26\n",
      "(-1.68, -0.688]                       106\n",
      "(-0.688, 0.304]                     50689\n",
      "(0.304, 1.296]                       1215\n",
      "(1.296, 2.287]                         75\n",
      "(2.287, 3.279]                         54\n",
      "(3.279, 4.271]                          1\n",
      "(4.271, 5.263]                          1\n",
      "(0.997, 1.2]                        52051\n",
      "(1.2, 1.4]                              0\n",
      "(1.4, 1.6]                              0\n",
      "(1.6, 1.8]                              0\n",
      "(1.8, 2.0]                            116\n",
      "(2.0, 2.2]                              0\n",
      "(2.2, 2.4]                              0\n",
      "(2.4, 2.6]                              0\n",
      "(2.6, 2.8]                              0\n",
      "(2.8, 3.0]                              2\n",
      "Los Angeles                         33752\n",
      "Orange                              14061\n",
      "Ventura                              4356\n",
      "Length: 194, dtype: int64\n"
     ]
    }
   ],
   "source": [
    "summarize.df_summary(df)"
   ]
  },
  {
   "cell_type": "markdown",
   "metadata": {},
   "source": [
    "- Here I use a function that takes in a dataframe of observations and attributes and returns a df where each row is an atttribute name, the first column is the number of rows with missing values for that attribute, and the second column is percent of total rows that have missing values for that attribute. Run the function and document takeaways from this on how you want to handle missing values."
   ]
  },
  {
   "cell_type": "code",
   "execution_count": 6,
   "metadata": {
    "scrolled": true
   },
   "outputs": [
    {
     "data": {
      "text/html": [
       "<div>\n",
       "<style scoped>\n",
       "    .dataframe tbody tr th:only-of-type {\n",
       "        vertical-align: middle;\n",
       "    }\n",
       "\n",
       "    .dataframe tbody tr th {\n",
       "        vertical-align: top;\n",
       "    }\n",
       "\n",
       "    .dataframe thead th {\n",
       "        text-align: right;\n",
       "    }\n",
       "</style>\n",
       "<table border=\"1\" class=\"dataframe\">\n",
       "  <thead>\n",
       "    <tr style=\"text-align: right;\">\n",
       "      <th></th>\n",
       "      <th>num_rows_missing</th>\n",
       "      <th>pct_rows_missing</th>\n",
       "    </tr>\n",
       "  </thead>\n",
       "  <tbody>\n",
       "    <tr>\n",
       "      <th>Unnamed: 0</th>\n",
       "      <td>0</td>\n",
       "      <td>0.00</td>\n",
       "    </tr>\n",
       "    <tr>\n",
       "      <th>tax_rate</th>\n",
       "      <td>5</td>\n",
       "      <td>0.00</td>\n",
       "    </tr>\n",
       "    <tr>\n",
       "      <th>bathroomcnt</th>\n",
       "      <td>0</td>\n",
       "      <td>0.00</td>\n",
       "    </tr>\n",
       "    <tr>\n",
       "      <th>bedroomcnt</th>\n",
       "      <td>0</td>\n",
       "      <td>0.00</td>\n",
       "    </tr>\n",
       "    <tr>\n",
       "      <th>calculatedfinishedsquarefeet</th>\n",
       "      <td>8</td>\n",
       "      <td>0.00</td>\n",
       "    </tr>\n",
       "    <tr>\n",
       "      <th>fips</th>\n",
       "      <td>0</td>\n",
       "      <td>0.00</td>\n",
       "    </tr>\n",
       "    <tr>\n",
       "      <th>garagecarcnt</th>\n",
       "      <td>34203</td>\n",
       "      <td>0.66</td>\n",
       "    </tr>\n",
       "    <tr>\n",
       "      <th>garagetotalsqft</th>\n",
       "      <td>34203</td>\n",
       "      <td>0.66</td>\n",
       "    </tr>\n",
       "    <tr>\n",
       "      <th>latitude</th>\n",
       "      <td>0</td>\n",
       "      <td>0.00</td>\n",
       "    </tr>\n",
       "    <tr>\n",
       "      <th>longitude</th>\n",
       "      <td>0</td>\n",
       "      <td>0.00</td>\n",
       "    </tr>\n",
       "    <tr>\n",
       "      <th>lotsizesquarefeet</th>\n",
       "      <td>354</td>\n",
       "      <td>0.01</td>\n",
       "    </tr>\n",
       "    <tr>\n",
       "      <th>poolcnt</th>\n",
       "      <td>41105</td>\n",
       "      <td>0.79</td>\n",
       "    </tr>\n",
       "    <tr>\n",
       "      <th>poolsizesum</th>\n",
       "      <td>51309</td>\n",
       "      <td>0.98</td>\n",
       "    </tr>\n",
       "    <tr>\n",
       "      <th>taxvaluedollarcnt</th>\n",
       "      <td>1</td>\n",
       "      <td>0.00</td>\n",
       "    </tr>\n",
       "    <tr>\n",
       "      <th>yearbuilt</th>\n",
       "      <td>40</td>\n",
       "      <td>0.00</td>\n",
       "    </tr>\n",
       "    <tr>\n",
       "      <th>landtaxvaluedollarcnt</th>\n",
       "      <td>1</td>\n",
       "      <td>0.00</td>\n",
       "    </tr>\n",
       "    <tr>\n",
       "      <th>taxdelinquencyflag</th>\n",
       "      <td>50109</td>\n",
       "      <td>0.96</td>\n",
       "    </tr>\n",
       "    <tr>\n",
       "      <th>taxdelinquencyyear</th>\n",
       "      <td>50109</td>\n",
       "      <td>0.96</td>\n",
       "    </tr>\n",
       "    <tr>\n",
       "      <th>logerror</th>\n",
       "      <td>0</td>\n",
       "      <td>0.00</td>\n",
       "    </tr>\n",
       "    <tr>\n",
       "      <th>transactions</th>\n",
       "      <td>0</td>\n",
       "      <td>0.00</td>\n",
       "    </tr>\n",
       "    <tr>\n",
       "      <th>county_name</th>\n",
       "      <td>0</td>\n",
       "      <td>0.00</td>\n",
       "    </tr>\n",
       "  </tbody>\n",
       "</table>\n",
       "</div>"
      ],
      "text/plain": [
       "                              num_rows_missing     pct_rows_missing\n",
       "Unnamed: 0                                   0                 0.00\n",
       "tax_rate                                     5                 0.00\n",
       "bathroomcnt                                  0                 0.00\n",
       "bedroomcnt                                   0                 0.00\n",
       "calculatedfinishedsquarefeet                 8                 0.00\n",
       "fips                                         0                 0.00\n",
       "garagecarcnt                             34203                 0.66\n",
       "garagetotalsqft                          34203                 0.66\n",
       "latitude                                     0                 0.00\n",
       "longitude                                    0                 0.00\n",
       "lotsizesquarefeet                          354                 0.01\n",
       "poolcnt                                  41105                 0.79\n",
       "poolsizesum                              51309                 0.98\n",
       "taxvaluedollarcnt                            1                 0.00\n",
       "yearbuilt                                   40                 0.00\n",
       "landtaxvaluedollarcnt                        1                 0.00\n",
       "taxdelinquencyflag                       50109                 0.96\n",
       "taxdelinquencyyear                       50109                 0.96\n",
       "logerror                                     0                 0.00\n",
       "transactions                                 0                 0.00\n",
       "county_name                                  0                 0.00"
      ]
     },
     "execution_count": 6,
     "metadata": {},
     "output_type": "execute_result"
    }
   ],
   "source": [
    "summarize.nulls_by_col(df)"
   ]
  },
  {
   "cell_type": "markdown",
   "metadata": {},
   "source": [
    "#### Takeaways from nulls in columns function\n",
    "\n",
    "- I can see that there are columns that have no data in them, and those I will certainly drop. \n",
    "\n",
    "\n",
    "- There are others that are more than 50% NULL values, and I'm going to drop those as well. That is too high of a percentage of Nulls to make the data meaningful."
   ]
  },
  {
   "cell_type": "markdown",
   "metadata": {},
   "source": [
    "- Write a function that takes in a dataframe and returns a dataframe with 3 columns: the number of columns missing, percent of columns missing, number of rows with n columns missing. Run the function and document takeaways from this on how you want to handle missing values."
   ]
  },
  {
   "cell_type": "code",
   "execution_count": 7,
   "metadata": {
    "scrolled": true
   },
   "outputs": [
    {
     "data": {
      "text/html": [
       "<div>\n",
       "<style scoped>\n",
       "    .dataframe tbody tr th:only-of-type {\n",
       "        vertical-align: middle;\n",
       "    }\n",
       "\n",
       "    .dataframe tbody tr th {\n",
       "        vertical-align: top;\n",
       "    }\n",
       "\n",
       "    .dataframe thead th {\n",
       "        text-align: right;\n",
       "    }\n",
       "</style>\n",
       "<table border=\"1\" class=\"dataframe\">\n",
       "  <thead>\n",
       "    <tr style=\"text-align: right;\">\n",
       "      <th></th>\n",
       "      <th>num_cols_missing</th>\n",
       "      <th>pct_cols_missing</th>\n",
       "      <th>num_rows</th>\n",
       "    </tr>\n",
       "  </thead>\n",
       "  <tbody>\n",
       "    <tr>\n",
       "      <th>0</th>\n",
       "      <td>0</td>\n",
       "      <td>0.0</td>\n",
       "      <td>5</td>\n",
       "    </tr>\n",
       "    <tr>\n",
       "      <th>1</th>\n",
       "      <td>1</td>\n",
       "      <td>4.761904761904762</td>\n",
       "      <td>62</td>\n",
       "    </tr>\n",
       "    <tr>\n",
       "      <th>2</th>\n",
       "      <td>2</td>\n",
       "      <td>9.523809523809524</td>\n",
       "      <td>1092</td>\n",
       "    </tr>\n",
       "    <tr>\n",
       "      <th>3</th>\n",
       "      <td>3</td>\n",
       "      <td>14.285714285714285</td>\n",
       "      <td>3580</td>\n",
       "    </tr>\n",
       "    <tr>\n",
       "      <th>4</th>\n",
       "      <td>4</td>\n",
       "      <td>19.047619047619047</td>\n",
       "      <td>14909</td>\n",
       "    </tr>\n",
       "    <tr>\n",
       "      <th>5</th>\n",
       "      <td>5</td>\n",
       "      <td>23.809523809523807</td>\n",
       "      <td>6571</td>\n",
       "    </tr>\n",
       "    <tr>\n",
       "      <th>6</th>\n",
       "      <td>6</td>\n",
       "      <td>28.57142857142857</td>\n",
       "      <td>25687</td>\n",
       "    </tr>\n",
       "    <tr>\n",
       "      <th>7</th>\n",
       "      <td>7</td>\n",
       "      <td>33.33333333333333</td>\n",
       "      <td>256</td>\n",
       "    </tr>\n",
       "    <tr>\n",
       "      <th>8</th>\n",
       "      <td>8</td>\n",
       "      <td>38.095238095238095</td>\n",
       "      <td>7</td>\n",
       "    </tr>\n",
       "  </tbody>\n",
       "</table>\n",
       "</div>"
      ],
      "text/plain": [
       "  num_cols_missing    pct_cols_missing  num_rows\n",
       "0                0                 0.0         5\n",
       "1                1   4.761904761904762        62\n",
       "2                2   9.523809523809524      1092\n",
       "3                3  14.285714285714285      3580\n",
       "4                4  19.047619047619047     14909\n",
       "5                5  23.809523809523807      6571\n",
       "6                6   28.57142857142857     25687\n",
       "7                7   33.33333333333333       256\n",
       "8                8  38.095238095238095         7"
      ]
     },
     "execution_count": 7,
     "metadata": {},
     "output_type": "execute_result"
    }
   ],
   "source": [
    "summarize.nulls_by_row(df)"
   ]
  },
  {
   "cell_type": "markdown",
   "metadata": {},
   "source": [
    "#### Takeaways from the nulls by row function\n",
    "\n",
    "- For my first iteration of the pipeline, I'm going to drop any rows that have missing values. \n",
    "\n",
    "\n",
    "- I will go back and add back and possibly impute values after my first iteration."
   ]
  },
  {
   "cell_type": "markdown",
   "metadata": {},
   "source": [
    "- This function will drop columns that are not 50% non-missing values and rows that are not 75% non-missing values"
   ]
  },
  {
   "cell_type": "code",
   "execution_count": 8,
   "metadata": {},
   "outputs": [],
   "source": [
    "df = prepare.handle_missing_values(df)"
   ]
  },
  {
   "cell_type": "code",
   "execution_count": 9,
   "metadata": {
    "scrolled": true
   },
   "outputs": [
    {
     "data": {
      "text/plain": [
       "Unnamed: 0                        0\n",
       "tax_rate                          5\n",
       "bathroomcnt                       0\n",
       "bedroomcnt                        0\n",
       "calculatedfinishedsquarefeet      8\n",
       "fips                              0\n",
       "latitude                          0\n",
       "longitude                         0\n",
       "lotsizesquarefeet               354\n",
       "taxvaluedollarcnt                 1\n",
       "yearbuilt                        40\n",
       "landtaxvaluedollarcnt             1\n",
       "logerror                          0\n",
       "transactions                      0\n",
       "county_name                       0\n",
       "dtype: int64"
      ]
     },
     "execution_count": 9,
     "metadata": {},
     "output_type": "execute_result"
    }
   ],
   "source": [
    "df.isnull().sum()"
   ]
  },
  {
   "cell_type": "markdown",
   "metadata": {},
   "source": [
    "- I am removing columns for the following reasons...\n",
    "\n",
    "    - \"unitcnt\", \"propertyzoningdesc\", \"heatingorsystemdesc\", \n",
    "      \"heatingorsystemtypeid\", \"buildingqualitytypeid\" : missing 18,451 values\n",
    "    \n",
    "    - \"assessmentyear\": constant value of 2016\n",
    "    \n",
    "    - \"calculatedbathnbr\": has a correlation of 1.0 with bathroomcnt\n",
    "    \n",
    "    - \"finishedsquarefeet12\": has a correlcation of 1.0 with calculatedsquarefeet\n",
    "    \n",
    "    - \"propertylandusedesc\", \"propertylandusetypeid\": these are all \"261\" or single family residential.\n",
    "    \n",
    "    - \"rawcensustractandblack\": is highly correlated with fips/county\n",
    "    \n",
    "    - \"state\": are all California; not useful in analysis\n",
    "    \n",
    "    - \"regionidcity\": is represented by zipcodes\n",
    "    \n",
    "    - \"roomcnt\": over 36,000 values are 0 rooms\n",
    "    \n",
    "    - \"parcelid\": this is not needed beyond joining tables"
   ]
  },
  {
   "cell_type": "code",
   "execution_count": 10,
   "metadata": {},
   "outputs": [],
   "source": [
    "# cols_to_remove = [\"unitcnt\", \"propertyzoningdesc\", \"heatingorsystemdesc\", \n",
    "#                   \"heatingorsystemtypeid\", \"buildingqualitytypeid\", \"assessmentyear\",\n",
    "#                   \"calculatedbathnbr\", \"finishedsquarefeet12\", \"propertylandusedesc\", \n",
    "#                   \"propertylandusetypeid\", \"rawcensustractandblock\", \"censustractandblock\" , \"regionidcity\",\n",
    "#                   \"state\", \"id\", \"fullbathcnt\", \"roomcnt\", \"parcelid\"]"
   ]
  },
  {
   "cell_type": "markdown",
   "metadata": {},
   "source": [
    "- This function removes the columns above from the dataframe for the reasons I listed above."
   ]
  },
  {
   "cell_type": "code",
   "execution_count": 11,
   "metadata": {},
   "outputs": [],
   "source": [
    "#df = prepare.remove_columns(df, cols_to_remove)"
   ]
  },
  {
   "cell_type": "markdown",
   "metadata": {},
   "source": [
    "- Drop rows with missing values using a df.dropna(), so I can run through my first iteration of exploration with visuals using numeric or categorical data types without any missing values. \n",
    "\n",
    "\n",
    "- I may decide later to impute values and save rows for the following columns.\n",
    "\n",
    "\n",
    "    - \"tax_rate\": has five rows with missing values in tax_rate\n",
    "\n",
    "    - \"yearbuilt\": has 40 missing values that I can't impute in a meaningful way. Dropping 40 rows out of the df should not be a problem.\n",
    "    \n",
    "    - \"censustractandblock\": has 112 values I can't impute in a meaningful way. I'll drop these rows.\n",
    "    \n",
    "    - \"lotsizesquarefeet\": \n",
    "    \n",
    "    - \"regionidcity\":\n",
    "    \n",
    "    - \"regionidzip\":\n",
    "    \n",
    "    - \"taxvaluedollarcnt\":\n",
    "    \n",
    "    - \"yearbuilt\":\n",
    "    \n",
    "    - \"structuretaxvaluedollarcnt\":\n",
    "    \n",
    "    - \"landtaxvaluedollarcnt\":\n",
    "    \n",
    "    - \"taxamount\":"
   ]
  },
  {
   "cell_type": "markdown",
   "metadata": {},
   "source": [
    "- Now I will drop remaining rows with missing values to get to a df that I can use to run a LR and DT baseline model"
   ]
  },
  {
   "cell_type": "code",
   "execution_count": 12,
   "metadata": {},
   "outputs": [],
   "source": [
    "df.dropna(inplace=True)"
   ]
  },
  {
   "cell_type": "markdown",
   "metadata": {},
   "source": [
    "- Verify there are no more missing values in my dataframe.\n",
    "\n",
    "\n",
    "    - I'll be ready for visual exploration and transforming data types."
   ]
  },
  {
   "cell_type": "code",
   "execution_count": 13,
   "metadata": {},
   "outputs": [
    {
     "data": {
      "text/plain": [
       "Unnamed: 0                      0\n",
       "tax_rate                        0\n",
       "bathroomcnt                     0\n",
       "bedroomcnt                      0\n",
       "calculatedfinishedsquarefeet    0\n",
       "fips                            0\n",
       "latitude                        0\n",
       "longitude                       0\n",
       "lotsizesquarefeet               0\n",
       "taxvaluedollarcnt               0\n",
       "yearbuilt                       0\n",
       "landtaxvaluedollarcnt           0\n",
       "logerror                        0\n",
       "transactions                    0\n",
       "county_name                     0\n",
       "dtype: int64"
      ]
     },
     "execution_count": 13,
     "metadata": {},
     "output_type": "execute_result"
    }
   ],
   "source": [
    "df.isnull().sum()"
   ]
  },
  {
   "cell_type": "markdown",
   "metadata": {},
   "source": [
    "- I have 51, 657 rows and 26 columns remaining in my df, and now I will deal with data types to get to a df of numeric values only."
   ]
  },
  {
   "cell_type": "code",
   "execution_count": 14,
   "metadata": {},
   "outputs": [
    {
     "data": {
      "text/plain": [
       "(51770, 15)"
      ]
     },
     "execution_count": 14,
     "metadata": {},
     "output_type": "execute_result"
    }
   ],
   "source": [
    "df.shape"
   ]
  },
  {
   "cell_type": "code",
   "execution_count": 15,
   "metadata": {},
   "outputs": [
    {
     "data": {
      "text/plain": [
       "Unnamed: 0                        int64\n",
       "tax_rate                        float64\n",
       "bathroomcnt                     float64\n",
       "bedroomcnt                      float64\n",
       "calculatedfinishedsquarefeet    float64\n",
       "fips                            float64\n",
       "latitude                        float64\n",
       "longitude                       float64\n",
       "lotsizesquarefeet               float64\n",
       "taxvaluedollarcnt               float64\n",
       "yearbuilt                       float64\n",
       "landtaxvaluedollarcnt           float64\n",
       "logerror                        float64\n",
       "transactions                      int64\n",
       "county_name                      object\n",
       "dtype: object"
      ]
     },
     "execution_count": 15,
     "metadata": {},
     "output_type": "execute_result"
    }
   ],
   "source": [
    "df.dtypes"
   ]
  },
  {
   "cell_type": "markdown",
   "metadata": {},
   "source": [
    "- For the first iteration, I'm including transactiondate in column conversion to category. If I need to convert it to a datetime later, I will come back and run this.\n",
    "\n",
    "\n",
    "- Later, I may decide to convert transactiondate column to data type datetime using the code below."
   ]
  },
  {
   "cell_type": "markdown",
   "metadata": {},
   "source": [
    "- Convert the following columns to category data types using a function."
   ]
  },
  {
   "cell_type": "code",
   "execution_count": 16,
   "metadata": {},
   "outputs": [],
   "source": [
    "cols = [\"county\", \"transactiondate\",  \"fips\", \"propertycountylandusecode\", \"regionidcounty\", \"regionidzip\", \"yearbuilt\", \"transactions\"]"
   ]
  },
  {
   "cell_type": "code",
   "execution_count": 17,
   "metadata": {},
   "outputs": [
    {
     "ename": "KeyError",
     "evalue": "\"['county', 'transactiondate', 'propertycountylandusecode', 'regionidcounty', 'regionidzip'] not in index\"",
     "output_type": "error",
     "traceback": [
      "\u001b[0;31m---------------------------------------------------------------------------\u001b[0m",
      "\u001b[0;31mKeyError\u001b[0m                                  Traceback (most recent call last)",
      "\u001b[0;32m<ipython-input-17-578e4f694910>\u001b[0m in \u001b[0;36m<module>\u001b[0;34m\u001b[0m\n\u001b[0;32m----> 1\u001b[0;31m \u001b[0mdf\u001b[0m \u001b[0;34m=\u001b[0m \u001b[0mprepare\u001b[0m\u001b[0;34m.\u001b[0m\u001b[0mnumeric_to_category\u001b[0m\u001b[0;34m(\u001b[0m\u001b[0mdf\u001b[0m\u001b[0;34m,\u001b[0m \u001b[0mcols\u001b[0m\u001b[0;34m)\u001b[0m\u001b[0;34m\u001b[0m\u001b[0;34m\u001b[0m\u001b[0m\n\u001b[0m",
      "\u001b[0;32m~/codeup-data-science/Zillow/prepare.py\u001b[0m in \u001b[0;36mnumeric_to_category\u001b[0;34m(df, cols)\u001b[0m\n\u001b[1;32m     34\u001b[0m \u001b[0;31m# Data types: Write a function that takes in a dataframe and a list of columns names and returns the dataframe with the datatypes of those columns changed to a non-numeric type & use this function to appropriately transform any numeric columns that should not be treated as numbers\u001b[0m\u001b[0;34m\u001b[0m\u001b[0;34m\u001b[0m\u001b[0;34m\u001b[0m\u001b[0m\n\u001b[1;32m     35\u001b[0m \u001b[0;32mdef\u001b[0m \u001b[0mnumeric_to_category\u001b[0m\u001b[0;34m(\u001b[0m\u001b[0mdf\u001b[0m\u001b[0;34m,\u001b[0m \u001b[0mcols\u001b[0m\u001b[0;34m)\u001b[0m\u001b[0;34m:\u001b[0m\u001b[0;34m\u001b[0m\u001b[0;34m\u001b[0m\u001b[0m\n\u001b[0;32m---> 36\u001b[0;31m     \u001b[0mdf\u001b[0m\u001b[0;34m[\u001b[0m\u001b[0mcols\u001b[0m\u001b[0;34m]\u001b[0m \u001b[0;34m=\u001b[0m \u001b[0mdf\u001b[0m\u001b[0;34m[\u001b[0m\u001b[0mcols\u001b[0m\u001b[0;34m]\u001b[0m\u001b[0;34m.\u001b[0m\u001b[0mastype\u001b[0m\u001b[0;34m(\u001b[0m\u001b[0;34m'category'\u001b[0m\u001b[0;34m)\u001b[0m\u001b[0;34m\u001b[0m\u001b[0;34m\u001b[0m\u001b[0m\n\u001b[0m\u001b[1;32m     37\u001b[0m     \u001b[0;32mreturn\u001b[0m \u001b[0mdf\u001b[0m\u001b[0;34m\u001b[0m\u001b[0;34m\u001b[0m\u001b[0m\n\u001b[1;32m     38\u001b[0m \u001b[0;34m\u001b[0m\u001b[0m\n",
      "\u001b[0;32m/usr/local/anaconda3/lib/python3.7/site-packages/pandas/core/frame.py\u001b[0m in \u001b[0;36m__getitem__\u001b[0;34m(self, key)\u001b[0m\n\u001b[1;32m   2932\u001b[0m                 \u001b[0mkey\u001b[0m \u001b[0;34m=\u001b[0m \u001b[0mlist\u001b[0m\u001b[0;34m(\u001b[0m\u001b[0mkey\u001b[0m\u001b[0;34m)\u001b[0m\u001b[0;34m\u001b[0m\u001b[0;34m\u001b[0m\u001b[0m\n\u001b[1;32m   2933\u001b[0m             indexer = self.loc._convert_to_indexer(key, axis=1,\n\u001b[0;32m-> 2934\u001b[0;31m                                                    raise_missing=True)\n\u001b[0m\u001b[1;32m   2935\u001b[0m \u001b[0;34m\u001b[0m\u001b[0m\n\u001b[1;32m   2936\u001b[0m         \u001b[0;31m# take() does not accept boolean indexers\u001b[0m\u001b[0;34m\u001b[0m\u001b[0;34m\u001b[0m\u001b[0;34m\u001b[0m\u001b[0m\n",
      "\u001b[0;32m/usr/local/anaconda3/lib/python3.7/site-packages/pandas/core/indexing.py\u001b[0m in \u001b[0;36m_convert_to_indexer\u001b[0;34m(self, obj, axis, is_setter, raise_missing)\u001b[0m\n\u001b[1;32m   1352\u001b[0m                 kwargs = {'raise_missing': True if is_setter else\n\u001b[1;32m   1353\u001b[0m                           raise_missing}\n\u001b[0;32m-> 1354\u001b[0;31m                 \u001b[0;32mreturn\u001b[0m \u001b[0mself\u001b[0m\u001b[0;34m.\u001b[0m\u001b[0m_get_listlike_indexer\u001b[0m\u001b[0;34m(\u001b[0m\u001b[0mobj\u001b[0m\u001b[0;34m,\u001b[0m \u001b[0maxis\u001b[0m\u001b[0;34m,\u001b[0m \u001b[0;34m**\u001b[0m\u001b[0mkwargs\u001b[0m\u001b[0;34m)\u001b[0m\u001b[0;34m[\u001b[0m\u001b[0;36m1\u001b[0m\u001b[0;34m]\u001b[0m\u001b[0;34m\u001b[0m\u001b[0;34m\u001b[0m\u001b[0m\n\u001b[0m\u001b[1;32m   1355\u001b[0m         \u001b[0;32melse\u001b[0m\u001b[0;34m:\u001b[0m\u001b[0;34m\u001b[0m\u001b[0;34m\u001b[0m\u001b[0m\n\u001b[1;32m   1356\u001b[0m             \u001b[0;32mtry\u001b[0m\u001b[0;34m:\u001b[0m\u001b[0;34m\u001b[0m\u001b[0;34m\u001b[0m\u001b[0m\n",
      "\u001b[0;32m/usr/local/anaconda3/lib/python3.7/site-packages/pandas/core/indexing.py\u001b[0m in \u001b[0;36m_get_listlike_indexer\u001b[0;34m(self, key, axis, raise_missing)\u001b[0m\n\u001b[1;32m   1159\u001b[0m         self._validate_read_indexer(keyarr, indexer,\n\u001b[1;32m   1160\u001b[0m                                     \u001b[0mo\u001b[0m\u001b[0;34m.\u001b[0m\u001b[0m_get_axis_number\u001b[0m\u001b[0;34m(\u001b[0m\u001b[0maxis\u001b[0m\u001b[0;34m)\u001b[0m\u001b[0;34m,\u001b[0m\u001b[0;34m\u001b[0m\u001b[0;34m\u001b[0m\u001b[0m\n\u001b[0;32m-> 1161\u001b[0;31m                                     raise_missing=raise_missing)\n\u001b[0m\u001b[1;32m   1162\u001b[0m         \u001b[0;32mreturn\u001b[0m \u001b[0mkeyarr\u001b[0m\u001b[0;34m,\u001b[0m \u001b[0mindexer\u001b[0m\u001b[0;34m\u001b[0m\u001b[0;34m\u001b[0m\u001b[0m\n\u001b[1;32m   1163\u001b[0m \u001b[0;34m\u001b[0m\u001b[0m\n",
      "\u001b[0;32m/usr/local/anaconda3/lib/python3.7/site-packages/pandas/core/indexing.py\u001b[0m in \u001b[0;36m_validate_read_indexer\u001b[0;34m(self, key, indexer, axis, raise_missing)\u001b[0m\n\u001b[1;32m   1250\u001b[0m             \u001b[0;32mif\u001b[0m \u001b[0;32mnot\u001b[0m\u001b[0;34m(\u001b[0m\u001b[0mself\u001b[0m\u001b[0;34m.\u001b[0m\u001b[0mname\u001b[0m \u001b[0;34m==\u001b[0m \u001b[0;34m'loc'\u001b[0m \u001b[0;32mand\u001b[0m \u001b[0;32mnot\u001b[0m \u001b[0mraise_missing\u001b[0m\u001b[0;34m)\u001b[0m\u001b[0;34m:\u001b[0m\u001b[0;34m\u001b[0m\u001b[0;34m\u001b[0m\u001b[0m\n\u001b[1;32m   1251\u001b[0m                 \u001b[0mnot_found\u001b[0m \u001b[0;34m=\u001b[0m \u001b[0mlist\u001b[0m\u001b[0;34m(\u001b[0m\u001b[0mset\u001b[0m\u001b[0;34m(\u001b[0m\u001b[0mkey\u001b[0m\u001b[0;34m)\u001b[0m \u001b[0;34m-\u001b[0m \u001b[0mset\u001b[0m\u001b[0;34m(\u001b[0m\u001b[0max\u001b[0m\u001b[0;34m)\u001b[0m\u001b[0;34m)\u001b[0m\u001b[0;34m\u001b[0m\u001b[0;34m\u001b[0m\u001b[0m\n\u001b[0;32m-> 1252\u001b[0;31m                 \u001b[0;32mraise\u001b[0m \u001b[0mKeyError\u001b[0m\u001b[0;34m(\u001b[0m\u001b[0;34m\"{} not in index\"\u001b[0m\u001b[0;34m.\u001b[0m\u001b[0mformat\u001b[0m\u001b[0;34m(\u001b[0m\u001b[0mnot_found\u001b[0m\u001b[0;34m)\u001b[0m\u001b[0;34m)\u001b[0m\u001b[0;34m\u001b[0m\u001b[0;34m\u001b[0m\u001b[0m\n\u001b[0m\u001b[1;32m   1253\u001b[0m \u001b[0;34m\u001b[0m\u001b[0m\n\u001b[1;32m   1254\u001b[0m             \u001b[0;31m# we skip the warning on Categorical/Interval\u001b[0m\u001b[0;34m\u001b[0m\u001b[0;34m\u001b[0m\u001b[0;34m\u001b[0m\u001b[0m\n",
      "\u001b[0;31mKeyError\u001b[0m: \"['county', 'transactiondate', 'propertycountylandusecode', 'regionidcounty', 'regionidzip'] not in index\""
     ]
    }
   ],
   "source": [
    "df = prepare.numeric_to_category(df, cols)"
   ]
  },
  {
   "cell_type": "code",
   "execution_count": null,
   "metadata": {},
   "outputs": [],
   "source": [
    "df.dtypes"
   ]
  },
  {
   "cell_type": "markdown",
   "metadata": {},
   "source": [
    "- Scale latitude and longitude, so they are not such large numbers for baseline models."
   ]
  },
  {
   "cell_type": "code",
   "execution_count": null,
   "metadata": {},
   "outputs": [],
   "source": [
    "df.latitude = df.latitude / 1_000_000 "
   ]
  },
  {
   "cell_type": "code",
   "execution_count": null,
   "metadata": {},
   "outputs": [],
   "source": [
    "df.longitude = df.longitude / 1_000_000 "
   ]
  },
  {
   "cell_type": "code",
   "execution_count": null,
   "metadata": {},
   "outputs": [],
   "source": [
    "df.shape"
   ]
  },
  {
   "cell_type": "markdown",
   "metadata": {},
   "source": [
    "- Remove outliers using Q1 - IQR * 3 and Q3 + IQR * 3"
   ]
  },
  {
   "cell_type": "code",
   "execution_count": null,
   "metadata": {},
   "outputs": [],
   "source": [
    "df = prepare.remove_outliers_iqr(df, columns=[\"bedroomcnt\", \"bathroomcnt\"])\n",
    "df.shape"
   ]
  },
  {
   "cell_type": "markdown",
   "metadata": {},
   "source": [
    "### Split df into train, test - Whole df"
   ]
  },
  {
   "cell_type": "code",
   "execution_count": 21,
   "metadata": {},
   "outputs": [],
   "source": [
    "train, test = train_test_split(df, test_size=.30, random_state=123)"
   ]
  },
  {
   "cell_type": "code",
   "execution_count": 22,
   "metadata": {},
   "outputs": [
    {
     "data": {
      "text/plain": [
       "(36239, 15)"
      ]
     },
     "execution_count": 22,
     "metadata": {},
     "output_type": "execute_result"
    }
   ],
   "source": [
    "train.shape"
   ]
  },
  {
   "cell_type": "code",
   "execution_count": 23,
   "metadata": {},
   "outputs": [
    {
     "data": {
      "text/html": [
       "<div>\n",
       "<style scoped>\n",
       "    .dataframe tbody tr th:only-of-type {\n",
       "        vertical-align: middle;\n",
       "    }\n",
       "\n",
       "    .dataframe tbody tr th {\n",
       "        vertical-align: top;\n",
       "    }\n",
       "\n",
       "    .dataframe thead th {\n",
       "        text-align: right;\n",
       "    }\n",
       "</style>\n",
       "<table border=\"1\" class=\"dataframe\">\n",
       "  <thead>\n",
       "    <tr style=\"text-align: right;\">\n",
       "      <th></th>\n",
       "      <th>count</th>\n",
       "      <th>mean</th>\n",
       "      <th>std</th>\n",
       "      <th>min</th>\n",
       "      <th>25%</th>\n",
       "      <th>50%</th>\n",
       "      <th>75%</th>\n",
       "      <th>max</th>\n",
       "    </tr>\n",
       "  </thead>\n",
       "  <tbody>\n",
       "    <tr>\n",
       "      <th>Unnamed: 0</th>\n",
       "      <td>36,239.00</td>\n",
       "      <td>25,995.12</td>\n",
       "      <td>15,110.09</td>\n",
       "      <td>0.00</td>\n",
       "      <td>12,880.50</td>\n",
       "      <td>25,958.00</td>\n",
       "      <td>39,086.00</td>\n",
       "      <td>52,167.00</td>\n",
       "    </tr>\n",
       "    <tr>\n",
       "      <th>tax_rate</th>\n",
       "      <td>36,239.00</td>\n",
       "      <td>0.01</td>\n",
       "      <td>0.01</td>\n",
       "      <td>0.00</td>\n",
       "      <td>0.01</td>\n",
       "      <td>0.01</td>\n",
       "      <td>0.01</td>\n",
       "      <td>0.49</td>\n",
       "    </tr>\n",
       "    <tr>\n",
       "      <th>bathroomcnt</th>\n",
       "      <td>36,239.00</td>\n",
       "      <td>2.30</td>\n",
       "      <td>1.01</td>\n",
       "      <td>1.00</td>\n",
       "      <td>2.00</td>\n",
       "      <td>2.00</td>\n",
       "      <td>3.00</td>\n",
       "      <td>13.00</td>\n",
       "    </tr>\n",
       "    <tr>\n",
       "      <th>bedroomcnt</th>\n",
       "      <td>36,239.00</td>\n",
       "      <td>3.31</td>\n",
       "      <td>0.93</td>\n",
       "      <td>1.00</td>\n",
       "      <td>3.00</td>\n",
       "      <td>3.00</td>\n",
       "      <td>4.00</td>\n",
       "      <td>10.00</td>\n",
       "    </tr>\n",
       "    <tr>\n",
       "      <th>calculatedfinishedsquarefeet</th>\n",
       "      <td>36,239.00</td>\n",
       "      <td>1,917.80</td>\n",
       "      <td>994.61</td>\n",
       "      <td>152.00</td>\n",
       "      <td>1,268.00</td>\n",
       "      <td>1,656.00</td>\n",
       "      <td>2,296.00</td>\n",
       "      <td>20,612.00</td>\n",
       "    </tr>\n",
       "    <tr>\n",
       "      <th>fips</th>\n",
       "      <td>36,239.00</td>\n",
       "      <td>6,049.17</td>\n",
       "      <td>21.03</td>\n",
       "      <td>6,037.00</td>\n",
       "      <td>6,037.00</td>\n",
       "      <td>6,037.00</td>\n",
       "      <td>6,059.00</td>\n",
       "      <td>6,111.00</td>\n",
       "    </tr>\n",
       "    <tr>\n",
       "      <th>latitude</th>\n",
       "      <td>36,239.00</td>\n",
       "      <td>34,021,346.21</td>\n",
       "      <td>273,647.36</td>\n",
       "      <td>33,341,224.00</td>\n",
       "      <td>33,826,144.50</td>\n",
       "      <td>34,022,742.00</td>\n",
       "      <td>34,186,598.00</td>\n",
       "      <td>34,818,767.00</td>\n",
       "    </tr>\n",
       "    <tr>\n",
       "      <th>longitude</th>\n",
       "      <td>36,239.00</td>\n",
       "      <td>-118,193,247.54</td>\n",
       "      <td>356,115.45</td>\n",
       "      <td>-119,475,416.00</td>\n",
       "      <td>-118,400,296.50</td>\n",
       "      <td>-118,152,731.00</td>\n",
       "      <td>-117,929,795.00</td>\n",
       "      <td>-117,554,636.00</td>\n",
       "    </tr>\n",
       "    <tr>\n",
       "      <th>lotsizesquarefeet</th>\n",
       "      <td>36,239.00</td>\n",
       "      <td>11,128.43</td>\n",
       "      <td>86,789.47</td>\n",
       "      <td>236.00</td>\n",
       "      <td>5,566.50</td>\n",
       "      <td>6,822.00</td>\n",
       "      <td>8,750.00</td>\n",
       "      <td>6,971,010.00</td>\n",
       "    </tr>\n",
       "    <tr>\n",
       "      <th>taxvaluedollarcnt</th>\n",
       "      <td>36,239.00</td>\n",
       "      <td>528,439.64</td>\n",
       "      <td>735,844.11</td>\n",
       "      <td>3,254.00</td>\n",
       "      <td>193,163.00</td>\n",
       "      <td>373,000.00</td>\n",
       "      <td>618,535.00</td>\n",
       "      <td>25,381,250.00</td>\n",
       "    </tr>\n",
       "    <tr>\n",
       "      <th>yearbuilt</th>\n",
       "      <td>36,239.00</td>\n",
       "      <td>1,963.27</td>\n",
       "      <td>22.90</td>\n",
       "      <td>1,880.00</td>\n",
       "      <td>1,950.00</td>\n",
       "      <td>1,960.00</td>\n",
       "      <td>1,979.00</td>\n",
       "      <td>2,016.00</td>\n",
       "    </tr>\n",
       "    <tr>\n",
       "      <th>landtaxvaluedollarcnt</th>\n",
       "      <td>36,239.00</td>\n",
       "      <td>332,942.54</td>\n",
       "      <td>540,742.25</td>\n",
       "      <td>161.00</td>\n",
       "      <td>75,279.50</td>\n",
       "      <td>218,800.00</td>\n",
       "      <td>409,786.50</td>\n",
       "      <td>22,335,500.00</td>\n",
       "    </tr>\n",
       "    <tr>\n",
       "      <th>logerror</th>\n",
       "      <td>36,239.00</td>\n",
       "      <td>0.02</td>\n",
       "      <td>0.17</td>\n",
       "      <td>-4.66</td>\n",
       "      <td>-0.02</td>\n",
       "      <td>0.01</td>\n",
       "      <td>0.04</td>\n",
       "      <td>5.26</td>\n",
       "    </tr>\n",
       "    <tr>\n",
       "      <th>transactions</th>\n",
       "      <td>36,239.00</td>\n",
       "      <td>1.00</td>\n",
       "      <td>0.05</td>\n",
       "      <td>1.00</td>\n",
       "      <td>1.00</td>\n",
       "      <td>1.00</td>\n",
       "      <td>1.00</td>\n",
       "      <td>2.00</td>\n",
       "    </tr>\n",
       "  </tbody>\n",
       "</table>\n",
       "</div>"
      ],
      "text/plain": [
       "                                            count                 mean  \\\n",
       "Unnamed: 0                              36,239.00            25,995.12   \n",
       "tax_rate                                36,239.00                 0.01   \n",
       "bathroomcnt                             36,239.00                 2.30   \n",
       "bedroomcnt                              36,239.00                 3.31   \n",
       "calculatedfinishedsquarefeet            36,239.00             1,917.80   \n",
       "fips                                    36,239.00             6,049.17   \n",
       "latitude                                36,239.00        34,021,346.21   \n",
       "longitude                               36,239.00      -118,193,247.54   \n",
       "lotsizesquarefeet                       36,239.00            11,128.43   \n",
       "taxvaluedollarcnt                       36,239.00           528,439.64   \n",
       "yearbuilt                               36,239.00             1,963.27   \n",
       "landtaxvaluedollarcnt                   36,239.00           332,942.54   \n",
       "logerror                                36,239.00                 0.02   \n",
       "transactions                            36,239.00                 1.00   \n",
       "\n",
       "                                              std                  min  \\\n",
       "Unnamed: 0                              15,110.09                 0.00   \n",
       "tax_rate                                     0.01                 0.00   \n",
       "bathroomcnt                                  1.01                 1.00   \n",
       "bedroomcnt                                   0.93                 1.00   \n",
       "calculatedfinishedsquarefeet               994.61               152.00   \n",
       "fips                                        21.03             6,037.00   \n",
       "latitude                               273,647.36        33,341,224.00   \n",
       "longitude                              356,115.45      -119,475,416.00   \n",
       "lotsizesquarefeet                       86,789.47               236.00   \n",
       "taxvaluedollarcnt                      735,844.11             3,254.00   \n",
       "yearbuilt                                   22.90             1,880.00   \n",
       "landtaxvaluedollarcnt                  540,742.25               161.00   \n",
       "logerror                                     0.17                -4.66   \n",
       "transactions                                 0.05                 1.00   \n",
       "\n",
       "                                              25%                  50%  \\\n",
       "Unnamed: 0                              12,880.50            25,958.00   \n",
       "tax_rate                                     0.01                 0.01   \n",
       "bathroomcnt                                  2.00                 2.00   \n",
       "bedroomcnt                                   3.00                 3.00   \n",
       "calculatedfinishedsquarefeet             1,268.00             1,656.00   \n",
       "fips                                     6,037.00             6,037.00   \n",
       "latitude                            33,826,144.50        34,022,742.00   \n",
       "longitude                         -118,400,296.50      -118,152,731.00   \n",
       "lotsizesquarefeet                        5,566.50             6,822.00   \n",
       "taxvaluedollarcnt                      193,163.00           373,000.00   \n",
       "yearbuilt                                1,950.00             1,960.00   \n",
       "landtaxvaluedollarcnt                   75,279.50           218,800.00   \n",
       "logerror                                    -0.02                 0.01   \n",
       "transactions                                 1.00                 1.00   \n",
       "\n",
       "                                              75%                  max  \n",
       "Unnamed: 0                              39,086.00            52,167.00  \n",
       "tax_rate                                     0.01                 0.49  \n",
       "bathroomcnt                                  3.00                13.00  \n",
       "bedroomcnt                                   4.00                10.00  \n",
       "calculatedfinishedsquarefeet             2,296.00            20,612.00  \n",
       "fips                                     6,059.00             6,111.00  \n",
       "latitude                            34,186,598.00        34,818,767.00  \n",
       "longitude                         -117,929,795.00      -117,554,636.00  \n",
       "lotsizesquarefeet                        8,750.00         6,971,010.00  \n",
       "taxvaluedollarcnt                      618,535.00        25,381,250.00  \n",
       "yearbuilt                                1,979.00             2,016.00  \n",
       "landtaxvaluedollarcnt                  409,786.50        22,335,500.00  \n",
       "logerror                                     0.04                 5.26  \n",
       "transactions                                 1.00                 2.00  "
      ]
     },
     "execution_count": 23,
     "metadata": {},
     "output_type": "execute_result"
    }
   ],
   "source": [
    "train.describe().T"
   ]
  },
  {
   "cell_type": "markdown",
   "metadata": {},
   "source": [
    "- Create x and y variables for whole df train and test to prepare to model"
   ]
  },
  {
   "cell_type": "code",
   "execution_count": 24,
   "metadata": {},
   "outputs": [],
   "source": [
    "X_train = train.drop(columns=\"logerror\")"
   ]
  },
  {
   "cell_type": "code",
   "execution_count": 25,
   "metadata": {},
   "outputs": [],
   "source": [
    "y_train = train[[\"logerror\"]]"
   ]
  },
  {
   "cell_type": "code",
   "execution_count": 26,
   "metadata": {},
   "outputs": [],
   "source": [
    "X_test = test.drop(columns=\"logerror\")"
   ]
  },
  {
   "cell_type": "code",
   "execution_count": 27,
   "metadata": {},
   "outputs": [],
   "source": [
    "y_test = test[[\"logerror\"]]"
   ]
  },
  {
   "cell_type": "markdown",
   "metadata": {},
   "source": [
    "- Create a train and test df that is numeric dtypes only for modeling and correlation exploration."
   ]
  },
  {
   "cell_type": "code",
   "execution_count": 28,
   "metadata": {},
   "outputs": [],
   "source": [
    "nums_train = train.select_dtypes(exclude=\"category\")"
   ]
  },
  {
   "cell_type": "code",
   "execution_count": 29,
   "metadata": {},
   "outputs": [],
   "source": [
    "nums_test = test.select_dtypes(exclude=\"category\")"
   ]
  },
  {
   "cell_type": "code",
   "execution_count": 30,
   "metadata": {},
   "outputs": [
    {
     "data": {
      "text/plain": [
       "(36239, 15)"
      ]
     },
     "execution_count": 30,
     "metadata": {},
     "output_type": "execute_result"
    }
   ],
   "source": [
    "nums_train.shape"
   ]
  },
  {
   "cell_type": "code",
   "execution_count": 31,
   "metadata": {},
   "outputs": [
    {
     "name": "stdout",
     "output_type": "stream",
     "text": [
      "<class 'pandas.core.frame.DataFrame'>\n",
      "Int64Index: 36239 entries, 35698 to 15849\n",
      "Data columns (total 15 columns):\n",
      "Unnamed: 0                      36239 non-null int64\n",
      "tax_rate                        36239 non-null float64\n",
      "bathroomcnt                     36239 non-null float64\n",
      "bedroomcnt                      36239 non-null float64\n",
      "calculatedfinishedsquarefeet    36239 non-null float64\n",
      "fips                            36239 non-null float64\n",
      "latitude                        36239 non-null float64\n",
      "longitude                       36239 non-null float64\n",
      "lotsizesquarefeet               36239 non-null float64\n",
      "taxvaluedollarcnt               36239 non-null float64\n",
      "yearbuilt                       36239 non-null float64\n",
      "landtaxvaluedollarcnt           36239 non-null float64\n",
      "logerror                        36239 non-null float64\n",
      "transactions                    36239 non-null int64\n",
      "county_name                     36239 non-null object\n",
      "dtypes: float64(12), int64(2), object(1)\n",
      "memory usage: 4.4+ MB\n"
     ]
    }
   ],
   "source": [
    "nums_train.info()"
   ]
  },
  {
   "cell_type": "markdown",
   "metadata": {},
   "source": [
    "- Create x and y variables for numeric df train and test to prepare to model"
   ]
  },
  {
   "cell_type": "code",
   "execution_count": null,
   "metadata": {},
   "outputs": [],
   "source": [
    "X_nums_train = nums_train.drop(columns=\"logerror\")"
   ]
  },
  {
   "cell_type": "code",
   "execution_count": null,
   "metadata": {},
   "outputs": [],
   "source": [
    "y_nums_train = nums_train[[\"logerror\"]]"
   ]
  },
  {
   "cell_type": "code",
   "execution_count": null,
   "metadata": {},
   "outputs": [],
   "source": [
    "X_nums_test = nums_test.drop(columns=\"logerror\")"
   ]
  },
  {
   "cell_type": "code",
   "execution_count": null,
   "metadata": {},
   "outputs": [],
   "source": [
    "y_nums_test = nums_test[[\"logerror\"]]"
   ]
  },
  {
   "cell_type": "code",
   "execution_count": null,
   "metadata": {},
   "outputs": [],
   "source": [
    "X_nums_train.head().T"
   ]
  },
  {
   "cell_type": "code",
   "execution_count": null,
   "metadata": {},
   "outputs": [],
   "source": [
    "X_nums_train.corr()"
   ]
  },
  {
   "cell_type": "code",
   "execution_count": null,
   "metadata": {},
   "outputs": [],
   "source": [
    "plt.figure(figsize=(14,8))\n",
    "sns.heatmap(X_nums_train.corr(), annot=True)"
   ]
  },
  {
   "cell_type": "code",
   "execution_count": null,
   "metadata": {},
   "outputs": [],
   "source": [
    "sns.boxplot(X_nums_train.bedroomcnt, X_nums_train.calculatedfinishedsquarefeet)"
   ]
  },
  {
   "cell_type": "code",
   "execution_count": null,
   "metadata": {},
   "outputs": [],
   "source": [
    "sns.boxplot(X_nums_train.bathroomcnt, X_nums_train.calculatedfinishedsquarefeet)"
   ]
  },
  {
   "cell_type": "code",
   "execution_count": null,
   "metadata": {},
   "outputs": [],
   "source": [
    "sns.lmplot(data=X_nums_train, y=\"calculatedfinishedsquarefeet\", X=\"bedroomcnt\")"
   ]
  },
  {
   "cell_type": "code",
   "execution_count": null,
   "metadata": {},
   "outputs": [],
   "source": [
    "y_nums_train.head().T"
   ]
  },
  {
   "cell_type": "markdown",
   "metadata": {},
   "source": [
    "### Model df - Linear Regression Model"
   ]
  },
  {
   "cell_type": "code",
   "execution_count": null,
   "metadata": {},
   "outputs": [],
   "source": [
    "# create the LR object\n",
    "\n",
    "lm1 = LinearRegression()\n",
    "print(lm1)"
   ]
  },
  {
   "cell_type": "code",
   "execution_count": null,
   "metadata": {},
   "outputs": [],
   "source": [
    "# fit/train the model\n",
    "\n",
    "model = lm1.fit(X_nums_train, y_nums_train)"
   ]
  },
  {
   "cell_type": "code",
   "execution_count": null,
   "metadata": {},
   "outputs": [],
   "source": [
    "# create yhat variable, numpy array, in-sample prediction values\n",
    "\n",
    "yhat = model.predict(X_nums_train)\n",
    "type(yhat)\n",
    "yhat"
   ]
  },
  {
   "cell_type": "code",
   "execution_count": null,
   "metadata": {
    "scrolled": true
   },
   "outputs": [],
   "source": [
    "# create df, actual in-sample target values\n",
    "\n",
    "actual = y_nums_train\n",
    "type(actual)\n",
    "actual"
   ]
  },
  {
   "cell_type": "markdown",
   "metadata": {},
   "source": [
    "- add yhat as a column to actual predictions df"
   ]
  },
  {
   "cell_type": "code",
   "execution_count": null,
   "metadata": {},
   "outputs": [],
   "source": [
    "actual['yhat'] = yhat"
   ]
  },
  {
   "cell_type": "markdown",
   "metadata": {},
   "source": [
    "### Evaluate LR Model"
   ]
  },
  {
   "cell_type": "code",
   "execution_count": null,
   "metadata": {},
   "outputs": [],
   "source": [
    "actual.describe()"
   ]
  },
  {
   "cell_type": "code",
   "execution_count": null,
   "metadata": {},
   "outputs": [],
   "source": [
    "actual[\"residual\"] = actual[\"yhat\"] - actual[\"logerror\"]"
   ]
  },
  {
   "cell_type": "code",
   "execution_count": null,
   "metadata": {},
   "outputs": [],
   "source": [
    "sns.distplot(actual[\"residual\"])"
   ]
  },
  {
   "cell_type": "code",
   "execution_count": null,
   "metadata": {},
   "outputs": [],
   "source": [
    "sns.scatterplot(actual[\"logerror\"], actual[\"yhat\"])"
   ]
  },
  {
   "cell_type": "code",
   "execution_count": null,
   "metadata": {},
   "outputs": [],
   "source": [
    "actual[\"residual^2\"] = actual[\"residual\"] ** 2"
   ]
  },
  {
   "cell_type": "code",
   "execution_count": null,
   "metadata": {},
   "outputs": [],
   "source": [
    "actual.head()"
   ]
  },
  {
   "cell_type": "code",
   "execution_count": null,
   "metadata": {},
   "outputs": [],
   "source": [
    "sse = sum(actual[\"residual^2\"])\n",
    "print(f\"sse = {sse}\")\n",
    "mse = sse / len(actual)\n",
    "print(f\"mse = {mse}\")\n",
    "rmse = sqrt(mse)\n",
    "print(f\"rmse = {rmse}\")"
   ]
  },
  {
   "cell_type": "code",
   "execution_count": null,
   "metadata": {},
   "outputs": [],
   "source": [
    "df_eval = pd.DataFrame(np.array([\"SSE\", \"MSE\", \"RMSE\"]), columns=[\"metric\"])\n",
    "df_eval[\"model_error\"] = np.array([sse, mse, rmse])\n",
    "df_eval"
   ]
  },
  {
   "cell_type": "markdown",
   "metadata": {},
   "source": [
    "- Create a numpy array from the y_df_nums_train df, so I can run eval metrics using yhat(prediction array) and y_array (array of actual y values)"
   ]
  },
  {
   "cell_type": "code",
   "execution_count": null,
   "metadata": {},
   "outputs": [],
   "source": [
    "y_array = np.array(y_nums_train)\n",
    "type(y_array)"
   ]
  },
  {
   "cell_type": "code",
   "execution_count": null,
   "metadata": {},
   "outputs": [],
   "source": [
    "r2_score(actual.logerror, actual.yhat)"
   ]
  },
  {
   "cell_type": "code",
   "execution_count": null,
   "metadata": {},
   "outputs": [],
   "source": [
    "mse_lm1 = mean_squared_error(actual.logerror, actual.yhat)\n",
    "print(\"linear model\\n  mean squared error: {:.3}\".format(mse_lm1)) \n",
    "\n",
    "r2_lm1 = r2_score(actual.logerror, actual.yhat)\n",
    "print('  {:.2%} of the variance in the logerror can be explained by variables.'.format(r2_lm1))"
   ]
  },
  {
   "cell_type": "markdown",
   "metadata": {},
   "source": [
    "### Takeaways from the Linear Regression Model:\n",
    "\n",
    "- Based on the results above I fail to reject the Null Hypothesis that the numeric values alone can predict the logerror.\n",
    "\n",
    "- Using a Linear Regression model to predict the logerror may not be the best choice.\n",
    "\n",
    "- Finding a way to include categorical variables in a model may help predict logerror."
   ]
  },
  {
   "cell_type": "markdown",
   "metadata": {},
   "source": [
    "### Model df KNeighbors Regressor"
   ]
  },
  {
   "cell_type": "code",
   "execution_count": null,
   "metadata": {},
   "outputs": [],
   "source": [
    "# create the object\n",
    "neigh = KNeighborsRegressor(n_neighbors=2)"
   ]
  },
  {
   "cell_type": "code",
   "execution_count": null,
   "metadata": {},
   "outputs": [],
   "source": [
    "# fit/train the model using train \n",
    "neigh.fit(X_nums_train, y_nums_train)"
   ]
  },
  {
   "cell_type": "code",
   "execution_count": null,
   "metadata": {},
   "outputs": [],
   "source": [
    "yhat = neigh.predict(X_nums_train)\n",
    "type(yhat)"
   ]
  },
  {
   "cell_type": "code",
   "execution_count": null,
   "metadata": {},
   "outputs": [],
   "source": [
    "r2 = neigh.score(X_nums_train, y_nums_train)"
   ]
  },
  {
   "cell_type": "code",
   "execution_count": null,
   "metadata": {},
   "outputs": [],
   "source": [
    "print('  {:.2%} of the variance in the logerror can be explained by variables.'.format(r2))"
   ]
  },
  {
   "cell_type": "markdown",
   "metadata": {},
   "source": [
    "### Takeaways from KNRegressor Model\n",
    "\n",
    "- This model explained more than 50% more of the variance in logerror than my LR model using exactly the same data.\n",
    "\n",
    "- The subset of data I used was comprised of the numeric values only from the original dataframe.\n",
    "\n",
    "- I think this model could do even better with outliers handled and some feature engineering."
   ]
  }
 ],
 "metadata": {
  "kernelspec": {
   "display_name": "Python 3",
   "language": "python",
   "name": "python3"
  },
  "language_info": {
   "codemirror_mode": {
    "name": "ipython",
    "version": 3
   },
   "file_extension": ".py",
   "mimetype": "text/x-python",
   "name": "python",
   "nbconvert_exporter": "python",
   "pygments_lexer": "ipython3",
   "version": "3.7.3"
  }
 },
 "nbformat": 4,
 "nbformat_minor": 2
}
