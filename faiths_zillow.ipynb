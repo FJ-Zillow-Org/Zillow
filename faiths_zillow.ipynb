{
 "cells": [
  {
   "cell_type": "code",
   "execution_count": 1,
   "metadata": {},
   "outputs": [],
   "source": [
    "# ignore warnings\n",
    "import warnings\n",
    "warnings.filterwarnings(\"ignore\")\n",
    "\n",
    "# wrangling\n",
    "import pandas as pd\n",
    "import numpy as np\n",
    "\n",
    "# preparing\n",
    "from sklearn.model_selection import train_test_split\n",
    "\n",
    "# visualizing\n",
    "%matplotlib inline\n",
    "import matplotlib.pyplot as plt\n",
    "import seaborn as sns\n",
    "\n",
    "# exploring\n",
    "import scipy.stats as stats\n",
    "import pandas_profiling\n",
    "\n",
    "# modeling\n",
    "from sklearn.cluster import KMeans\n",
    "from sklearn.preprocessing import LabelEncoder, OneHotEncoder\n",
    "from sklearn.linear_model import LinearRegression\n",
    "from statsmodels.formula.api import ols\n",
    "from sklearn.metrics import mean_squared_error, r2_score, explained_variance_score\n",
    "from sklearn.feature_selection import f_regression\n",
    "from math import sqrt\n",
    "\n",
    "# 3D projection\n",
    "from mpl_toolkits.mplot3d import Axes3D\n",
    "\n",
    "pd.options.display.float_format = '{:20,.2f}'.format\n",
    "\n",
    "# my modules\n",
    "import acquire\n",
    "import summarize\n",
    "import prepare\n",
    "\n",
    "# default pandas decimal number display format\n",
    "pd.options.display.float_format = '{:20,.2f}'.format"
   ]
  },
  {
   "cell_type": "markdown",
   "metadata": {},
   "source": [
    "### Acquire df\n",
    "\n",
    "- Query brought in 52,169"
   ]
  },
  {
   "cell_type": "code",
   "execution_count": 2,
   "metadata": {},
   "outputs": [],
   "source": [
    "df = acquire.get_zillow_data()"
   ]
  },
  {
   "cell_type": "code",
   "execution_count": 3,
   "metadata": {},
   "outputs": [
    {
     "data": {
      "text/plain": [
       "(52169, 72)"
      ]
     },
     "execution_count": 3,
     "metadata": {},
     "output_type": "execute_result"
    }
   ],
   "source": [
    "df.shape"
   ]
  },
  {
   "cell_type": "markdown",
   "metadata": {},
   "source": [
    "- $H_0$: The Null Hypothesis is that the numeric values from the Zillow data do not predict the logerror."
   ]
  },
  {
   "cell_type": "markdown",
   "metadata": {},
   "source": [
    "- $H_a$: The Null Hypothesis is that the numeric values from the Zillow data do not predict the logerror."
   ]
  },
  {
   "cell_type": "markdown",
   "metadata": {},
   "source": [
    "### Summarize df"
   ]
  },
  {
   "cell_type": "code",
   "execution_count": 5,
   "metadata": {},
   "outputs": [
    {
     "name": "stdout",
     "output_type": "stream",
     "text": [
      "--- Shape: (52169, 72)\n",
      "--- Info\n",
      "<class 'pandas.core.frame.DataFrame'>\n",
      "RangeIndex: 52169 entries, 0 to 52168\n",
      "Data columns (total 72 columns):\n",
      "county                          52169 non-null object\n",
      "tax_rate                        52164 non-null float64\n",
      "id                              52169 non-null int64\n",
      "parcelid                        52169 non-null int64\n",
      "airconditioningtypeid           13605 non-null float64\n",
      "airconditioningdesc             13605 non-null object\n",
      "architecturalstyletypeid        70 non-null float64\n",
      "architecturalstyledesc          70 non-null object\n",
      "basementsqft                    47 non-null float64\n",
      "bathroomcnt                     52169 non-null float64\n",
      "bedroomcnt                      52169 non-null float64\n",
      "buildingclasstypeid             0 non-null object\n",
      "buildingclassdesc               0 non-null object\n",
      "buildingqualitytypeid           33628 non-null float64\n",
      "calculatedbathnbr               52153 non-null float64\n",
      "calculatedfinishedsquarefeet    52161 non-null float64\n",
      "decktypeid                      387 non-null float64\n",
      "finishedfloor1squarefeet        4354 non-null float64\n",
      "finishedsquarefeet12            52003 non-null float64\n",
      "finishedsquarefeet13            0 non-null object\n",
      "finishedsquarefeet15            0 non-null object\n",
      "finishedsquarefeet50            4354 non-null float64\n",
      "finishedsquarefeet6             158 non-null float64\n",
      "fips                            52169 non-null float64\n",
      "state                           52169 non-null object\n",
      "fireplacecnt                    7221 non-null float64\n",
      "fullbathcnt                     52153 non-null float64\n",
      "garagecarcnt                    17966 non-null float64\n",
      "garagetotalsqft                 17966 non-null float64\n",
      "hashottuborspa                  1514 non-null float64\n",
      "heatingorsystemtypeid           33824 non-null float64\n",
      "heatingorsystemdesc             33824 non-null object\n",
      "latitude                        52169 non-null float64\n",
      "longitude                       52169 non-null float64\n",
      "lotsizesquarefeet               51815 non-null float64\n",
      "poolcnt                         11064 non-null float64\n",
      "poolsizesum                     860 non-null float64\n",
      "pooltypeid10                    443 non-null float64\n",
      "pooltypeid2                     1071 non-null float64\n",
      "pooltypeid7                     9977 non-null float64\n",
      "propertycountylandusecode       52169 non-null object\n",
      "propertylandusetypeid           52169 non-null float64\n",
      "propertylandusedesc             52169 non-null object\n",
      "propertyzoningdesc              33690 non-null object\n",
      "rawcensustractandblock          52169 non-null float64\n",
      "regionidcity                    51141 non-null float64\n",
      "regionidcounty                  52169 non-null float64\n",
      "regionidneighborhood            18928 non-null float64\n",
      "regionidzip                     52146 non-null float64\n",
      "roomcnt                         52169 non-null float64\n",
      "storytypeid                     47 non-null float64\n",
      "storydesc                       47 non-null object\n",
      "taxvaluedollarcnt               52168 non-null float64\n",
      "threequarterbathnbr             6716 non-null float64\n",
      "unitcnt                         33718 non-null float64\n",
      "yardbuildingsqft17              1926 non-null float64\n",
      "yardbuildingsqft26              63 non-null float64\n",
      "yearbuilt                       52129 non-null float64\n",
      "numberofstories                 14506 non-null float64\n",
      "fireplaceflag                   81 non-null float64\n",
      "structuretaxvaluedollarcnt      52097 non-null float64\n",
      "assessmentyear                  52169 non-null float64\n",
      "landtaxvaluedollarcnt           52168 non-null float64\n",
      "taxamount                       52165 non-null float64\n",
      "taxdelinquencyflag              2060 non-null object\n",
      "taxdelinquencyyear              2060 non-null float64\n",
      "typeconstructiontypeid          76 non-null float64\n",
      "typeconstructiondesc            76 non-null object\n",
      "censustractandblock             52057 non-null float64\n",
      "transactiondate                 52169 non-null object\n",
      "logerror                        52169 non-null float64\n",
      "transactions                    52169 non-null int64\n",
      "dtypes: float64(53), int64(3), object(16)\n",
      "memory usage: 28.7+ MB\n",
      "--- Descriptions\n",
      "             county             tax_rate                   id  \\\n",
      "count         52169            52,164.00            52,169.00   \n",
      "unique            3                  nan                  nan   \n",
      "top     Los Angeles                  nan                  nan   \n",
      "freq          33752                  nan                  nan   \n",
      "mean            NaN                 0.01         1,496,932.46   \n",
      "std             NaN                 0.01           859,434.15   \n",
      "min             NaN                 0.00               349.00   \n",
      "25%             NaN                 0.01           757,739.00   \n",
      "50%             NaN                 0.01         1,500,051.00   \n",
      "75%             NaN                 0.01         2,241,574.00   \n",
      "max             NaN                 0.82         2,982,270.00   \n",
      "\n",
      "                   parcelid  airconditioningtypeid airconditioningdesc  \\\n",
      "count             52,169.00              13,605.00               13605   \n",
      "unique                  nan                    nan                   4   \n",
      "top                     nan                    nan             Central   \n",
      "freq                    nan                    nan               11863   \n",
      "mean          12,988,905.58                   2.44                 NaN   \n",
      "std            3,214,148.89                   3.85                 NaN   \n",
      "min           10,711,855.00                   1.00                 NaN   \n",
      "25%           11,508,313.00                   1.00                 NaN   \n",
      "50%           12,577,665.00                   1.00                 NaN   \n",
      "75%           14,128,864.00                   1.00                 NaN   \n",
      "max          167,639,152.00                  13.00                 NaN   \n",
      "\n",
      "        architecturalstyletypeid architecturalstyledesc         basementsqft  \\\n",
      "count                      70.00                     70                47.00   \n",
      "unique                       nan                      5                  nan   \n",
      "top                          nan           Contemporary                  nan   \n",
      "freq                         nan                     62                  nan   \n",
      "mean                        7.10                    NaN               678.98   \n",
      "std                         2.67                    NaN               711.83   \n",
      "min                         2.00                    NaN                38.00   \n",
      "25%                         7.00                    NaN               263.50   \n",
      "50%                         7.00                    NaN               512.00   \n",
      "75%                         7.00                    NaN               809.50   \n",
      "max                        21.00                    NaN             3,560.00   \n",
      "\n",
      "                bathroomcnt  ...  landtaxvaluedollarcnt            taxamount  \\\n",
      "count             52,169.00  ...              52,168.00            52,165.00   \n",
      "unique                  nan  ...                    nan                  nan   \n",
      "top                     nan  ...                    nan                  nan   \n",
      "freq                    nan  ...                    nan                  nan   \n",
      "mean                   2.31  ...             332,650.34             6,437.58   \n",
      "std                    1.02  ...             568,705.24             8,710.54   \n",
      "min                    1.00  ...                 161.00                49.18   \n",
      "25%                    2.00  ...              76,340.75             2,662.54   \n",
      "50%                    2.00  ...             218,079.00             4,650.32   \n",
      "75%                    3.00  ...             408,351.00             7,373.22   \n",
      "max                   18.00  ...          48,952,198.00           586,639.30   \n",
      "\n",
      "        taxdelinquencyflag   taxdelinquencyyear  typeconstructiontypeid  \\\n",
      "count                 2060             2,060.00                   76.00   \n",
      "unique                   1                  nan                     nan   \n",
      "top                      Y                  nan                     nan   \n",
      "freq                  2060                  nan                     nan   \n",
      "mean                   NaN                14.10                    5.97   \n",
      "std                    NaN                 2.40                    0.23   \n",
      "min                    NaN                 4.00                    4.00   \n",
      "25%                    NaN                14.00                    6.00   \n",
      "50%                    NaN                15.00                    6.00   \n",
      "75%                    NaN                15.00                    6.00   \n",
      "max                    NaN                99.00                    6.00   \n",
      "\n",
      "        typeconstructiondesc    censustractandblock  transactiondate  \\\n",
      "count                     76              52,057.00            52169   \n",
      "unique                     2                    nan              258   \n",
      "top                    Frame                    nan       2017-06-30   \n",
      "freq                      75                    nan              806   \n",
      "mean                     NaN  60,502,221,727,973.57              NaN   \n",
      "std                      NaN   1,863,604,693,951.61              NaN   \n",
      "min                      NaN  60,371,011,101,000.00              NaN   \n",
      "25%                      NaN  60,374,012,032,011.00              NaN   \n",
      "50%                      NaN  60,376,202,012,023.00              NaN   \n",
      "75%                      NaN  60,590,423,244,013.00              NaN   \n",
      "max                      NaN 483,030,105,084,015.00              NaN   \n",
      "\n",
      "                   logerror         transactions  \n",
      "count             52,169.00            52,169.00  \n",
      "unique                  nan                  nan  \n",
      "top                     nan                  nan  \n",
      "freq                    nan                  nan  \n",
      "mean                   0.02                 1.00  \n",
      "std                    0.18                 0.05  \n",
      "min                   -4.66                 1.00  \n",
      "25%                   -0.02                 1.00  \n",
      "50%                    0.01                 1.00  \n",
      "75%                    0.04                 1.00  \n",
      "max                    5.26                 3.00  \n",
      "\n",
      "[11 rows x 72 columns]\n",
      "--- Nulls By Column\n",
      "                              num_rows_missing     pct_rows_missing\n",
      "county                                       0                 0.00\n",
      "tax_rate                                     5                 0.00\n",
      "id                                           0                 0.00\n",
      "parcelid                                     0                 0.00\n",
      "airconditioningtypeid                    38564                 0.74\n",
      "airconditioningdesc                      38564                 0.74\n",
      "architecturalstyletypeid                 52099                 1.00\n",
      "architecturalstyledesc                   52099                 1.00\n",
      "basementsqft                             52122                 1.00\n",
      "bathroomcnt                                  0                 0.00\n",
      "bedroomcnt                                   0                 0.00\n",
      "buildingclasstypeid                      52169                 1.00\n",
      "buildingclassdesc                        52169                 1.00\n",
      "buildingqualitytypeid                    18541                 0.36\n",
      "calculatedbathnbr                           16                 0.00\n",
      "calculatedfinishedsquarefeet                 8                 0.00\n",
      "decktypeid                               51782                 0.99\n",
      "finishedfloor1squarefeet                 47815                 0.92\n",
      "finishedsquarefeet12                       166                 0.00\n",
      "finishedsquarefeet13                     52169                 1.00\n",
      "finishedsquarefeet15                     52169                 1.00\n",
      "finishedsquarefeet50                     47815                 0.92\n",
      "finishedsquarefeet6                      52011                 1.00\n",
      "fips                                         0                 0.00\n",
      "state                                        0                 0.00\n",
      "fireplacecnt                             44948                 0.86\n",
      "fullbathcnt                                 16                 0.00\n",
      "garagecarcnt                             34203                 0.66\n",
      "garagetotalsqft                          34203                 0.66\n",
      "hashottuborspa                           50655                 0.97\n",
      "...                                        ...                  ...\n",
      "propertylandusedesc                          0                 0.00\n",
      "propertyzoningdesc                       18479                 0.35\n",
      "rawcensustractandblock                       0                 0.00\n",
      "regionidcity                              1028                 0.02\n",
      "regionidcounty                               0                 0.00\n",
      "regionidneighborhood                     33241                 0.64\n",
      "regionidzip                                 23                 0.00\n",
      "roomcnt                                      0                 0.00\n",
      "storytypeid                              52122                 1.00\n",
      "storydesc                                52122                 1.00\n",
      "taxvaluedollarcnt                            1                 0.00\n",
      "threequarterbathnbr                      45453                 0.87\n",
      "unitcnt                                  18451                 0.35\n",
      "yardbuildingsqft17                       50243                 0.96\n",
      "yardbuildingsqft26                       52106                 1.00\n",
      "yearbuilt                                   40                 0.00\n",
      "numberofstories                          37663                 0.72\n",
      "fireplaceflag                            52088                 1.00\n",
      "structuretaxvaluedollarcnt                  72                 0.00\n",
      "assessmentyear                               0                 0.00\n",
      "landtaxvaluedollarcnt                        1                 0.00\n",
      "taxamount                                    4                 0.00\n",
      "taxdelinquencyflag                       50109                 0.96\n",
      "taxdelinquencyyear                       50109                 0.96\n",
      "typeconstructiontypeid                   52093                 1.00\n",
      "typeconstructiondesc                     52093                 1.00\n",
      "censustractandblock                        112                 0.00\n",
      "transactiondate                              0                 0.00\n",
      "logerror                                     0                 0.00\n",
      "transactions                                 0                 0.00\n",
      "\n",
      "[72 rows x 2 columns]\n",
      "--- Nulls By Row\n"
     ]
    },
    {
     "name": "stdout",
     "output_type": "stream",
     "text": [
      "   num_cols_missing    pct_cols_missing  num_rows\n",
      "0                23  31.944444444444443         2\n",
      "1                24   33.33333333333333        12\n",
      "2                25   34.72222222222222        11\n",
      "3                26   36.11111111111111        30\n",
      "4                27                37.5       177\n",
      "5                28   38.88888888888889       389\n",
      "6                29   40.27777777777778      2527\n",
      "7                30   41.66666666666667      2194\n",
      "8                31   43.05555555555556      5986\n",
      "9                32   44.44444444444444      8880\n",
      "10               33   45.83333333333333     11960\n",
      "11               34   47.22222222222222     11151\n",
      "12               35   48.61111111111111      3459\n",
      "13               36                50.0      4121\n",
      "14               37  51.388888888888886      1016\n",
      "15               38   52.77777777777778       214\n",
      "16               39  54.166666666666664        22\n",
      "17               40   55.55555555555556        13\n",
      "18               41   56.94444444444444         3\n",
      "19               42  58.333333333333336         1\n",
      "20               44  61.111111111111114         1\n",
      "--- Value Counts\n",
      "Los Angeles                         33752\n",
      "Orange                              14061\n",
      "Ventura                              4356\n",
      "(-0.0017230000000000001, 0.0817]    52125\n",
      "(0.0817, 0.163]                        30\n",
      "(0.163, 0.245]                          3\n",
      "(0.245, 0.327]                          2\n",
      "(0.327, 0.408]                          1\n",
      "(0.408, 0.49]                           1\n",
      "(0.49, 0.572]                           1\n",
      "(0.572, 0.653]                          0\n",
      "(0.653, 0.735]                          0\n",
      "(0.735, 0.816]                          1\n",
      "(-2632.922, 298541.1]                5152\n",
      "(298541.1, 596733.2]                 5120\n",
      "(596733.2, 894925.3]                 5123\n",
      "(894925.3, 1193117.4]                5235\n",
      "(1193117.4, 1491309.5]               5306\n",
      "(1491309.5, 1789501.6]               5329\n",
      "(1789501.6, 2087693.7]               5226\n",
      "(2087693.7, 2385885.8]               5167\n",
      "(2385885.8, 2684077.9]               5223\n",
      "(2684077.9, 2982270.0]               5288\n",
      "(10554927.702, 26404584.7]          52152\n",
      "(26404584.7, 42097314.4]                0\n",
      "(42097314.4, 57790044.1]                0\n",
      "(57790044.1, 73482773.8]                0\n",
      "(73482773.8, 89175503.5]                1\n",
      "(89175503.5, 104868233.2]               0\n",
      "(104868233.2, 120560962.9]              0\n",
      "                                    ...  \n",
      "2017-06-03                              1\n",
      "2017-04-08                              1\n",
      "2017-09-10                              1\n",
      "2017-05-20                              1\n",
      "2017-05-07                              1\n",
      "2017-09-17                              1\n",
      "2017-03-25                              1\n",
      "2017-03-12                              1\n",
      "2017-09-25                              1\n",
      "2017-07-08                              1\n",
      "(-4.666, -3.664]                        2\n",
      "(-3.664, -2.672]                        0\n",
      "(-2.672, -1.68]                        26\n",
      "(-1.68, -0.688]                       106\n",
      "(-0.688, 0.304]                     50689\n",
      "(0.304, 1.296]                       1215\n",
      "(1.296, 2.287]                         75\n",
      "(2.287, 3.279]                         54\n",
      "(3.279, 4.271]                          1\n",
      "(4.271, 5.263]                          1\n",
      "(0.997, 1.2]                        52051\n",
      "(1.2, 1.4]                              0\n",
      "(1.4, 1.6]                              0\n",
      "(1.6, 1.8]                              0\n",
      "(1.8, 2.0]                            116\n",
      "(2.0, 2.2]                              0\n",
      "(2.2, 2.4]                              0\n",
      "(2.4, 2.6]                              0\n",
      "(2.6, 2.8]                              0\n",
      "(2.8, 3.0]                              2\n",
      "Length: 2148, dtype: int64\n"
     ]
    }
   ],
   "source": [
    "summarize.df_summary(df)"
   ]
  },
  {
   "cell_type": "markdown",
   "metadata": {},
   "source": [
    "- Here I use a function that takes in a dataframe of observations and attributes and returns a df where each row is an atttribute name, the first column is the number of rows with missing values for that attribute, and the second column is percent of total rows that have missing values for that attribute. Run the function and document takeaways from this on how you want to handle missing values."
   ]
  },
  {
   "cell_type": "code",
   "execution_count": 6,
   "metadata": {
    "scrolled": true
   },
   "outputs": [
    {
     "data": {
      "text/html": [
       "<div>\n",
       "<style scoped>\n",
       "    .dataframe tbody tr th:only-of-type {\n",
       "        vertical-align: middle;\n",
       "    }\n",
       "\n",
       "    .dataframe tbody tr th {\n",
       "        vertical-align: top;\n",
       "    }\n",
       "\n",
       "    .dataframe thead th {\n",
       "        text-align: right;\n",
       "    }\n",
       "</style>\n",
       "<table border=\"1\" class=\"dataframe\">\n",
       "  <thead>\n",
       "    <tr style=\"text-align: right;\">\n",
       "      <th></th>\n",
       "      <th>num_rows_missing</th>\n",
       "      <th>pct_rows_missing</th>\n",
       "    </tr>\n",
       "  </thead>\n",
       "  <tbody>\n",
       "    <tr>\n",
       "      <th>county</th>\n",
       "      <td>0</td>\n",
       "      <td>0.00</td>\n",
       "    </tr>\n",
       "    <tr>\n",
       "      <th>tax_rate</th>\n",
       "      <td>5</td>\n",
       "      <td>0.00</td>\n",
       "    </tr>\n",
       "    <tr>\n",
       "      <th>id</th>\n",
       "      <td>0</td>\n",
       "      <td>0.00</td>\n",
       "    </tr>\n",
       "    <tr>\n",
       "      <th>parcelid</th>\n",
       "      <td>0</td>\n",
       "      <td>0.00</td>\n",
       "    </tr>\n",
       "    <tr>\n",
       "      <th>airconditioningtypeid</th>\n",
       "      <td>38564</td>\n",
       "      <td>0.74</td>\n",
       "    </tr>\n",
       "    <tr>\n",
       "      <th>airconditioningdesc</th>\n",
       "      <td>38564</td>\n",
       "      <td>0.74</td>\n",
       "    </tr>\n",
       "    <tr>\n",
       "      <th>architecturalstyletypeid</th>\n",
       "      <td>52099</td>\n",
       "      <td>1.00</td>\n",
       "    </tr>\n",
       "    <tr>\n",
       "      <th>architecturalstyledesc</th>\n",
       "      <td>52099</td>\n",
       "      <td>1.00</td>\n",
       "    </tr>\n",
       "    <tr>\n",
       "      <th>basementsqft</th>\n",
       "      <td>52122</td>\n",
       "      <td>1.00</td>\n",
       "    </tr>\n",
       "    <tr>\n",
       "      <th>bathroomcnt</th>\n",
       "      <td>0</td>\n",
       "      <td>0.00</td>\n",
       "    </tr>\n",
       "    <tr>\n",
       "      <th>bedroomcnt</th>\n",
       "      <td>0</td>\n",
       "      <td>0.00</td>\n",
       "    </tr>\n",
       "    <tr>\n",
       "      <th>buildingclasstypeid</th>\n",
       "      <td>52169</td>\n",
       "      <td>1.00</td>\n",
       "    </tr>\n",
       "    <tr>\n",
       "      <th>buildingclassdesc</th>\n",
       "      <td>52169</td>\n",
       "      <td>1.00</td>\n",
       "    </tr>\n",
       "    <tr>\n",
       "      <th>buildingqualitytypeid</th>\n",
       "      <td>18541</td>\n",
       "      <td>0.36</td>\n",
       "    </tr>\n",
       "    <tr>\n",
       "      <th>calculatedbathnbr</th>\n",
       "      <td>16</td>\n",
       "      <td>0.00</td>\n",
       "    </tr>\n",
       "    <tr>\n",
       "      <th>calculatedfinishedsquarefeet</th>\n",
       "      <td>8</td>\n",
       "      <td>0.00</td>\n",
       "    </tr>\n",
       "    <tr>\n",
       "      <th>decktypeid</th>\n",
       "      <td>51782</td>\n",
       "      <td>0.99</td>\n",
       "    </tr>\n",
       "    <tr>\n",
       "      <th>finishedfloor1squarefeet</th>\n",
       "      <td>47815</td>\n",
       "      <td>0.92</td>\n",
       "    </tr>\n",
       "    <tr>\n",
       "      <th>finishedsquarefeet12</th>\n",
       "      <td>166</td>\n",
       "      <td>0.00</td>\n",
       "    </tr>\n",
       "    <tr>\n",
       "      <th>finishedsquarefeet13</th>\n",
       "      <td>52169</td>\n",
       "      <td>1.00</td>\n",
       "    </tr>\n",
       "    <tr>\n",
       "      <th>finishedsquarefeet15</th>\n",
       "      <td>52169</td>\n",
       "      <td>1.00</td>\n",
       "    </tr>\n",
       "    <tr>\n",
       "      <th>finishedsquarefeet50</th>\n",
       "      <td>47815</td>\n",
       "      <td>0.92</td>\n",
       "    </tr>\n",
       "    <tr>\n",
       "      <th>finishedsquarefeet6</th>\n",
       "      <td>52011</td>\n",
       "      <td>1.00</td>\n",
       "    </tr>\n",
       "    <tr>\n",
       "      <th>fips</th>\n",
       "      <td>0</td>\n",
       "      <td>0.00</td>\n",
       "    </tr>\n",
       "    <tr>\n",
       "      <th>state</th>\n",
       "      <td>0</td>\n",
       "      <td>0.00</td>\n",
       "    </tr>\n",
       "    <tr>\n",
       "      <th>fireplacecnt</th>\n",
       "      <td>44948</td>\n",
       "      <td>0.86</td>\n",
       "    </tr>\n",
       "    <tr>\n",
       "      <th>fullbathcnt</th>\n",
       "      <td>16</td>\n",
       "      <td>0.00</td>\n",
       "    </tr>\n",
       "    <tr>\n",
       "      <th>garagecarcnt</th>\n",
       "      <td>34203</td>\n",
       "      <td>0.66</td>\n",
       "    </tr>\n",
       "    <tr>\n",
       "      <th>garagetotalsqft</th>\n",
       "      <td>34203</td>\n",
       "      <td>0.66</td>\n",
       "    </tr>\n",
       "    <tr>\n",
       "      <th>hashottuborspa</th>\n",
       "      <td>50655</td>\n",
       "      <td>0.97</td>\n",
       "    </tr>\n",
       "    <tr>\n",
       "      <th>...</th>\n",
       "      <td>...</td>\n",
       "      <td>...</td>\n",
       "    </tr>\n",
       "    <tr>\n",
       "      <th>propertylandusedesc</th>\n",
       "      <td>0</td>\n",
       "      <td>0.00</td>\n",
       "    </tr>\n",
       "    <tr>\n",
       "      <th>propertyzoningdesc</th>\n",
       "      <td>18479</td>\n",
       "      <td>0.35</td>\n",
       "    </tr>\n",
       "    <tr>\n",
       "      <th>rawcensustractandblock</th>\n",
       "      <td>0</td>\n",
       "      <td>0.00</td>\n",
       "    </tr>\n",
       "    <tr>\n",
       "      <th>regionidcity</th>\n",
       "      <td>1028</td>\n",
       "      <td>0.02</td>\n",
       "    </tr>\n",
       "    <tr>\n",
       "      <th>regionidcounty</th>\n",
       "      <td>0</td>\n",
       "      <td>0.00</td>\n",
       "    </tr>\n",
       "    <tr>\n",
       "      <th>regionidneighborhood</th>\n",
       "      <td>33241</td>\n",
       "      <td>0.64</td>\n",
       "    </tr>\n",
       "    <tr>\n",
       "      <th>regionidzip</th>\n",
       "      <td>23</td>\n",
       "      <td>0.00</td>\n",
       "    </tr>\n",
       "    <tr>\n",
       "      <th>roomcnt</th>\n",
       "      <td>0</td>\n",
       "      <td>0.00</td>\n",
       "    </tr>\n",
       "    <tr>\n",
       "      <th>storytypeid</th>\n",
       "      <td>52122</td>\n",
       "      <td>1.00</td>\n",
       "    </tr>\n",
       "    <tr>\n",
       "      <th>storydesc</th>\n",
       "      <td>52122</td>\n",
       "      <td>1.00</td>\n",
       "    </tr>\n",
       "    <tr>\n",
       "      <th>taxvaluedollarcnt</th>\n",
       "      <td>1</td>\n",
       "      <td>0.00</td>\n",
       "    </tr>\n",
       "    <tr>\n",
       "      <th>threequarterbathnbr</th>\n",
       "      <td>45453</td>\n",
       "      <td>0.87</td>\n",
       "    </tr>\n",
       "    <tr>\n",
       "      <th>unitcnt</th>\n",
       "      <td>18451</td>\n",
       "      <td>0.35</td>\n",
       "    </tr>\n",
       "    <tr>\n",
       "      <th>yardbuildingsqft17</th>\n",
       "      <td>50243</td>\n",
       "      <td>0.96</td>\n",
       "    </tr>\n",
       "    <tr>\n",
       "      <th>yardbuildingsqft26</th>\n",
       "      <td>52106</td>\n",
       "      <td>1.00</td>\n",
       "    </tr>\n",
       "    <tr>\n",
       "      <th>yearbuilt</th>\n",
       "      <td>40</td>\n",
       "      <td>0.00</td>\n",
       "    </tr>\n",
       "    <tr>\n",
       "      <th>numberofstories</th>\n",
       "      <td>37663</td>\n",
       "      <td>0.72</td>\n",
       "    </tr>\n",
       "    <tr>\n",
       "      <th>fireplaceflag</th>\n",
       "      <td>52088</td>\n",
       "      <td>1.00</td>\n",
       "    </tr>\n",
       "    <tr>\n",
       "      <th>structuretaxvaluedollarcnt</th>\n",
       "      <td>72</td>\n",
       "      <td>0.00</td>\n",
       "    </tr>\n",
       "    <tr>\n",
       "      <th>assessmentyear</th>\n",
       "      <td>0</td>\n",
       "      <td>0.00</td>\n",
       "    </tr>\n",
       "    <tr>\n",
       "      <th>landtaxvaluedollarcnt</th>\n",
       "      <td>1</td>\n",
       "      <td>0.00</td>\n",
       "    </tr>\n",
       "    <tr>\n",
       "      <th>taxamount</th>\n",
       "      <td>4</td>\n",
       "      <td>0.00</td>\n",
       "    </tr>\n",
       "    <tr>\n",
       "      <th>taxdelinquencyflag</th>\n",
       "      <td>50109</td>\n",
       "      <td>0.96</td>\n",
       "    </tr>\n",
       "    <tr>\n",
       "      <th>taxdelinquencyyear</th>\n",
       "      <td>50109</td>\n",
       "      <td>0.96</td>\n",
       "    </tr>\n",
       "    <tr>\n",
       "      <th>typeconstructiontypeid</th>\n",
       "      <td>52093</td>\n",
       "      <td>1.00</td>\n",
       "    </tr>\n",
       "    <tr>\n",
       "      <th>typeconstructiondesc</th>\n",
       "      <td>52093</td>\n",
       "      <td>1.00</td>\n",
       "    </tr>\n",
       "    <tr>\n",
       "      <th>censustractandblock</th>\n",
       "      <td>112</td>\n",
       "      <td>0.00</td>\n",
       "    </tr>\n",
       "    <tr>\n",
       "      <th>transactiondate</th>\n",
       "      <td>0</td>\n",
       "      <td>0.00</td>\n",
       "    </tr>\n",
       "    <tr>\n",
       "      <th>logerror</th>\n",
       "      <td>0</td>\n",
       "      <td>0.00</td>\n",
       "    </tr>\n",
       "    <tr>\n",
       "      <th>transactions</th>\n",
       "      <td>0</td>\n",
       "      <td>0.00</td>\n",
       "    </tr>\n",
       "  </tbody>\n",
       "</table>\n",
       "<p>72 rows × 2 columns</p>\n",
       "</div>"
      ],
      "text/plain": [
       "                              num_rows_missing     pct_rows_missing\n",
       "county                                       0                 0.00\n",
       "tax_rate                                     5                 0.00\n",
       "id                                           0                 0.00\n",
       "parcelid                                     0                 0.00\n",
       "airconditioningtypeid                    38564                 0.74\n",
       "airconditioningdesc                      38564                 0.74\n",
       "architecturalstyletypeid                 52099                 1.00\n",
       "architecturalstyledesc                   52099                 1.00\n",
       "basementsqft                             52122                 1.00\n",
       "bathroomcnt                                  0                 0.00\n",
       "bedroomcnt                                   0                 0.00\n",
       "buildingclasstypeid                      52169                 1.00\n",
       "buildingclassdesc                        52169                 1.00\n",
       "buildingqualitytypeid                    18541                 0.36\n",
       "calculatedbathnbr                           16                 0.00\n",
       "calculatedfinishedsquarefeet                 8                 0.00\n",
       "decktypeid                               51782                 0.99\n",
       "finishedfloor1squarefeet                 47815                 0.92\n",
       "finishedsquarefeet12                       166                 0.00\n",
       "finishedsquarefeet13                     52169                 1.00\n",
       "finishedsquarefeet15                     52169                 1.00\n",
       "finishedsquarefeet50                     47815                 0.92\n",
       "finishedsquarefeet6                      52011                 1.00\n",
       "fips                                         0                 0.00\n",
       "state                                        0                 0.00\n",
       "fireplacecnt                             44948                 0.86\n",
       "fullbathcnt                                 16                 0.00\n",
       "garagecarcnt                             34203                 0.66\n",
       "garagetotalsqft                          34203                 0.66\n",
       "hashottuborspa                           50655                 0.97\n",
       "...                                        ...                  ...\n",
       "propertylandusedesc                          0                 0.00\n",
       "propertyzoningdesc                       18479                 0.35\n",
       "rawcensustractandblock                       0                 0.00\n",
       "regionidcity                              1028                 0.02\n",
       "regionidcounty                               0                 0.00\n",
       "regionidneighborhood                     33241                 0.64\n",
       "regionidzip                                 23                 0.00\n",
       "roomcnt                                      0                 0.00\n",
       "storytypeid                              52122                 1.00\n",
       "storydesc                                52122                 1.00\n",
       "taxvaluedollarcnt                            1                 0.00\n",
       "threequarterbathnbr                      45453                 0.87\n",
       "unitcnt                                  18451                 0.35\n",
       "yardbuildingsqft17                       50243                 0.96\n",
       "yardbuildingsqft26                       52106                 1.00\n",
       "yearbuilt                                   40                 0.00\n",
       "numberofstories                          37663                 0.72\n",
       "fireplaceflag                            52088                 1.00\n",
       "structuretaxvaluedollarcnt                  72                 0.00\n",
       "assessmentyear                               0                 0.00\n",
       "landtaxvaluedollarcnt                        1                 0.00\n",
       "taxamount                                    4                 0.00\n",
       "taxdelinquencyflag                       50109                 0.96\n",
       "taxdelinquencyyear                       50109                 0.96\n",
       "typeconstructiontypeid                   52093                 1.00\n",
       "typeconstructiondesc                     52093                 1.00\n",
       "censustractandblock                        112                 0.00\n",
       "transactiondate                              0                 0.00\n",
       "logerror                                     0                 0.00\n",
       "transactions                                 0                 0.00\n",
       "\n",
       "[72 rows x 2 columns]"
      ]
     },
     "execution_count": 6,
     "metadata": {},
     "output_type": "execute_result"
    }
   ],
   "source": [
    "summarize.nulls_by_col(df)"
   ]
  },
  {
   "cell_type": "markdown",
   "metadata": {},
   "source": [
    "#### Takeaways from nulls in columns function\n",
    "\n",
    "- I can see that there are columns that have no data in them, and those I will certainly drop. \n",
    "\n",
    "\n",
    "- There are others that are more than 50% NULL values, and I'm going to drop those as well. That is too high of a percentage of Nulls to make the data meaningful."
   ]
  },
  {
   "cell_type": "markdown",
   "metadata": {},
   "source": [
    "- Write a function that takes in a dataframe and returns a dataframe with 3 columns: the number of columns missing, percent of columns missing, number of rows with n columns missing. Run the function and document takeaways from this on how you want to handle missing values."
   ]
  },
  {
   "cell_type": "code",
   "execution_count": 7,
   "metadata": {
    "scrolled": true
   },
   "outputs": [
    {
     "data": {
      "text/html": [
       "<div>\n",
       "<style scoped>\n",
       "    .dataframe tbody tr th:only-of-type {\n",
       "        vertical-align: middle;\n",
       "    }\n",
       "\n",
       "    .dataframe tbody tr th {\n",
       "        vertical-align: top;\n",
       "    }\n",
       "\n",
       "    .dataframe thead th {\n",
       "        text-align: right;\n",
       "    }\n",
       "</style>\n",
       "<table border=\"1\" class=\"dataframe\">\n",
       "  <thead>\n",
       "    <tr style=\"text-align: right;\">\n",
       "      <th></th>\n",
       "      <th>num_cols_missing</th>\n",
       "      <th>pct_cols_missing</th>\n",
       "      <th>num_rows</th>\n",
       "    </tr>\n",
       "  </thead>\n",
       "  <tbody>\n",
       "    <tr>\n",
       "      <th>0</th>\n",
       "      <td>23</td>\n",
       "      <td>31.944444444444443</td>\n",
       "      <td>2</td>\n",
       "    </tr>\n",
       "    <tr>\n",
       "      <th>1</th>\n",
       "      <td>24</td>\n",
       "      <td>33.33333333333333</td>\n",
       "      <td>12</td>\n",
       "    </tr>\n",
       "    <tr>\n",
       "      <th>2</th>\n",
       "      <td>25</td>\n",
       "      <td>34.72222222222222</td>\n",
       "      <td>11</td>\n",
       "    </tr>\n",
       "    <tr>\n",
       "      <th>3</th>\n",
       "      <td>26</td>\n",
       "      <td>36.11111111111111</td>\n",
       "      <td>30</td>\n",
       "    </tr>\n",
       "    <tr>\n",
       "      <th>4</th>\n",
       "      <td>27</td>\n",
       "      <td>37.5</td>\n",
       "      <td>177</td>\n",
       "    </tr>\n",
       "    <tr>\n",
       "      <th>5</th>\n",
       "      <td>28</td>\n",
       "      <td>38.88888888888889</td>\n",
       "      <td>389</td>\n",
       "    </tr>\n",
       "    <tr>\n",
       "      <th>6</th>\n",
       "      <td>29</td>\n",
       "      <td>40.27777777777778</td>\n",
       "      <td>2527</td>\n",
       "    </tr>\n",
       "    <tr>\n",
       "      <th>7</th>\n",
       "      <td>30</td>\n",
       "      <td>41.66666666666667</td>\n",
       "      <td>2194</td>\n",
       "    </tr>\n",
       "    <tr>\n",
       "      <th>8</th>\n",
       "      <td>31</td>\n",
       "      <td>43.05555555555556</td>\n",
       "      <td>5986</td>\n",
       "    </tr>\n",
       "    <tr>\n",
       "      <th>9</th>\n",
       "      <td>32</td>\n",
       "      <td>44.44444444444444</td>\n",
       "      <td>8880</td>\n",
       "    </tr>\n",
       "    <tr>\n",
       "      <th>10</th>\n",
       "      <td>33</td>\n",
       "      <td>45.83333333333333</td>\n",
       "      <td>11960</td>\n",
       "    </tr>\n",
       "    <tr>\n",
       "      <th>11</th>\n",
       "      <td>34</td>\n",
       "      <td>47.22222222222222</td>\n",
       "      <td>11151</td>\n",
       "    </tr>\n",
       "    <tr>\n",
       "      <th>12</th>\n",
       "      <td>35</td>\n",
       "      <td>48.61111111111111</td>\n",
       "      <td>3459</td>\n",
       "    </tr>\n",
       "    <tr>\n",
       "      <th>13</th>\n",
       "      <td>36</td>\n",
       "      <td>50.0</td>\n",
       "      <td>4121</td>\n",
       "    </tr>\n",
       "    <tr>\n",
       "      <th>14</th>\n",
       "      <td>37</td>\n",
       "      <td>51.388888888888886</td>\n",
       "      <td>1016</td>\n",
       "    </tr>\n",
       "    <tr>\n",
       "      <th>15</th>\n",
       "      <td>38</td>\n",
       "      <td>52.77777777777778</td>\n",
       "      <td>214</td>\n",
       "    </tr>\n",
       "    <tr>\n",
       "      <th>16</th>\n",
       "      <td>39</td>\n",
       "      <td>54.166666666666664</td>\n",
       "      <td>22</td>\n",
       "    </tr>\n",
       "    <tr>\n",
       "      <th>17</th>\n",
       "      <td>40</td>\n",
       "      <td>55.55555555555556</td>\n",
       "      <td>13</td>\n",
       "    </tr>\n",
       "    <tr>\n",
       "      <th>18</th>\n",
       "      <td>41</td>\n",
       "      <td>56.94444444444444</td>\n",
       "      <td>3</td>\n",
       "    </tr>\n",
       "    <tr>\n",
       "      <th>19</th>\n",
       "      <td>42</td>\n",
       "      <td>58.333333333333336</td>\n",
       "      <td>1</td>\n",
       "    </tr>\n",
       "    <tr>\n",
       "      <th>20</th>\n",
       "      <td>44</td>\n",
       "      <td>61.111111111111114</td>\n",
       "      <td>1</td>\n",
       "    </tr>\n",
       "  </tbody>\n",
       "</table>\n",
       "</div>"
      ],
      "text/plain": [
       "   num_cols_missing    pct_cols_missing  num_rows\n",
       "0                23  31.944444444444443         2\n",
       "1                24   33.33333333333333        12\n",
       "2                25   34.72222222222222        11\n",
       "3                26   36.11111111111111        30\n",
       "4                27                37.5       177\n",
       "5                28   38.88888888888889       389\n",
       "6                29   40.27777777777778      2527\n",
       "7                30   41.66666666666667      2194\n",
       "8                31   43.05555555555556      5986\n",
       "9                32   44.44444444444444      8880\n",
       "10               33   45.83333333333333     11960\n",
       "11               34   47.22222222222222     11151\n",
       "12               35   48.61111111111111      3459\n",
       "13               36                50.0      4121\n",
       "14               37  51.388888888888886      1016\n",
       "15               38   52.77777777777778       214\n",
       "16               39  54.166666666666664        22\n",
       "17               40   55.55555555555556        13\n",
       "18               41   56.94444444444444         3\n",
       "19               42  58.333333333333336         1\n",
       "20               44  61.111111111111114         1"
      ]
     },
     "execution_count": 7,
     "metadata": {},
     "output_type": "execute_result"
    }
   ],
   "source": [
    "summarize.nulls_by_row(df)"
   ]
  },
  {
   "cell_type": "markdown",
   "metadata": {},
   "source": [
    "#### Takeaways from the nulls by row function\n",
    "\n",
    "- For my first iteration of the pipeline, I'm going to drop any rows that have missing values. \n",
    "\n",
    "\n",
    "- I will go back and add back and possibly impute values after my first iteration."
   ]
  },
  {
   "cell_type": "markdown",
   "metadata": {},
   "source": [
    "- This function will drop columns that are not 50% non-missing values and rows that are not 75% non-missing values"
   ]
  },
  {
   "cell_type": "code",
   "execution_count": 8,
   "metadata": {},
   "outputs": [],
   "source": [
    "df = prepare.handle_missing_values(df)"
   ]
  },
  {
   "cell_type": "code",
   "execution_count": 9,
   "metadata": {
    "scrolled": true
   },
   "outputs": [
    {
     "data": {
      "text/plain": [
       "county                              0\n",
       "tax_rate                            5\n",
       "id                                  0\n",
       "parcelid                            0\n",
       "bathroomcnt                         0\n",
       "bedroomcnt                          0\n",
       "buildingqualitytypeid           18541\n",
       "calculatedbathnbr                  16\n",
       "calculatedfinishedsquarefeet        8\n",
       "finishedsquarefeet12              166\n",
       "fips                                0\n",
       "state                               0\n",
       "fullbathcnt                        16\n",
       "heatingorsystemtypeid           18345\n",
       "heatingorsystemdesc             18345\n",
       "latitude                            0\n",
       "longitude                           0\n",
       "lotsizesquarefeet                 354\n",
       "propertycountylandusecode           0\n",
       "propertylandusetypeid               0\n",
       "propertylandusedesc                 0\n",
       "propertyzoningdesc              18479\n",
       "rawcensustractandblock              0\n",
       "regionidcity                     1028\n",
       "regionidcounty                      0\n",
       "regionidzip                        23\n",
       "roomcnt                             0\n",
       "taxvaluedollarcnt                   1\n",
       "unitcnt                         18451\n",
       "yearbuilt                          40\n",
       "structuretaxvaluedollarcnt         72\n",
       "assessmentyear                      0\n",
       "landtaxvaluedollarcnt               1\n",
       "taxamount                           4\n",
       "censustractandblock               112\n",
       "transactiondate                     0\n",
       "logerror                            0\n",
       "transactions                        0\n",
       "dtype: int64"
      ]
     },
     "execution_count": 9,
     "metadata": {},
     "output_type": "execute_result"
    }
   ],
   "source": [
    "df.isnull().sum()"
   ]
  },
  {
   "cell_type": "markdown",
   "metadata": {},
   "source": [
    "- I am removing columns for the following reasons...\n",
    "\n",
    "    - \"unitcnt\", \"propertyzoningdesc\", \"heatingorsystemdesc\", \n",
    "      \"heatingorsystemtypeid\", \"buildingqualitytypeid\" : missing 18,451 values\n",
    "    \n",
    "    - \"assessmentyear\": constant value of 2016\n",
    "    \n",
    "    - \"calculatedbathnbr\": has a correlation of 1.0 with bathroomcnt\n",
    "    \n",
    "    - \"finishedsquarefeet12\": has a correlcation of 1.0 with calculatedsquarefeet\n",
    "    \n",
    "    - \"propertylandusedesc\", \"propertylandusetypeid\": these are all \"261\" or single family residential.\n",
    "    \n",
    "    - \"rawcensustractandblack\": is highly correlated with fips/county\n",
    "    \n",
    "    - \"state\": are all California; not useful in analysis\n",
    "    \n",
    "    - \"regionidcity\": is represented by zipcodes\n",
    "    \n",
    "    - \"roomcnt\": over 36,000 values are 0 rooms\n",
    "    \n",
    "    - \"parcelid\": this is not needed beyond joining tables"
   ]
  },
  {
   "cell_type": "code",
   "execution_count": 10,
   "metadata": {},
   "outputs": [],
   "source": [
    "cols_to_remove = [\"unitcnt\", \"propertyzoningdesc\", \"heatingorsystemdesc\", \n",
    "                  \"heatingorsystemtypeid\", \"buildingqualitytypeid\", \"assessmentyear\",\n",
    "                  \"calculatedbathnbr\", \"finishedsquarefeet12\", \"propertylandusedesc\", \n",
    "                  \"propertylandusetypeid\", \"rawcensustractandblock\", \"censustractandblock\" , \"regionidcity\",\n",
    "                  \"state\", \"id\", \"fullbathcnt\", \"roomcnt\", \"parcelid\"]"
   ]
  },
  {
   "cell_type": "markdown",
   "metadata": {},
   "source": [
    "- This function removes the columns above from the dataframe for the reasons I listed above."
   ]
  },
  {
   "cell_type": "code",
   "execution_count": 11,
   "metadata": {},
   "outputs": [],
   "source": [
    "df = prepare.remove_columns(df, cols_to_remove)"
   ]
  },
  {
   "cell_type": "markdown",
   "metadata": {},
   "source": [
    "- Drop rows with missing values using a df.dropna(), so I can run through my first iteration of exploration with visuals using numeric or categorical data types without any missing values. \n",
    "\n",
    "\n",
    "- I may decide later to impute values and save rows for the following columns.\n",
    "\n",
    "\n",
    "    - \"tax_rate\": has five rows with missing values in tax_rate\n",
    "\n",
    "    - \"yearbuilt\": has 40 missing values that I can't impute in a meaningful way. Dropping 40 rows out of the df should not be a problem.\n",
    "    \n",
    "    - \"censustractandblock\": has 112 values I can't impute in a meaningful way. I'll drop these rows.\n",
    "    \n",
    "    - \"lotsizesquarefeet\": \n",
    "    \n",
    "    - \"regionidcity\":\n",
    "    \n",
    "    - \"regionidzip\":\n",
    "    \n",
    "    - \"taxvaluedollarcnt\":\n",
    "    \n",
    "    - \"yearbuilt\":\n",
    "    \n",
    "    - \"structuretaxvaluedollarcnt\":\n",
    "    \n",
    "    - \"landtaxvaluedollarcnt\":\n",
    "    \n",
    "    - \"taxamount\":"
   ]
  },
  {
   "cell_type": "markdown",
   "metadata": {},
   "source": [
    "- Now I will drop remaining rows with missing values to get to a df that I can use to run a LR and DT baseline model"
   ]
  },
  {
   "cell_type": "code",
   "execution_count": 12,
   "metadata": {},
   "outputs": [],
   "source": [
    "df.dropna(inplace=True)"
   ]
  },
  {
   "cell_type": "markdown",
   "metadata": {},
   "source": [
    "- Verify there are no more missing values in my dataframe.\n",
    "\n",
    "\n",
    "    - I'll be ready for visual exploration and transforming data types."
   ]
  },
  {
   "cell_type": "code",
   "execution_count": 13,
   "metadata": {},
   "outputs": [
    {
     "data": {
      "text/plain": [
       "county                          0\n",
       "tax_rate                        0\n",
       "bathroomcnt                     0\n",
       "bedroomcnt                      0\n",
       "calculatedfinishedsquarefeet    0\n",
       "fips                            0\n",
       "latitude                        0\n",
       "longitude                       0\n",
       "lotsizesquarefeet               0\n",
       "propertycountylandusecode       0\n",
       "regionidcounty                  0\n",
       "regionidzip                     0\n",
       "taxvaluedollarcnt               0\n",
       "yearbuilt                       0\n",
       "structuretaxvaluedollarcnt      0\n",
       "landtaxvaluedollarcnt           0\n",
       "taxamount                       0\n",
       "transactiondate                 0\n",
       "logerror                        0\n",
       "transactions                    0\n",
       "dtype: int64"
      ]
     },
     "execution_count": 13,
     "metadata": {},
     "output_type": "execute_result"
    }
   ],
   "source": [
    "df.isnull().sum()"
   ]
  },
  {
   "cell_type": "markdown",
   "metadata": {},
   "source": [
    "- I have 51, 657 rows and 26 columns remaining in my df, and now I will deal with data types to get to a df of numeric values only."
   ]
  },
  {
   "cell_type": "code",
   "execution_count": 14,
   "metadata": {},
   "outputs": [
    {
     "data": {
      "text/plain": [
       "(51706, 20)"
      ]
     },
     "execution_count": 14,
     "metadata": {},
     "output_type": "execute_result"
    }
   ],
   "source": [
    "df.shape"
   ]
  },
  {
   "cell_type": "code",
   "execution_count": 15,
   "metadata": {},
   "outputs": [
    {
     "data": {
      "text/plain": [
       "county                           object\n",
       "tax_rate                        float64\n",
       "bathroomcnt                     float64\n",
       "bedroomcnt                      float64\n",
       "calculatedfinishedsquarefeet    float64\n",
       "fips                            float64\n",
       "latitude                        float64\n",
       "longitude                       float64\n",
       "lotsizesquarefeet               float64\n",
       "propertycountylandusecode        object\n",
       "regionidcounty                  float64\n",
       "regionidzip                     float64\n",
       "taxvaluedollarcnt               float64\n",
       "yearbuilt                       float64\n",
       "structuretaxvaluedollarcnt      float64\n",
       "landtaxvaluedollarcnt           float64\n",
       "taxamount                       float64\n",
       "transactiondate                  object\n",
       "logerror                        float64\n",
       "transactions                      int64\n",
       "dtype: object"
      ]
     },
     "execution_count": 15,
     "metadata": {},
     "output_type": "execute_result"
    }
   ],
   "source": [
    "df.dtypes"
   ]
  },
  {
   "cell_type": "markdown",
   "metadata": {},
   "source": [
    "- For the first iteration, I'm including transactiondate in column conversion to category. If I need to convert it to a datetime later, I will come back and run this.\n",
    "\n",
    "\n",
    "- Later, I may decide to convert transactiondate column to data type datetime using the code below."
   ]
  },
  {
   "cell_type": "markdown",
   "metadata": {},
   "source": [
    "- Convert the following columns to category data types using a function."
   ]
  },
  {
   "cell_type": "code",
   "execution_count": 16,
   "metadata": {},
   "outputs": [],
   "source": [
    "cols = [\"county\", \"transactiondate\",  \"fips\", \"propertycountylandusecode\", \"regionidcounty\", \"regionidzip\", \"yearbuilt\", \"transactions\"]"
   ]
  },
  {
   "cell_type": "code",
   "execution_count": 17,
   "metadata": {},
   "outputs": [],
   "source": [
    "df = prepare.numeric_to_category(df, cols)"
   ]
  },
  {
   "cell_type": "code",
   "execution_count": 18,
   "metadata": {},
   "outputs": [
    {
     "data": {
      "text/plain": [
       "county                          category\n",
       "tax_rate                         float64\n",
       "bathroomcnt                      float64\n",
       "bedroomcnt                       float64\n",
       "calculatedfinishedsquarefeet     float64\n",
       "fips                            category\n",
       "latitude                         float64\n",
       "longitude                        float64\n",
       "lotsizesquarefeet                float64\n",
       "propertycountylandusecode       category\n",
       "regionidcounty                  category\n",
       "regionidzip                     category\n",
       "taxvaluedollarcnt                float64\n",
       "yearbuilt                       category\n",
       "structuretaxvaluedollarcnt       float64\n",
       "landtaxvaluedollarcnt            float64\n",
       "taxamount                        float64\n",
       "transactiondate                 category\n",
       "logerror                         float64\n",
       "transactions                    category\n",
       "dtype: object"
      ]
     },
     "execution_count": 18,
     "metadata": {},
     "output_type": "execute_result"
    }
   ],
   "source": [
    "df.dtypes"
   ]
  },
  {
   "cell_type": "markdown",
   "metadata": {},
   "source": [
    "- Scale latitude and longitude, so they are not such large numbers for baseline models."
   ]
  },
  {
   "cell_type": "code",
   "execution_count": 19,
   "metadata": {},
   "outputs": [],
   "source": [
    "df.latitude = df.latitude / 1_000_000 "
   ]
  },
  {
   "cell_type": "code",
   "execution_count": 20,
   "metadata": {},
   "outputs": [],
   "source": [
    "df.longitude = df.longitude / 1_000_000 "
   ]
  },
  {
   "cell_type": "code",
   "execution_count": 61,
   "metadata": {},
   "outputs": [
    {
     "data": {
      "text/plain": [
       "(51706, 20)"
      ]
     },
     "execution_count": 61,
     "metadata": {},
     "output_type": "execute_result"
    }
   ],
   "source": [
    "df.shape"
   ]
  },
  {
   "cell_type": "markdown",
   "metadata": {},
   "source": [
    "- Remove outliers using Q1 - IQR * 3 and Q3 + IQR * 3"
   ]
  },
  {
   "cell_type": "code",
   "execution_count": 62,
   "metadata": {},
   "outputs": [
    {
     "data": {
      "text/plain": [
       "(51466, 20)"
      ]
     },
     "execution_count": 62,
     "metadata": {},
     "output_type": "execute_result"
    }
   ],
   "source": [
    "df = prepare.remove_outliers_iqr(df, columns=[\"bedroomcnt\", \"bathroomcnt\"])\n",
    "df.shape"
   ]
  },
  {
   "cell_type": "markdown",
   "metadata": {},
   "source": [
    "### Split df into train, test - Whole df"
   ]
  },
  {
   "cell_type": "code",
   "execution_count": 22,
   "metadata": {},
   "outputs": [],
   "source": [
    "train, test = train_test_split(df, test_size=.30, random_state=123)"
   ]
  },
  {
   "cell_type": "code",
   "execution_count": 23,
   "metadata": {},
   "outputs": [
    {
     "data": {
      "text/plain": [
       "(36194, 20)"
      ]
     },
     "execution_count": 23,
     "metadata": {},
     "output_type": "execute_result"
    }
   ],
   "source": [
    "train.shape"
   ]
  },
  {
   "cell_type": "code",
   "execution_count": 24,
   "metadata": {},
   "outputs": [
    {
     "data": {
      "text/html": [
       "<div>\n",
       "<style scoped>\n",
       "    .dataframe tbody tr th:only-of-type {\n",
       "        vertical-align: middle;\n",
       "    }\n",
       "\n",
       "    .dataframe tbody tr th {\n",
       "        vertical-align: top;\n",
       "    }\n",
       "\n",
       "    .dataframe thead th {\n",
       "        text-align: right;\n",
       "    }\n",
       "</style>\n",
       "<table border=\"1\" class=\"dataframe\">\n",
       "  <thead>\n",
       "    <tr style=\"text-align: right;\">\n",
       "      <th></th>\n",
       "      <th>count</th>\n",
       "      <th>mean</th>\n",
       "      <th>std</th>\n",
       "      <th>min</th>\n",
       "      <th>25%</th>\n",
       "      <th>50%</th>\n",
       "      <th>75%</th>\n",
       "      <th>max</th>\n",
       "    </tr>\n",
       "  </thead>\n",
       "  <tbody>\n",
       "    <tr>\n",
       "      <th>tax_rate</th>\n",
       "      <td>36,194.00</td>\n",
       "      <td>0.01</td>\n",
       "      <td>0.01</td>\n",
       "      <td>0.00</td>\n",
       "      <td>0.01</td>\n",
       "      <td>0.01</td>\n",
       "      <td>0.01</td>\n",
       "      <td>0.49</td>\n",
       "    </tr>\n",
       "    <tr>\n",
       "      <th>bathroomcnt</th>\n",
       "      <td>36,194.00</td>\n",
       "      <td>2.31</td>\n",
       "      <td>1.02</td>\n",
       "      <td>1.00</td>\n",
       "      <td>2.00</td>\n",
       "      <td>2.00</td>\n",
       "      <td>3.00</td>\n",
       "      <td>13.00</td>\n",
       "    </tr>\n",
       "    <tr>\n",
       "      <th>bedroomcnt</th>\n",
       "      <td>36,194.00</td>\n",
       "      <td>3.31</td>\n",
       "      <td>0.93</td>\n",
       "      <td>1.00</td>\n",
       "      <td>3.00</td>\n",
       "      <td>3.00</td>\n",
       "      <td>4.00</td>\n",
       "      <td>10.00</td>\n",
       "    </tr>\n",
       "    <tr>\n",
       "      <th>calculatedfinishedsquarefeet</th>\n",
       "      <td>36,194.00</td>\n",
       "      <td>1,923.38</td>\n",
       "      <td>1,001.49</td>\n",
       "      <td>152.00</td>\n",
       "      <td>1,269.00</td>\n",
       "      <td>1,660.00</td>\n",
       "      <td>2,308.00</td>\n",
       "      <td>21,929.00</td>\n",
       "    </tr>\n",
       "    <tr>\n",
       "      <th>latitude</th>\n",
       "      <td>36,194.00</td>\n",
       "      <td>34.02</td>\n",
       "      <td>0.27</td>\n",
       "      <td>33.34</td>\n",
       "      <td>33.82</td>\n",
       "      <td>34.02</td>\n",
       "      <td>34.19</td>\n",
       "      <td>34.81</td>\n",
       "    </tr>\n",
       "    <tr>\n",
       "      <th>longitude</th>\n",
       "      <td>36,194.00</td>\n",
       "      <td>-118.19</td>\n",
       "      <td>0.36</td>\n",
       "      <td>-119.48</td>\n",
       "      <td>-118.40</td>\n",
       "      <td>-118.15</td>\n",
       "      <td>-117.93</td>\n",
       "      <td>-117.56</td>\n",
       "    </tr>\n",
       "    <tr>\n",
       "      <th>lotsizesquarefeet</th>\n",
       "      <td>36,194.00</td>\n",
       "      <td>11,438.23</td>\n",
       "      <td>94,908.92</td>\n",
       "      <td>480.00</td>\n",
       "      <td>5,571.25</td>\n",
       "      <td>6,834.00</td>\n",
       "      <td>8,764.00</td>\n",
       "      <td>6,971,010.00</td>\n",
       "    </tr>\n",
       "    <tr>\n",
       "      <th>taxvaluedollarcnt</th>\n",
       "      <td>36,194.00</td>\n",
       "      <td>525,084.05</td>\n",
       "      <td>708,190.74</td>\n",
       "      <td>9,242.00</td>\n",
       "      <td>194,276.75</td>\n",
       "      <td>373,282.00</td>\n",
       "      <td>618,627.00</td>\n",
       "      <td>25,381,250.00</td>\n",
       "    </tr>\n",
       "    <tr>\n",
       "      <th>structuretaxvaluedollarcnt</th>\n",
       "      <td>36,194.00</td>\n",
       "      <td>195,920.43</td>\n",
       "      <td>255,638.76</td>\n",
       "      <td>148.00</td>\n",
       "      <td>77,159.00</td>\n",
       "      <td>131,881.50</td>\n",
       "      <td>225,647.25</td>\n",
       "      <td>9,164,901.00</td>\n",
       "    </tr>\n",
       "    <tr>\n",
       "      <th>landtaxvaluedollarcnt</th>\n",
       "      <td>36,194.00</td>\n",
       "      <td>329,163.62</td>\n",
       "      <td>509,477.07</td>\n",
       "      <td>161.00</td>\n",
       "      <td>76,051.50</td>\n",
       "      <td>218,379.00</td>\n",
       "      <td>406,621.50</td>\n",
       "      <td>22,335,500.00</td>\n",
       "    </tr>\n",
       "    <tr>\n",
       "      <th>taxamount</th>\n",
       "      <td>36,194.00</td>\n",
       "      <td>6,385.47</td>\n",
       "      <td>8,188.36</td>\n",
       "      <td>49.18</td>\n",
       "      <td>2,652.07</td>\n",
       "      <td>4,641.69</td>\n",
       "      <td>7,352.33</td>\n",
       "      <td>288,524.60</td>\n",
       "    </tr>\n",
       "    <tr>\n",
       "      <th>logerror</th>\n",
       "      <td>36,194.00</td>\n",
       "      <td>0.02</td>\n",
       "      <td>0.17</td>\n",
       "      <td>-4.45</td>\n",
       "      <td>-0.02</td>\n",
       "      <td>0.01</td>\n",
       "      <td>0.04</td>\n",
       "      <td>5.26</td>\n",
       "    </tr>\n",
       "  </tbody>\n",
       "</table>\n",
       "</div>"
      ],
      "text/plain": [
       "                                            count                 mean  \\\n",
       "tax_rate                                36,194.00                 0.01   \n",
       "bathroomcnt                             36,194.00                 2.31   \n",
       "bedroomcnt                              36,194.00                 3.31   \n",
       "calculatedfinishedsquarefeet            36,194.00             1,923.38   \n",
       "latitude                                36,194.00                34.02   \n",
       "longitude                               36,194.00              -118.19   \n",
       "lotsizesquarefeet                       36,194.00            11,438.23   \n",
       "taxvaluedollarcnt                       36,194.00           525,084.05   \n",
       "structuretaxvaluedollarcnt              36,194.00           195,920.43   \n",
       "landtaxvaluedollarcnt                   36,194.00           329,163.62   \n",
       "taxamount                               36,194.00             6,385.47   \n",
       "logerror                                36,194.00                 0.02   \n",
       "\n",
       "                                              std                  min  \\\n",
       "tax_rate                                     0.01                 0.00   \n",
       "bathroomcnt                                  1.02                 1.00   \n",
       "bedroomcnt                                   0.93                 1.00   \n",
       "calculatedfinishedsquarefeet             1,001.49               152.00   \n",
       "latitude                                     0.27                33.34   \n",
       "longitude                                    0.36              -119.48   \n",
       "lotsizesquarefeet                       94,908.92               480.00   \n",
       "taxvaluedollarcnt                      708,190.74             9,242.00   \n",
       "structuretaxvaluedollarcnt             255,638.76               148.00   \n",
       "landtaxvaluedollarcnt                  509,477.07               161.00   \n",
       "taxamount                                8,188.36                49.18   \n",
       "logerror                                     0.17                -4.45   \n",
       "\n",
       "                                              25%                  50%  \\\n",
       "tax_rate                                     0.01                 0.01   \n",
       "bathroomcnt                                  2.00                 2.00   \n",
       "bedroomcnt                                   3.00                 3.00   \n",
       "calculatedfinishedsquarefeet             1,269.00             1,660.00   \n",
       "latitude                                    33.82                34.02   \n",
       "longitude                                 -118.40              -118.15   \n",
       "lotsizesquarefeet                        5,571.25             6,834.00   \n",
       "taxvaluedollarcnt                      194,276.75           373,282.00   \n",
       "structuretaxvaluedollarcnt              77,159.00           131,881.50   \n",
       "landtaxvaluedollarcnt                   76,051.50           218,379.00   \n",
       "taxamount                                2,652.07             4,641.69   \n",
       "logerror                                    -0.02                 0.01   \n",
       "\n",
       "                                              75%                  max  \n",
       "tax_rate                                     0.01                 0.49  \n",
       "bathroomcnt                                  3.00                13.00  \n",
       "bedroomcnt                                   4.00                10.00  \n",
       "calculatedfinishedsquarefeet             2,308.00            21,929.00  \n",
       "latitude                                    34.19                34.81  \n",
       "longitude                                 -117.93              -117.56  \n",
       "lotsizesquarefeet                        8,764.00         6,971,010.00  \n",
       "taxvaluedollarcnt                      618,627.00        25,381,250.00  \n",
       "structuretaxvaluedollarcnt             225,647.25         9,164,901.00  \n",
       "landtaxvaluedollarcnt                  406,621.50        22,335,500.00  \n",
       "taxamount                                7,352.33           288,524.60  \n",
       "logerror                                     0.04                 5.26  "
      ]
     },
     "execution_count": 24,
     "metadata": {},
     "output_type": "execute_result"
    }
   ],
   "source": [
    "train.describe().T"
   ]
  },
  {
   "cell_type": "markdown",
   "metadata": {},
   "source": [
    "- Create x and y variables for whole df train and test to prepare to model"
   ]
  },
  {
   "cell_type": "code",
   "execution_count": 25,
   "metadata": {},
   "outputs": [],
   "source": [
    "x_train = train.drop(columns=\"logerror\")"
   ]
  },
  {
   "cell_type": "code",
   "execution_count": 26,
   "metadata": {},
   "outputs": [],
   "source": [
    "y_train = train[[\"logerror\"]]"
   ]
  },
  {
   "cell_type": "code",
   "execution_count": 27,
   "metadata": {},
   "outputs": [],
   "source": [
    "x_test = test.drop(columns=\"logerror\")"
   ]
  },
  {
   "cell_type": "code",
   "execution_count": 28,
   "metadata": {},
   "outputs": [],
   "source": [
    "y_test = test[[\"logerror\"]]"
   ]
  },
  {
   "cell_type": "markdown",
   "metadata": {},
   "source": [
    "- Create a train and test df that is numeric dtypes only for modeling and correlation exploration."
   ]
  },
  {
   "cell_type": "code",
   "execution_count": 29,
   "metadata": {},
   "outputs": [],
   "source": [
    "nums_train = train.select_dtypes(exclude=\"category\")"
   ]
  },
  {
   "cell_type": "code",
   "execution_count": 30,
   "metadata": {},
   "outputs": [],
   "source": [
    "nums_test = test.select_dtypes(exclude=\"category\")"
   ]
  },
  {
   "cell_type": "code",
   "execution_count": 31,
   "metadata": {},
   "outputs": [
    {
     "data": {
      "text/plain": [
       "(36194, 12)"
      ]
     },
     "execution_count": 31,
     "metadata": {},
     "output_type": "execute_result"
    }
   ],
   "source": [
    "nums_train.shape"
   ]
  },
  {
   "cell_type": "markdown",
   "metadata": {},
   "source": [
    "- Create x and y variables for numeric df train and test to prepare to model"
   ]
  },
  {
   "cell_type": "code",
   "execution_count": 32,
   "metadata": {},
   "outputs": [],
   "source": [
    "x_nums_train = nums_train.drop(columns=\"logerror\")"
   ]
  },
  {
   "cell_type": "code",
   "execution_count": 33,
   "metadata": {},
   "outputs": [],
   "source": [
    "y_nums_train = nums_train[[\"logerror\"]]"
   ]
  },
  {
   "cell_type": "code",
   "execution_count": 34,
   "metadata": {},
   "outputs": [],
   "source": [
    "x_nums_test = nums_test.drop(columns=\"logerror\")"
   ]
  },
  {
   "cell_type": "code",
   "execution_count": 35,
   "metadata": {},
   "outputs": [],
   "source": [
    "y_nums_test = nums_test[[\"logerror\"]]"
   ]
  },
  {
   "cell_type": "code",
   "execution_count": 36,
   "metadata": {},
   "outputs": [
    {
     "data": {
      "text/html": [
       "<div>\n",
       "<style scoped>\n",
       "    .dataframe tbody tr th:only-of-type {\n",
       "        vertical-align: middle;\n",
       "    }\n",
       "\n",
       "    .dataframe tbody tr th {\n",
       "        vertical-align: top;\n",
       "    }\n",
       "\n",
       "    .dataframe thead th {\n",
       "        text-align: right;\n",
       "    }\n",
       "</style>\n",
       "<table border=\"1\" class=\"dataframe\">\n",
       "  <thead>\n",
       "    <tr style=\"text-align: right;\">\n",
       "      <th></th>\n",
       "      <th>44230</th>\n",
       "      <th>22091</th>\n",
       "      <th>567</th>\n",
       "      <th>25839</th>\n",
       "      <th>3868</th>\n",
       "    </tr>\n",
       "  </thead>\n",
       "  <tbody>\n",
       "    <tr>\n",
       "      <th>tax_rate</th>\n",
       "      <td>0.01</td>\n",
       "      <td>0.01</td>\n",
       "      <td>0.01</td>\n",
       "      <td>0.01</td>\n",
       "      <td>0.01</td>\n",
       "    </tr>\n",
       "    <tr>\n",
       "      <th>bathroomcnt</th>\n",
       "      <td>2.00</td>\n",
       "      <td>1.00</td>\n",
       "      <td>1.00</td>\n",
       "      <td>3.00</td>\n",
       "      <td>2.00</td>\n",
       "    </tr>\n",
       "    <tr>\n",
       "      <th>bedroomcnt</th>\n",
       "      <td>3.00</td>\n",
       "      <td>3.00</td>\n",
       "      <td>2.00</td>\n",
       "      <td>4.00</td>\n",
       "      <td>3.00</td>\n",
       "    </tr>\n",
       "    <tr>\n",
       "      <th>calculatedfinishedsquarefeet</th>\n",
       "      <td>1,482.00</td>\n",
       "      <td>824.00</td>\n",
       "      <td>1,551.00</td>\n",
       "      <td>3,259.00</td>\n",
       "      <td>1,249.00</td>\n",
       "    </tr>\n",
       "    <tr>\n",
       "      <th>latitude</th>\n",
       "      <td>34.20</td>\n",
       "      <td>33.89</td>\n",
       "      <td>34.19</td>\n",
       "      <td>34.11</td>\n",
       "      <td>33.76</td>\n",
       "    </tr>\n",
       "    <tr>\n",
       "      <th>longitude</th>\n",
       "      <td>-118.84</td>\n",
       "      <td>-118.07</td>\n",
       "      <td>-118.38</td>\n",
       "      <td>-118.43</td>\n",
       "      <td>-117.89</td>\n",
       "    </tr>\n",
       "    <tr>\n",
       "      <th>lotsizesquarefeet</th>\n",
       "      <td>9,971.00</td>\n",
       "      <td>2,667.00</td>\n",
       "      <td>7,748.00</td>\n",
       "      <td>31,033.00</td>\n",
       "      <td>6,120.00</td>\n",
       "    </tr>\n",
       "    <tr>\n",
       "      <th>taxvaluedollarcnt</th>\n",
       "      <td>244,161.00</td>\n",
       "      <td>245,335.00</td>\n",
       "      <td>231,917.00</td>\n",
       "      <td>472,582.00</td>\n",
       "      <td>375,296.00</td>\n",
       "    </tr>\n",
       "    <tr>\n",
       "      <th>structuretaxvaluedollarcnt</th>\n",
       "      <td>168,270.00</td>\n",
       "      <td>103,912.00</td>\n",
       "      <td>135,675.00</td>\n",
       "      <td>200,891.00</td>\n",
       "      <td>76,794.00</td>\n",
       "    </tr>\n",
       "    <tr>\n",
       "      <th>landtaxvaluedollarcnt</th>\n",
       "      <td>75,891.00</td>\n",
       "      <td>141,423.00</td>\n",
       "      <td>96,242.00</td>\n",
       "      <td>271,691.00</td>\n",
       "      <td>298,502.00</td>\n",
       "    </tr>\n",
       "    <tr>\n",
       "      <th>taxamount</th>\n",
       "      <td>2,597.44</td>\n",
       "      <td>3,306.11</td>\n",
       "      <td>2,917.09</td>\n",
       "      <td>5,923.57</td>\n",
       "      <td>4,456.34</td>\n",
       "    </tr>\n",
       "  </tbody>\n",
       "</table>\n",
       "</div>"
      ],
      "text/plain": [
       "                                            44230                22091  \\\n",
       "tax_rate                                     0.01                 0.01   \n",
       "bathroomcnt                                  2.00                 1.00   \n",
       "bedroomcnt                                   3.00                 3.00   \n",
       "calculatedfinishedsquarefeet             1,482.00               824.00   \n",
       "latitude                                    34.20                33.89   \n",
       "longitude                                 -118.84              -118.07   \n",
       "lotsizesquarefeet                        9,971.00             2,667.00   \n",
       "taxvaluedollarcnt                      244,161.00           245,335.00   \n",
       "structuretaxvaluedollarcnt             168,270.00           103,912.00   \n",
       "landtaxvaluedollarcnt                   75,891.00           141,423.00   \n",
       "taxamount                                2,597.44             3,306.11   \n",
       "\n",
       "                                            567                  25839  \\\n",
       "tax_rate                                     0.01                 0.01   \n",
       "bathroomcnt                                  1.00                 3.00   \n",
       "bedroomcnt                                   2.00                 4.00   \n",
       "calculatedfinishedsquarefeet             1,551.00             3,259.00   \n",
       "latitude                                    34.19                34.11   \n",
       "longitude                                 -118.38              -118.43   \n",
       "lotsizesquarefeet                        7,748.00            31,033.00   \n",
       "taxvaluedollarcnt                      231,917.00           472,582.00   \n",
       "structuretaxvaluedollarcnt             135,675.00           200,891.00   \n",
       "landtaxvaluedollarcnt                   96,242.00           271,691.00   \n",
       "taxamount                                2,917.09             5,923.57   \n",
       "\n",
       "                                            3868   \n",
       "tax_rate                                     0.01  \n",
       "bathroomcnt                                  2.00  \n",
       "bedroomcnt                                   3.00  \n",
       "calculatedfinishedsquarefeet             1,249.00  \n",
       "latitude                                    33.76  \n",
       "longitude                                 -117.89  \n",
       "lotsizesquarefeet                        6,120.00  \n",
       "taxvaluedollarcnt                      375,296.00  \n",
       "structuretaxvaluedollarcnt              76,794.00  \n",
       "landtaxvaluedollarcnt                  298,502.00  \n",
       "taxamount                                4,456.34  "
      ]
     },
     "execution_count": 36,
     "metadata": {},
     "output_type": "execute_result"
    }
   ],
   "source": [
    "x_nums_train.head().T"
   ]
  },
  {
   "cell_type": "code",
   "execution_count": 37,
   "metadata": {},
   "outputs": [
    {
     "data": {
      "text/plain": [
       "<matplotlib.axes._subplots.AxesSubplot at 0x1a1cd9ad68>"
      ]
     },
     "execution_count": 37,
     "metadata": {},
     "output_type": "execute_result"
    },
    {
     "data": {
      "image/png": "[encoded data removed]",
      "text/plain": [
       "<Figure size 432x288 with 1 Axes>"
      ]
     },
     "metadata": {
      "needs_background": "light"
     },
     "output_type": "display_data"
    }
   ],
   "source": [
    "sns.boxplot(x_nums_train.bedroomcnt, x_nums_train.calculatedfinishedsquarefeet)"
   ]
  },
  {
   "cell_type": "code",
   "execution_count": 38,
   "metadata": {},
   "outputs": [
    {
     "data": {
      "text/plain": [
       "<matplotlib.axes._subplots.AxesSubplot at 0x1a1c9c5a20>"
      ]
     },
     "execution_count": 38,
     "metadata": {},
     "output_type": "execute_result"
    },
    {
     "data": {
      "image/png": "[encoded data removed]",
      "text/plain": [
       "<Figure size 432x288 with 1 Axes>"
      ]
     },
     "metadata": {
      "needs_background": "light"
     },
     "output_type": "display_data"
    }
   ],
   "source": [
    "sns.boxplot(x_nums_train.bathroomcnt, x_nums_train.calculatedfinishedsquarefeet)"
   ]
  },
  {
   "cell_type": "code",
   "execution_count": 39,
   "metadata": {},
   "outputs": [
    {
     "data": {
      "text/plain": [
       "<seaborn.axisgrid.FacetGrid at 0x1a1c9a5cc0>"
      ]
     },
     "execution_count": 39,
     "metadata": {},
     "output_type": "execute_result"
    },
    {
     "data": {
      "image/png": "[encoded data removed]",
      "text/plain": [
       "<Figure size 360x360 with 1 Axes>"
      ]
     },
     "metadata": {
      "needs_background": "light"
     },
     "output_type": "display_data"
    }
   ],
   "source": [
    "sns.lmplot(data=x_nums_train, y=\"calculatedfinishedsquarefeet\", x=\"bedroomcnt\")"
   ]
  },
  {
   "cell_type": "code",
   "execution_count": 40,
   "metadata": {},
   "outputs": [
    {
     "data": {
      "text/html": [
       "<div>\n",
       "<style scoped>\n",
       "    .dataframe tbody tr th:only-of-type {\n",
       "        vertical-align: middle;\n",
       "    }\n",
       "\n",
       "    .dataframe tbody tr th {\n",
       "        vertical-align: top;\n",
       "    }\n",
       "\n",
       "    .dataframe thead th {\n",
       "        text-align: right;\n",
       "    }\n",
       "</style>\n",
       "<table border=\"1\" class=\"dataframe\">\n",
       "  <thead>\n",
       "    <tr style=\"text-align: right;\">\n",
       "      <th></th>\n",
       "      <th>44230</th>\n",
       "      <th>22091</th>\n",
       "      <th>567</th>\n",
       "      <th>25839</th>\n",
       "      <th>3868</th>\n",
       "    </tr>\n",
       "  </thead>\n",
       "  <tbody>\n",
       "    <tr>\n",
       "      <th>logerror</th>\n",
       "      <td>0.02</td>\n",
       "      <td>0.00</td>\n",
       "      <td>0.08</td>\n",
       "      <td>0.31</td>\n",
       "      <td>-0.01</td>\n",
       "    </tr>\n",
       "  </tbody>\n",
       "</table>\n",
       "</div>"
      ],
      "text/plain": [
       "                        44230                22091                567    \\\n",
       "logerror                 0.02                 0.00                 0.08   \n",
       "\n",
       "                        25839                3868   \n",
       "logerror                 0.31                -0.01  "
      ]
     },
     "execution_count": 40,
     "metadata": {},
     "output_type": "execute_result"
    }
   ],
   "source": [
    "y_nums_train.head().T"
   ]
  },
  {
   "cell_type": "markdown",
   "metadata": {},
   "source": [
    "### Model df - Linear Regression Model"
   ]
  },
  {
   "cell_type": "code",
   "execution_count": 41,
   "metadata": {},
   "outputs": [
    {
     "name": "stdout",
     "output_type": "stream",
     "text": [
      "LinearRegression(copy_X=True, fit_intercept=True, n_jobs=None, normalize=False)\n"
     ]
    }
   ],
   "source": [
    "# create the LR object\n",
    "\n",
    "lm1 = LinearRegression()\n",
    "print(lm1)"
   ]
  },
  {
   "cell_type": "code",
   "execution_count": 42,
   "metadata": {},
   "outputs": [],
   "source": [
    "# fit/train the model\n",
    "\n",
    "model = lm1.fit(x_nums_train, y_nums_train)"
   ]
  },
  {
   "cell_type": "code",
   "execution_count": 43,
   "metadata": {},
   "outputs": [
    {
     "data": {
      "text/plain": [
       "array([[0.00691426],\n",
       "       [0.00926487],\n",
       "       [0.00732561],\n",
       "       ...,\n",
       "       [0.01884143],\n",
       "       [0.01763122],\n",
       "       [0.02295786]])"
      ]
     },
     "execution_count": 43,
     "metadata": {},
     "output_type": "execute_result"
    }
   ],
   "source": [
    "# create yhat variable, numpy array, in-sample prediction values\n",
    "\n",
    "yhat = model.predict(x_nums_train)\n",
    "type(yhat)\n",
    "yhat"
   ]
  },
  {
   "cell_type": "code",
   "execution_count": 44,
   "metadata": {
    "scrolled": true
   },
   "outputs": [
    {
     "data": {
      "text/html": [
       "<div>\n",
       "<style scoped>\n",
       "    .dataframe tbody tr th:only-of-type {\n",
       "        vertical-align: middle;\n",
       "    }\n",
       "\n",
       "    .dataframe tbody tr th {\n",
       "        vertical-align: top;\n",
       "    }\n",
       "\n",
       "    .dataframe thead th {\n",
       "        text-align: right;\n",
       "    }\n",
       "</style>\n",
       "<table border=\"1\" class=\"dataframe\">\n",
       "  <thead>\n",
       "    <tr style=\"text-align: right;\">\n",
       "      <th></th>\n",
       "      <th>logerror</th>\n",
       "    </tr>\n",
       "  </thead>\n",
       "  <tbody>\n",
       "    <tr>\n",
       "      <th>44230</th>\n",
       "      <td>0.02</td>\n",
       "    </tr>\n",
       "    <tr>\n",
       "      <th>22091</th>\n",
       "      <td>0.00</td>\n",
       "    </tr>\n",
       "    <tr>\n",
       "      <th>567</th>\n",
       "      <td>0.08</td>\n",
       "    </tr>\n",
       "    <tr>\n",
       "      <th>25839</th>\n",
       "      <td>0.31</td>\n",
       "    </tr>\n",
       "    <tr>\n",
       "      <th>3868</th>\n",
       "      <td>-0.01</td>\n",
       "    </tr>\n",
       "    <tr>\n",
       "      <th>22810</th>\n",
       "      <td>-0.08</td>\n",
       "    </tr>\n",
       "    <tr>\n",
       "      <th>40528</th>\n",
       "      <td>0.00</td>\n",
       "    </tr>\n",
       "    <tr>\n",
       "      <th>11967</th>\n",
       "      <td>0.05</td>\n",
       "    </tr>\n",
       "    <tr>\n",
       "      <th>5482</th>\n",
       "      <td>0.04</td>\n",
       "    </tr>\n",
       "    <tr>\n",
       "      <th>24338</th>\n",
       "      <td>-0.11</td>\n",
       "    </tr>\n",
       "    <tr>\n",
       "      <th>50799</th>\n",
       "      <td>0.09</td>\n",
       "    </tr>\n",
       "    <tr>\n",
       "      <th>16591</th>\n",
       "      <td>-0.10</td>\n",
       "    </tr>\n",
       "    <tr>\n",
       "      <th>34563</th>\n",
       "      <td>-0.02</td>\n",
       "    </tr>\n",
       "    <tr>\n",
       "      <th>24631</th>\n",
       "      <td>-0.04</td>\n",
       "    </tr>\n",
       "    <tr>\n",
       "      <th>33667</th>\n",
       "      <td>-0.05</td>\n",
       "    </tr>\n",
       "    <tr>\n",
       "      <th>46169</th>\n",
       "      <td>0.00</td>\n",
       "    </tr>\n",
       "    <tr>\n",
       "      <th>8245</th>\n",
       "      <td>-0.08</td>\n",
       "    </tr>\n",
       "    <tr>\n",
       "      <th>40080</th>\n",
       "      <td>0.07</td>\n",
       "    </tr>\n",
       "    <tr>\n",
       "      <th>20896</th>\n",
       "      <td>0.01</td>\n",
       "    </tr>\n",
       "    <tr>\n",
       "      <th>9427</th>\n",
       "      <td>-0.01</td>\n",
       "    </tr>\n",
       "    <tr>\n",
       "      <th>49746</th>\n",
       "      <td>-0.01</td>\n",
       "    </tr>\n",
       "    <tr>\n",
       "      <th>39247</th>\n",
       "      <td>0.21</td>\n",
       "    </tr>\n",
       "    <tr>\n",
       "      <th>1960</th>\n",
       "      <td>0.02</td>\n",
       "    </tr>\n",
       "    <tr>\n",
       "      <th>4395</th>\n",
       "      <td>0.06</td>\n",
       "    </tr>\n",
       "    <tr>\n",
       "      <th>16822</th>\n",
       "      <td>0.00</td>\n",
       "    </tr>\n",
       "    <tr>\n",
       "      <th>7574</th>\n",
       "      <td>-0.10</td>\n",
       "    </tr>\n",
       "    <tr>\n",
       "      <th>38235</th>\n",
       "      <td>0.10</td>\n",
       "    </tr>\n",
       "    <tr>\n",
       "      <th>20062</th>\n",
       "      <td>0.07</td>\n",
       "    </tr>\n",
       "    <tr>\n",
       "      <th>26220</th>\n",
       "      <td>-0.02</td>\n",
       "    </tr>\n",
       "    <tr>\n",
       "      <th>21500</th>\n",
       "      <td>0.06</td>\n",
       "    </tr>\n",
       "    <tr>\n",
       "      <th>...</th>\n",
       "      <td>...</td>\n",
       "    </tr>\n",
       "    <tr>\n",
       "      <th>22664</th>\n",
       "      <td>-0.01</td>\n",
       "    </tr>\n",
       "    <tr>\n",
       "      <th>6708</th>\n",
       "      <td>0.04</td>\n",
       "    </tr>\n",
       "    <tr>\n",
       "      <th>30519</th>\n",
       "      <td>-0.07</td>\n",
       "    </tr>\n",
       "    <tr>\n",
       "      <th>52166</th>\n",
       "      <td>0.09</td>\n",
       "    </tr>\n",
       "    <tr>\n",
       "      <th>49636</th>\n",
       "      <td>0.02</td>\n",
       "    </tr>\n",
       "    <tr>\n",
       "      <th>6543</th>\n",
       "      <td>0.14</td>\n",
       "    </tr>\n",
       "    <tr>\n",
       "      <th>26864</th>\n",
       "      <td>0.33</td>\n",
       "    </tr>\n",
       "    <tr>\n",
       "      <th>45916</th>\n",
       "      <td>0.30</td>\n",
       "    </tr>\n",
       "    <tr>\n",
       "      <th>51460</th>\n",
       "      <td>-0.00</td>\n",
       "    </tr>\n",
       "    <tr>\n",
       "      <th>8061</th>\n",
       "      <td>0.01</td>\n",
       "    </tr>\n",
       "    <tr>\n",
       "      <th>17634</th>\n",
       "      <td>0.00</td>\n",
       "    </tr>\n",
       "    <tr>\n",
       "      <th>15080</th>\n",
       "      <td>-0.13</td>\n",
       "    </tr>\n",
       "    <tr>\n",
       "      <th>31414</th>\n",
       "      <td>-0.05</td>\n",
       "    </tr>\n",
       "    <tr>\n",
       "      <th>3361</th>\n",
       "      <td>0.00</td>\n",
       "    </tr>\n",
       "    <tr>\n",
       "      <th>35982</th>\n",
       "      <td>-0.03</td>\n",
       "    </tr>\n",
       "    <tr>\n",
       "      <th>17906</th>\n",
       "      <td>0.18</td>\n",
       "    </tr>\n",
       "    <tr>\n",
       "      <th>36575</th>\n",
       "      <td>-0.08</td>\n",
       "    </tr>\n",
       "    <tr>\n",
       "      <th>112</th>\n",
       "      <td>-0.00</td>\n",
       "    </tr>\n",
       "    <tr>\n",
       "      <th>34013</th>\n",
       "      <td>0.01</td>\n",
       "    </tr>\n",
       "    <tr>\n",
       "      <th>5714</th>\n",
       "      <td>-0.03</td>\n",
       "    </tr>\n",
       "    <tr>\n",
       "      <th>23374</th>\n",
       "      <td>0.00</td>\n",
       "    </tr>\n",
       "    <tr>\n",
       "      <th>96</th>\n",
       "      <td>-0.03</td>\n",
       "    </tr>\n",
       "    <tr>\n",
       "      <th>22443</th>\n",
       "      <td>0.01</td>\n",
       "    </tr>\n",
       "    <tr>\n",
       "      <th>23979</th>\n",
       "      <td>-0.07</td>\n",
       "    </tr>\n",
       "    <tr>\n",
       "      <th>46614</th>\n",
       "      <td>0.00</td>\n",
       "    </tr>\n",
       "    <tr>\n",
       "      <th>7836</th>\n",
       "      <td>0.14</td>\n",
       "    </tr>\n",
       "    <tr>\n",
       "      <th>15517</th>\n",
       "      <td>-0.45</td>\n",
       "    </tr>\n",
       "    <tr>\n",
       "      <th>17889</th>\n",
       "      <td>0.01</td>\n",
       "    </tr>\n",
       "    <tr>\n",
       "      <th>28274</th>\n",
       "      <td>-0.08</td>\n",
       "    </tr>\n",
       "    <tr>\n",
       "      <th>15871</th>\n",
       "      <td>0.00</td>\n",
       "    </tr>\n",
       "  </tbody>\n",
       "</table>\n",
       "<p>36194 rows × 1 columns</p>\n",
       "</div>"
      ],
      "text/plain": [
       "                  logerror\n",
       "44230                 0.02\n",
       "22091                 0.00\n",
       "567                   0.08\n",
       "25839                 0.31\n",
       "3868                 -0.01\n",
       "22810                -0.08\n",
       "40528                 0.00\n",
       "11967                 0.05\n",
       "5482                  0.04\n",
       "24338                -0.11\n",
       "50799                 0.09\n",
       "16591                -0.10\n",
       "34563                -0.02\n",
       "24631                -0.04\n",
       "33667                -0.05\n",
       "46169                 0.00\n",
       "8245                 -0.08\n",
       "40080                 0.07\n",
       "20896                 0.01\n",
       "9427                 -0.01\n",
       "49746                -0.01\n",
       "39247                 0.21\n",
       "1960                  0.02\n",
       "4395                  0.06\n",
       "16822                 0.00\n",
       "7574                 -0.10\n",
       "38235                 0.10\n",
       "20062                 0.07\n",
       "26220                -0.02\n",
       "21500                 0.06\n",
       "...                    ...\n",
       "22664                -0.01\n",
       "6708                  0.04\n",
       "30519                -0.07\n",
       "52166                 0.09\n",
       "49636                 0.02\n",
       "6543                  0.14\n",
       "26864                 0.33\n",
       "45916                 0.30\n",
       "51460                -0.00\n",
       "8061                  0.01\n",
       "17634                 0.00\n",
       "15080                -0.13\n",
       "31414                -0.05\n",
       "3361                  0.00\n",
       "35982                -0.03\n",
       "17906                 0.18\n",
       "36575                -0.08\n",
       "112                  -0.00\n",
       "34013                 0.01\n",
       "5714                 -0.03\n",
       "23374                 0.00\n",
       "96                   -0.03\n",
       "22443                 0.01\n",
       "23979                -0.07\n",
       "46614                 0.00\n",
       "7836                  0.14\n",
       "15517                -0.45\n",
       "17889                 0.01\n",
       "28274                -0.08\n",
       "15871                 0.00\n",
       "\n",
       "[36194 rows x 1 columns]"
      ]
     },
     "execution_count": 44,
     "metadata": {},
     "output_type": "execute_result"
    }
   ],
   "source": [
    "# create df, actual in-sample target values\n",
    "\n",
    "actual = y_nums_train\n",
    "type(actual)\n",
    "actual"
   ]
  },
  {
   "cell_type": "markdown",
   "metadata": {},
   "source": [
    "- add yhat as a column to actual predictions df"
   ]
  },
  {
   "cell_type": "code",
   "execution_count": 45,
   "metadata": {},
   "outputs": [],
   "source": [
    "actual['yhat'] = yhat"
   ]
  },
  {
   "cell_type": "markdown",
   "metadata": {},
   "source": [
    "### Evaluate LR Model"
   ]
  },
  {
   "cell_type": "code",
   "execution_count": 46,
   "metadata": {},
   "outputs": [
    {
     "data": {
      "text/html": [
       "<div>\n",
       "<style scoped>\n",
       "    .dataframe tbody tr th:only-of-type {\n",
       "        vertical-align: middle;\n",
       "    }\n",
       "\n",
       "    .dataframe tbody tr th {\n",
       "        vertical-align: top;\n",
       "    }\n",
       "\n",
       "    .dataframe thead th {\n",
       "        text-align: right;\n",
       "    }\n",
       "</style>\n",
       "<table border=\"1\" class=\"dataframe\">\n",
       "  <thead>\n",
       "    <tr style=\"text-align: right;\">\n",
       "      <th></th>\n",
       "      <th>logerror</th>\n",
       "      <th>yhat</th>\n",
       "    </tr>\n",
       "  </thead>\n",
       "  <tbody>\n",
       "    <tr>\n",
       "      <th>count</th>\n",
       "      <td>36,194.00</td>\n",
       "      <td>36,194.00</td>\n",
       "    </tr>\n",
       "    <tr>\n",
       "      <th>mean</th>\n",
       "      <td>0.02</td>\n",
       "      <td>0.02</td>\n",
       "    </tr>\n",
       "    <tr>\n",
       "      <th>std</th>\n",
       "      <td>0.17</td>\n",
       "      <td>0.01</td>\n",
       "    </tr>\n",
       "    <tr>\n",
       "      <th>min</th>\n",
       "      <td>-4.45</td>\n",
       "      <td>-0.16</td>\n",
       "    </tr>\n",
       "    <tr>\n",
       "      <th>25%</th>\n",
       "      <td>-0.02</td>\n",
       "      <td>0.01</td>\n",
       "    </tr>\n",
       "    <tr>\n",
       "      <th>50%</th>\n",
       "      <td>0.01</td>\n",
       "      <td>0.02</td>\n",
       "    </tr>\n",
       "    <tr>\n",
       "      <th>75%</th>\n",
       "      <td>0.04</td>\n",
       "      <td>0.02</td>\n",
       "    </tr>\n",
       "    <tr>\n",
       "      <th>max</th>\n",
       "      <td>5.26</td>\n",
       "      <td>0.33</td>\n",
       "    </tr>\n",
       "  </tbody>\n",
       "</table>\n",
       "</div>"
      ],
      "text/plain": [
       "                  logerror                 yhat\n",
       "count            36,194.00            36,194.00\n",
       "mean                  0.02                 0.02\n",
       "std                   0.17                 0.01\n",
       "min                  -4.45                -0.16\n",
       "25%                  -0.02                 0.01\n",
       "50%                   0.01                 0.02\n",
       "75%                   0.04                 0.02\n",
       "max                   5.26                 0.33"
      ]
     },
     "execution_count": 46,
     "metadata": {},
     "output_type": "execute_result"
    }
   ],
   "source": [
    "actual.describe()"
   ]
  },
  {
   "cell_type": "code",
   "execution_count": 47,
   "metadata": {},
   "outputs": [],
   "source": [
    "actual[\"residual\"] = actual[\"yhat\"] - actual[\"logerror\"]"
   ]
  },
  {
   "cell_type": "code",
   "execution_count": 48,
   "metadata": {},
   "outputs": [
    {
     "data": {
      "text/plain": [
       "<matplotlib.axes._subplots.AxesSubplot at 0x1a1a764b00>"
      ]
     },
     "execution_count": 48,
     "metadata": {},
     "output_type": "execute_result"
    },
    {
     "data": {
      "image/png": "[encoded data removed]",
      "text/plain": [
       "<Figure size 432x288 with 1 Axes>"
      ]
     },
     "metadata": {
      "needs_background": "light"
     },
     "output_type": "display_data"
    }
   ],
   "source": [
    "sns.distplot(actual[\"residual\"])"
   ]
  },
  {
   "cell_type": "code",
   "execution_count": 49,
   "metadata": {},
   "outputs": [
    {
     "data": {
      "text/plain": [
       "<matplotlib.axes._subplots.AxesSubplot at 0x1a19e1c0f0>"
      ]
     },
     "execution_count": 49,
     "metadata": {},
     "output_type": "execute_result"
    },
    {
     "data": {
      "image/png": "[encoded data removed]",
      "text/plain": [
       "<Figure size 432x288 with 1 Axes>"
      ]
     },
     "metadata": {
      "needs_background": "light"
     },
     "output_type": "display_data"
    }
   ],
   "source": [
    "sns.scatterplot(actual[\"logerror\"], actual[\"yhat\"])"
   ]
  },
  {
   "cell_type": "code",
   "execution_count": 50,
   "metadata": {},
   "outputs": [],
   "source": [
    "actual[\"residual^2\"] = actual[\"residual\"] ** 2"
   ]
  },
  {
   "cell_type": "code",
   "execution_count": 51,
   "metadata": {},
   "outputs": [
    {
     "data": {
      "text/html": [
       "<div>\n",
       "<style scoped>\n",
       "    .dataframe tbody tr th:only-of-type {\n",
       "        vertical-align: middle;\n",
       "    }\n",
       "\n",
       "    .dataframe tbody tr th {\n",
       "        vertical-align: top;\n",
       "    }\n",
       "\n",
       "    .dataframe thead th {\n",
       "        text-align: right;\n",
       "    }\n",
       "</style>\n",
       "<table border=\"1\" class=\"dataframe\">\n",
       "  <thead>\n",
       "    <tr style=\"text-align: right;\">\n",
       "      <th></th>\n",
       "      <th>logerror</th>\n",
       "      <th>yhat</th>\n",
       "      <th>residual</th>\n",
       "      <th>residual^2</th>\n",
       "    </tr>\n",
       "  </thead>\n",
       "  <tbody>\n",
       "    <tr>\n",
       "      <th>44230</th>\n",
       "      <td>0.02</td>\n",
       "      <td>0.01</td>\n",
       "      <td>-0.01</td>\n",
       "      <td>0.00</td>\n",
       "    </tr>\n",
       "    <tr>\n",
       "      <th>22091</th>\n",
       "      <td>0.00</td>\n",
       "      <td>0.01</td>\n",
       "      <td>0.01</td>\n",
       "      <td>0.00</td>\n",
       "    </tr>\n",
       "    <tr>\n",
       "      <th>567</th>\n",
       "      <td>0.08</td>\n",
       "      <td>0.01</td>\n",
       "      <td>-0.08</td>\n",
       "      <td>0.01</td>\n",
       "    </tr>\n",
       "    <tr>\n",
       "      <th>25839</th>\n",
       "      <td>0.31</td>\n",
       "      <td>0.03</td>\n",
       "      <td>-0.28</td>\n",
       "      <td>0.08</td>\n",
       "    </tr>\n",
       "    <tr>\n",
       "      <th>3868</th>\n",
       "      <td>-0.01</td>\n",
       "      <td>0.02</td>\n",
       "      <td>0.03</td>\n",
       "      <td>0.00</td>\n",
       "    </tr>\n",
       "  </tbody>\n",
       "</table>\n",
       "</div>"
      ],
      "text/plain": [
       "                  logerror                 yhat             residual  \\\n",
       "44230                 0.02                 0.01                -0.01   \n",
       "22091                 0.00                 0.01                 0.01   \n",
       "567                   0.08                 0.01                -0.08   \n",
       "25839                 0.31                 0.03                -0.28   \n",
       "3868                 -0.01                 0.02                 0.03   \n",
       "\n",
       "                residual^2  \n",
       "44230                 0.00  \n",
       "22091                 0.00  \n",
       "567                   0.01  \n",
       "25839                 0.08  \n",
       "3868                  0.00  "
      ]
     },
     "execution_count": 51,
     "metadata": {},
     "output_type": "execute_result"
    }
   ],
   "source": [
    "actual.head()"
   ]
  },
  {
   "cell_type": "code",
   "execution_count": 52,
   "metadata": {},
   "outputs": [
    {
     "name": "stdout",
     "output_type": "stream",
     "text": [
      "sse = 1088.012188085806\n",
      "mse = 0.03006056772077709\n",
      "rmse = 0.17337983654617134\n"
     ]
    }
   ],
   "source": [
    "sse = sum(actual[\"residual^2\"])\n",
    "print(f\"sse = {sse}\")\n",
    "mse = sse / len(actual)\n",
    "print(f\"mse = {mse}\")\n",
    "rmse = sqrt(mse)\n",
    "print(f\"rmse = {rmse}\")"
   ]
  },
  {
   "cell_type": "code",
   "execution_count": 53,
   "metadata": {},
   "outputs": [
    {
     "data": {
      "text/html": [
       "<div>\n",
       "<style scoped>\n",
       "    .dataframe tbody tr th:only-of-type {\n",
       "        vertical-align: middle;\n",
       "    }\n",
       "\n",
       "    .dataframe tbody tr th {\n",
       "        vertical-align: top;\n",
       "    }\n",
       "\n",
       "    .dataframe thead th {\n",
       "        text-align: right;\n",
       "    }\n",
       "</style>\n",
       "<table border=\"1\" class=\"dataframe\">\n",
       "  <thead>\n",
       "    <tr style=\"text-align: right;\">\n",
       "      <th></th>\n",
       "      <th>metric</th>\n",
       "      <th>model_error</th>\n",
       "    </tr>\n",
       "  </thead>\n",
       "  <tbody>\n",
       "    <tr>\n",
       "      <th>0</th>\n",
       "      <td>SSE</td>\n",
       "      <td>1,088.01</td>\n",
       "    </tr>\n",
       "    <tr>\n",
       "      <th>1</th>\n",
       "      <td>MSE</td>\n",
       "      <td>0.03</td>\n",
       "    </tr>\n",
       "    <tr>\n",
       "      <th>2</th>\n",
       "      <td>RMSE</td>\n",
       "      <td>0.17</td>\n",
       "    </tr>\n",
       "  </tbody>\n",
       "</table>\n",
       "</div>"
      ],
      "text/plain": [
       "  metric          model_error\n",
       "0    SSE             1,088.01\n",
       "1    MSE                 0.03\n",
       "2   RMSE                 0.17"
      ]
     },
     "execution_count": 53,
     "metadata": {},
     "output_type": "execute_result"
    }
   ],
   "source": [
    "df_eval = pd.DataFrame(np.array([\"SSE\", \"MSE\", \"RMSE\"]), columns=[\"metric\"])\n",
    "df_eval[\"model_error\"] = np.array([sse, mse, rmse])\n",
    "df_eval"
   ]
  },
  {
   "cell_type": "markdown",
   "metadata": {},
   "source": [
    "- Create a numpy array from the y_df_nums_train df, so I can run eval metrics using yhat(prediction array) and y_array (array of actual y values)"
   ]
  },
  {
   "cell_type": "code",
   "execution_count": 54,
   "metadata": {},
   "outputs": [
    {
     "data": {
      "text/plain": [
       "numpy.ndarray"
      ]
     },
     "execution_count": 54,
     "metadata": {},
     "output_type": "execute_result"
    }
   ],
   "source": [
    "y_array = np.array(y_nums_train)\n",
    "type(y_array)"
   ]
  },
  {
   "cell_type": "code",
   "execution_count": 55,
   "metadata": {},
   "outputs": [
    {
     "data": {
      "text/plain": [
       "0.0033706328998284185"
      ]
     },
     "execution_count": 55,
     "metadata": {},
     "output_type": "execute_result"
    }
   ],
   "source": [
    "r2_score(actual.logerror, actual.yhat)"
   ]
  },
  {
   "cell_type": "code",
   "execution_count": 56,
   "metadata": {},
   "outputs": [
    {
     "name": "stdout",
     "output_type": "stream",
     "text": [
      "linear model\n",
      "  mean squared error: 0.0301\n",
      "  0.34% of the variance in the logerror can be explained by variables.\n"
     ]
    }
   ],
   "source": [
    "mse_lm1 = mean_squared_error(actual.logerror, actual.yhat)\n",
    "print(\"linear model\\n  mean squared error: {:.3}\".format(mse_lm1)) \n",
    "\n",
    "r2_lm1 = r2_score(actual.logerror, actual.yhat)\n",
    "print('  {:.2%} of the variance in the logerror can be explained by variables.'.format(r2_lm1))"
   ]
  },
  {
   "cell_type": "markdown",
   "metadata": {},
   "source": [
    "### Takeaways from the Linear Regression Model:\n",
    "\n",
    "- Based on the results above I fail to reject the Null Hypothesis that the numeric values alone can predict the logerror.\n",
    "\n",
    "- Using a Linear Regression model to predict the logerror may not be the best choice.\n",
    "\n",
    "- Finding a way to include categorical variables in a model may help predict logerror."
   ]
  },
  {
   "cell_type": "markdown",
   "metadata": {},
   "source": [
    "### Model df KNeighbors Regressor"
   ]
  },
  {
   "cell_type": "code",
   "execution_count": null,
   "metadata": {},
   "outputs": [],
   "source": []
  }
 ],
 "metadata": {
  "kernelspec": {
   "display_name": "Python 3",
   "language": "python",
   "name": "python3"
  },
  "language_info": {
   "codemirror_mode": {
    "name": "ipython",
    "version": 3
   },
   "file_extension": ".py",
   "mimetype": "text/x-python",
   "name": "python",
   "nbconvert_exporter": "python",
   "pygments_lexer": "ipython3",
   "version": "3.7.3"
  }
 },
 "nbformat": 4,
 "nbformat_minor": 2
}
