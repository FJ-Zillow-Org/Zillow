{
 "cells": [
  {
   "cell_type": "code",
   "execution_count": 1,
   "metadata": {},
   "outputs": [],
   "source": [
    "# ignore warnings\n",
    "import warnings\n",
    "warnings.filterwarnings(\"ignore\")\n",
    "\n",
    "# wrangling\n",
    "import pandas as pd\n",
    "import numpy as np\n",
    "\n",
    "# preparing\n",
    "from sklearn.model_selection import train_test_split\n",
    "\n",
    "# visualizing\n",
    "%matplotlib inline\n",
    "import matplotlib.pyplot as plt\n",
    "import seaborn as sns\n",
    "\n",
    "# exploring\n",
    "import scipy.stats as stats\n",
    "import pandas_profiling\n",
    "\n",
    "# modeling\n",
    "from sklearn.cluster import KMeans\n",
    "from sklearn.preprocessing import LabelEncoder, OneHotEncoder, MinMaxScaler\n",
    "from sklearn.linear_model import LinearRegression\n",
    "from statsmodels.formula.api import ols\n",
    "from sklearn.metrics import mean_squared_error, r2_score, explained_variance_score\n",
    "from sklearn.feature_selection import f_regression\n",
    "from math import sqrt\n",
    "from sklearn.neighbors import KNeighborsRegressor\n",
    "\n",
    "# 3D projection\n",
    "from mpl_toolkits.mplot3d import Axes3D\n",
    "\n",
    "pd.options.display.float_format = '{:20,.2f}'.format\n",
    "\n",
    "# my modules\n",
    "import acquire\n",
    "import summarize\n",
    "import prepare\n",
    "\n",
    "# default pandas decimal number display format\n",
    "pd.options.display.float_format = '{:20,.2f}'.format"
   ]
  },
  {
   "cell_type": "markdown",
   "metadata": {},
   "source": [
    "Acquired zillow data using acquire.py (sequel query in this file)"
   ]
  },
  {
   "cell_type": "code",
   "execution_count": 2,
   "metadata": {},
   "outputs": [],
   "source": [
    "# df = acquire.get_zillow_data()\n",
    "# df.head()"
   ]
  },
  {
   "cell_type": "code",
   "execution_count": 3,
   "metadata": {},
   "outputs": [],
   "source": [
    "df = pd.read_csv(\"zillow_dataframe.csv\")"
   ]
  },
  {
   "cell_type": "code",
   "execution_count": 4,
   "metadata": {},
   "outputs": [],
   "source": [
    "df = df.drop(columns=[\"Unnamed: 0\", \"garagetotalsqft\", \"poolsizesum\", \"taxdelinquencyflag\", \"taxdelinquencyyear\", \"transactions\"])"
   ]
  },
  {
   "cell_type": "code",
   "execution_count": 5,
   "metadata": {},
   "outputs": [
    {
     "data": {
      "text/plain": [
       "(52169, 15)"
      ]
     },
     "execution_count": 5,
     "metadata": {},
     "output_type": "execute_result"
    }
   ],
   "source": [
    "df.shape"
   ]
  },
  {
   "cell_type": "code",
   "execution_count": 6,
   "metadata": {},
   "outputs": [],
   "source": [
    "# df = prepare.handle_missing_values(df)"
   ]
  },
  {
   "cell_type": "code",
   "execution_count": 7,
   "metadata": {},
   "outputs": [
    {
     "data": {
      "text/plain": [
       "tax_rate                            5\n",
       "bathroomcnt                         0\n",
       "bedroomcnt                          0\n",
       "calculatedfinishedsquarefeet        8\n",
       "fips                                0\n",
       "garagecarcnt                    34203\n",
       "latitude                            0\n",
       "longitude                           0\n",
       "lotsizesquarefeet                 354\n",
       "poolcnt                         41105\n",
       "taxvaluedollarcnt                   1\n",
       "yearbuilt                          40\n",
       "landtaxvaluedollarcnt               1\n",
       "logerror                            0\n",
       "county_name                         0\n",
       "dtype: int64"
      ]
     },
     "execution_count": 7,
     "metadata": {},
     "output_type": "execute_result"
    }
   ],
   "source": [
    "df.isnull().sum()"
   ]
  },
  {
   "cell_type": "markdown",
   "metadata": {},
   "source": [
    "### Add new features for modeling:\n",
    "- Scale latitude and longitude by hand\n",
    "- price_per_sq_ft (value of house / house square footage\n",
    "- land_price_per_sq_ft  (land tax value / lot square footage)"
   ]
  },
  {
   "cell_type": "code",
   "execution_count": 8,
   "metadata": {},
   "outputs": [],
   "source": [
    "df.latitude = df.latitude / 1_000_000 \n",
    "df.longitude = df.longitude / 1_000_000 "
   ]
  },
  {
   "cell_type": "code",
   "execution_count": 9,
   "metadata": {},
   "outputs": [],
   "source": [
    "df['price_per_sq_ft'] = df['taxvaluedollarcnt'] / df['calculatedfinishedsquarefeet']\n",
    "df['lot_price_per_sq_ft'] = df['landtaxvaluedollarcnt'] / df['lotsizesquarefeet']"
   ]
  },
  {
   "cell_type": "code",
   "execution_count": 10,
   "metadata": {
    "scrolled": true
   },
   "outputs": [
    {
     "data": {
      "text/html": [
       "<div>\n",
       "<style scoped>\n",
       "    .dataframe tbody tr th:only-of-type {\n",
       "        vertical-align: middle;\n",
       "    }\n",
       "\n",
       "    .dataframe tbody tr th {\n",
       "        vertical-align: top;\n",
       "    }\n",
       "\n",
       "    .dataframe thead th {\n",
       "        text-align: right;\n",
       "    }\n",
       "</style>\n",
       "<table border=\"1\" class=\"dataframe\">\n",
       "  <thead>\n",
       "    <tr style=\"text-align: right;\">\n",
       "      <th></th>\n",
       "      <th>tax_rate</th>\n",
       "      <th>bathroomcnt</th>\n",
       "      <th>bedroomcnt</th>\n",
       "      <th>calculatedfinishedsquarefeet</th>\n",
       "      <th>fips</th>\n",
       "      <th>garagecarcnt</th>\n",
       "      <th>latitude</th>\n",
       "      <th>longitude</th>\n",
       "      <th>lotsizesquarefeet</th>\n",
       "      <th>poolcnt</th>\n",
       "      <th>taxvaluedollarcnt</th>\n",
       "      <th>yearbuilt</th>\n",
       "      <th>landtaxvaluedollarcnt</th>\n",
       "      <th>logerror</th>\n",
       "      <th>county_name</th>\n",
       "      <th>price_per_sq_ft</th>\n",
       "      <th>lot_price_per_sq_ft</th>\n",
       "    </tr>\n",
       "  </thead>\n",
       "  <tbody>\n",
       "    <tr>\n",
       "      <th>0</th>\n",
       "      <td>0.01</td>\n",
       "      <td>3.50</td>\n",
       "      <td>4.00</td>\n",
       "      <td>3,100.00</td>\n",
       "      <td>6,059.00</td>\n",
       "      <td>2.00</td>\n",
       "      <td>33.63</td>\n",
       "      <td>-117.87</td>\n",
       "      <td>4,506.00</td>\n",
       "      <td>nan</td>\n",
       "      <td>1,023,282.00</td>\n",
       "      <td>1,998.00</td>\n",
       "      <td>537,569.00</td>\n",
       "      <td>0.03</td>\n",
       "      <td>Orange</td>\n",
       "      <td>330.09</td>\n",
       "      <td>119.30</td>\n",
       "    </tr>\n",
       "    <tr>\n",
       "      <th>1</th>\n",
       "      <td>0.01</td>\n",
       "      <td>1.00</td>\n",
       "      <td>2.00</td>\n",
       "      <td>1,465.00</td>\n",
       "      <td>6,111.00</td>\n",
       "      <td>1.00</td>\n",
       "      <td>34.45</td>\n",
       "      <td>-119.28</td>\n",
       "      <td>12,647.00</td>\n",
       "      <td>nan</td>\n",
       "      <td>464,000.00</td>\n",
       "      <td>1,967.00</td>\n",
       "      <td>376,000.00</td>\n",
       "      <td>0.06</td>\n",
       "      <td>Ventura</td>\n",
       "      <td>316.72</td>\n",
       "      <td>29.73</td>\n",
       "    </tr>\n",
       "    <tr>\n",
       "      <th>2</th>\n",
       "      <td>0.01</td>\n",
       "      <td>2.00</td>\n",
       "      <td>3.00</td>\n",
       "      <td>1,243.00</td>\n",
       "      <td>6,059.00</td>\n",
       "      <td>2.00</td>\n",
       "      <td>33.89</td>\n",
       "      <td>-117.82</td>\n",
       "      <td>8,432.00</td>\n",
       "      <td>1.00</td>\n",
       "      <td>564,778.00</td>\n",
       "      <td>1,962.00</td>\n",
       "      <td>479,489.00</td>\n",
       "      <td>0.01</td>\n",
       "      <td>Orange</td>\n",
       "      <td>454.37</td>\n",
       "      <td>56.87</td>\n",
       "    </tr>\n",
       "    <tr>\n",
       "      <th>3</th>\n",
       "      <td>0.01</td>\n",
       "      <td>3.00</td>\n",
       "      <td>4.00</td>\n",
       "      <td>2,376.00</td>\n",
       "      <td>6,037.00</td>\n",
       "      <td>nan</td>\n",
       "      <td>34.25</td>\n",
       "      <td>-118.24</td>\n",
       "      <td>13,038.00</td>\n",
       "      <td>1.00</td>\n",
       "      <td>145,143.00</td>\n",
       "      <td>1,970.00</td>\n",
       "      <td>36,225.00</td>\n",
       "      <td>-0.10</td>\n",
       "      <td>Los Angeles</td>\n",
       "      <td>61.09</td>\n",
       "      <td>2.78</td>\n",
       "    </tr>\n",
       "    <tr>\n",
       "      <th>4</th>\n",
       "      <td>0.01</td>\n",
       "      <td>3.00</td>\n",
       "      <td>4.00</td>\n",
       "      <td>2,962.00</td>\n",
       "      <td>6,037.00</td>\n",
       "      <td>nan</td>\n",
       "      <td>34.15</td>\n",
       "      <td>-118.18</td>\n",
       "      <td>63,000.00</td>\n",
       "      <td>1.00</td>\n",
       "      <td>773,303.00</td>\n",
       "      <td>1,950.00</td>\n",
       "      <td>496,619.00</td>\n",
       "      <td>-0.00</td>\n",
       "      <td>Los Angeles</td>\n",
       "      <td>261.07</td>\n",
       "      <td>7.88</td>\n",
       "    </tr>\n",
       "  </tbody>\n",
       "</table>\n",
       "</div>"
      ],
      "text/plain": [
       "              tax_rate          bathroomcnt           bedroomcnt  \\\n",
       "0                 0.01                 3.50                 4.00   \n",
       "1                 0.01                 1.00                 2.00   \n",
       "2                 0.01                 2.00                 3.00   \n",
       "3                 0.01                 3.00                 4.00   \n",
       "4                 0.01                 3.00                 4.00   \n",
       "\n",
       "   calculatedfinishedsquarefeet                 fips         garagecarcnt  \\\n",
       "0                      3,100.00             6,059.00                 2.00   \n",
       "1                      1,465.00             6,111.00                 1.00   \n",
       "2                      1,243.00             6,059.00                 2.00   \n",
       "3                      2,376.00             6,037.00                  nan   \n",
       "4                      2,962.00             6,037.00                  nan   \n",
       "\n",
       "              latitude            longitude    lotsizesquarefeet  \\\n",
       "0                33.63              -117.87             4,506.00   \n",
       "1                34.45              -119.28            12,647.00   \n",
       "2                33.89              -117.82             8,432.00   \n",
       "3                34.25              -118.24            13,038.00   \n",
       "4                34.15              -118.18            63,000.00   \n",
       "\n",
       "               poolcnt    taxvaluedollarcnt            yearbuilt  \\\n",
       "0                  nan         1,023,282.00             1,998.00   \n",
       "1                  nan           464,000.00             1,967.00   \n",
       "2                 1.00           564,778.00             1,962.00   \n",
       "3                 1.00           145,143.00             1,970.00   \n",
       "4                 1.00           773,303.00             1,950.00   \n",
       "\n",
       "   landtaxvaluedollarcnt             logerror  county_name  \\\n",
       "0             537,569.00                 0.03       Orange   \n",
       "1             376,000.00                 0.06      Ventura   \n",
       "2             479,489.00                 0.01       Orange   \n",
       "3              36,225.00                -0.10  Los Angeles   \n",
       "4             496,619.00                -0.00  Los Angeles   \n",
       "\n",
       "       price_per_sq_ft  lot_price_per_sq_ft  \n",
       "0               330.09               119.30  \n",
       "1               316.72                29.73  \n",
       "2               454.37                56.87  \n",
       "3                61.09                 2.78  \n",
       "4               261.07                 7.88  "
      ]
     },
     "execution_count": 10,
     "metadata": {},
     "output_type": "execute_result"
    }
   ],
   "source": [
    "df.head()"
   ]
  },
  {
   "cell_type": "markdown",
   "metadata": {},
   "source": [
    "****** move this drop columns code to after the exploration phase ******"
   ]
  },
  {
   "cell_type": "code",
   "execution_count": 11,
   "metadata": {},
   "outputs": [],
   "source": [
    "# df = df.drop(columns=['calculatedfinishedsquarefeet', 'lotsizesquarefeet', 'taxvaluedollarcnt', 'landtaxvaluedollarcnt'])"
   ]
  },
  {
   "cell_type": "markdown",
   "metadata": {},
   "source": [
    "### Split the data into train and test, 70/30"
   ]
  },
  {
   "cell_type": "code",
   "execution_count": 12,
   "metadata": {},
   "outputs": [],
   "source": [
    "train, test = train_test_split(df, test_size=.30, random_state=123)"
   ]
  },
  {
   "cell_type": "code",
   "execution_count": 13,
   "metadata": {},
   "outputs": [
    {
     "data": {
      "text/plain": [
       "(36518, 17)"
      ]
     },
     "execution_count": 13,
     "metadata": {},
     "output_type": "execute_result"
    }
   ],
   "source": [
    "train.shape"
   ]
  },
  {
   "cell_type": "code",
   "execution_count": 14,
   "metadata": {},
   "outputs": [
    {
     "data": {
      "text/plain": [
       "(15651, 17)"
      ]
     },
     "execution_count": 14,
     "metadata": {},
     "output_type": "execute_result"
    }
   ],
   "source": [
    "test.shape"
   ]
  },
  {
   "cell_type": "markdown",
   "metadata": {},
   "source": [
    "### Proof of Concept - Clustering fips (aka binning the 3 different counties)"
   ]
  },
  {
   "cell_type": "code",
   "execution_count": 15,
   "metadata": {},
   "outputs": [],
   "source": [
    "# def create_k_clusters(train, test, cluster_feature_id, cluster_cols, k):\n",
    "#     kmeans = KMeans(n_clusters=k, n_init=1, max_iter=100, random_state=123)\n",
    "#     kmeans.fit(train[[cluster_cols]])\n",
    "#     cluster_feature = 'cluster'+str(cluster_feature_id)+'_id'\n",
    "#     train[cluster_feature] = kmeans.predict(train[[cluster_cols]])\n",
    "#     test[cluster_feature] = kmeans.predict(test[[cluster_cols]])\n",
    "#     return train, test, kmeans"
   ]
  },
  {
   "cell_type": "code",
   "execution_count": 16,
   "metadata": {},
   "outputs": [],
   "source": [
    "# train, test, kmeans1 = create_k_clusters(train, test, cluster_feature_id = 1, cluster_cols = 'fips', k=3)"
   ]
  },
  {
   "cell_type": "code",
   "execution_count": 17,
   "metadata": {},
   "outputs": [],
   "source": [
    "# train, test, kmeans = fips_cluster(train, test, columns='fips', n=3)"
   ]
  },
  {
   "cell_type": "code",
   "execution_count": 18,
   "metadata": {},
   "outputs": [],
   "source": [
    "kmeans = KMeans(n_clusters=3, n_init=1, max_iter=100, random_state=123)"
   ]
  },
  {
   "cell_type": "code",
   "execution_count": 19,
   "metadata": {},
   "outputs": [
    {
     "data": {
      "text/plain": [
       "KMeans(algorithm='auto', copy_x=True, init='k-means++', max_iter=100,\n",
       "       n_clusters=3, n_init=1, n_jobs=None, precompute_distances='auto',\n",
       "       random_state=123, tol=0.0001, verbose=0)"
      ]
     },
     "execution_count": 19,
     "metadata": {},
     "output_type": "execute_result"
    }
   ],
   "source": [
    "kmeans.fit(train[['fips']])"
   ]
  },
  {
   "cell_type": "code",
   "execution_count": 20,
   "metadata": {},
   "outputs": [
    {
     "data": {
      "text/html": [
       "<div>\n",
       "<style scoped>\n",
       "    .dataframe tbody tr th:only-of-type {\n",
       "        vertical-align: middle;\n",
       "    }\n",
       "\n",
       "    .dataframe tbody tr th {\n",
       "        vertical-align: top;\n",
       "    }\n",
       "\n",
       "    .dataframe thead th {\n",
       "        text-align: right;\n",
       "    }\n",
       "</style>\n",
       "<table border=\"1\" class=\"dataframe\">\n",
       "  <thead>\n",
       "    <tr style=\"text-align: right;\">\n",
       "      <th></th>\n",
       "      <th>tax_rate</th>\n",
       "      <th>bathroomcnt</th>\n",
       "      <th>bedroomcnt</th>\n",
       "      <th>calculatedfinishedsquarefeet</th>\n",
       "      <th>fips</th>\n",
       "      <th>garagecarcnt</th>\n",
       "      <th>latitude</th>\n",
       "      <th>longitude</th>\n",
       "      <th>lotsizesquarefeet</th>\n",
       "      <th>poolcnt</th>\n",
       "      <th>taxvaluedollarcnt</th>\n",
       "      <th>yearbuilt</th>\n",
       "      <th>landtaxvaluedollarcnt</th>\n",
       "      <th>logerror</th>\n",
       "      <th>county_name</th>\n",
       "      <th>price_per_sq_ft</th>\n",
       "      <th>lot_price_per_sq_ft</th>\n",
       "    </tr>\n",
       "  </thead>\n",
       "  <tbody>\n",
       "    <tr>\n",
       "      <th>22620</th>\n",
       "      <td>0.01</td>\n",
       "      <td>2.00</td>\n",
       "      <td>2.00</td>\n",
       "      <td>1,212.00</td>\n",
       "      <td>6,059.00</td>\n",
       "      <td>2.00</td>\n",
       "      <td>33.85</td>\n",
       "      <td>-118.02</td>\n",
       "      <td>6,000.00</td>\n",
       "      <td>nan</td>\n",
       "      <td>143,427.00</td>\n",
       "      <td>1,955.00</td>\n",
       "      <td>88,553.00</td>\n",
       "      <td>-0.08</td>\n",
       "      <td>Orange</td>\n",
       "      <td>118.34</td>\n",
       "      <td>14.76</td>\n",
       "    </tr>\n",
       "    <tr>\n",
       "      <th>35532</th>\n",
       "      <td>0.02</td>\n",
       "      <td>2.00</td>\n",
       "      <td>3.00</td>\n",
       "      <td>1,812.00</td>\n",
       "      <td>6,037.00</td>\n",
       "      <td>nan</td>\n",
       "      <td>34.05</td>\n",
       "      <td>-118.08</td>\n",
       "      <td>10,906.00</td>\n",
       "      <td>nan</td>\n",
       "      <td>87,511.00</td>\n",
       "      <td>1,957.00</td>\n",
       "      <td>16,333.00</td>\n",
       "      <td>-0.04</td>\n",
       "      <td>Los Angeles</td>\n",
       "      <td>48.30</td>\n",
       "      <td>1.50</td>\n",
       "    </tr>\n",
       "    <tr>\n",
       "      <th>17905</th>\n",
       "      <td>0.01</td>\n",
       "      <td>3.00</td>\n",
       "      <td>4.00</td>\n",
       "      <td>3,149.00</td>\n",
       "      <td>6,059.00</td>\n",
       "      <td>2.00</td>\n",
       "      <td>33.49</td>\n",
       "      <td>-117.64</td>\n",
       "      <td>9,000.00</td>\n",
       "      <td>1.00</td>\n",
       "      <td>1,005,040.00</td>\n",
       "      <td>1,998.00</td>\n",
       "      <td>576,786.00</td>\n",
       "      <td>0.03</td>\n",
       "      <td>Orange</td>\n",
       "      <td>319.16</td>\n",
       "      <td>64.09</td>\n",
       "    </tr>\n",
       "    <tr>\n",
       "      <th>49147</th>\n",
       "      <td>0.01</td>\n",
       "      <td>3.00</td>\n",
       "      <td>4.00</td>\n",
       "      <td>2,859.00</td>\n",
       "      <td>6,037.00</td>\n",
       "      <td>nan</td>\n",
       "      <td>34.45</td>\n",
       "      <td>-118.57</td>\n",
       "      <td>6,252.00</td>\n",
       "      <td>nan</td>\n",
       "      <td>644,000.00</td>\n",
       "      <td>2,003.00</td>\n",
       "      <td>330,000.00</td>\n",
       "      <td>0.07</td>\n",
       "      <td>Los Angeles</td>\n",
       "      <td>225.25</td>\n",
       "      <td>52.78</td>\n",
       "    </tr>\n",
       "    <tr>\n",
       "      <th>43935</th>\n",
       "      <td>0.01</td>\n",
       "      <td>3.00</td>\n",
       "      <td>4.00</td>\n",
       "      <td>2,512.00</td>\n",
       "      <td>6,037.00</td>\n",
       "      <td>nan</td>\n",
       "      <td>34.16</td>\n",
       "      <td>-118.41</td>\n",
       "      <td>7,042.00</td>\n",
       "      <td>1.00</td>\n",
       "      <td>806,181.00</td>\n",
       "      <td>1,974.00</td>\n",
       "      <td>437,002.00</td>\n",
       "      <td>0.08</td>\n",
       "      <td>Los Angeles</td>\n",
       "      <td>320.93</td>\n",
       "      <td>62.06</td>\n",
       "    </tr>\n",
       "  </tbody>\n",
       "</table>\n",
       "</div>"
      ],
      "text/plain": [
       "                  tax_rate          bathroomcnt           bedroomcnt  \\\n",
       "22620                 0.01                 2.00                 2.00   \n",
       "35532                 0.02                 2.00                 3.00   \n",
       "17905                 0.01                 3.00                 4.00   \n",
       "49147                 0.01                 3.00                 4.00   \n",
       "43935                 0.01                 3.00                 4.00   \n",
       "\n",
       "       calculatedfinishedsquarefeet                 fips         garagecarcnt  \\\n",
       "22620                      1,212.00             6,059.00                 2.00   \n",
       "35532                      1,812.00             6,037.00                  nan   \n",
       "17905                      3,149.00             6,059.00                 2.00   \n",
       "49147                      2,859.00             6,037.00                  nan   \n",
       "43935                      2,512.00             6,037.00                  nan   \n",
       "\n",
       "                  latitude            longitude    lotsizesquarefeet  \\\n",
       "22620                33.85              -118.02             6,000.00   \n",
       "35532                34.05              -118.08            10,906.00   \n",
       "17905                33.49              -117.64             9,000.00   \n",
       "49147                34.45              -118.57             6,252.00   \n",
       "43935                34.16              -118.41             7,042.00   \n",
       "\n",
       "                   poolcnt    taxvaluedollarcnt            yearbuilt  \\\n",
       "22620                  nan           143,427.00             1,955.00   \n",
       "35532                  nan            87,511.00             1,957.00   \n",
       "17905                 1.00         1,005,040.00             1,998.00   \n",
       "49147                  nan           644,000.00             2,003.00   \n",
       "43935                 1.00           806,181.00             1,974.00   \n",
       "\n",
       "       landtaxvaluedollarcnt             logerror  county_name  \\\n",
       "22620              88,553.00                -0.08       Orange   \n",
       "35532              16,333.00                -0.04  Los Angeles   \n",
       "17905             576,786.00                 0.03       Orange   \n",
       "49147             330,000.00                 0.07  Los Angeles   \n",
       "43935             437,002.00                 0.08  Los Angeles   \n",
       "\n",
       "           price_per_sq_ft  lot_price_per_sq_ft  \n",
       "22620               118.34                14.76  \n",
       "35532                48.30                 1.50  \n",
       "17905               319.16                64.09  \n",
       "49147               225.25                52.78  \n",
       "43935               320.93                62.06  "
      ]
     },
     "execution_count": 20,
     "metadata": {},
     "output_type": "execute_result"
    }
   ],
   "source": [
    "train.head()"
   ]
  },
  {
   "cell_type": "code",
   "execution_count": 21,
   "metadata": {},
   "outputs": [],
   "source": [
    "cluster = 'cluster_' + str('fips')\n",
    "\n",
    "train[cluster] = kmeans.predict(train[['fips']])\n",
    "\n",
    "test[cluster] = kmeans.predict(test[['fips']])"
   ]
  },
  {
   "cell_type": "code",
   "execution_count": 22,
   "metadata": {},
   "outputs": [
    {
     "data": {
      "text/html": [
       "<div>\n",
       "<style scoped>\n",
       "    .dataframe tbody tr th:only-of-type {\n",
       "        vertical-align: middle;\n",
       "    }\n",
       "\n",
       "    .dataframe tbody tr th {\n",
       "        vertical-align: top;\n",
       "    }\n",
       "\n",
       "    .dataframe thead th {\n",
       "        text-align: right;\n",
       "    }\n",
       "</style>\n",
       "<table border=\"1\" class=\"dataframe\">\n",
       "  <thead>\n",
       "    <tr style=\"text-align: right;\">\n",
       "      <th></th>\n",
       "      <th>tax_rate</th>\n",
       "      <th>bathroomcnt</th>\n",
       "      <th>bedroomcnt</th>\n",
       "      <th>calculatedfinishedsquarefeet</th>\n",
       "      <th>fips</th>\n",
       "      <th>garagecarcnt</th>\n",
       "      <th>latitude</th>\n",
       "      <th>longitude</th>\n",
       "      <th>lotsizesquarefeet</th>\n",
       "      <th>poolcnt</th>\n",
       "      <th>taxvaluedollarcnt</th>\n",
       "      <th>yearbuilt</th>\n",
       "      <th>landtaxvaluedollarcnt</th>\n",
       "      <th>logerror</th>\n",
       "      <th>county_name</th>\n",
       "      <th>price_per_sq_ft</th>\n",
       "      <th>lot_price_per_sq_ft</th>\n",
       "      <th>cluster_fips</th>\n",
       "    </tr>\n",
       "  </thead>\n",
       "  <tbody>\n",
       "    <tr>\n",
       "      <th>22620</th>\n",
       "      <td>0.01</td>\n",
       "      <td>2.00</td>\n",
       "      <td>2.00</td>\n",
       "      <td>1,212.00</td>\n",
       "      <td>6,059.00</td>\n",
       "      <td>2.00</td>\n",
       "      <td>33.85</td>\n",
       "      <td>-118.02</td>\n",
       "      <td>6,000.00</td>\n",
       "      <td>nan</td>\n",
       "      <td>143,427.00</td>\n",
       "      <td>1,955.00</td>\n",
       "      <td>88,553.00</td>\n",
       "      <td>-0.08</td>\n",
       "      <td>Orange</td>\n",
       "      <td>118.34</td>\n",
       "      <td>14.76</td>\n",
       "      <td>0</td>\n",
       "    </tr>\n",
       "    <tr>\n",
       "      <th>35532</th>\n",
       "      <td>0.02</td>\n",
       "      <td>2.00</td>\n",
       "      <td>3.00</td>\n",
       "      <td>1,812.00</td>\n",
       "      <td>6,037.00</td>\n",
       "      <td>nan</td>\n",
       "      <td>34.05</td>\n",
       "      <td>-118.08</td>\n",
       "      <td>10,906.00</td>\n",
       "      <td>nan</td>\n",
       "      <td>87,511.00</td>\n",
       "      <td>1,957.00</td>\n",
       "      <td>16,333.00</td>\n",
       "      <td>-0.04</td>\n",
       "      <td>Los Angeles</td>\n",
       "      <td>48.30</td>\n",
       "      <td>1.50</td>\n",
       "      <td>1</td>\n",
       "    </tr>\n",
       "    <tr>\n",
       "      <th>17905</th>\n",
       "      <td>0.01</td>\n",
       "      <td>3.00</td>\n",
       "      <td>4.00</td>\n",
       "      <td>3,149.00</td>\n",
       "      <td>6,059.00</td>\n",
       "      <td>2.00</td>\n",
       "      <td>33.49</td>\n",
       "      <td>-117.64</td>\n",
       "      <td>9,000.00</td>\n",
       "      <td>1.00</td>\n",
       "      <td>1,005,040.00</td>\n",
       "      <td>1,998.00</td>\n",
       "      <td>576,786.00</td>\n",
       "      <td>0.03</td>\n",
       "      <td>Orange</td>\n",
       "      <td>319.16</td>\n",
       "      <td>64.09</td>\n",
       "      <td>0</td>\n",
       "    </tr>\n",
       "    <tr>\n",
       "      <th>49147</th>\n",
       "      <td>0.01</td>\n",
       "      <td>3.00</td>\n",
       "      <td>4.00</td>\n",
       "      <td>2,859.00</td>\n",
       "      <td>6,037.00</td>\n",
       "      <td>nan</td>\n",
       "      <td>34.45</td>\n",
       "      <td>-118.57</td>\n",
       "      <td>6,252.00</td>\n",
       "      <td>nan</td>\n",
       "      <td>644,000.00</td>\n",
       "      <td>2,003.00</td>\n",
       "      <td>330,000.00</td>\n",
       "      <td>0.07</td>\n",
       "      <td>Los Angeles</td>\n",
       "      <td>225.25</td>\n",
       "      <td>52.78</td>\n",
       "      <td>1</td>\n",
       "    </tr>\n",
       "    <tr>\n",
       "      <th>43935</th>\n",
       "      <td>0.01</td>\n",
       "      <td>3.00</td>\n",
       "      <td>4.00</td>\n",
       "      <td>2,512.00</td>\n",
       "      <td>6,037.00</td>\n",
       "      <td>nan</td>\n",
       "      <td>34.16</td>\n",
       "      <td>-118.41</td>\n",
       "      <td>7,042.00</td>\n",
       "      <td>1.00</td>\n",
       "      <td>806,181.00</td>\n",
       "      <td>1,974.00</td>\n",
       "      <td>437,002.00</td>\n",
       "      <td>0.08</td>\n",
       "      <td>Los Angeles</td>\n",
       "      <td>320.93</td>\n",
       "      <td>62.06</td>\n",
       "      <td>1</td>\n",
       "    </tr>\n",
       "  </tbody>\n",
       "</table>\n",
       "</div>"
      ],
      "text/plain": [
       "                  tax_rate          bathroomcnt           bedroomcnt  \\\n",
       "22620                 0.01                 2.00                 2.00   \n",
       "35532                 0.02                 2.00                 3.00   \n",
       "17905                 0.01                 3.00                 4.00   \n",
       "49147                 0.01                 3.00                 4.00   \n",
       "43935                 0.01                 3.00                 4.00   \n",
       "\n",
       "       calculatedfinishedsquarefeet                 fips         garagecarcnt  \\\n",
       "22620                      1,212.00             6,059.00                 2.00   \n",
       "35532                      1,812.00             6,037.00                  nan   \n",
       "17905                      3,149.00             6,059.00                 2.00   \n",
       "49147                      2,859.00             6,037.00                  nan   \n",
       "43935                      2,512.00             6,037.00                  nan   \n",
       "\n",
       "                  latitude            longitude    lotsizesquarefeet  \\\n",
       "22620                33.85              -118.02             6,000.00   \n",
       "35532                34.05              -118.08            10,906.00   \n",
       "17905                33.49              -117.64             9,000.00   \n",
       "49147                34.45              -118.57             6,252.00   \n",
       "43935                34.16              -118.41             7,042.00   \n",
       "\n",
       "                   poolcnt    taxvaluedollarcnt            yearbuilt  \\\n",
       "22620                  nan           143,427.00             1,955.00   \n",
       "35532                  nan            87,511.00             1,957.00   \n",
       "17905                 1.00         1,005,040.00             1,998.00   \n",
       "49147                  nan           644,000.00             2,003.00   \n",
       "43935                 1.00           806,181.00             1,974.00   \n",
       "\n",
       "       landtaxvaluedollarcnt             logerror  county_name  \\\n",
       "22620              88,553.00                -0.08       Orange   \n",
       "35532              16,333.00                -0.04  Los Angeles   \n",
       "17905             576,786.00                 0.03       Orange   \n",
       "49147             330,000.00                 0.07  Los Angeles   \n",
       "43935             437,002.00                 0.08  Los Angeles   \n",
       "\n",
       "           price_per_sq_ft  lot_price_per_sq_ft  cluster_fips  \n",
       "22620               118.34                14.76             0  \n",
       "35532                48.30                 1.50             1  \n",
       "17905               319.16                64.09             0  \n",
       "49147               225.25                52.78             1  \n",
       "43935               320.93                62.06             1  "
      ]
     },
     "execution_count": 22,
     "metadata": {},
     "output_type": "execute_result"
    }
   ],
   "source": [
    "train.head()"
   ]
  },
  {
   "cell_type": "code",
   "execution_count": 23,
   "metadata": {},
   "outputs": [
    {
     "data": {
      "text/html": [
       "<div>\n",
       "<style scoped>\n",
       "    .dataframe tbody tr th:only-of-type {\n",
       "        vertical-align: middle;\n",
       "    }\n",
       "\n",
       "    .dataframe tbody tr th {\n",
       "        vertical-align: top;\n",
       "    }\n",
       "\n",
       "    .dataframe thead th {\n",
       "        text-align: right;\n",
       "    }\n",
       "</style>\n",
       "<table border=\"1\" class=\"dataframe\">\n",
       "  <thead>\n",
       "    <tr style=\"text-align: right;\">\n",
       "      <th></th>\n",
       "      <th>tax_rate</th>\n",
       "      <th>bathroomcnt</th>\n",
       "      <th>bedroomcnt</th>\n",
       "      <th>calculatedfinishedsquarefeet</th>\n",
       "      <th>fips</th>\n",
       "      <th>garagecarcnt</th>\n",
       "      <th>latitude</th>\n",
       "      <th>longitude</th>\n",
       "      <th>lotsizesquarefeet</th>\n",
       "      <th>poolcnt</th>\n",
       "      <th>taxvaluedollarcnt</th>\n",
       "      <th>yearbuilt</th>\n",
       "      <th>landtaxvaluedollarcnt</th>\n",
       "      <th>logerror</th>\n",
       "      <th>county_name</th>\n",
       "      <th>price_per_sq_ft</th>\n",
       "      <th>lot_price_per_sq_ft</th>\n",
       "      <th>cluster_fips</th>\n",
       "    </tr>\n",
       "  </thead>\n",
       "  <tbody>\n",
       "    <tr>\n",
       "      <th>10408</th>\n",
       "      <td>0.03</td>\n",
       "      <td>2.00</td>\n",
       "      <td>3.00</td>\n",
       "      <td>1,064.00</td>\n",
       "      <td>6,037.00</td>\n",
       "      <td>nan</td>\n",
       "      <td>34.58</td>\n",
       "      <td>-118.06</td>\n",
       "      <td>7,046.00</td>\n",
       "      <td>nan</td>\n",
       "      <td>65,261.00</td>\n",
       "      <td>1,956.00</td>\n",
       "      <td>27,191.00</td>\n",
       "      <td>-0.02</td>\n",
       "      <td>Los Angeles</td>\n",
       "      <td>61.34</td>\n",
       "      <td>3.86</td>\n",
       "      <td>1</td>\n",
       "    </tr>\n",
       "    <tr>\n",
       "      <th>38980</th>\n",
       "      <td>0.01</td>\n",
       "      <td>3.00</td>\n",
       "      <td>5.00</td>\n",
       "      <td>2,486.00</td>\n",
       "      <td>6,037.00</td>\n",
       "      <td>nan</td>\n",
       "      <td>34.17</td>\n",
       "      <td>-118.45</td>\n",
       "      <td>6,889.00</td>\n",
       "      <td>nan</td>\n",
       "      <td>700,760.00</td>\n",
       "      <td>1,947.00</td>\n",
       "      <td>432,253.00</td>\n",
       "      <td>0.05</td>\n",
       "      <td>Los Angeles</td>\n",
       "      <td>281.88</td>\n",
       "      <td>62.75</td>\n",
       "      <td>1</td>\n",
       "    </tr>\n",
       "    <tr>\n",
       "      <th>34986</th>\n",
       "      <td>0.01</td>\n",
       "      <td>2.50</td>\n",
       "      <td>3.00</td>\n",
       "      <td>2,478.00</td>\n",
       "      <td>6,059.00</td>\n",
       "      <td>2.00</td>\n",
       "      <td>33.62</td>\n",
       "      <td>-117.65</td>\n",
       "      <td>6,745.00</td>\n",
       "      <td>1.00</td>\n",
       "      <td>347,952.00</td>\n",
       "      <td>1,975.00</td>\n",
       "      <td>144,512.00</td>\n",
       "      <td>0.19</td>\n",
       "      <td>Orange</td>\n",
       "      <td>140.42</td>\n",
       "      <td>21.43</td>\n",
       "      <td>0</td>\n",
       "    </tr>\n",
       "    <tr>\n",
       "      <th>28445</th>\n",
       "      <td>0.01</td>\n",
       "      <td>2.50</td>\n",
       "      <td>4.00</td>\n",
       "      <td>2,326.00</td>\n",
       "      <td>6,059.00</td>\n",
       "      <td>2.00</td>\n",
       "      <td>33.53</td>\n",
       "      <td>-117.67</td>\n",
       "      <td>3,407.00</td>\n",
       "      <td>nan</td>\n",
       "      <td>433,964.00</td>\n",
       "      <td>2,000.00</td>\n",
       "      <td>210,977.00</td>\n",
       "      <td>0.04</td>\n",
       "      <td>Orange</td>\n",
       "      <td>186.57</td>\n",
       "      <td>61.92</td>\n",
       "      <td>0</td>\n",
       "    </tr>\n",
       "    <tr>\n",
       "      <th>48292</th>\n",
       "      <td>0.01</td>\n",
       "      <td>2.00</td>\n",
       "      <td>4.00</td>\n",
       "      <td>2,147.00</td>\n",
       "      <td>6,059.00</td>\n",
       "      <td>1.00</td>\n",
       "      <td>33.81</td>\n",
       "      <td>-117.98</td>\n",
       "      <td>11,700.00</td>\n",
       "      <td>nan</td>\n",
       "      <td>466,024.00</td>\n",
       "      <td>1,956.00</td>\n",
       "      <td>331,294.00</td>\n",
       "      <td>0.03</td>\n",
       "      <td>Orange</td>\n",
       "      <td>217.06</td>\n",
       "      <td>28.32</td>\n",
       "      <td>0</td>\n",
       "    </tr>\n",
       "  </tbody>\n",
       "</table>\n",
       "</div>"
      ],
      "text/plain": [
       "                  tax_rate          bathroomcnt           bedroomcnt  \\\n",
       "10408                 0.03                 2.00                 3.00   \n",
       "38980                 0.01                 3.00                 5.00   \n",
       "34986                 0.01                 2.50                 3.00   \n",
       "28445                 0.01                 2.50                 4.00   \n",
       "48292                 0.01                 2.00                 4.00   \n",
       "\n",
       "       calculatedfinishedsquarefeet                 fips         garagecarcnt  \\\n",
       "10408                      1,064.00             6,037.00                  nan   \n",
       "38980                      2,486.00             6,037.00                  nan   \n",
       "34986                      2,478.00             6,059.00                 2.00   \n",
       "28445                      2,326.00             6,059.00                 2.00   \n",
       "48292                      2,147.00             6,059.00                 1.00   \n",
       "\n",
       "                  latitude            longitude    lotsizesquarefeet  \\\n",
       "10408                34.58              -118.06             7,046.00   \n",
       "38980                34.17              -118.45             6,889.00   \n",
       "34986                33.62              -117.65             6,745.00   \n",
       "28445                33.53              -117.67             3,407.00   \n",
       "48292                33.81              -117.98            11,700.00   \n",
       "\n",
       "                   poolcnt    taxvaluedollarcnt            yearbuilt  \\\n",
       "10408                  nan            65,261.00             1,956.00   \n",
       "38980                  nan           700,760.00             1,947.00   \n",
       "34986                 1.00           347,952.00             1,975.00   \n",
       "28445                  nan           433,964.00             2,000.00   \n",
       "48292                  nan           466,024.00             1,956.00   \n",
       "\n",
       "       landtaxvaluedollarcnt             logerror  county_name  \\\n",
       "10408              27,191.00                -0.02  Los Angeles   \n",
       "38980             432,253.00                 0.05  Los Angeles   \n",
       "34986             144,512.00                 0.19       Orange   \n",
       "28445             210,977.00                 0.04       Orange   \n",
       "48292             331,294.00                 0.03       Orange   \n",
       "\n",
       "           price_per_sq_ft  lot_price_per_sq_ft  cluster_fips  \n",
       "10408                61.34                 3.86             1  \n",
       "38980               281.88                62.75             1  \n",
       "34986               140.42                21.43             0  \n",
       "28445               186.57                61.92             0  \n",
       "48292               217.06                28.32             0  "
      ]
     },
     "execution_count": 23,
     "metadata": {},
     "output_type": "execute_result"
    }
   ],
   "source": [
    "test.head()"
   ]
  },
  {
   "cell_type": "code",
   "execution_count": 24,
   "metadata": {},
   "outputs": [],
   "source": [
    "# X1 = train[['fips']]\n",
    "# X2 = test[['fips']]"
   ]
  },
  {
   "cell_type": "code",
   "execution_count": 25,
   "metadata": {},
   "outputs": [],
   "source": [
    "# X1 = train[['fips']]\n",
    "# X2 = test[['fips']]\n",
    "\n",
    "# kmeans = KMeans(n_clusters=3, random_state=123, n_init=1, max_iter=100)\n",
    "# kmeans.fit(X1)\n",
    "\n",
    "# train['cluster'] = pd.Series(kmeans.predict(X1)).astype(str)\n",
    "# test['cluster'] = pd.Series(kmeans.predict(X2)).astype(str)\n",
    "                                         \n",
    "# PREDICT ON X_train and predict on X_test for other clustering"
   ]
  },
  {
   "cell_type": "code",
   "execution_count": 26,
   "metadata": {},
   "outputs": [],
   "source": [
    "# train['cluster'] = pd.Series(kmeans.predict(X1)).astype(str)"
   ]
  },
  {
   "cell_type": "code",
   "execution_count": 27,
   "metadata": {},
   "outputs": [],
   "source": [
    "# test['cluster'] = pd.Series(kmeans.predict(X2)).astype(str)"
   ]
  },
  {
   "cell_type": "code",
   "execution_count": null,
   "metadata": {},
   "outputs": [],
   "source": []
  },
  {
   "cell_type": "code",
   "execution_count": 28,
   "metadata": {},
   "outputs": [],
   "source": [
    "# train_cluster_fips.isnull().sum()"
   ]
  },
  {
   "cell_type": "code",
   "execution_count": 29,
   "metadata": {},
   "outputs": [],
   "source": [
    "# train['cluster'] = pd.Series(kmeans.predict(X1)).astype(str)\n",
    "# test['cluster'] = pd.Series(kmeans.predict(X2)).astype(str)"
   ]
  },
  {
   "cell_type": "code",
   "execution_count": 30,
   "metadata": {},
   "outputs": [],
   "source": [
    "# train_cluster_fips.isnull().sum()"
   ]
  },
  {
   "cell_type": "code",
   "execution_count": 31,
   "metadata": {},
   "outputs": [
    {
     "data": {
      "image/png": "[encoded data removed]",
      "text/plain": [
       "<Figure size 432x288 with 1 Axes>"
      ]
     },
     "metadata": {
      "needs_background": "light"
     },
     "output_type": "display_data"
    }
   ],
   "source": [
    "X1 = train[['cluster_fips']]\n",
    "# calculate distortion for a range of numbers of clusters\n",
    "distortions = []\n",
    "for i in range(1, 11):\n",
    "    km = KMeans(\n",
    "        n_clusters=i, init='random',\n",
    "        n_init=10, max_iter=300,\n",
    "        tol=1e-04, random_state=0\n",
    "    )\n",
    "    km.fit(X1)\n",
    "    distortions.append(km.inertia_)\n",
    "\n",
    "# plot\n",
    "plt.plot(range(1, 11), distortions, marker='o')\n",
    "plt.xlabel('Number of clusters')\n",
    "plt.ylabel('Distortion')\n",
    "plt.show()"
   ]
  },
  {
   "cell_type": "code",
   "execution_count": 32,
   "metadata": {},
   "outputs": [],
   "source": [
    "# KMeans.predict?"
   ]
  },
  {
   "cell_type": "markdown",
   "metadata": {},
   "source": [
    "## Clustering based on price per square foot, latitude, and longitude"
   ]
  },
  {
   "cell_type": "code",
   "execution_count": 33,
   "metadata": {},
   "outputs": [
    {
     "data": {
      "text/html": [
       "<div>\n",
       "<style scoped>\n",
       "    .dataframe tbody tr th:only-of-type {\n",
       "        vertical-align: middle;\n",
       "    }\n",
       "\n",
       "    .dataframe tbody tr th {\n",
       "        vertical-align: top;\n",
       "    }\n",
       "\n",
       "    .dataframe thead th {\n",
       "        text-align: right;\n",
       "    }\n",
       "</style>\n",
       "<table border=\"1\" class=\"dataframe\">\n",
       "  <thead>\n",
       "    <tr style=\"text-align: right;\">\n",
       "      <th></th>\n",
       "      <th>tax_rate</th>\n",
       "      <th>bathroomcnt</th>\n",
       "      <th>bedroomcnt</th>\n",
       "      <th>calculatedfinishedsquarefeet</th>\n",
       "      <th>fips</th>\n",
       "      <th>garagecarcnt</th>\n",
       "      <th>latitude</th>\n",
       "      <th>longitude</th>\n",
       "      <th>lotsizesquarefeet</th>\n",
       "      <th>poolcnt</th>\n",
       "      <th>taxvaluedollarcnt</th>\n",
       "      <th>yearbuilt</th>\n",
       "      <th>landtaxvaluedollarcnt</th>\n",
       "      <th>logerror</th>\n",
       "      <th>county_name</th>\n",
       "      <th>price_per_sq_ft</th>\n",
       "      <th>lot_price_per_sq_ft</th>\n",
       "      <th>cluster_fips</th>\n",
       "    </tr>\n",
       "  </thead>\n",
       "  <tbody>\n",
       "    <tr>\n",
       "      <th>22620</th>\n",
       "      <td>0.01</td>\n",
       "      <td>2.00</td>\n",
       "      <td>2.00</td>\n",
       "      <td>1,212.00</td>\n",
       "      <td>6,059.00</td>\n",
       "      <td>2.00</td>\n",
       "      <td>33.85</td>\n",
       "      <td>-118.02</td>\n",
       "      <td>6,000.00</td>\n",
       "      <td>nan</td>\n",
       "      <td>143,427.00</td>\n",
       "      <td>1,955.00</td>\n",
       "      <td>88,553.00</td>\n",
       "      <td>-0.08</td>\n",
       "      <td>Orange</td>\n",
       "      <td>118.34</td>\n",
       "      <td>14.76</td>\n",
       "      <td>0</td>\n",
       "    </tr>\n",
       "    <tr>\n",
       "      <th>35532</th>\n",
       "      <td>0.02</td>\n",
       "      <td>2.00</td>\n",
       "      <td>3.00</td>\n",
       "      <td>1,812.00</td>\n",
       "      <td>6,037.00</td>\n",
       "      <td>nan</td>\n",
       "      <td>34.05</td>\n",
       "      <td>-118.08</td>\n",
       "      <td>10,906.00</td>\n",
       "      <td>nan</td>\n",
       "      <td>87,511.00</td>\n",
       "      <td>1,957.00</td>\n",
       "      <td>16,333.00</td>\n",
       "      <td>-0.04</td>\n",
       "      <td>Los Angeles</td>\n",
       "      <td>48.30</td>\n",
       "      <td>1.50</td>\n",
       "      <td>1</td>\n",
       "    </tr>\n",
       "    <tr>\n",
       "      <th>17905</th>\n",
       "      <td>0.01</td>\n",
       "      <td>3.00</td>\n",
       "      <td>4.00</td>\n",
       "      <td>3,149.00</td>\n",
       "      <td>6,059.00</td>\n",
       "      <td>2.00</td>\n",
       "      <td>33.49</td>\n",
       "      <td>-117.64</td>\n",
       "      <td>9,000.00</td>\n",
       "      <td>1.00</td>\n",
       "      <td>1,005,040.00</td>\n",
       "      <td>1,998.00</td>\n",
       "      <td>576,786.00</td>\n",
       "      <td>0.03</td>\n",
       "      <td>Orange</td>\n",
       "      <td>319.16</td>\n",
       "      <td>64.09</td>\n",
       "      <td>0</td>\n",
       "    </tr>\n",
       "    <tr>\n",
       "      <th>49147</th>\n",
       "      <td>0.01</td>\n",
       "      <td>3.00</td>\n",
       "      <td>4.00</td>\n",
       "      <td>2,859.00</td>\n",
       "      <td>6,037.00</td>\n",
       "      <td>nan</td>\n",
       "      <td>34.45</td>\n",
       "      <td>-118.57</td>\n",
       "      <td>6,252.00</td>\n",
       "      <td>nan</td>\n",
       "      <td>644,000.00</td>\n",
       "      <td>2,003.00</td>\n",
       "      <td>330,000.00</td>\n",
       "      <td>0.07</td>\n",
       "      <td>Los Angeles</td>\n",
       "      <td>225.25</td>\n",
       "      <td>52.78</td>\n",
       "      <td>1</td>\n",
       "    </tr>\n",
       "    <tr>\n",
       "      <th>43935</th>\n",
       "      <td>0.01</td>\n",
       "      <td>3.00</td>\n",
       "      <td>4.00</td>\n",
       "      <td>2,512.00</td>\n",
       "      <td>6,037.00</td>\n",
       "      <td>nan</td>\n",
       "      <td>34.16</td>\n",
       "      <td>-118.41</td>\n",
       "      <td>7,042.00</td>\n",
       "      <td>1.00</td>\n",
       "      <td>806,181.00</td>\n",
       "      <td>1,974.00</td>\n",
       "      <td>437,002.00</td>\n",
       "      <td>0.08</td>\n",
       "      <td>Los Angeles</td>\n",
       "      <td>320.93</td>\n",
       "      <td>62.06</td>\n",
       "      <td>1</td>\n",
       "    </tr>\n",
       "  </tbody>\n",
       "</table>\n",
       "</div>"
      ],
      "text/plain": [
       "                  tax_rate          bathroomcnt           bedroomcnt  \\\n",
       "22620                 0.01                 2.00                 2.00   \n",
       "35532                 0.02                 2.00                 3.00   \n",
       "17905                 0.01                 3.00                 4.00   \n",
       "49147                 0.01                 3.00                 4.00   \n",
       "43935                 0.01                 3.00                 4.00   \n",
       "\n",
       "       calculatedfinishedsquarefeet                 fips         garagecarcnt  \\\n",
       "22620                      1,212.00             6,059.00                 2.00   \n",
       "35532                      1,812.00             6,037.00                  nan   \n",
       "17905                      3,149.00             6,059.00                 2.00   \n",
       "49147                      2,859.00             6,037.00                  nan   \n",
       "43935                      2,512.00             6,037.00                  nan   \n",
       "\n",
       "                  latitude            longitude    lotsizesquarefeet  \\\n",
       "22620                33.85              -118.02             6,000.00   \n",
       "35532                34.05              -118.08            10,906.00   \n",
       "17905                33.49              -117.64             9,000.00   \n",
       "49147                34.45              -118.57             6,252.00   \n",
       "43935                34.16              -118.41             7,042.00   \n",
       "\n",
       "                   poolcnt    taxvaluedollarcnt            yearbuilt  \\\n",
       "22620                  nan           143,427.00             1,955.00   \n",
       "35532                  nan            87,511.00             1,957.00   \n",
       "17905                 1.00         1,005,040.00             1,998.00   \n",
       "49147                  nan           644,000.00             2,003.00   \n",
       "43935                 1.00           806,181.00             1,974.00   \n",
       "\n",
       "       landtaxvaluedollarcnt             logerror  county_name  \\\n",
       "22620              88,553.00                -0.08       Orange   \n",
       "35532              16,333.00                -0.04  Los Angeles   \n",
       "17905             576,786.00                 0.03       Orange   \n",
       "49147             330,000.00                 0.07  Los Angeles   \n",
       "43935             437,002.00                 0.08  Los Angeles   \n",
       "\n",
       "           price_per_sq_ft  lot_price_per_sq_ft  cluster_fips  \n",
       "22620               118.34                14.76             0  \n",
       "35532                48.30                 1.50             1  \n",
       "17905               319.16                64.09             0  \n",
       "49147               225.25                52.78             1  \n",
       "43935               320.93                62.06             1  "
      ]
     },
     "execution_count": 33,
     "metadata": {},
     "output_type": "execute_result"
    }
   ],
   "source": [
    "train.head()"
   ]
  },
  {
   "cell_type": "code",
   "execution_count": 34,
   "metadata": {},
   "outputs": [],
   "source": [
    "kmeans = KMeans(n_clusters=10, n_init=1, max_iter=100, random_state=123)"
   ]
  },
  {
   "cell_type": "code",
   "execution_count": 35,
   "metadata": {},
   "outputs": [],
   "source": [
    "train.price_per_sq_ft = train.price_per_sq_ft.isnull().dropna()"
   ]
  },
  {
   "cell_type": "code",
   "execution_count": 36,
   "metadata": {},
   "outputs": [],
   "source": [
    "test.price_per_sq_ft = test.price_per_sq_ft.isnull().dropna()"
   ]
  },
  {
   "cell_type": "code",
   "execution_count": 37,
   "metadata": {},
   "outputs": [
    {
     "data": {
      "text/plain": [
       "0"
      ]
     },
     "execution_count": 37,
     "metadata": {},
     "output_type": "execute_result"
    }
   ],
   "source": [
    "train.price_per_sq_ft.isnull().sum()"
   ]
  },
  {
   "cell_type": "code",
   "execution_count": 38,
   "metadata": {},
   "outputs": [
    {
     "data": {
      "text/plain": [
       "KMeans(algorithm='auto', copy_x=True, init='k-means++', max_iter=100,\n",
       "       n_clusters=10, n_init=1, n_jobs=None, precompute_distances='auto',\n",
       "       random_state=123, tol=0.0001, verbose=0)"
      ]
     },
     "execution_count": 38,
     "metadata": {},
     "output_type": "execute_result"
    }
   ],
   "source": [
    "kmeans.fit(train[['price_per_sq_ft', 'latitude', 'longitude']])"
   ]
  },
  {
   "cell_type": "code",
   "execution_count": 39,
   "metadata": {},
   "outputs": [],
   "source": [
    "cluster = 'cluster_' + str('sqft')\n",
    "\n",
    "train[cluster] = kmeans.predict(train[['price_per_sq_ft', 'latitude', 'longitude']])\n",
    "\n",
    "test[cluster] = kmeans.predict(test[['price_per_sq_ft', 'latitude', 'longitude']])"
   ]
  },
  {
   "cell_type": "code",
   "execution_count": 40,
   "metadata": {},
   "outputs": [
    {
     "data": {
      "image/png": "[encoded data removed]",
      "text/plain": [
       "<Figure size 432x288 with 1 Axes>"
      ]
     },
     "metadata": {
      "needs_background": "light"
     },
     "output_type": "display_data"
    }
   ],
   "source": [
    "X2 = train[['price_per_sq_ft', 'latitude', 'longitude']]\n",
    "# calculate distortion for a range of numbers of clusters\n",
    "distortions = []\n",
    "for i in range(1, 11):\n",
    "    km = KMeans(\n",
    "        n_clusters=i, init='random',\n",
    "        n_init=10, max_iter=300,\n",
    "        tol=1e-04, random_state=0\n",
    "    )\n",
    "    km.fit(X2)\n",
    "    distortions.append(km.inertia_)\n",
    "\n",
    "# plot\n",
    "plt.plot(range(1, 11), distortions, marker='o')\n",
    "plt.xlabel('Number of clusters')\n",
    "plt.ylabel('Distortion')\n",
    "plt.show()"
   ]
  },
  {
   "cell_type": "markdown",
   "metadata": {},
   "source": [
    "### Encode clusters"
   ]
  },
  {
   "cell_type": "code",
   "execution_count": 41,
   "metadata": {
    "scrolled": true
   },
   "outputs": [
    {
     "data": {
      "text/html": [
       "<div>\n",
       "<style scoped>\n",
       "    .dataframe tbody tr th:only-of-type {\n",
       "        vertical-align: middle;\n",
       "    }\n",
       "\n",
       "    .dataframe tbody tr th {\n",
       "        vertical-align: top;\n",
       "    }\n",
       "\n",
       "    .dataframe thead th {\n",
       "        text-align: right;\n",
       "    }\n",
       "</style>\n",
       "<table border=\"1\" class=\"dataframe\">\n",
       "  <thead>\n",
       "    <tr style=\"text-align: right;\">\n",
       "      <th></th>\n",
       "      <th>tax_rate</th>\n",
       "      <th>bathroomcnt</th>\n",
       "      <th>bedroomcnt</th>\n",
       "      <th>calculatedfinishedsquarefeet</th>\n",
       "      <th>fips</th>\n",
       "      <th>garagecarcnt</th>\n",
       "      <th>latitude</th>\n",
       "      <th>longitude</th>\n",
       "      <th>lotsizesquarefeet</th>\n",
       "      <th>poolcnt</th>\n",
       "      <th>taxvaluedollarcnt</th>\n",
       "      <th>yearbuilt</th>\n",
       "      <th>landtaxvaluedollarcnt</th>\n",
       "      <th>logerror</th>\n",
       "      <th>county_name</th>\n",
       "      <th>price_per_sq_ft</th>\n",
       "      <th>lot_price_per_sq_ft</th>\n",
       "      <th>cluster_fips</th>\n",
       "      <th>cluster_sqft</th>\n",
       "    </tr>\n",
       "  </thead>\n",
       "  <tbody>\n",
       "    <tr>\n",
       "      <th>22620</th>\n",
       "      <td>0.01</td>\n",
       "      <td>2.00</td>\n",
       "      <td>2.00</td>\n",
       "      <td>1,212.00</td>\n",
       "      <td>6,059.00</td>\n",
       "      <td>2.00</td>\n",
       "      <td>33.85</td>\n",
       "      <td>-118.02</td>\n",
       "      <td>6,000.00</td>\n",
       "      <td>nan</td>\n",
       "      <td>143,427.00</td>\n",
       "      <td>1,955.00</td>\n",
       "      <td>88,553.00</td>\n",
       "      <td>-0.08</td>\n",
       "      <td>Orange</td>\n",
       "      <td>False</td>\n",
       "      <td>14.76</td>\n",
       "      <td>0</td>\n",
       "      <td>8</td>\n",
       "    </tr>\n",
       "    <tr>\n",
       "      <th>35532</th>\n",
       "      <td>0.02</td>\n",
       "      <td>2.00</td>\n",
       "      <td>3.00</td>\n",
       "      <td>1,812.00</td>\n",
       "      <td>6,037.00</td>\n",
       "      <td>nan</td>\n",
       "      <td>34.05</td>\n",
       "      <td>-118.08</td>\n",
       "      <td>10,906.00</td>\n",
       "      <td>nan</td>\n",
       "      <td>87,511.00</td>\n",
       "      <td>1,957.00</td>\n",
       "      <td>16,333.00</td>\n",
       "      <td>-0.04</td>\n",
       "      <td>Los Angeles</td>\n",
       "      <td>False</td>\n",
       "      <td>1.50</td>\n",
       "      <td>1</td>\n",
       "      <td>1</td>\n",
       "    </tr>\n",
       "    <tr>\n",
       "      <th>17905</th>\n",
       "      <td>0.01</td>\n",
       "      <td>3.00</td>\n",
       "      <td>4.00</td>\n",
       "      <td>3,149.00</td>\n",
       "      <td>6,059.00</td>\n",
       "      <td>2.00</td>\n",
       "      <td>33.49</td>\n",
       "      <td>-117.64</td>\n",
       "      <td>9,000.00</td>\n",
       "      <td>1.00</td>\n",
       "      <td>1,005,040.00</td>\n",
       "      <td>1,998.00</td>\n",
       "      <td>576,786.00</td>\n",
       "      <td>0.03</td>\n",
       "      <td>Orange</td>\n",
       "      <td>False</td>\n",
       "      <td>64.09</td>\n",
       "      <td>0</td>\n",
       "      <td>0</td>\n",
       "    </tr>\n",
       "    <tr>\n",
       "      <th>49147</th>\n",
       "      <td>0.01</td>\n",
       "      <td>3.00</td>\n",
       "      <td>4.00</td>\n",
       "      <td>2,859.00</td>\n",
       "      <td>6,037.00</td>\n",
       "      <td>nan</td>\n",
       "      <td>34.45</td>\n",
       "      <td>-118.57</td>\n",
       "      <td>6,252.00</td>\n",
       "      <td>nan</td>\n",
       "      <td>644,000.00</td>\n",
       "      <td>2,003.00</td>\n",
       "      <td>330,000.00</td>\n",
       "      <td>0.07</td>\n",
       "      <td>Los Angeles</td>\n",
       "      <td>False</td>\n",
       "      <td>52.78</td>\n",
       "      <td>1</td>\n",
       "      <td>9</td>\n",
       "    </tr>\n",
       "    <tr>\n",
       "      <th>43935</th>\n",
       "      <td>0.01</td>\n",
       "      <td>3.00</td>\n",
       "      <td>4.00</td>\n",
       "      <td>2,512.00</td>\n",
       "      <td>6,037.00</td>\n",
       "      <td>nan</td>\n",
       "      <td>34.16</td>\n",
       "      <td>-118.41</td>\n",
       "      <td>7,042.00</td>\n",
       "      <td>1.00</td>\n",
       "      <td>806,181.00</td>\n",
       "      <td>1,974.00</td>\n",
       "      <td>437,002.00</td>\n",
       "      <td>0.08</td>\n",
       "      <td>Los Angeles</td>\n",
       "      <td>False</td>\n",
       "      <td>62.06</td>\n",
       "      <td>1</td>\n",
       "      <td>7</td>\n",
       "    </tr>\n",
       "  </tbody>\n",
       "</table>\n",
       "</div>"
      ],
      "text/plain": [
       "                  tax_rate          bathroomcnt           bedroomcnt  \\\n",
       "22620                 0.01                 2.00                 2.00   \n",
       "35532                 0.02                 2.00                 3.00   \n",
       "17905                 0.01                 3.00                 4.00   \n",
       "49147                 0.01                 3.00                 4.00   \n",
       "43935                 0.01                 3.00                 4.00   \n",
       "\n",
       "       calculatedfinishedsquarefeet                 fips         garagecarcnt  \\\n",
       "22620                      1,212.00             6,059.00                 2.00   \n",
       "35532                      1,812.00             6,037.00                  nan   \n",
       "17905                      3,149.00             6,059.00                 2.00   \n",
       "49147                      2,859.00             6,037.00                  nan   \n",
       "43935                      2,512.00             6,037.00                  nan   \n",
       "\n",
       "                  latitude            longitude    lotsizesquarefeet  \\\n",
       "22620                33.85              -118.02             6,000.00   \n",
       "35532                34.05              -118.08            10,906.00   \n",
       "17905                33.49              -117.64             9,000.00   \n",
       "49147                34.45              -118.57             6,252.00   \n",
       "43935                34.16              -118.41             7,042.00   \n",
       "\n",
       "                   poolcnt    taxvaluedollarcnt            yearbuilt  \\\n",
       "22620                  nan           143,427.00             1,955.00   \n",
       "35532                  nan            87,511.00             1,957.00   \n",
       "17905                 1.00         1,005,040.00             1,998.00   \n",
       "49147                  nan           644,000.00             2,003.00   \n",
       "43935                 1.00           806,181.00             1,974.00   \n",
       "\n",
       "       landtaxvaluedollarcnt             logerror  county_name  \\\n",
       "22620              88,553.00                -0.08       Orange   \n",
       "35532              16,333.00                -0.04  Los Angeles   \n",
       "17905             576,786.00                 0.03       Orange   \n",
       "49147             330,000.00                 0.07  Los Angeles   \n",
       "43935             437,002.00                 0.08  Los Angeles   \n",
       "\n",
       "       price_per_sq_ft  lot_price_per_sq_ft  cluster_fips  cluster_sqft  \n",
       "22620            False                14.76             0             8  \n",
       "35532            False                 1.50             1             1  \n",
       "17905            False                64.09             0             0  \n",
       "49147            False                52.78             1             9  \n",
       "43935            False                62.06             1             7  "
      ]
     },
     "execution_count": 41,
     "metadata": {},
     "output_type": "execute_result"
    }
   ],
   "source": [
    "train.head()"
   ]
  },
  {
   "cell_type": "code",
   "execution_count": 42,
   "metadata": {},
   "outputs": [
    {
     "data": {
      "text/html": [
       "<div>\n",
       "<style scoped>\n",
       "    .dataframe tbody tr th:only-of-type {\n",
       "        vertical-align: middle;\n",
       "    }\n",
       "\n",
       "    .dataframe tbody tr th {\n",
       "        vertical-align: top;\n",
       "    }\n",
       "\n",
       "    .dataframe thead th {\n",
       "        text-align: right;\n",
       "    }\n",
       "</style>\n",
       "<table border=\"1\" class=\"dataframe\">\n",
       "  <thead>\n",
       "    <tr style=\"text-align: right;\">\n",
       "      <th></th>\n",
       "      <th>tax_rate</th>\n",
       "      <th>bathroomcnt</th>\n",
       "      <th>bedroomcnt</th>\n",
       "      <th>calculatedfinishedsquarefeet</th>\n",
       "      <th>fips</th>\n",
       "      <th>garagecarcnt</th>\n",
       "      <th>latitude</th>\n",
       "      <th>longitude</th>\n",
       "      <th>lotsizesquarefeet</th>\n",
       "      <th>poolcnt</th>\n",
       "      <th>taxvaluedollarcnt</th>\n",
       "      <th>yearbuilt</th>\n",
       "      <th>landtaxvaluedollarcnt</th>\n",
       "      <th>logerror</th>\n",
       "      <th>county_name</th>\n",
       "      <th>price_per_sq_ft</th>\n",
       "      <th>lot_price_per_sq_ft</th>\n",
       "      <th>cluster_fips</th>\n",
       "      <th>cluster_sqft</th>\n",
       "    </tr>\n",
       "  </thead>\n",
       "  <tbody>\n",
       "    <tr>\n",
       "      <th>10408</th>\n",
       "      <td>0.03</td>\n",
       "      <td>2.00</td>\n",
       "      <td>3.00</td>\n",
       "      <td>1,064.00</td>\n",
       "      <td>6,037.00</td>\n",
       "      <td>nan</td>\n",
       "      <td>34.58</td>\n",
       "      <td>-118.06</td>\n",
       "      <td>7,046.00</td>\n",
       "      <td>nan</td>\n",
       "      <td>65,261.00</td>\n",
       "      <td>1,956.00</td>\n",
       "      <td>27,191.00</td>\n",
       "      <td>-0.02</td>\n",
       "      <td>Los Angeles</td>\n",
       "      <td>False</td>\n",
       "      <td>3.86</td>\n",
       "      <td>1</td>\n",
       "      <td>4</td>\n",
       "    </tr>\n",
       "    <tr>\n",
       "      <th>38980</th>\n",
       "      <td>0.01</td>\n",
       "      <td>3.00</td>\n",
       "      <td>5.00</td>\n",
       "      <td>2,486.00</td>\n",
       "      <td>6,037.00</td>\n",
       "      <td>nan</td>\n",
       "      <td>34.17</td>\n",
       "      <td>-118.45</td>\n",
       "      <td>6,889.00</td>\n",
       "      <td>nan</td>\n",
       "      <td>700,760.00</td>\n",
       "      <td>1,947.00</td>\n",
       "      <td>432,253.00</td>\n",
       "      <td>0.05</td>\n",
       "      <td>Los Angeles</td>\n",
       "      <td>False</td>\n",
       "      <td>62.75</td>\n",
       "      <td>1</td>\n",
       "      <td>7</td>\n",
       "    </tr>\n",
       "    <tr>\n",
       "      <th>34986</th>\n",
       "      <td>0.01</td>\n",
       "      <td>2.50</td>\n",
       "      <td>3.00</td>\n",
       "      <td>2,478.00</td>\n",
       "      <td>6,059.00</td>\n",
       "      <td>2.00</td>\n",
       "      <td>33.62</td>\n",
       "      <td>-117.65</td>\n",
       "      <td>6,745.00</td>\n",
       "      <td>1.00</td>\n",
       "      <td>347,952.00</td>\n",
       "      <td>1,975.00</td>\n",
       "      <td>144,512.00</td>\n",
       "      <td>0.19</td>\n",
       "      <td>Orange</td>\n",
       "      <td>False</td>\n",
       "      <td>21.43</td>\n",
       "      <td>0</td>\n",
       "      <td>0</td>\n",
       "    </tr>\n",
       "    <tr>\n",
       "      <th>28445</th>\n",
       "      <td>0.01</td>\n",
       "      <td>2.50</td>\n",
       "      <td>4.00</td>\n",
       "      <td>2,326.00</td>\n",
       "      <td>6,059.00</td>\n",
       "      <td>2.00</td>\n",
       "      <td>33.53</td>\n",
       "      <td>-117.67</td>\n",
       "      <td>3,407.00</td>\n",
       "      <td>nan</td>\n",
       "      <td>433,964.00</td>\n",
       "      <td>2,000.00</td>\n",
       "      <td>210,977.00</td>\n",
       "      <td>0.04</td>\n",
       "      <td>Orange</td>\n",
       "      <td>False</td>\n",
       "      <td>61.92</td>\n",
       "      <td>0</td>\n",
       "      <td>0</td>\n",
       "    </tr>\n",
       "    <tr>\n",
       "      <th>48292</th>\n",
       "      <td>0.01</td>\n",
       "      <td>2.00</td>\n",
       "      <td>4.00</td>\n",
       "      <td>2,147.00</td>\n",
       "      <td>6,059.00</td>\n",
       "      <td>1.00</td>\n",
       "      <td>33.81</td>\n",
       "      <td>-117.98</td>\n",
       "      <td>11,700.00</td>\n",
       "      <td>nan</td>\n",
       "      <td>466,024.00</td>\n",
       "      <td>1,956.00</td>\n",
       "      <td>331,294.00</td>\n",
       "      <td>0.03</td>\n",
       "      <td>Orange</td>\n",
       "      <td>False</td>\n",
       "      <td>28.32</td>\n",
       "      <td>0</td>\n",
       "      <td>8</td>\n",
       "    </tr>\n",
       "  </tbody>\n",
       "</table>\n",
       "</div>"
      ],
      "text/plain": [
       "                  tax_rate          bathroomcnt           bedroomcnt  \\\n",
       "10408                 0.03                 2.00                 3.00   \n",
       "38980                 0.01                 3.00                 5.00   \n",
       "34986                 0.01                 2.50                 3.00   \n",
       "28445                 0.01                 2.50                 4.00   \n",
       "48292                 0.01                 2.00                 4.00   \n",
       "\n",
       "       calculatedfinishedsquarefeet                 fips         garagecarcnt  \\\n",
       "10408                      1,064.00             6,037.00                  nan   \n",
       "38980                      2,486.00             6,037.00                  nan   \n",
       "34986                      2,478.00             6,059.00                 2.00   \n",
       "28445                      2,326.00             6,059.00                 2.00   \n",
       "48292                      2,147.00             6,059.00                 1.00   \n",
       "\n",
       "                  latitude            longitude    lotsizesquarefeet  \\\n",
       "10408                34.58              -118.06             7,046.00   \n",
       "38980                34.17              -118.45             6,889.00   \n",
       "34986                33.62              -117.65             6,745.00   \n",
       "28445                33.53              -117.67             3,407.00   \n",
       "48292                33.81              -117.98            11,700.00   \n",
       "\n",
       "                   poolcnt    taxvaluedollarcnt            yearbuilt  \\\n",
       "10408                  nan            65,261.00             1,956.00   \n",
       "38980                  nan           700,760.00             1,947.00   \n",
       "34986                 1.00           347,952.00             1,975.00   \n",
       "28445                  nan           433,964.00             2,000.00   \n",
       "48292                  nan           466,024.00             1,956.00   \n",
       "\n",
       "       landtaxvaluedollarcnt             logerror  county_name  \\\n",
       "10408              27,191.00                -0.02  Los Angeles   \n",
       "38980             432,253.00                 0.05  Los Angeles   \n",
       "34986             144,512.00                 0.19       Orange   \n",
       "28445             210,977.00                 0.04       Orange   \n",
       "48292             331,294.00                 0.03       Orange   \n",
       "\n",
       "       price_per_sq_ft  lot_price_per_sq_ft  cluster_fips  cluster_sqft  \n",
       "10408            False                 3.86             1             4  \n",
       "38980            False                62.75             1             7  \n",
       "34986            False                21.43             0             0  \n",
       "28445            False                61.92             0             0  \n",
       "48292            False                28.32             0             8  "
      ]
     },
     "execution_count": 42,
     "metadata": {},
     "output_type": "execute_result"
    }
   ],
   "source": [
    "test.head()"
   ]
  },
  {
   "cell_type": "code",
   "execution_count": 43,
   "metadata": {},
   "outputs": [],
   "source": [
    "train_cluster_fips = train.drop(columns='cluster_sqft')\n",
    "test_cluster_fips = test.drop(columns='cluster_sqft')"
   ]
  },
  {
   "cell_type": "code",
   "execution_count": 44,
   "metadata": {},
   "outputs": [],
   "source": [
    "train_cluster_sqft = train.drop(columns='cluster_fips')\n",
    "test_cluster_sqft = test.drop(columns='cluster_fips')"
   ]
  },
  {
   "cell_type": "code",
   "execution_count": 46,
   "metadata": {},
   "outputs": [
    {
     "data": {
      "text/html": [
       "<div>\n",
       "<style scoped>\n",
       "    .dataframe tbody tr th:only-of-type {\n",
       "        vertical-align: middle;\n",
       "    }\n",
       "\n",
       "    .dataframe tbody tr th {\n",
       "        vertical-align: top;\n",
       "    }\n",
       "\n",
       "    .dataframe thead th {\n",
       "        text-align: right;\n",
       "    }\n",
       "</style>\n",
       "<table border=\"1\" class=\"dataframe\">\n",
       "  <thead>\n",
       "    <tr style=\"text-align: right;\">\n",
       "      <th></th>\n",
       "      <th>tax_rate</th>\n",
       "      <th>bathroomcnt</th>\n",
       "      <th>bedroomcnt</th>\n",
       "      <th>calculatedfinishedsquarefeet</th>\n",
       "      <th>fips</th>\n",
       "      <th>garagecarcnt</th>\n",
       "      <th>latitude</th>\n",
       "      <th>longitude</th>\n",
       "      <th>lotsizesquarefeet</th>\n",
       "      <th>poolcnt</th>\n",
       "      <th>taxvaluedollarcnt</th>\n",
       "      <th>yearbuilt</th>\n",
       "      <th>landtaxvaluedollarcnt</th>\n",
       "      <th>logerror</th>\n",
       "      <th>county_name</th>\n",
       "      <th>price_per_sq_ft</th>\n",
       "      <th>lot_price_per_sq_ft</th>\n",
       "      <th>cluster_fips</th>\n",
       "    </tr>\n",
       "  </thead>\n",
       "  <tbody>\n",
       "    <tr>\n",
       "      <th>22620</th>\n",
       "      <td>0.01</td>\n",
       "      <td>2.00</td>\n",
       "      <td>2.00</td>\n",
       "      <td>1,212.00</td>\n",
       "      <td>6,059.00</td>\n",
       "      <td>2.00</td>\n",
       "      <td>33.85</td>\n",
       "      <td>-118.02</td>\n",
       "      <td>6,000.00</td>\n",
       "      <td>nan</td>\n",
       "      <td>143,427.00</td>\n",
       "      <td>1,955.00</td>\n",
       "      <td>88,553.00</td>\n",
       "      <td>-0.08</td>\n",
       "      <td>Orange</td>\n",
       "      <td>False</td>\n",
       "      <td>14.76</td>\n",
       "      <td>0</td>\n",
       "    </tr>\n",
       "    <tr>\n",
       "      <th>35532</th>\n",
       "      <td>0.02</td>\n",
       "      <td>2.00</td>\n",
       "      <td>3.00</td>\n",
       "      <td>1,812.00</td>\n",
       "      <td>6,037.00</td>\n",
       "      <td>nan</td>\n",
       "      <td>34.05</td>\n",
       "      <td>-118.08</td>\n",
       "      <td>10,906.00</td>\n",
       "      <td>nan</td>\n",
       "      <td>87,511.00</td>\n",
       "      <td>1,957.00</td>\n",
       "      <td>16,333.00</td>\n",
       "      <td>-0.04</td>\n",
       "      <td>Los Angeles</td>\n",
       "      <td>False</td>\n",
       "      <td>1.50</td>\n",
       "      <td>1</td>\n",
       "    </tr>\n",
       "    <tr>\n",
       "      <th>17905</th>\n",
       "      <td>0.01</td>\n",
       "      <td>3.00</td>\n",
       "      <td>4.00</td>\n",
       "      <td>3,149.00</td>\n",
       "      <td>6,059.00</td>\n",
       "      <td>2.00</td>\n",
       "      <td>33.49</td>\n",
       "      <td>-117.64</td>\n",
       "      <td>9,000.00</td>\n",
       "      <td>1.00</td>\n",
       "      <td>1,005,040.00</td>\n",
       "      <td>1,998.00</td>\n",
       "      <td>576,786.00</td>\n",
       "      <td>0.03</td>\n",
       "      <td>Orange</td>\n",
       "      <td>False</td>\n",
       "      <td>64.09</td>\n",
       "      <td>0</td>\n",
       "    </tr>\n",
       "    <tr>\n",
       "      <th>49147</th>\n",
       "      <td>0.01</td>\n",
       "      <td>3.00</td>\n",
       "      <td>4.00</td>\n",
       "      <td>2,859.00</td>\n",
       "      <td>6,037.00</td>\n",
       "      <td>nan</td>\n",
       "      <td>34.45</td>\n",
       "      <td>-118.57</td>\n",
       "      <td>6,252.00</td>\n",
       "      <td>nan</td>\n",
       "      <td>644,000.00</td>\n",
       "      <td>2,003.00</td>\n",
       "      <td>330,000.00</td>\n",
       "      <td>0.07</td>\n",
       "      <td>Los Angeles</td>\n",
       "      <td>False</td>\n",
       "      <td>52.78</td>\n",
       "      <td>1</td>\n",
       "    </tr>\n",
       "    <tr>\n",
       "      <th>43935</th>\n",
       "      <td>0.01</td>\n",
       "      <td>3.00</td>\n",
       "      <td>4.00</td>\n",
       "      <td>2,512.00</td>\n",
       "      <td>6,037.00</td>\n",
       "      <td>nan</td>\n",
       "      <td>34.16</td>\n",
       "      <td>-118.41</td>\n",
       "      <td>7,042.00</td>\n",
       "      <td>1.00</td>\n",
       "      <td>806,181.00</td>\n",
       "      <td>1,974.00</td>\n",
       "      <td>437,002.00</td>\n",
       "      <td>0.08</td>\n",
       "      <td>Los Angeles</td>\n",
       "      <td>False</td>\n",
       "      <td>62.06</td>\n",
       "      <td>1</td>\n",
       "    </tr>\n",
       "  </tbody>\n",
       "</table>\n",
       "</div>"
      ],
      "text/plain": [
       "                  tax_rate          bathroomcnt           bedroomcnt  \\\n",
       "22620                 0.01                 2.00                 2.00   \n",
       "35532                 0.02                 2.00                 3.00   \n",
       "17905                 0.01                 3.00                 4.00   \n",
       "49147                 0.01                 3.00                 4.00   \n",
       "43935                 0.01                 3.00                 4.00   \n",
       "\n",
       "       calculatedfinishedsquarefeet                 fips         garagecarcnt  \\\n",
       "22620                      1,212.00             6,059.00                 2.00   \n",
       "35532                      1,812.00             6,037.00                  nan   \n",
       "17905                      3,149.00             6,059.00                 2.00   \n",
       "49147                      2,859.00             6,037.00                  nan   \n",
       "43935                      2,512.00             6,037.00                  nan   \n",
       "\n",
       "                  latitude            longitude    lotsizesquarefeet  \\\n",
       "22620                33.85              -118.02             6,000.00   \n",
       "35532                34.05              -118.08            10,906.00   \n",
       "17905                33.49              -117.64             9,000.00   \n",
       "49147                34.45              -118.57             6,252.00   \n",
       "43935                34.16              -118.41             7,042.00   \n",
       "\n",
       "                   poolcnt    taxvaluedollarcnt            yearbuilt  \\\n",
       "22620                  nan           143,427.00             1,955.00   \n",
       "35532                  nan            87,511.00             1,957.00   \n",
       "17905                 1.00         1,005,040.00             1,998.00   \n",
       "49147                  nan           644,000.00             2,003.00   \n",
       "43935                 1.00           806,181.00             1,974.00   \n",
       "\n",
       "       landtaxvaluedollarcnt             logerror  county_name  \\\n",
       "22620              88,553.00                -0.08       Orange   \n",
       "35532              16,333.00                -0.04  Los Angeles   \n",
       "17905             576,786.00                 0.03       Orange   \n",
       "49147             330,000.00                 0.07  Los Angeles   \n",
       "43935             437,002.00                 0.08  Los Angeles   \n",
       "\n",
       "       price_per_sq_ft  lot_price_per_sq_ft  cluster_fips  \n",
       "22620            False                14.76             0  \n",
       "35532            False                 1.50             1  \n",
       "17905            False                64.09             0  \n",
       "49147            False                52.78             1  \n",
       "43935            False                62.06             1  "
      ]
     },
     "execution_count": 46,
     "metadata": {},
     "output_type": "execute_result"
    }
   ],
   "source": [
    "train_cluster_fips.head()"
   ]
  },
  {
   "cell_type": "code",
   "execution_count": 47,
   "metadata": {},
   "outputs": [
    {
     "data": {
      "text/html": [
       "<div>\n",
       "<style scoped>\n",
       "    .dataframe tbody tr th:only-of-type {\n",
       "        vertical-align: middle;\n",
       "    }\n",
       "\n",
       "    .dataframe tbody tr th {\n",
       "        vertical-align: top;\n",
       "    }\n",
       "\n",
       "    .dataframe thead th {\n",
       "        text-align: right;\n",
       "    }\n",
       "</style>\n",
       "<table border=\"1\" class=\"dataframe\">\n",
       "  <thead>\n",
       "    <tr style=\"text-align: right;\">\n",
       "      <th></th>\n",
       "      <th>tax_rate</th>\n",
       "      <th>bathroomcnt</th>\n",
       "      <th>bedroomcnt</th>\n",
       "      <th>calculatedfinishedsquarefeet</th>\n",
       "      <th>fips</th>\n",
       "      <th>garagecarcnt</th>\n",
       "      <th>latitude</th>\n",
       "      <th>longitude</th>\n",
       "      <th>lotsizesquarefeet</th>\n",
       "      <th>poolcnt</th>\n",
       "      <th>taxvaluedollarcnt</th>\n",
       "      <th>yearbuilt</th>\n",
       "      <th>landtaxvaluedollarcnt</th>\n",
       "      <th>logerror</th>\n",
       "      <th>county_name</th>\n",
       "      <th>price_per_sq_ft</th>\n",
       "      <th>lot_price_per_sq_ft</th>\n",
       "      <th>cluster_fips</th>\n",
       "    </tr>\n",
       "  </thead>\n",
       "  <tbody>\n",
       "    <tr>\n",
       "      <th>10408</th>\n",
       "      <td>0.03</td>\n",
       "      <td>2.00</td>\n",
       "      <td>3.00</td>\n",
       "      <td>1,064.00</td>\n",
       "      <td>6,037.00</td>\n",
       "      <td>nan</td>\n",
       "      <td>34.58</td>\n",
       "      <td>-118.06</td>\n",
       "      <td>7,046.00</td>\n",
       "      <td>nan</td>\n",
       "      <td>65,261.00</td>\n",
       "      <td>1,956.00</td>\n",
       "      <td>27,191.00</td>\n",
       "      <td>-0.02</td>\n",
       "      <td>Los Angeles</td>\n",
       "      <td>False</td>\n",
       "      <td>3.86</td>\n",
       "      <td>1</td>\n",
       "    </tr>\n",
       "    <tr>\n",
       "      <th>38980</th>\n",
       "      <td>0.01</td>\n",
       "      <td>3.00</td>\n",
       "      <td>5.00</td>\n",
       "      <td>2,486.00</td>\n",
       "      <td>6,037.00</td>\n",
       "      <td>nan</td>\n",
       "      <td>34.17</td>\n",
       "      <td>-118.45</td>\n",
       "      <td>6,889.00</td>\n",
       "      <td>nan</td>\n",
       "      <td>700,760.00</td>\n",
       "      <td>1,947.00</td>\n",
       "      <td>432,253.00</td>\n",
       "      <td>0.05</td>\n",
       "      <td>Los Angeles</td>\n",
       "      <td>False</td>\n",
       "      <td>62.75</td>\n",
       "      <td>1</td>\n",
       "    </tr>\n",
       "    <tr>\n",
       "      <th>34986</th>\n",
       "      <td>0.01</td>\n",
       "      <td>2.50</td>\n",
       "      <td>3.00</td>\n",
       "      <td>2,478.00</td>\n",
       "      <td>6,059.00</td>\n",
       "      <td>2.00</td>\n",
       "      <td>33.62</td>\n",
       "      <td>-117.65</td>\n",
       "      <td>6,745.00</td>\n",
       "      <td>1.00</td>\n",
       "      <td>347,952.00</td>\n",
       "      <td>1,975.00</td>\n",
       "      <td>144,512.00</td>\n",
       "      <td>0.19</td>\n",
       "      <td>Orange</td>\n",
       "      <td>False</td>\n",
       "      <td>21.43</td>\n",
       "      <td>0</td>\n",
       "    </tr>\n",
       "    <tr>\n",
       "      <th>28445</th>\n",
       "      <td>0.01</td>\n",
       "      <td>2.50</td>\n",
       "      <td>4.00</td>\n",
       "      <td>2,326.00</td>\n",
       "      <td>6,059.00</td>\n",
       "      <td>2.00</td>\n",
       "      <td>33.53</td>\n",
       "      <td>-117.67</td>\n",
       "      <td>3,407.00</td>\n",
       "      <td>nan</td>\n",
       "      <td>433,964.00</td>\n",
       "      <td>2,000.00</td>\n",
       "      <td>210,977.00</td>\n",
       "      <td>0.04</td>\n",
       "      <td>Orange</td>\n",
       "      <td>False</td>\n",
       "      <td>61.92</td>\n",
       "      <td>0</td>\n",
       "    </tr>\n",
       "    <tr>\n",
       "      <th>48292</th>\n",
       "      <td>0.01</td>\n",
       "      <td>2.00</td>\n",
       "      <td>4.00</td>\n",
       "      <td>2,147.00</td>\n",
       "      <td>6,059.00</td>\n",
       "      <td>1.00</td>\n",
       "      <td>33.81</td>\n",
       "      <td>-117.98</td>\n",
       "      <td>11,700.00</td>\n",
       "      <td>nan</td>\n",
       "      <td>466,024.00</td>\n",
       "      <td>1,956.00</td>\n",
       "      <td>331,294.00</td>\n",
       "      <td>0.03</td>\n",
       "      <td>Orange</td>\n",
       "      <td>False</td>\n",
       "      <td>28.32</td>\n",
       "      <td>0</td>\n",
       "    </tr>\n",
       "  </tbody>\n",
       "</table>\n",
       "</div>"
      ],
      "text/plain": [
       "                  tax_rate          bathroomcnt           bedroomcnt  \\\n",
       "10408                 0.03                 2.00                 3.00   \n",
       "38980                 0.01                 3.00                 5.00   \n",
       "34986                 0.01                 2.50                 3.00   \n",
       "28445                 0.01                 2.50                 4.00   \n",
       "48292                 0.01                 2.00                 4.00   \n",
       "\n",
       "       calculatedfinishedsquarefeet                 fips         garagecarcnt  \\\n",
       "10408                      1,064.00             6,037.00                  nan   \n",
       "38980                      2,486.00             6,037.00                  nan   \n",
       "34986                      2,478.00             6,059.00                 2.00   \n",
       "28445                      2,326.00             6,059.00                 2.00   \n",
       "48292                      2,147.00             6,059.00                 1.00   \n",
       "\n",
       "                  latitude            longitude    lotsizesquarefeet  \\\n",
       "10408                34.58              -118.06             7,046.00   \n",
       "38980                34.17              -118.45             6,889.00   \n",
       "34986                33.62              -117.65             6,745.00   \n",
       "28445                33.53              -117.67             3,407.00   \n",
       "48292                33.81              -117.98            11,700.00   \n",
       "\n",
       "                   poolcnt    taxvaluedollarcnt            yearbuilt  \\\n",
       "10408                  nan            65,261.00             1,956.00   \n",
       "38980                  nan           700,760.00             1,947.00   \n",
       "34986                 1.00           347,952.00             1,975.00   \n",
       "28445                  nan           433,964.00             2,000.00   \n",
       "48292                  nan           466,024.00             1,956.00   \n",
       "\n",
       "       landtaxvaluedollarcnt             logerror  county_name  \\\n",
       "10408              27,191.00                -0.02  Los Angeles   \n",
       "38980             432,253.00                 0.05  Los Angeles   \n",
       "34986             144,512.00                 0.19       Orange   \n",
       "28445             210,977.00                 0.04       Orange   \n",
       "48292             331,294.00                 0.03       Orange   \n",
       "\n",
       "       price_per_sq_ft  lot_price_per_sq_ft  cluster_fips  \n",
       "10408            False                 3.86             1  \n",
       "38980            False                62.75             1  \n",
       "34986            False                21.43             0  \n",
       "28445            False                61.92             0  \n",
       "48292            False                28.32             0  "
      ]
     },
     "execution_count": 47,
     "metadata": {},
     "output_type": "execute_result"
    }
   ],
   "source": [
    "test_cluster_fips.head()"
   ]
  },
  {
   "cell_type": "code",
   "execution_count": 48,
   "metadata": {},
   "outputs": [],
   "source": [
    "train_cluster_fips, test_cluster_fips, ohe1 = prepare.encode(train_cluster_fips, test_cluster_fips, 'cluster_fips')"
   ]
  },
  {
   "cell_type": "code",
   "execution_count": 49,
   "metadata": {},
   "outputs": [
    {
     "data": {
      "text/html": [
       "<div>\n",
       "<style scoped>\n",
       "    .dataframe tbody tr th:only-of-type {\n",
       "        vertical-align: middle;\n",
       "    }\n",
       "\n",
       "    .dataframe tbody tr th {\n",
       "        vertical-align: top;\n",
       "    }\n",
       "\n",
       "    .dataframe thead th {\n",
       "        text-align: right;\n",
       "    }\n",
       "</style>\n",
       "<table border=\"1\" class=\"dataframe\">\n",
       "  <thead>\n",
       "    <tr style=\"text-align: right;\">\n",
       "      <th></th>\n",
       "      <th>tax_rate</th>\n",
       "      <th>bathroomcnt</th>\n",
       "      <th>bedroomcnt</th>\n",
       "      <th>calculatedfinishedsquarefeet</th>\n",
       "      <th>fips</th>\n",
       "      <th>garagecarcnt</th>\n",
       "      <th>latitude</th>\n",
       "      <th>longitude</th>\n",
       "      <th>lotsizesquarefeet</th>\n",
       "      <th>poolcnt</th>\n",
       "      <th>...</th>\n",
       "      <th>yearbuilt</th>\n",
       "      <th>landtaxvaluedollarcnt</th>\n",
       "      <th>logerror</th>\n",
       "      <th>county_name</th>\n",
       "      <th>price_per_sq_ft</th>\n",
       "      <th>lot_price_per_sq_ft</th>\n",
       "      <th>cluster_fips</th>\n",
       "      <th>cluster_fips_0</th>\n",
       "      <th>cluster_fips_1</th>\n",
       "      <th>cluster_fips_2</th>\n",
       "    </tr>\n",
       "  </thead>\n",
       "  <tbody>\n",
       "    <tr>\n",
       "      <th>22620</th>\n",
       "      <td>0.01</td>\n",
       "      <td>2.00</td>\n",
       "      <td>2.00</td>\n",
       "      <td>1,212.00</td>\n",
       "      <td>6,059.00</td>\n",
       "      <td>2.00</td>\n",
       "      <td>33.85</td>\n",
       "      <td>-118.02</td>\n",
       "      <td>6,000.00</td>\n",
       "      <td>nan</td>\n",
       "      <td>...</td>\n",
       "      <td>1,955.00</td>\n",
       "      <td>88,553.00</td>\n",
       "      <td>-0.08</td>\n",
       "      <td>Orange</td>\n",
       "      <td>False</td>\n",
       "      <td>14.76</td>\n",
       "      <td>0</td>\n",
       "      <td>1.00</td>\n",
       "      <td>0.00</td>\n",
       "      <td>0.00</td>\n",
       "    </tr>\n",
       "    <tr>\n",
       "      <th>35532</th>\n",
       "      <td>0.02</td>\n",
       "      <td>2.00</td>\n",
       "      <td>3.00</td>\n",
       "      <td>1,812.00</td>\n",
       "      <td>6,037.00</td>\n",
       "      <td>nan</td>\n",
       "      <td>34.05</td>\n",
       "      <td>-118.08</td>\n",
       "      <td>10,906.00</td>\n",
       "      <td>nan</td>\n",
       "      <td>...</td>\n",
       "      <td>1,957.00</td>\n",
       "      <td>16,333.00</td>\n",
       "      <td>-0.04</td>\n",
       "      <td>Los Angeles</td>\n",
       "      <td>False</td>\n",
       "      <td>1.50</td>\n",
       "      <td>1</td>\n",
       "      <td>0.00</td>\n",
       "      <td>1.00</td>\n",
       "      <td>0.00</td>\n",
       "    </tr>\n",
       "    <tr>\n",
       "      <th>17905</th>\n",
       "      <td>0.01</td>\n",
       "      <td>3.00</td>\n",
       "      <td>4.00</td>\n",
       "      <td>3,149.00</td>\n",
       "      <td>6,059.00</td>\n",
       "      <td>2.00</td>\n",
       "      <td>33.49</td>\n",
       "      <td>-117.64</td>\n",
       "      <td>9,000.00</td>\n",
       "      <td>1.00</td>\n",
       "      <td>...</td>\n",
       "      <td>1,998.00</td>\n",
       "      <td>576,786.00</td>\n",
       "      <td>0.03</td>\n",
       "      <td>Orange</td>\n",
       "      <td>False</td>\n",
       "      <td>64.09</td>\n",
       "      <td>0</td>\n",
       "      <td>1.00</td>\n",
       "      <td>0.00</td>\n",
       "      <td>0.00</td>\n",
       "    </tr>\n",
       "    <tr>\n",
       "      <th>49147</th>\n",
       "      <td>0.01</td>\n",
       "      <td>3.00</td>\n",
       "      <td>4.00</td>\n",
       "      <td>2,859.00</td>\n",
       "      <td>6,037.00</td>\n",
       "      <td>nan</td>\n",
       "      <td>34.45</td>\n",
       "      <td>-118.57</td>\n",
       "      <td>6,252.00</td>\n",
       "      <td>nan</td>\n",
       "      <td>...</td>\n",
       "      <td>2,003.00</td>\n",
       "      <td>330,000.00</td>\n",
       "      <td>0.07</td>\n",
       "      <td>Los Angeles</td>\n",
       "      <td>False</td>\n",
       "      <td>52.78</td>\n",
       "      <td>1</td>\n",
       "      <td>0.00</td>\n",
       "      <td>1.00</td>\n",
       "      <td>0.00</td>\n",
       "    </tr>\n",
       "    <tr>\n",
       "      <th>43935</th>\n",
       "      <td>0.01</td>\n",
       "      <td>3.00</td>\n",
       "      <td>4.00</td>\n",
       "      <td>2,512.00</td>\n",
       "      <td>6,037.00</td>\n",
       "      <td>nan</td>\n",
       "      <td>34.16</td>\n",
       "      <td>-118.41</td>\n",
       "      <td>7,042.00</td>\n",
       "      <td>1.00</td>\n",
       "      <td>...</td>\n",
       "      <td>1,974.00</td>\n",
       "      <td>437,002.00</td>\n",
       "      <td>0.08</td>\n",
       "      <td>Los Angeles</td>\n",
       "      <td>False</td>\n",
       "      <td>62.06</td>\n",
       "      <td>1</td>\n",
       "      <td>0.00</td>\n",
       "      <td>1.00</td>\n",
       "      <td>0.00</td>\n",
       "    </tr>\n",
       "  </tbody>\n",
       "</table>\n",
       "<p>5 rows × 21 columns</p>\n",
       "</div>"
      ],
      "text/plain": [
       "                  tax_rate          bathroomcnt           bedroomcnt  \\\n",
       "22620                 0.01                 2.00                 2.00   \n",
       "35532                 0.02                 2.00                 3.00   \n",
       "17905                 0.01                 3.00                 4.00   \n",
       "49147                 0.01                 3.00                 4.00   \n",
       "43935                 0.01                 3.00                 4.00   \n",
       "\n",
       "       calculatedfinishedsquarefeet                 fips         garagecarcnt  \\\n",
       "22620                      1,212.00             6,059.00                 2.00   \n",
       "35532                      1,812.00             6,037.00                  nan   \n",
       "17905                      3,149.00             6,059.00                 2.00   \n",
       "49147                      2,859.00             6,037.00                  nan   \n",
       "43935                      2,512.00             6,037.00                  nan   \n",
       "\n",
       "                  latitude            longitude    lotsizesquarefeet  \\\n",
       "22620                33.85              -118.02             6,000.00   \n",
       "35532                34.05              -118.08            10,906.00   \n",
       "17905                33.49              -117.64             9,000.00   \n",
       "49147                34.45              -118.57             6,252.00   \n",
       "43935                34.16              -118.41             7,042.00   \n",
       "\n",
       "                   poolcnt  ...            yearbuilt  landtaxvaluedollarcnt  \\\n",
       "22620                  nan  ...             1,955.00              88,553.00   \n",
       "35532                  nan  ...             1,957.00              16,333.00   \n",
       "17905                 1.00  ...             1,998.00             576,786.00   \n",
       "49147                  nan  ...             2,003.00             330,000.00   \n",
       "43935                 1.00  ...             1,974.00             437,002.00   \n",
       "\n",
       "                  logerror  county_name price_per_sq_ft  lot_price_per_sq_ft  \\\n",
       "22620                -0.08       Orange           False                14.76   \n",
       "35532                -0.04  Los Angeles           False                 1.50   \n",
       "17905                 0.03       Orange           False                64.09   \n",
       "49147                 0.07  Los Angeles           False                52.78   \n",
       "43935                 0.08  Los Angeles           False                62.06   \n",
       "\n",
       "       cluster_fips       cluster_fips_0       cluster_fips_1  \\\n",
       "22620             0                 1.00                 0.00   \n",
       "35532             1                 0.00                 1.00   \n",
       "17905             0                 1.00                 0.00   \n",
       "49147             1                 0.00                 1.00   \n",
       "43935             1                 0.00                 1.00   \n",
       "\n",
       "            cluster_fips_2  \n",
       "22620                 0.00  \n",
       "35532                 0.00  \n",
       "17905                 0.00  \n",
       "49147                 0.00  \n",
       "43935                 0.00  \n",
       "\n",
       "[5 rows x 21 columns]"
      ]
     },
     "execution_count": 49,
     "metadata": {},
     "output_type": "execute_result"
    }
   ],
   "source": [
    "train_cluster_fips.head()"
   ]
  },
  {
   "cell_type": "code",
   "execution_count": 50,
   "metadata": {},
   "outputs": [
    {
     "data": {
      "text/html": [
       "<div>\n",
       "<style scoped>\n",
       "    .dataframe tbody tr th:only-of-type {\n",
       "        vertical-align: middle;\n",
       "    }\n",
       "\n",
       "    .dataframe tbody tr th {\n",
       "        vertical-align: top;\n",
       "    }\n",
       "\n",
       "    .dataframe thead th {\n",
       "        text-align: right;\n",
       "    }\n",
       "</style>\n",
       "<table border=\"1\" class=\"dataframe\">\n",
       "  <thead>\n",
       "    <tr style=\"text-align: right;\">\n",
       "      <th></th>\n",
       "      <th>tax_rate</th>\n",
       "      <th>bathroomcnt</th>\n",
       "      <th>bedroomcnt</th>\n",
       "      <th>calculatedfinishedsquarefeet</th>\n",
       "      <th>fips</th>\n",
       "      <th>garagecarcnt</th>\n",
       "      <th>latitude</th>\n",
       "      <th>longitude</th>\n",
       "      <th>lotsizesquarefeet</th>\n",
       "      <th>poolcnt</th>\n",
       "      <th>...</th>\n",
       "      <th>yearbuilt</th>\n",
       "      <th>landtaxvaluedollarcnt</th>\n",
       "      <th>logerror</th>\n",
       "      <th>county_name</th>\n",
       "      <th>price_per_sq_ft</th>\n",
       "      <th>lot_price_per_sq_ft</th>\n",
       "      <th>cluster_fips</th>\n",
       "      <th>cluster_fips_0</th>\n",
       "      <th>cluster_fips_1</th>\n",
       "      <th>cluster_fips_2</th>\n",
       "    </tr>\n",
       "  </thead>\n",
       "  <tbody>\n",
       "    <tr>\n",
       "      <th>10408</th>\n",
       "      <td>0.03</td>\n",
       "      <td>2.00</td>\n",
       "      <td>3.00</td>\n",
       "      <td>1,064.00</td>\n",
       "      <td>6,037.00</td>\n",
       "      <td>nan</td>\n",
       "      <td>34.58</td>\n",
       "      <td>-118.06</td>\n",
       "      <td>7,046.00</td>\n",
       "      <td>nan</td>\n",
       "      <td>...</td>\n",
       "      <td>1,956.00</td>\n",
       "      <td>27,191.00</td>\n",
       "      <td>-0.02</td>\n",
       "      <td>Los Angeles</td>\n",
       "      <td>False</td>\n",
       "      <td>3.86</td>\n",
       "      <td>1</td>\n",
       "      <td>0.00</td>\n",
       "      <td>1.00</td>\n",
       "      <td>0.00</td>\n",
       "    </tr>\n",
       "    <tr>\n",
       "      <th>38980</th>\n",
       "      <td>0.01</td>\n",
       "      <td>3.00</td>\n",
       "      <td>5.00</td>\n",
       "      <td>2,486.00</td>\n",
       "      <td>6,037.00</td>\n",
       "      <td>nan</td>\n",
       "      <td>34.17</td>\n",
       "      <td>-118.45</td>\n",
       "      <td>6,889.00</td>\n",
       "      <td>nan</td>\n",
       "      <td>...</td>\n",
       "      <td>1,947.00</td>\n",
       "      <td>432,253.00</td>\n",
       "      <td>0.05</td>\n",
       "      <td>Los Angeles</td>\n",
       "      <td>False</td>\n",
       "      <td>62.75</td>\n",
       "      <td>1</td>\n",
       "      <td>0.00</td>\n",
       "      <td>1.00</td>\n",
       "      <td>0.00</td>\n",
       "    </tr>\n",
       "    <tr>\n",
       "      <th>34986</th>\n",
       "      <td>0.01</td>\n",
       "      <td>2.50</td>\n",
       "      <td>3.00</td>\n",
       "      <td>2,478.00</td>\n",
       "      <td>6,059.00</td>\n",
       "      <td>2.00</td>\n",
       "      <td>33.62</td>\n",
       "      <td>-117.65</td>\n",
       "      <td>6,745.00</td>\n",
       "      <td>1.00</td>\n",
       "      <td>...</td>\n",
       "      <td>1,975.00</td>\n",
       "      <td>144,512.00</td>\n",
       "      <td>0.19</td>\n",
       "      <td>Orange</td>\n",
       "      <td>False</td>\n",
       "      <td>21.43</td>\n",
       "      <td>0</td>\n",
       "      <td>1.00</td>\n",
       "      <td>0.00</td>\n",
       "      <td>0.00</td>\n",
       "    </tr>\n",
       "    <tr>\n",
       "      <th>28445</th>\n",
       "      <td>0.01</td>\n",
       "      <td>2.50</td>\n",
       "      <td>4.00</td>\n",
       "      <td>2,326.00</td>\n",
       "      <td>6,059.00</td>\n",
       "      <td>2.00</td>\n",
       "      <td>33.53</td>\n",
       "      <td>-117.67</td>\n",
       "      <td>3,407.00</td>\n",
       "      <td>nan</td>\n",
       "      <td>...</td>\n",
       "      <td>2,000.00</td>\n",
       "      <td>210,977.00</td>\n",
       "      <td>0.04</td>\n",
       "      <td>Orange</td>\n",
       "      <td>False</td>\n",
       "      <td>61.92</td>\n",
       "      <td>0</td>\n",
       "      <td>1.00</td>\n",
       "      <td>0.00</td>\n",
       "      <td>0.00</td>\n",
       "    </tr>\n",
       "    <tr>\n",
       "      <th>48292</th>\n",
       "      <td>0.01</td>\n",
       "      <td>2.00</td>\n",
       "      <td>4.00</td>\n",
       "      <td>2,147.00</td>\n",
       "      <td>6,059.00</td>\n",
       "      <td>1.00</td>\n",
       "      <td>33.81</td>\n",
       "      <td>-117.98</td>\n",
       "      <td>11,700.00</td>\n",
       "      <td>nan</td>\n",
       "      <td>...</td>\n",
       "      <td>1,956.00</td>\n",
       "      <td>331,294.00</td>\n",
       "      <td>0.03</td>\n",
       "      <td>Orange</td>\n",
       "      <td>False</td>\n",
       "      <td>28.32</td>\n",
       "      <td>0</td>\n",
       "      <td>1.00</td>\n",
       "      <td>0.00</td>\n",
       "      <td>0.00</td>\n",
       "    </tr>\n",
       "  </tbody>\n",
       "</table>\n",
       "<p>5 rows × 21 columns</p>\n",
       "</div>"
      ],
      "text/plain": [
       "                  tax_rate          bathroomcnt           bedroomcnt  \\\n",
       "10408                 0.03                 2.00                 3.00   \n",
       "38980                 0.01                 3.00                 5.00   \n",
       "34986                 0.01                 2.50                 3.00   \n",
       "28445                 0.01                 2.50                 4.00   \n",
       "48292                 0.01                 2.00                 4.00   \n",
       "\n",
       "       calculatedfinishedsquarefeet                 fips         garagecarcnt  \\\n",
       "10408                      1,064.00             6,037.00                  nan   \n",
       "38980                      2,486.00             6,037.00                  nan   \n",
       "34986                      2,478.00             6,059.00                 2.00   \n",
       "28445                      2,326.00             6,059.00                 2.00   \n",
       "48292                      2,147.00             6,059.00                 1.00   \n",
       "\n",
       "                  latitude            longitude    lotsizesquarefeet  \\\n",
       "10408                34.58              -118.06             7,046.00   \n",
       "38980                34.17              -118.45             6,889.00   \n",
       "34986                33.62              -117.65             6,745.00   \n",
       "28445                33.53              -117.67             3,407.00   \n",
       "48292                33.81              -117.98            11,700.00   \n",
       "\n",
       "                   poolcnt  ...            yearbuilt  landtaxvaluedollarcnt  \\\n",
       "10408                  nan  ...             1,956.00              27,191.00   \n",
       "38980                  nan  ...             1,947.00             432,253.00   \n",
       "34986                 1.00  ...             1,975.00             144,512.00   \n",
       "28445                  nan  ...             2,000.00             210,977.00   \n",
       "48292                  nan  ...             1,956.00             331,294.00   \n",
       "\n",
       "                  logerror  county_name price_per_sq_ft  lot_price_per_sq_ft  \\\n",
       "10408                -0.02  Los Angeles           False                 3.86   \n",
       "38980                 0.05  Los Angeles           False                62.75   \n",
       "34986                 0.19       Orange           False                21.43   \n",
       "28445                 0.04       Orange           False                61.92   \n",
       "48292                 0.03       Orange           False                28.32   \n",
       "\n",
       "       cluster_fips       cluster_fips_0       cluster_fips_1  \\\n",
       "10408             1                 0.00                 1.00   \n",
       "38980             1                 0.00                 1.00   \n",
       "34986             0                 1.00                 0.00   \n",
       "28445             0                 1.00                 0.00   \n",
       "48292             0                 1.00                 0.00   \n",
       "\n",
       "            cluster_fips_2  \n",
       "10408                 0.00  \n",
       "38980                 0.00  \n",
       "34986                 0.00  \n",
       "28445                 0.00  \n",
       "48292                 0.00  \n",
       "\n",
       "[5 rows x 21 columns]"
      ]
     },
     "execution_count": 50,
     "metadata": {},
     "output_type": "execute_result"
    }
   ],
   "source": [
    "test_cluster_fips.head()"
   ]
  },
  {
   "cell_type": "code",
   "execution_count": 51,
   "metadata": {},
   "outputs": [],
   "source": [
    "train_cluster_sqft, test_cluster_sqft, ohe2 = prepare.encode(train_cluster_sqft, test_cluster_sqft, 'cluster_sqft')"
   ]
  },
  {
   "cell_type": "code",
   "execution_count": 54,
   "metadata": {},
   "outputs": [
    {
     "data": {
      "text/plain": [
       "Index(['tax_rate', 'bathroomcnt', 'bedroomcnt', 'calculatedfinishedsquarefeet',\n",
       "       'fips', 'garagecarcnt', 'latitude', 'longitude', 'lotsizesquarefeet',\n",
       "       'poolcnt', 'taxvaluedollarcnt', 'yearbuilt', 'landtaxvaluedollarcnt',\n",
       "       'logerror', 'county_name', 'price_per_sq_ft', 'lot_price_per_sq_ft',\n",
       "       'cluster_sqft', 'cluster_sqft_0', 'cluster_sqft_1', 'cluster_sqft_2',\n",
       "       'cluster_sqft_3', 'cluster_sqft_4', 'cluster_sqft_5', 'cluster_sqft_6',\n",
       "       'cluster_sqft_7', 'cluster_sqft_8', 'cluster_sqft_9'],\n",
       "      dtype='object')"
      ]
     },
     "execution_count": 54,
     "metadata": {},
     "output_type": "execute_result"
    }
   ],
   "source": [
    "test_cluster_sqft.columns"
   ]
  },
  {
   "cell_type": "markdown",
   "metadata": {},
   "source": [
    "### Inverse transform clusters to prove which county belongs to which cluster"
   ]
  },
  {
   "cell_type": "code",
   "execution_count": null,
   "metadata": {},
   "outputs": [],
   "source": [
    "# ohe.inverse_transform(df[['0', '1', '2']])"
   ]
  },
  {
   "cell_type": "markdown",
   "metadata": {},
   "source": [
    "### Drop cluster column and rename clusters as county names"
   ]
  },
  {
   "cell_type": "code",
   "execution_count": null,
   "metadata": {},
   "outputs": [],
   "source": [
    "train_cluster_fips.head()"
   ]
  },
  {
   "cell_type": "code",
   "execution_count": null,
   "metadata": {},
   "outputs": [],
   "source": [
    "train_cluster_fips = train_cluster_fips.drop(columns='cluster')\n",
    "\n",
    "train_cluster_fips['los_angeles'] = train_cluster_fips['0']\n",
    "train_cluster_fips['ventura'] = train_cluster_fips['1']\n",
    "train_cluster_fips['orange'] = train_cluster_fips['2']\n",
    "\n",
    "train_cluster_fips = train_cluster_fips.drop(columns=['0', '1', '2'])"
   ]
  },
  {
   "cell_type": "code",
   "execution_count": null,
   "metadata": {},
   "outputs": [],
   "source": [
    "train.shape"
   ]
  },
  {
   "cell_type": "code",
   "execution_count": null,
   "metadata": {},
   "outputs": [],
   "source": [
    "test.shape"
   ]
  },
  {
   "cell_type": "markdown",
   "metadata": {},
   "source": [
    "### Drop cluster column and rename clusters as county names"
   ]
  },
  {
   "cell_type": "code",
   "execution_count": null,
   "metadata": {},
   "outputs": [],
   "source": [
    "df = df.drop(columns='cluster')\n",
    "\n",
    "df['los_angeles'] = df['0']\n",
    "df['ventura'] = df['1']\n",
    "df['orange'] = df['2']\n",
    "\n",
    "df = df.drop(columns=['0', '1', '2'])"
   ]
  },
  {
   "cell_type": "markdown",
   "metadata": {},
   "source": [
    "### Impute \"poolcnt\", \"garagecarcnt\" with 0s using a function. (reference prepare.py)\n",
    "\n",
    " - Run this on train and test subsets separately"
   ]
  },
  {
   "cell_type": "code",
   "execution_count": null,
   "metadata": {},
   "outputs": [],
   "source": [
    "cols = [\"poolcnt\", \"garagecarcnt\"]"
   ]
  },
  {
   "cell_type": "code",
   "execution_count": null,
   "metadata": {},
   "outputs": [],
   "source": [
    "# Impute zeros into poolcnt and garagecarcnt on train set\n",
    "\n",
    "train = prepare.fill_zero(train, cols=cols)"
   ]
  },
  {
   "cell_type": "code",
   "execution_count": null,
   "metadata": {},
   "outputs": [],
   "source": [
    "# Impute zeros into poolcnt and garagecarcnt on test set\n",
    "\n",
    "test = prepare.fill_zero(test, cols=cols)"
   ]
  },
  {
   "cell_type": "markdown",
   "metadata": {},
   "source": [
    "### Drop columns then rows using function (reference prepare.py)\n",
    "\n",
    " - Run this on train and test subsets separately"
   ]
  },
  {
   "cell_type": "code",
   "execution_count": null,
   "metadata": {},
   "outputs": [],
   "source": [
    "# drop columns that have more than 50% of values missing and rows with more than 75% of values missing\n",
    "\n",
    "train = prepare.handle_missing_values(train)"
   ]
  },
  {
   "cell_type": "code",
   "execution_count": null,
   "metadata": {},
   "outputs": [],
   "source": [
    "# drop columns that have more than 50% of values missing and rows with more than 75% of values missing\n",
    "\n",
    "test = prepare.handle_missing_values(test)"
   ]
  },
  {
   "cell_type": "markdown",
   "metadata": {},
   "source": [
    "### Drop the remaining Nulls in df to get clean train and test data sets"
   ]
  },
  {
   "cell_type": "code",
   "execution_count": null,
   "metadata": {},
   "outputs": [],
   "source": [
    "train.dropna(inplace=True)"
   ]
  },
  {
   "cell_type": "code",
   "execution_count": null,
   "metadata": {},
   "outputs": [],
   "source": [
    "test.dropna(inplace=True)"
   ]
  },
  {
   "cell_type": "markdown",
   "metadata": {},
   "source": [
    "### The train and test subsets with no missing values and poolcnt and garagecarcnt imputed with zeros. Outliers still in these subsets!\n",
    "\n",
    "- I left county_name in these df for ease of exploration and viz. \n",
    "\n",
    "- Drop county_name and use fips for modeling and clustering purposes.\n",
    "\n",
    "- If you want train and test with outliers handled, see below..."
   ]
  },
  {
   "cell_type": "code",
   "execution_count": null,
   "metadata": {},
   "outputs": [],
   "source": [
    "train.isnull().sum()"
   ]
  },
  {
   "cell_type": "code",
   "execution_count": null,
   "metadata": {},
   "outputs": [],
   "source": [
    "test.isnull().sum()"
   ]
  },
  {
   "cell_type": "code",
   "execution_count": null,
   "metadata": {},
   "outputs": [],
   "source": [
    "train.bedroomcnt.value_counts()"
   ]
  },
  {
   "cell_type": "code",
   "execution_count": null,
   "metadata": {},
   "outputs": [],
   "source": [
    "train.bathroomcnt.value_counts()"
   ]
  },
  {
   "cell_type": "markdown",
   "metadata": {},
   "source": [
    "Zillow's log error was low on the los angeles high priced outlier.  LA county houses seems to have the highest log error outliers"
   ]
  },
  {
   "cell_type": "code",
   "execution_count": null,
   "metadata": {},
   "outputs": [],
   "source": [
    "sns.scatterplot(data=train, x=\"logerror\", y=\"price_per_sq_ft\", hue=\"county_name\", hue_order=[\"Los Angeles\", \"Orange\", \"Ventura\"] , alpha=.6)"
   ]
  },
  {
   "cell_type": "markdown",
   "metadata": {},
   "source": [
    "Before outliers"
   ]
  },
  {
   "cell_type": "code",
   "execution_count": null,
   "metadata": {},
   "outputs": [],
   "source": [
    "sns.boxplot(train.bedroomcnt, train.calculatedfinishedsquarefeet)"
   ]
  },
  {
   "cell_type": "code",
   "execution_count": null,
   "metadata": {},
   "outputs": [],
   "source": [
    "sns.boxplot(train.bathroomcnt, train.calculatedfinishedsquarefeet)"
   ]
  },
  {
   "cell_type": "markdown",
   "metadata": {},
   "source": [
    "### Handle outliers by removing values < Q1 - IQR * 1.5 and values > Q3 + IQR * 1.5"
   ]
  },
  {
   "cell_type": "code",
   "execution_count": null,
   "metadata": {},
   "outputs": [],
   "source": [
    "train = prepare.remove_outliers_iqr(train, columns=[\"bedroomcnt\", \"bathroomcnt\", \"lotsizesquarefeet\"], k=1.5)\n",
    "train.shape"
   ]
  },
  {
   "cell_type": "code",
   "execution_count": null,
   "metadata": {},
   "outputs": [],
   "source": [
    "test = prepare.remove_outliers_iqr(test, columns=[\"bedroomcnt\", \"bathroomcnt\", \"lotsizesquarefeet\"], k=1.5)\n",
    "test.shape"
   ]
  },
  {
   "cell_type": "markdown",
   "metadata": {},
   "source": [
    "### Convert dtypes to category for the cols below\n",
    "\n",
    "- train_cat and test_cat are subsets with dtypes converted to category for the following columns:\n",
    "\n",
    "    - \"bathroomcnt\", \"bedroomcnt\", \"poolcnt\", \"yearbuilt\", \"garagecarcnt\", \"county_name\"\n",
    "    \n",
    "- train_cat and test_cat also have outliers handled and no missing values."
   ]
  },
  {
   "cell_type": "code",
   "execution_count": null,
   "metadata": {},
   "outputs": [],
   "source": [
    "train.info()"
   ]
  },
  {
   "cell_type": "code",
   "execution_count": null,
   "metadata": {},
   "outputs": [],
   "source": [
    "cols = [\"bathroomcnt\", \"bedroomcnt\", \"poolcnt\", \"yearbuilt\", \"garagecarcnt\", \"county_name\"]"
   ]
  },
  {
   "cell_type": "code",
   "execution_count": null,
   "metadata": {},
   "outputs": [],
   "source": [
    "train_cat = prepare.numeric_to_category(train, cols)"
   ]
  },
  {
   "cell_type": "code",
   "execution_count": null,
   "metadata": {},
   "outputs": [],
   "source": [
    "test_cat = prepare.numeric_to_category(test, cols)"
   ]
  },
  {
   "cell_type": "code",
   "execution_count": null,
   "metadata": {},
   "outputs": [],
   "source": [
    "train_cat.info()"
   ]
  },
  {
   "cell_type": "code",
   "execution_count": null,
   "metadata": {},
   "outputs": [],
   "source": [
    "train.bedroomcnt.value_counts()"
   ]
  },
  {
   "cell_type": "code",
   "execution_count": null,
   "metadata": {},
   "outputs": [],
   "source": [
    "train.bathroomcnt.value_counts()"
   ]
  },
  {
   "cell_type": "code",
   "execution_count": null,
   "metadata": {},
   "outputs": [],
   "source": [
    "sns.scatterplot(data=train, x=\"logerror\", y=\"taxvaluedollarcnt\", hue=\"county_name\", hue_order=[\"Los Angeles\", \"Orange\", \"Ventura\"], alpha=.6)"
   ]
  },
  {
   "cell_type": "code",
   "execution_count": null,
   "metadata": {},
   "outputs": [],
   "source": [
    "sns.scatterplot(data=train, x=\"logerror\", y=\"price_per_sq_ft\", hue=\"county_name\", hue_order=[\"Los Angeles\", \"Orange\", \"Ventura\"], alpha=.6)"
   ]
  },
  {
   "cell_type": "code",
   "execution_count": null,
   "metadata": {},
   "outputs": [],
   "source": [
    "sns.boxplot(train.bedroomcnt, train.calculatedfinishedsquarefeet)"
   ]
  },
  {
   "cell_type": "code",
   "execution_count": null,
   "metadata": {},
   "outputs": [],
   "source": [
    "sns.boxplot(train.bathroomcnt, train.calculatedfinishedsquarefeet)"
   ]
  },
  {
   "cell_type": "markdown",
   "metadata": {},
   "source": [
    "## Bin yearbuilt by Decade\n",
    "\n",
    "- 1878 - 2015\n",
    "\n",
    "- Drop 11 rows with yearbuilt == 0.00"
   ]
  },
  {
   "cell_type": "code",
   "execution_count": null,
   "metadata": {},
   "outputs": [],
   "source": [
    "sns.scatterplot(data=train_cat, x=\"yearbuilt\", y=\"price_per_sq_ft\")"
   ]
  },
  {
   "cell_type": "code",
   "execution_count": null,
   "metadata": {},
   "outputs": [],
   "source": [
    "sns.scatterplot(data=train_cat, x=\"price_per_sq_ft\", y=\"logerror\")"
   ]
  },
  {
   "cell_type": "code",
   "execution_count": null,
   "metadata": {},
   "outputs": [],
   "source": [
    "sns.scatterplot(data=train_cat, x=\"yearbuilt\", y=\"logerror\")"
   ]
  },
  {
   "cell_type": "code",
   "execution_count": null,
   "metadata": {},
   "outputs": [],
   "source": [
    "sns.scatterplot(data=train_cat, x=\"lot_price_per_sq_ft\", y=\"logerror\")"
   ]
  },
  {
   "cell_type": "code",
   "execution_count": null,
   "metadata": {},
   "outputs": [],
   "source": [
    "sns.scatterplot(data=train_cat, x=\"latitude\", y=\"logerror\")"
   ]
  },
  {
   "cell_type": "code",
   "execution_count": null,
   "metadata": {},
   "outputs": [],
   "source": [
    "sns.scatterplot(data=train_cat, x=\"longitude\", y=\"logerror\")"
   ]
  },
  {
   "cell_type": "code",
   "execution_count": null,
   "metadata": {
    "scrolled": true
   },
   "outputs": [],
   "source": [
    "sns.scatterplot(data=train_cat, x=\"garagecarcnt\", y=\"logerror\")"
   ]
  },
  {
   "cell_type": "code",
   "execution_count": null,
   "metadata": {},
   "outputs": [],
   "source": [
    "sns.scatterplot(data=train_cat, x=\"bedroomcnt\", y=\"logerror\")"
   ]
  },
  {
   "cell_type": "markdown",
   "metadata": {},
   "source": [
    "### Stats Testing to Decide on Feature Engineering"
   ]
  },
  {
   "cell_type": "markdown",
   "metadata": {},
   "source": [
    "- Here I use a chi2 test to look at categorical features."
   ]
  },
  {
   "cell_type": "markdown",
   "metadata": {},
   "source": [
    "- $H_0$: Bathroomcnt is independent of how many bedrooms a home has.\n",
    "\n",
    "- $H_a$: Bathroomcnt is not independent of how many bedrooms a home has."
   ]
  },
  {
   "cell_type": "code",
   "execution_count": null,
   "metadata": {},
   "outputs": [],
   "source": [
    "# contingency_table from the df_cat dataframe (w/o categories)\n",
    "\n",
    "contingency_table = pd.crosstab(train_cat.bedroomcnt, train_cat.bathroomcnt)\n",
    "contingency_table"
   ]
  },
  {
   "cell_type": "code",
   "execution_count": null,
   "metadata": {},
   "outputs": [],
   "source": [
    "_, p, _, expected = stats.chi2_contingency(contingency_table)"
   ]
  },
  {
   "cell_type": "code",
   "execution_count": null,
   "metadata": {},
   "outputs": [],
   "source": [
    "print(f\"The p-value of the contingency test is {p}.\")"
   ]
  },
  {
   "cell_type": "markdown",
   "metadata": {},
   "source": [
    "### Takeaways from chi2 test on bedroomcnt and bathroomcnt\n",
    "\n",
    "- Based on the p_value of 0 from the chi2 test above, I reject the Null Hypothesis that bathroomcnt is independent of how many bedrooms a home has.\n",
    "\n",
    "\n",
    "- Based on rejecting the Null Hypothesis, I will combine the two features into a single feature that is a ratio of bedrooms to bathrooms."
   ]
  },
  {
   "cell_type": "markdown",
   "metadata": {},
   "source": [
    "- $H_0$: garagecarcnt is independent of how many pools a home has.\n",
    "\n",
    "- $H_a$: garagecarcnt is not independent of how many pools a home has."
   ]
  },
  {
   "cell_type": "code",
   "execution_count": null,
   "metadata": {},
   "outputs": [],
   "source": [
    "contingency_table = pd.crosstab(train_cat.garagecarcnt, train_cat.poolcnt)\n",
    "contingency_table"
   ]
  },
  {
   "cell_type": "code",
   "execution_count": null,
   "metadata": {},
   "outputs": [],
   "source": [
    "_, p, _, expected = stats.chi2_contingency(contingency_table)"
   ]
  },
  {
   "cell_type": "code",
   "execution_count": null,
   "metadata": {},
   "outputs": [],
   "source": [
    "print(f\"The p-value of the contingency test is {p}.\")"
   ]
  },
  {
   "cell_type": "code",
   "execution_count": null,
   "metadata": {},
   "outputs": [],
   "source": [
    "r, p = stats.pearsonr(train_cat.lotsizesquarefeet, train_cat.taxvaluedollarcnt)"
   ]
  },
  {
   "cell_type": "code",
   "execution_count": null,
   "metadata": {},
   "outputs": [],
   "source": [
    "print(f\"r is {r}\")"
   ]
  },
  {
   "cell_type": "code",
   "execution_count": null,
   "metadata": {},
   "outputs": [],
   "source": [
    "print(f\"p is {p}\")"
   ]
  },
  {
   "cell_type": "code",
   "execution_count": null,
   "metadata": {},
   "outputs": [],
   "source": [
    "# creating df handling values above 10_000 sqfeet to get a better look at the relationship between the variables\n",
    "\n",
    "lot_no_outliers = train_cat[train_cat.lotsizesquarefeet > 10000]"
   ]
  },
  {
   "cell_type": "markdown",
   "metadata": {},
   "source": [
    "### DB Scan this thingy"
   ]
  },
  {
   "cell_type": "code",
   "execution_count": null,
   "metadata": {},
   "outputs": [],
   "source": [
    "sns.jointplot(data=lot_no_outliers, y=\"taxvaluedollarcnt\", x=\"lotsizesquarefeet\")"
   ]
  },
  {
   "cell_type": "markdown",
   "metadata": {},
   "source": [
    "## Split train and test into X_train, X_test, y_train, y_test"
   ]
  },
  {
   "cell_type": "code",
   "execution_count": null,
   "metadata": {},
   "outputs": [],
   "source": [
    "train = train.drop(columns='county_name')\n",
    "test = test.drop(columns='county_name')"
   ]
  },
  {
   "cell_type": "code",
   "execution_count": null,
   "metadata": {},
   "outputs": [],
   "source": [
    "df = df.drop(columns=['calculatedfinishedsquarefeet', 'lotsizesquarefeet', 'taxvaluedollarcnt', 'landtaxvaluedollarcnt', 'yearbuilt'])"
   ]
  },
  {
   "cell_type": "code",
   "execution_count": null,
   "metadata": {},
   "outputs": [],
   "source": [
    "X_train = train.drop(columns=\"logerror\")\n",
    "\n",
    "y_train = train[[\"logerror\"]]\n",
    "\n",
    "X_test = test.drop(columns=\"logerror\")\n",
    "\n",
    "y_test = test[[\"logerror\"]]"
   ]
  },
  {
   "cell_type": "markdown",
   "metadata": {},
   "source": [
    "## Model - Linear Regression Model"
   ]
  },
  {
   "cell_type": "code",
   "execution_count": null,
   "metadata": {},
   "outputs": [],
   "source": [
    "X_train.dtypes"
   ]
  },
  {
   "cell_type": "code",
   "execution_count": null,
   "metadata": {},
   "outputs": [],
   "source": [
    "X_train.head()"
   ]
  },
  {
   "cell_type": "code",
   "execution_count": null,
   "metadata": {},
   "outputs": [],
   "source": [
    "X_train.garagecarcnt = X_train.garagecarcnt.astype(float)\n",
    "X_train.bathroomcnt = X_train.bathroomcnt.astype(float)\n",
    "X_train.bedroomcnt = X_train.bedroomcnt.astype(float)\n",
    "X_train.poolcnt = X_train.poolcnt.astype(float)"
   ]
  },
  {
   "cell_type": "code",
   "execution_count": null,
   "metadata": {},
   "outputs": [],
   "source": [
    "X_train = X_train.drop(columns='yearbuilt')\n",
    "X_test = X_test.drop(columns='yearbuilt')"
   ]
  },
  {
   "cell_type": "code",
   "execution_count": null,
   "metadata": {},
   "outputs": [],
   "source": [
    "# create the LR object\n",
    "\n",
    "lm1 = LinearRegression()\n",
    "print(lm1)"
   ]
  },
  {
   "cell_type": "code",
   "execution_count": null,
   "metadata": {},
   "outputs": [],
   "source": [
    "# fit/train the model\n",
    "\n",
    "model = lm1.fit(X_train, y_train)"
   ]
  },
  {
   "cell_type": "code",
   "execution_count": null,
   "metadata": {},
   "outputs": [],
   "source": [
    "# create yhat variable, numpy array, in-sample prediction values\n",
    "\n",
    "yhat = model.predict(X_train)\n",
    "type(yhat)\n",
    "yhat"
   ]
  },
  {
   "cell_type": "code",
   "execution_count": null,
   "metadata": {},
   "outputs": [],
   "source": [
    "actual = y_train\n",
    "actual.head()"
   ]
  },
  {
   "cell_type": "code",
   "execution_count": null,
   "metadata": {},
   "outputs": [],
   "source": [
    "actual['yhat'] = yhat"
   ]
  },
  {
   "cell_type": "markdown",
   "metadata": {},
   "source": [
    "### Evaluate LR Model"
   ]
  },
  {
   "cell_type": "code",
   "execution_count": null,
   "metadata": {},
   "outputs": [],
   "source": [
    "actual[\"residual\"] = actual[\"yhat\"] - actual[\"logerror\"]"
   ]
  },
  {
   "cell_type": "code",
   "execution_count": null,
   "metadata": {},
   "outputs": [],
   "source": [
    "sns.distplot(actual[\"residual\"])"
   ]
  },
  {
   "cell_type": "code",
   "execution_count": null,
   "metadata": {},
   "outputs": [],
   "source": [
    "sns.scatterplot(actual[\"logerror\"], actual[\"yhat\"])"
   ]
  },
  {
   "cell_type": "code",
   "execution_count": null,
   "metadata": {},
   "outputs": [],
   "source": [
    "actual[\"residual^2\"] = actual[\"residual\"] ** 2"
   ]
  },
  {
   "cell_type": "code",
   "execution_count": null,
   "metadata": {},
   "outputs": [],
   "source": [
    "sse = sum(actual[\"residual^2\"])\n",
    "print(f\"sse = {sse}\")\n",
    "mse = sse / len(actual)\n",
    "print(f\"mse = {mse}\")\n",
    "rmse = sqrt(mse)\n",
    "print(f\"rmse = {rmse}\")"
   ]
  },
  {
   "cell_type": "code",
   "execution_count": null,
   "metadata": {},
   "outputs": [],
   "source": [
    "df_eval = pd.DataFrame(np.array([\"SSE\", \"MSE\", \"RMSE\"]), columns=[\"metric\"])\n",
    "df_eval[\"model_error\"] = np.array([sse, mse, rmse])\n",
    "df_eval"
   ]
  },
  {
   "cell_type": "markdown",
   "metadata": {},
   "source": [
    "- Create a numpy array from the y_df_nums_train df, so I can run eval metrics using yhat(prediction array) and y_array (array of actual y values)"
   ]
  },
  {
   "cell_type": "code",
   "execution_count": null,
   "metadata": {},
   "outputs": [],
   "source": [
    "y_array = np.array(y_train)\n",
    "type(y_array)"
   ]
  },
  {
   "cell_type": "code",
   "execution_count": null,
   "metadata": {},
   "outputs": [],
   "source": [
    "r2_score(actual.logerror, actual.yhat)"
   ]
  },
  {
   "cell_type": "code",
   "execution_count": null,
   "metadata": {},
   "outputs": [],
   "source": [
    "mse_lm1 = mean_squared_error(actual.logerror, actual.yhat)\n",
    "print(\"linear model\\n  mean squared error: {:.3}\".format(mse_lm1)) \n",
    "\n",
    "r2_lm1 = r2_score(actual.logerror, actual.yhat)\n",
    "print('  {:.2%} of the variance in the logerror can be explained by variables.'.format(r2_lm1))"
   ]
  },
  {
   "cell_type": "markdown",
   "metadata": {},
   "source": [
    "### Takeaways from the Linear Regression Model:\n",
    "\n",
    "- Based on the results above I fail to reject the Null Hypothesis that the numeric values alone can predict the logerror.\n",
    "\n",
    "- Using a Linear Regression model to predict the logerror may not be the best choice.\n",
    "\n",
    "- Finding a way to include categorical variables in a model may help predict logerror."
   ]
  },
  {
   "cell_type": "markdown",
   "metadata": {},
   "source": [
    "### Model - K Neighbors Regressor"
   ]
  },
  {
   "cell_type": "code",
   "execution_count": null,
   "metadata": {},
   "outputs": [],
   "source": [
    "# create the object\n",
    "neigh = KNeighborsRegressor(n_neighbors=2)"
   ]
  },
  {
   "cell_type": "code",
   "execution_count": null,
   "metadata": {},
   "outputs": [],
   "source": [
    "# fit/train the model using train \n",
    "neigh.fit(X_train, y_train)"
   ]
  },
  {
   "cell_type": "code",
   "execution_count": null,
   "metadata": {},
   "outputs": [],
   "source": [
    "yhat = neigh.predict(X_train)\n",
    "type(yhat)"
   ]
  },
  {
   "cell_type": "code",
   "execution_count": null,
   "metadata": {},
   "outputs": [],
   "source": [
    "r2 = neigh.score(X_train, y_train)"
   ]
  },
  {
   "cell_type": "code",
   "execution_count": null,
   "metadata": {},
   "outputs": [],
   "source": [
    "print('  {:.2%} of the variance in the logerror can be explained by variables.'.format(r2))"
   ]
  },
  {
   "cell_type": "markdown",
   "metadata": {},
   "source": [
    "### Takeaways from KNRegressor Model\n",
    "\n",
    "- This model explained more than 50% more of the variance in logerror than my LR model using exactly the same data.\n",
    "\n",
    "- The subset of data I used was comprised of the numeric values only from the original dataframe.\n",
    "\n",
    "- I think this model could do even better with outliers handled and some feature engineering."
   ]
  },
  {
   "cell_type": "markdown",
   "metadata": {},
   "source": [
    "### Model df - Random Forest"
   ]
  },
  {
   "cell_type": "code",
   "execution_count": null,
   "metadata": {},
   "outputs": [],
   "source": [
    "from sklearn.model_selection import train_test_split\n",
    "from sklearn.ensemble import RandomForestRegressor\n",
    "from sklearn.metrics import classification_report\n",
    "from sklearn.metrics import confusion_matrix\n",
    "\n",
    "\n",
    "import matplotlib.pyplot as plt\n",
    "%matplotlib inline\n",
    "import seaborn as sns"
   ]
  },
  {
   "cell_type": "code",
   "execution_count": null,
   "metadata": {},
   "outputs": [],
   "source": [
    "rf = RandomForestRegressor(n_estimators=10)"
   ]
  },
  {
   "cell_type": "code",
   "execution_count": null,
   "metadata": {},
   "outputs": [],
   "source": [
    "rf.fit(X_train, y_train)"
   ]
  },
  {
   "cell_type": "code",
   "execution_count": null,
   "metadata": {},
   "outputs": [],
   "source": [
    "from sklearn.metrics import mean_squared_error\n",
    "\n",
    "y_pred = rf.predict(X_train)\n",
    "print(f'root mean squared error = {mean_squared_error(y_train, y_pred)**1/2}')"
   ]
  },
  {
   "cell_type": "code",
   "execution_count": null,
   "metadata": {},
   "outputs": [],
   "source": [
    "y_pred = rf.predict(X_test)\n",
    "print(f'root mean squared error = {mean_squared_error(y_test, y_pred)**1/2}')"
   ]
  },
  {
   "cell_type": "markdown",
   "metadata": {},
   "source": [
    "### PUT TAKEAWAYS FROM RANDOM FOREST MODEL HERE"
   ]
  },
  {
   "cell_type": "code",
   "execution_count": null,
   "metadata": {},
   "outputs": [],
   "source": [
    "X_test.count()"
   ]
  },
  {
   "cell_type": "code",
   "execution_count": null,
   "metadata": {},
   "outputs": [],
   "source": [
    "predictions_vs_actual = pd.DataFrame({'predictions_log_error': y_pred, 'actual_log_error': y_test.logerror, })"
   ]
  },
  {
   "cell_type": "code",
   "execution_count": null,
   "metadata": {},
   "outputs": [],
   "source": [
    "predictions_vs_actual['fips'] = X_test.fips"
   ]
  },
  {
   "cell_type": "code",
   "execution_count": null,
   "metadata": {},
   "outputs": [],
   "source": [
    "predictions_vs_actual.dtypes"
   ]
  },
  {
   "cell_type": "code",
   "execution_count": null,
   "metadata": {
    "scrolled": true
   },
   "outputs": [],
   "source": [
    "sns.scatterplot(data=predictions_vs_actual, x='predictions_log_error', y='actual_log_error', hue='fips')"
   ]
  },
  {
   "cell_type": "markdown",
   "metadata": {},
   "source": [
    "#### FIX THIS COLORING BY REFERENCING WARMUP EXERCISE 11-08.  It thinks fips is continuous data so gives it a color gradient, not different colors"
   ]
  },
  {
   "cell_type": "code",
   "execution_count": null,
   "metadata": {},
   "outputs": [],
   "source": []
  }
 ],
 "metadata": {
  "kernelspec": {
   "display_name": "Python 3",
   "language": "python",
   "name": "python3"
  },
  "language_info": {
   "codemirror_mode": {
    "name": "ipython",
    "version": 3
   },
   "file_extension": ".py",
   "mimetype": "text/x-python",
   "name": "python",
   "nbconvert_exporter": "python",
   "pygments_lexer": "ipython3",
   "version": "3.7.3"
  }
 },
 "nbformat": 4,
 "nbformat_minor": 2
}
