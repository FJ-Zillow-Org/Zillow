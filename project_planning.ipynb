{
 "cells": [
  {
   "cell_type": "markdown",
   "metadata": {},
   "source": [
    "**Project Planning** graph ideas, hypotheses, doodles, data dictionary\n",
    "\n",
    "**Acquire**\n",
    "\n",
    "**Prep** - Nulls, outliers, visualie distribution, drop variables\n",
    "\n",
    "**Split Data**\n",
    "\n",
    "**Impute** - Don't want to use test data as evidence of what to impute.  Use train to find imputer then transform train and test\n",
    "\n",
    "**Scale** - can choose to scale variables differently. Just choose between 0 and 1.\n",
    "\n",
    "**explore, visualize, clustering, stats, testing, etc.** (in no particular order)\n",
    "\n",
    "Audience is the class.  Work with partner.  Choose one of three ways to apply clustering.  Zillow Data.  Go from end to end.  Share the highlights of the discoveries, what we uncovered, exploration, modeling.  What we've learned and how it relates to data science.\n",
    "\n",
    "What we learned as it relates to domain, what we learned as it relates to data science, and what we learned as it relates to clustering.\n",
    "\n",
    "Trying to predict log error because we want to help zillow improve their zestimate.  Which features drive the error. Trying to predict a continuous variable.  Predict the target.\n",
    "\n",
    "If we encode, do so after clustering.  Have to encode your clusters.  Also makes it easier to visualize the data.\n",
    "\n",
    "1. Audience: class, fellow learners\n",
    "2. Deliverable: Notebook with supporting files\n",
    "    - clean, easy to read\n",
    "    - separate modules (acq, prep, etc.)\n",
    "3. Team of 2\n",
    "4. Clustering (are these clusters drivers of the target?)\n",
    "    - Clusters for features\n",
    "    - Clusters for explorations\n",
    "    - Clustering target variable (binning)\n",
    "5. Analysis/takeaways with a model.  What is the best model you made?  \n",
    "\n",
    "Has to have:\n",
    " - statistical testing\n",
    " - visualizations of clusters\n",
    " - clusters\n",
    " - models\n",
    " - summary\n",
    "\n",
    "\n",
    "**Visualizations**\n",
    "\n",
    "continuous vs continuous, relplot\n",
    "\n",
    "discrete vs continuous, t-test (group pool or not pool and compare prices)\n",
    "\n",
    "two discrete, chi-squared test, pandas crosstabs, clustering\n",
    "\n",
    "Do stuff, Learn Clustering, Model"
   ]
  },
  {
   "cell_type": "code",
   "execution_count": 7,
   "metadata": {},
   "outputs": [],
   "source": [
    "# plan stuff here, hypothesise things, doodles, data dictionary"
   ]
  },
  {
   "cell_type": "code",
   "execution_count": 1,
   "metadata": {},
   "outputs": [],
   "source": [
    "# import stuff here"
   ]
  },
  {
   "cell_type": "code",
   "execution_count": 8,
   "metadata": {},
   "outputs": [],
   "source": [
    "# acquire and prepare stuff here"
   ]
  },
  {
   "cell_type": "code",
   "execution_count": 6,
   "metadata": {},
   "outputs": [],
   "source": [
    "# split data here"
   ]
  },
  {
   "cell_type": "code",
   "execution_count": 9,
   "metadata": {},
   "outputs": [],
   "source": [
    "# impute(if we want to)"
   ]
  },
  {
   "cell_type": "code",
   "execution_count": 11,
   "metadata": {},
   "outputs": [],
   "source": [
    "# scale stuff here"
   ]
  },
  {
   "cell_type": "code",
   "execution_count": 12,
   "metadata": {},
   "outputs": [],
   "source": [
    "# **explore, visualize, clustering, stats, testing, etc.** (in no particular order)"
   ]
  },
  {
   "cell_type": "code",
   "execution_count": null,
   "metadata": {},
   "outputs": [],
   "source": []
  }
 ],
 "metadata": {
  "kernelspec": {
   "display_name": "Python 3",
   "language": "python",
   "name": "python3"
  },
  "language_info": {
   "codemirror_mode": {
    "name": "ipython",
    "version": 3
   },
   "file_extension": ".py",
   "mimetype": "text/x-python",
   "name": "python",
   "nbconvert_exporter": "python",
   "pygments_lexer": "ipython3",
   "version": "3.7.3"
  }
 },
 "nbformat": 4,
 "nbformat_minor": 2
}
